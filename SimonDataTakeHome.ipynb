{
 "cells": [
  {
   "cell_type": "code",
   "execution_count": 1,
   "metadata": {},
   "outputs": [],
   "source": [
    "import numpy as np\n",
    "import pandas as pd\n",
    "import math\n",
    "import random\n",
    "\n",
    "import matplotlib as mpl\n",
    "import matplotlib.pyplot as plt\n",
    "import seaborn as sns\n",
    "from datetime import datetime, timedelta\n",
    "import warnings; warnings.filterwarnings(action='once')\n",
    "\n",
    "large = 22; med = 16; small = 12\n",
    "params = {'axes.titlesize': large,\n",
    "          'legend.fontsize': med,\n",
    "          'figure.figsize': (16, 10),\n",
    "          'axes.labelsize': med,\n",
    "          'axes.titlesize': med,\n",
    "          'xtick.labelsize': med,\n",
    "          'ytick.labelsize': med,\n",
    "          'figure.titlesize': large}\n",
    "\n",
    "plt.rcParams.update(params)\n",
    "plt.style.use('seaborn-whitegrid')\n",
    "sns.set_style(\"white\")\n",
    "%matplotlib inline"
   ]
  },
  {
   "cell_type": "markdown",
   "metadata": {},
   "source": [
    "#### Readin Email"
   ]
  },
  {
   "cell_type": "code",
   "execution_count": 2,
   "metadata": {},
   "outputs": [
    {
     "data": {
      "text/html": [
       "<div>\n",
       "<style scoped>\n",
       "    .dataframe tbody tr th:only-of-type {\n",
       "        vertical-align: middle;\n",
       "    }\n",
       "\n",
       "    .dataframe tbody tr th {\n",
       "        vertical-align: top;\n",
       "    }\n",
       "\n",
       "    .dataframe thead th {\n",
       "        text-align: right;\n",
       "    }\n",
       "</style>\n",
       "<table border=\"1\" class=\"dataframe\">\n",
       "  <thead>\n",
       "    <tr style=\"text-align: right;\">\n",
       "      <th></th>\n",
       "      <th>id</th>\n",
       "      <th>event_time</th>\n",
       "      <th>event_type</th>\n",
       "    </tr>\n",
       "  </thead>\n",
       "  <tbody>\n",
       "    <tr>\n",
       "      <th>0</th>\n",
       "      <td>0d170fdf-fc33-43be-9a62-c9b644525cf5</td>\n",
       "      <td>1493146851</td>\n",
       "      <td>email_send</td>\n",
       "    </tr>\n",
       "    <tr>\n",
       "      <th>1</th>\n",
       "      <td>1b44fece-d7dd-44f5-9ee9-a4ffe6999c70</td>\n",
       "      <td>1493147858</td>\n",
       "      <td>email_send</td>\n",
       "    </tr>\n",
       "  </tbody>\n",
       "</table>\n",
       "</div>"
      ],
      "text/plain": [
       "                                     id  event_time  event_type\n",
       "0  0d170fdf-fc33-43be-9a62-c9b644525cf5  1493146851  email_send\n",
       "1  1b44fece-d7dd-44f5-9ee9-a4ffe6999c70  1493147858  email_send"
      ]
     },
     "execution_count": 2,
     "metadata": {},
     "output_type": "execute_result"
    }
   ],
   "source": [
    "emails = pd.read_csv(\"/Users/ling/Desktop/Interview/SimonData/email_data.csv\")\n",
    "emails.head(2)"
   ]
  },
  {
   "cell_type": "code",
   "execution_count": 3,
   "metadata": {},
   "outputs": [
    {
     "name": "stdout",
     "output_type": "stream",
     "text": [
      "<class 'pandas.core.frame.DataFrame'>\n",
      "RangeIndex: 375626 entries, 0 to 375625\n",
      "Data columns (total 3 columns):\n",
      "id            375626 non-null object\n",
      "event_time    375626 non-null int64\n",
      "event_type    375626 non-null object\n",
      "dtypes: int64(1), object(2)\n",
      "memory usage: 8.6+ MB\n"
     ]
    }
   ],
   "source": [
    "emails.info()"
   ]
  },
  {
   "cell_type": "code",
   "execution_count": 4,
   "metadata": {},
   "outputs": [
    {
     "data": {
      "text/plain": [
       "265736"
      ]
     },
     "execution_count": 4,
     "metadata": {},
     "output_type": "execute_result"
    }
   ],
   "source": [
    "emails['id'].nunique()"
   ]
  },
  {
   "cell_type": "code",
   "execution_count": 5,
   "metadata": {},
   "outputs": [
    {
     "data": {
      "text/plain": [
       "email_send     265737\n",
       "email_open     101286\n",
       "email_click      8603\n",
       "Name: event_type, dtype: int64"
      ]
     },
     "execution_count": 5,
     "metadata": {},
     "output_type": "execute_result"
    }
   ],
   "source": [
    "emails['event_type'].value_counts()"
   ]
  },
  {
   "cell_type": "code",
   "execution_count": 6,
   "metadata": {},
   "outputs": [],
   "source": [
    "send_emails = emails[emails['event_type']=='email_send'].copy()\n",
    "open_emails = emails[emails['event_type']=='email_open'].copy()\n",
    "click_emails = emails[emails['event_type']=='email_click'].copy()\n",
    "\n",
    "# Extract event dt from ts\n",
    "send_emails['dt']=send_emails['event_time'].apply(lambda x: datetime.fromtimestamp(x).strftime('%Y-%m-%d'))\n",
    "open_emails['dt']=open_emails['event_time'].apply(lambda x: datetime.fromtimestamp(x).strftime('%Y-%m-%d'))\n",
    "click_emails['dt']=click_emails['event_time'].apply(lambda x: datetime.fromtimestamp(x).strftime('%Y-%m-%d'))"
   ]
  },
  {
   "cell_type": "code",
   "execution_count": 7,
   "metadata": {},
   "outputs": [
    {
     "name": "stdout",
     "output_type": "stream",
     "text": [
      "<class 'pandas.core.frame.DataFrame'>\n",
      "Int64Index: 265737 entries, 0 to 265736\n",
      "Data columns (total 4 columns):\n",
      "id            265737 non-null object\n",
      "event_time    265737 non-null int64\n",
      "event_type    265737 non-null object\n",
      "dt            265737 non-null object\n",
      "dtypes: int64(1), object(3)\n",
      "memory usage: 10.1+ MB\n"
     ]
    }
   ],
   "source": [
    "send_emails.info()"
   ]
  },
  {
   "cell_type": "code",
   "execution_count": 8,
   "metadata": {},
   "outputs": [
    {
     "data": {
      "text/plain": [
       "Text(0.5, 1.0, 'Daily Email Opens')"
      ]
     },
     "execution_count": 8,
     "metadata": {},
     "output_type": "execute_result"
    },
    {
     "data": {
      "image/png": "[encoded data removed]",
      "text/plain": [
       "<Figure size 1152x720 with 1 Axes>"
      ]
     },
     "metadata": {
      "needs_background": "light"
     },
     "output_type": "display_data"
    }
   ],
   "source": [
    "plot_df = open_emails.groupby(['dt']).size().reset_index(name='opens')\n",
    "plt.figure(figsize=(16,10))\n",
    "sns.barplot(y='dt', x='opens', color=\"blue\", data=plot_df)\n",
    "plt.title('Daily Email Opens', fontsize=22)"
   ]
  },
  {
   "cell_type": "code",
   "execution_count": 9,
   "metadata": {},
   "outputs": [
    {
     "data": {
      "text/plain": [
       "Text(0.5, 1.0, 'Daily Email Clicks')"
      ]
     },
     "execution_count": 9,
     "metadata": {},
     "output_type": "execute_result"
    },
    {
     "data": {
      "image/png": "[encoded data removed]",
      "text/plain": [
       "<Figure size 1152x720 with 1 Axes>"
      ]
     },
     "metadata": {
      "needs_background": "light"
     },
     "output_type": "display_data"
    }
   ],
   "source": [
    "plot_df = click_emails.groupby(['dt']).size().reset_index(name='clicks')\n",
    "plt.figure(figsize=(16,10))\n",
    "sns.barplot(y='dt', x='clicks', color=\"green\", data=plot_df)\n",
    "plt.title('Daily Email Clicks', fontsize=22)"
   ]
  },
  {
   "cell_type": "code",
   "execution_count": 10,
   "metadata": {},
   "outputs": [
    {
     "data": {
      "text/plain": [
       "101285"
      ]
     },
     "execution_count": 10,
     "metadata": {},
     "output_type": "execute_result"
    }
   ],
   "source": [
    "send_opens = pd.merge(send_emails, open_emails, on='id', how='left')\n",
    "sum(send_opens['event_time_x'] <= send_opens['event_time_y'])"
   ]
  },
  {
   "cell_type": "code",
   "execution_count": 11,
   "metadata": {},
   "outputs": [
    {
     "data": {
      "text/plain": [
       "0.33634304765952927"
      ]
     },
     "execution_count": 11,
     "metadata": {},
     "output_type": "execute_result"
    }
   ],
   "source": [
    "sum(send_opens['event_time_x'] <= send_opens['event_time_y'])/len(send_opens)"
   ]
  },
  {
   "cell_type": "code",
   "execution_count": 12,
   "metadata": {},
   "outputs": [
    {
     "data": {
      "text/plain": [
       "8590"
      ]
     },
     "execution_count": 12,
     "metadata": {},
     "output_type": "execute_result"
    }
   ],
   "source": [
    "send_clicks = pd.merge(send_emails, click_emails, on='id', how='left')\n",
    "sum(send_clicks['event_time_x'] <= send_clicks['event_time_y'])"
   ]
  },
  {
   "cell_type": "code",
   "execution_count": 13,
   "metadata": {},
   "outputs": [
    {
     "data": {
      "text/plain": [
       "0.03215349833056342"
      ]
     },
     "execution_count": 13,
     "metadata": {},
     "output_type": "execute_result"
    }
   ],
   "source": [
    "sum(send_clicks['event_time_x'] <= send_clicks['event_time_y'])/len(send_clicks)"
   ]
  },
  {
   "cell_type": "markdown",
   "metadata": {},
   "source": [
    "#### Readin Orders"
   ]
  },
  {
   "cell_type": "code",
   "execution_count": 14,
   "metadata": {},
   "outputs": [
    {
     "data": {
      "text/html": [
       "<div>\n",
       "<style scoped>\n",
       "    .dataframe tbody tr th:only-of-type {\n",
       "        vertical-align: middle;\n",
       "    }\n",
       "\n",
       "    .dataframe tbody tr th {\n",
       "        vertical-align: top;\n",
       "    }\n",
       "\n",
       "    .dataframe thead th {\n",
       "        text-align: right;\n",
       "    }\n",
       "</style>\n",
       "<table border=\"1\" class=\"dataframe\">\n",
       "  <thead>\n",
       "    <tr style=\"text-align: right;\">\n",
       "      <th></th>\n",
       "      <th>product</th>\n",
       "      <th>event_type</th>\n",
       "      <th>event_time</th>\n",
       "      <th>id</th>\n",
       "      <th>revenue</th>\n",
       "    </tr>\n",
       "  </thead>\n",
       "  <tbody>\n",
       "    <tr>\n",
       "      <th>0</th>\n",
       "      <td>trinket</td>\n",
       "      <td>promo_order</td>\n",
       "      <td>1492819231</td>\n",
       "      <td>1fd28d09-3636-46a1-960a-351dac621e87</td>\n",
       "      <td>15</td>\n",
       "    </tr>\n",
       "    <tr>\n",
       "      <th>1</th>\n",
       "      <td>gizmo</td>\n",
       "      <td>promo_order</td>\n",
       "      <td>1492819639</td>\n",
       "      <td>858754f9-da05-4c2a-ac98-eadc27bcbe81</td>\n",
       "      <td>28</td>\n",
       "    </tr>\n",
       "  </tbody>\n",
       "</table>\n",
       "</div>"
      ],
      "text/plain": [
       "   product   event_type  event_time                                    id  \\\n",
       "0  trinket  promo_order  1492819231  1fd28d09-3636-46a1-960a-351dac621e87   \n",
       "1    gizmo  promo_order  1492819639  858754f9-da05-4c2a-ac98-eadc27bcbe81   \n",
       "\n",
       "   revenue  \n",
       "0       15  \n",
       "1       28  "
      ]
     },
     "execution_count": 14,
     "metadata": {},
     "output_type": "execute_result"
    }
   ],
   "source": [
    "orders = pd.read_csv(\"/Users/ling/Desktop/Interview/SimonData/orders.csv\")\n",
    "orders.head(2)"
   ]
  },
  {
   "cell_type": "code",
   "execution_count": 15,
   "metadata": {},
   "outputs": [
    {
     "name": "stdout",
     "output_type": "stream",
     "text": [
      "<class 'pandas.core.frame.DataFrame'>\n",
      "RangeIndex: 44193 entries, 0 to 44192\n",
      "Data columns (total 5 columns):\n",
      "product       44193 non-null object\n",
      "event_type    44193 non-null object\n",
      "event_time    44193 non-null int64\n",
      "id            44193 non-null object\n",
      "revenue       44193 non-null int64\n",
      "dtypes: int64(2), object(3)\n",
      "memory usage: 1.7+ MB\n"
     ]
    }
   ],
   "source": [
    "orders.info()"
   ]
  },
  {
   "cell_type": "code",
   "execution_count": 16,
   "metadata": {},
   "outputs": [
    {
     "data": {
      "text/plain": [
       "other      14404\n",
       "trinket    13918\n",
       "widget     12241\n",
       "gizmo       3630\n",
       "Name: product, dtype: int64"
      ]
     },
     "execution_count": 16,
     "metadata": {},
     "output_type": "execute_result"
    }
   ],
   "source": [
    "orders['product'].value_counts()"
   ]
  },
  {
   "cell_type": "code",
   "execution_count": 17,
   "metadata": {},
   "outputs": [
    {
     "data": {
      "text/plain": [
       "promo_order    44193\n",
       "Name: event_type, dtype: int64"
      ]
     },
     "execution_count": 17,
     "metadata": {},
     "output_type": "execute_result"
    }
   ],
   "source": [
    "orders['event_type'].value_counts()"
   ]
  },
  {
   "cell_type": "code",
   "execution_count": 18,
   "metadata": {},
   "outputs": [
    {
     "data": {
      "text/plain": [
       "count    44193.000000\n",
       "mean        73.303170\n",
       "std         80.512492\n",
       "min          0.000000\n",
       "25%         17.000000\n",
       "50%         30.000000\n",
       "75%        160.000000\n",
       "max       1140.000000\n",
       "Name: revenue, dtype: float64"
      ]
     },
     "execution_count": 18,
     "metadata": {},
     "output_type": "execute_result"
    }
   ],
   "source": [
    "orders['revenue'].describe()"
   ]
  },
  {
   "cell_type": "code",
   "execution_count": 19,
   "metadata": {},
   "outputs": [
    {
     "data": {
      "text/plain": [
       "product\n",
       "gizmo       109537\n",
       "other       463683\n",
       "trinket     279326\n",
       "widget     2386941\n",
       "Name: revenue, dtype: int64"
      ]
     },
     "execution_count": 19,
     "metadata": {},
     "output_type": "execute_result"
    }
   ],
   "source": [
    "orders.groupby(['product'])['revenue'].sum()"
   ]
  },
  {
   "cell_type": "code",
   "execution_count": 20,
   "metadata": {},
   "outputs": [
    {
     "data": {
      "image/png": "[encoded data removed]",
      "text/plain": [
       "<Figure size 1120x800 with 1 Axes>"
      ]
     },
     "metadata": {
      "needs_background": "light"
     },
     "output_type": "display_data"
    }
   ],
   "source": [
    "plt.figure(figsize=(14,10), dpi= 80)\n",
    "sns.boxplot(x='product', y='revenue', data=orders, notch=False, showfliers=False)\n",
    "\n",
    "# Add N Obs inside boxplot \n",
    "def add_n_obs(df,group_col,y):\n",
    "    mean_dict = {grp[0]:grp[1][y].mean() for grp in df.groupby(group_col)}\n",
    "    xticklabels = [x.get_text() for x in plt.gca().get_xticklabels()]\n",
    "    n_obs = df.groupby(group_col)[y].size().values\n",
    "    for (x, xticklabel), n_ob in zip(enumerate(xticklabels), n_obs):\n",
    "        plt.text(x, mean_dict[xticklabel], \"#orders = \"+ str(n_ob), horizontalalignment='center', fontdict={'size':16}, color='black')\n",
    "\n",
    "add_n_obs(orders,group_col='product',y='revenue')    \n",
    "\n",
    "# Decoration\n",
    "plt.title('Boxplot of Revenue by Product', fontsize=22)\n",
    "plt.ylim(10, 300)\n",
    "plt.show()"
   ]
  },
  {
   "cell_type": "markdown",
   "metadata": {},
   "source": [
    "#### Readin Params"
   ]
  },
  {
   "cell_type": "code",
   "execution_count": 21,
   "metadata": {},
   "outputs": [
    {
     "data": {
      "text/html": [
       "<div>\n",
       "<style scoped>\n",
       "    .dataframe tbody tr th:only-of-type {\n",
       "        vertical-align: middle;\n",
       "    }\n",
       "\n",
       "    .dataframe tbody tr th {\n",
       "        vertical-align: top;\n",
       "    }\n",
       "\n",
       "    .dataframe thead th {\n",
       "        text-align: right;\n",
       "    }\n",
       "</style>\n",
       "<table border=\"1\" class=\"dataframe\">\n",
       "  <thead>\n",
       "    <tr style=\"text-align: right;\">\n",
       "      <th></th>\n",
       "      <th>id</th>\n",
       "      <th>has_purchased_widget</th>\n",
       "      <th>has_purchased_trinket</th>\n",
       "      <th>has_purchased_gizmo</th>\n",
       "      <th>order_count</th>\n",
       "      <th>first_order_date</th>\n",
       "      <th>last_order_date</th>\n",
       "      <th>lifetime_revenue</th>\n",
       "    </tr>\n",
       "  </thead>\n",
       "  <tbody>\n",
       "    <tr>\n",
       "      <th>0</th>\n",
       "      <td>b559a1d3-5599-4223-92fb-f68d35f8bcb8</td>\n",
       "      <td>f</td>\n",
       "      <td>t</td>\n",
       "      <td>f</td>\n",
       "      <td>1.0</td>\n",
       "      <td>1.485130e+09</td>\n",
       "      <td>1.485130e+09</td>\n",
       "      <td>1700.0</td>\n",
       "    </tr>\n",
       "    <tr>\n",
       "      <th>1</th>\n",
       "      <td>fcd46843-a4a3-4c7b-bd89-14847303f566</td>\n",
       "      <td>NaN</td>\n",
       "      <td>NaN</td>\n",
       "      <td>NaN</td>\n",
       "      <td>NaN</td>\n",
       "      <td>NaN</td>\n",
       "      <td>NaN</td>\n",
       "      <td>NaN</td>\n",
       "    </tr>\n",
       "  </tbody>\n",
       "</table>\n",
       "</div>"
      ],
      "text/plain": [
       "                                     id has_purchased_widget  \\\n",
       "0  b559a1d3-5599-4223-92fb-f68d35f8bcb8                    f   \n",
       "1  fcd46843-a4a3-4c7b-bd89-14847303f566                  NaN   \n",
       "\n",
       "  has_purchased_trinket has_purchased_gizmo  order_count  first_order_date  \\\n",
       "0                     t                   f          1.0      1.485130e+09   \n",
       "1                   NaN                 NaN          NaN               NaN   \n",
       "\n",
       "   last_order_date  lifetime_revenue  \n",
       "0     1.485130e+09            1700.0  \n",
       "1              NaN               NaN  "
      ]
     },
     "execution_count": 21,
     "metadata": {},
     "output_type": "execute_result"
    }
   ],
   "source": [
    "params = pd.read_csv(\"/Users/ling/Desktop/Interview/SimonData/params.csv\")\n",
    "params.head(2)"
   ]
  },
  {
   "cell_type": "code",
   "execution_count": 22,
   "metadata": {},
   "outputs": [
    {
     "name": "stdout",
     "output_type": "stream",
     "text": [
      "<class 'pandas.core.frame.DataFrame'>\n",
      "RangeIndex: 1307992 entries, 0 to 1307991\n",
      "Data columns (total 8 columns):\n",
      "id                       1307992 non-null object\n",
      "has_purchased_widget     512207 non-null object\n",
      "has_purchased_trinket    512207 non-null object\n",
      "has_purchased_gizmo      512207 non-null object\n",
      "order_count              512207 non-null float64\n",
      "first_order_date         512207 non-null float64\n",
      "last_order_date          512207 non-null float64\n",
      "lifetime_revenue         512116 non-null float64\n",
      "dtypes: float64(4), object(4)\n",
      "memory usage: 79.8+ MB\n"
     ]
    }
   ],
   "source": [
    "params.info()"
   ]
  },
  {
   "cell_type": "code",
   "execution_count": 23,
   "metadata": {},
   "outputs": [
    {
     "data": {
      "text/plain": [
       "1307992"
      ]
     },
     "execution_count": 23,
     "metadata": {},
     "output_type": "execute_result"
    }
   ],
   "source": [
    "params['id'].nunique()"
   ]
  },
  {
   "cell_type": "code",
   "execution_count": 24,
   "metadata": {},
   "outputs": [
    {
     "data": {
      "text/plain": [
       "has_purchased_widget\n",
       "f    106590\n",
       "t    405617\n",
       "Name: id, dtype: int64"
      ]
     },
     "execution_count": 24,
     "metadata": {},
     "output_type": "execute_result"
    }
   ],
   "source": [
    "params.groupby(['has_purchased_widget'])['id'].size()"
   ]
  },
  {
   "cell_type": "code",
   "execution_count": 25,
   "metadata": {},
   "outputs": [
    {
     "data": {
      "text/plain": [
       "has_purchased_widget\n",
       "f    0.081491\n",
       "t    0.310107\n",
       "Name: id, dtype: float64"
      ]
     },
     "execution_count": 25,
     "metadata": {},
     "output_type": "execute_result"
    }
   ],
   "source": [
    "params.groupby(['has_purchased_widget'])['id'].size()/len(params)"
   ]
  },
  {
   "cell_type": "code",
   "execution_count": 26,
   "metadata": {},
   "outputs": [
    {
     "data": {
      "text/plain": [
       "has_purchased_trinket\n",
       "f    359310\n",
       "t    152897\n",
       "Name: id, dtype: int64"
      ]
     },
     "execution_count": 26,
     "metadata": {},
     "output_type": "execute_result"
    }
   ],
   "source": [
    "params.groupby(['has_purchased_trinket'])['id'].size()"
   ]
  },
  {
   "cell_type": "code",
   "execution_count": 27,
   "metadata": {},
   "outputs": [
    {
     "data": {
      "text/plain": [
       "has_purchased_trinket\n",
       "f    0.274704\n",
       "t    0.116894\n",
       "Name: id, dtype: float64"
      ]
     },
     "execution_count": 27,
     "metadata": {},
     "output_type": "execute_result"
    }
   ],
   "source": [
    "params.groupby(['has_purchased_trinket'])['id'].size()/len(params)"
   ]
  },
  {
   "cell_type": "code",
   "execution_count": 28,
   "metadata": {},
   "outputs": [
    {
     "data": {
      "text/plain": [
       "has_purchased_gizmo\n",
       "f    461688\n",
       "t     50519\n",
       "Name: id, dtype: int64"
      ]
     },
     "execution_count": 28,
     "metadata": {},
     "output_type": "execute_result"
    }
   ],
   "source": [
    "params.groupby(['has_purchased_gizmo'])['id'].size()"
   ]
  },
  {
   "cell_type": "code",
   "execution_count": 29,
   "metadata": {},
   "outputs": [
    {
     "data": {
      "text/plain": [
       "has_purchased_gizmo\n",
       "f    0.352975\n",
       "t    0.038623\n",
       "Name: id, dtype: float64"
      ]
     },
     "execution_count": 29,
     "metadata": {},
     "output_type": "execute_result"
    }
   ],
   "source": [
    "params.groupby(['has_purchased_gizmo'])['id'].size()/len(params)"
   ]
  },
  {
   "cell_type": "code",
   "execution_count": 30,
   "metadata": {},
   "outputs": [
    {
     "data": {
      "text/plain": [
       "count    512207.000000\n",
       "mean          1.193336\n",
       "std           1.932172\n",
       "min           1.000000\n",
       "25%           1.000000\n",
       "50%           1.000000\n",
       "75%           1.000000\n",
       "max         799.000000\n",
       "Name: order_count, dtype: float64"
      ]
     },
     "execution_count": 30,
     "metadata": {},
     "output_type": "execute_result"
    }
   ],
   "source": [
    "params['order_count'].describe()"
   ]
  },
  {
   "cell_type": "code",
   "execution_count": 31,
   "metadata": {},
   "outputs": [
    {
     "data": {
      "text/plain": [
       "count    5.121160e+05\n",
       "mean     1.708133e+04\n",
       "std      1.293264e+04\n",
       "min      4.000000e+02\n",
       "25%      1.240000e+04\n",
       "50%      1.700000e+04\n",
       "75%      2.000000e+04\n",
       "max      3.552371e+06\n",
       "Name: lifetime_revenue, dtype: float64"
      ]
     },
     "execution_count": 31,
     "metadata": {},
     "output_type": "execute_result"
    }
   ],
   "source": [
    "params['lifetime_revenue'].describe()"
   ]
  },
  {
   "cell_type": "code",
   "execution_count": 32,
   "metadata": {},
   "outputs": [],
   "source": [
    "params['first_order_dt']=params['first_order_date'].apply(lambda x: x if np.isnan(x) else datetime.fromtimestamp(x).strftime('%Y-%m-%d'))\n",
    "params['last_order_dt']=params['last_order_date'].apply(lambda x: x if np.isnan(x) else datetime.fromtimestamp(x).strftime('%Y-%m-%d'))"
   ]
  },
  {
   "cell_type": "code",
   "execution_count": 33,
   "metadata": {},
   "outputs": [],
   "source": [
    "params['ages']=params['last_order_date'].apply(lambda x: x if np.isnan(x) else datetime.fromtimestamp(x))-params['first_order_date'].apply(lambda x: x if np.isnan(x) else datetime.fromtimestamp(x))\n",
    "params['ages']=params['ages'].apply(lambda x: max(0, x.days))"
   ]
  },
  {
   "cell_type": "code",
   "execution_count": 34,
   "metadata": {},
   "outputs": [
    {
     "data": {
      "text/plain": [
       "count    1.307992e+06\n",
       "mean     1.047162e+01\n",
       "std      6.745490e+01\n",
       "min      0.000000e+00\n",
       "25%      0.000000e+00\n",
       "50%      0.000000e+00\n",
       "75%      0.000000e+00\n",
       "max      1.193000e+03\n",
       "Name: ages, dtype: float64"
      ]
     },
     "execution_count": 34,
     "metadata": {},
     "output_type": "execute_result"
    }
   ],
   "source": [
    "params['ages'].describe()"
   ]
  },
  {
   "cell_type": "markdown",
   "metadata": {},
   "source": [
    "### Join tables"
   ]
  },
  {
   "cell_type": "markdown",
   "metadata": {},
   "source": [
    "#### First, join send emails and open emails and aggregate opens per id"
   ]
  },
  {
   "cell_type": "code",
   "execution_count": 35,
   "metadata": {},
   "outputs": [],
   "source": [
    "send_open_emails = pd.merge(send_emails, open_emails, on='id', how='left')"
   ]
  },
  {
   "cell_type": "code",
   "execution_count": 36,
   "metadata": {},
   "outputs": [],
   "source": [
    "send_open_emails = send_open_emails[(send_open_emails['event_time_x'] <= send_open_emails['event_time_y']) | (send_open_emails['event_time_y'].isnull())]"
   ]
  },
  {
   "cell_type": "code",
   "execution_count": 37,
   "metadata": {},
   "outputs": [
    {
     "name": "stdout",
     "output_type": "stream",
     "text": [
      "<class 'pandas.core.frame.DataFrame'>\n",
      "Int64Index: 301131 entries, 0 to 301135\n",
      "Data columns (total 7 columns):\n",
      "id              301131 non-null object\n",
      "event_time_x    301131 non-null int64\n",
      "event_type_x    301131 non-null object\n",
      "dt_x            301131 non-null object\n",
      "event_time_y    101285 non-null float64\n",
      "event_type_y    101285 non-null object\n",
      "dt_y            101285 non-null object\n",
      "dtypes: float64(1), int64(1), object(5)\n",
      "memory usage: 18.4+ MB\n"
     ]
    }
   ],
   "source": [
    "send_open_emails.info() "
   ]
  },
  {
   "cell_type": "code",
   "execution_count": 38,
   "metadata": {},
   "outputs": [],
   "source": [
    "send_open_emails['isOpen']=send_open_emails['event_time_y'].apply(lambda x: 0 if np.isnan(x) else 1)"
   ]
  },
  {
   "cell_type": "code",
   "execution_count": 39,
   "metadata": {},
   "outputs": [],
   "source": [
    "send_opens = send_open_emails.groupby('id')['isOpen'].sum().reset_index(name='opens')"
   ]
  },
  {
   "cell_type": "code",
   "execution_count": 40,
   "metadata": {},
   "outputs": [
    {
     "data": {
      "text/html": [
       "<div>\n",
       "<style scoped>\n",
       "    .dataframe tbody tr th:only-of-type {\n",
       "        vertical-align: middle;\n",
       "    }\n",
       "\n",
       "    .dataframe tbody tr th {\n",
       "        vertical-align: top;\n",
       "    }\n",
       "\n",
       "    .dataframe thead th {\n",
       "        text-align: right;\n",
       "    }\n",
       "</style>\n",
       "<table border=\"1\" class=\"dataframe\">\n",
       "  <thead>\n",
       "    <tr style=\"text-align: right;\">\n",
       "      <th></th>\n",
       "      <th>opens</th>\n",
       "    </tr>\n",
       "  </thead>\n",
       "  <tbody>\n",
       "    <tr>\n",
       "      <th>count</th>\n",
       "      <td>265734.000000</td>\n",
       "    </tr>\n",
       "    <tr>\n",
       "      <th>mean</th>\n",
       "      <td>0.381152</td>\n",
       "    </tr>\n",
       "    <tr>\n",
       "      <th>std</th>\n",
       "      <td>2.163833</td>\n",
       "    </tr>\n",
       "    <tr>\n",
       "      <th>min</th>\n",
       "      <td>0.000000</td>\n",
       "    </tr>\n",
       "    <tr>\n",
       "      <th>25%</th>\n",
       "      <td>0.000000</td>\n",
       "    </tr>\n",
       "    <tr>\n",
       "      <th>50%</th>\n",
       "      <td>0.000000</td>\n",
       "    </tr>\n",
       "    <tr>\n",
       "      <th>75%</th>\n",
       "      <td>0.000000</td>\n",
       "    </tr>\n",
       "    <tr>\n",
       "      <th>max</th>\n",
       "      <td>920.000000</td>\n",
       "    </tr>\n",
       "  </tbody>\n",
       "</table>\n",
       "</div>"
      ],
      "text/plain": [
       "               opens\n",
       "count  265734.000000\n",
       "mean        0.381152\n",
       "std         2.163833\n",
       "min         0.000000\n",
       "25%         0.000000\n",
       "50%         0.000000\n",
       "75%         0.000000\n",
       "max       920.000000"
      ]
     },
     "execution_count": 40,
     "metadata": {},
     "output_type": "execute_result"
    }
   ],
   "source": [
    "send_opens.describe()"
   ]
  },
  {
   "cell_type": "markdown",
   "metadata": {},
   "source": [
    "#### Second, join send emails and click emails and aggregate clicks per id"
   ]
  },
  {
   "cell_type": "code",
   "execution_count": 41,
   "metadata": {},
   "outputs": [],
   "source": [
    "send_click_emails = pd.merge(send_emails, click_emails, on='id', how='left')"
   ]
  },
  {
   "cell_type": "code",
   "execution_count": 42,
   "metadata": {},
   "outputs": [],
   "source": [
    "send_click_emails = send_click_emails [(send_click_emails ['event_time_x'] <= send_click_emails ['event_time_y']) | (send_click_emails ['event_time_y'].isnull())]"
   ]
  },
  {
   "cell_type": "code",
   "execution_count": 43,
   "metadata": {},
   "outputs": [
    {
     "name": "stdout",
     "output_type": "stream",
     "text": [
      "<class 'pandas.core.frame.DataFrame'>\n",
      "Int64Index: 267143 entries, 0 to 267155\n",
      "Data columns (total 7 columns):\n",
      "id              267143 non-null object\n",
      "event_time_x    267143 non-null int64\n",
      "event_type_x    267143 non-null object\n",
      "dt_x            267143 non-null object\n",
      "event_time_y    8590 non-null float64\n",
      "event_type_y    8590 non-null object\n",
      "dt_y            8590 non-null object\n",
      "dtypes: float64(1), int64(1), object(5)\n",
      "memory usage: 16.3+ MB\n"
     ]
    }
   ],
   "source": [
    "send_click_emails.info()"
   ]
  },
  {
   "cell_type": "code",
   "execution_count": 44,
   "metadata": {},
   "outputs": [],
   "source": [
    "send_click_emails['isClick']=send_click_emails['event_time_y'].apply(lambda x: 0 if np.isnan(x) else 1)"
   ]
  },
  {
   "cell_type": "code",
   "execution_count": 45,
   "metadata": {},
   "outputs": [],
   "source": [
    "send_clicks = send_click_emails.groupby('id')['isClick'].sum().reset_index(name='clicks')"
   ]
  },
  {
   "cell_type": "code",
   "execution_count": 46,
   "metadata": {},
   "outputs": [
    {
     "data": {
      "text/html": [
       "<div>\n",
       "<style scoped>\n",
       "    .dataframe tbody tr th:only-of-type {\n",
       "        vertical-align: middle;\n",
       "    }\n",
       "\n",
       "    .dataframe tbody tr th {\n",
       "        vertical-align: top;\n",
       "    }\n",
       "\n",
       "    .dataframe thead th {\n",
       "        text-align: right;\n",
       "    }\n",
       "</style>\n",
       "<table border=\"1\" class=\"dataframe\">\n",
       "  <thead>\n",
       "    <tr style=\"text-align: right;\">\n",
       "      <th></th>\n",
       "      <th>clicks</th>\n",
       "    </tr>\n",
       "  </thead>\n",
       "  <tbody>\n",
       "    <tr>\n",
       "      <th>count</th>\n",
       "      <td>265723.000000</td>\n",
       "    </tr>\n",
       "    <tr>\n",
       "      <th>mean</th>\n",
       "      <td>0.032327</td>\n",
       "    </tr>\n",
       "    <tr>\n",
       "      <th>std</th>\n",
       "      <td>0.221902</td>\n",
       "    </tr>\n",
       "    <tr>\n",
       "      <th>min</th>\n",
       "      <td>0.000000</td>\n",
       "    </tr>\n",
       "    <tr>\n",
       "      <th>25%</th>\n",
       "      <td>0.000000</td>\n",
       "    </tr>\n",
       "    <tr>\n",
       "      <th>50%</th>\n",
       "      <td>0.000000</td>\n",
       "    </tr>\n",
       "    <tr>\n",
       "      <th>75%</th>\n",
       "      <td>0.000000</td>\n",
       "    </tr>\n",
       "    <tr>\n",
       "      <th>max</th>\n",
       "      <td>15.000000</td>\n",
       "    </tr>\n",
       "  </tbody>\n",
       "</table>\n",
       "</div>"
      ],
      "text/plain": [
       "              clicks\n",
       "count  265723.000000\n",
       "mean        0.032327\n",
       "std         0.221902\n",
       "min         0.000000\n",
       "25%         0.000000\n",
       "50%         0.000000\n",
       "75%         0.000000\n",
       "max        15.000000"
      ]
     },
     "execution_count": 46,
     "metadata": {},
     "output_type": "execute_result"
    }
   ],
   "source": [
    "send_clicks.describe()"
   ]
  },
  {
   "cell_type": "markdown",
   "metadata": {},
   "source": [
    "#### Third, join send emails and order and aggregate order numbers and revenue"
   ]
  },
  {
   "cell_type": "code",
   "execution_count": 47,
   "metadata": {},
   "outputs": [],
   "source": [
    "send_order_emails = pd.merge(send_emails, orders, on='id', how='left')"
   ]
  },
  {
   "cell_type": "code",
   "execution_count": 48,
   "metadata": {},
   "outputs": [],
   "source": [
    "send_order_emails = send_order_emails [(send_order_emails ['event_time_x'] <= send_order_emails ['event_time_y']) | (send_order_emails ['event_time_y'].isnull())]"
   ]
  },
  {
   "cell_type": "code",
   "execution_count": 49,
   "metadata": {},
   "outputs": [
    {
     "name": "stdout",
     "output_type": "stream",
     "text": [
      "<class 'pandas.core.frame.DataFrame'>\n",
      "Int64Index: 266438 entries, 0 to 267997\n",
      "Data columns (total 8 columns):\n",
      "id              266438 non-null object\n",
      "event_time_x    266438 non-null int64\n",
      "event_type_x    266438 non-null object\n",
      "dt              266438 non-null object\n",
      "product         5881 non-null object\n",
      "event_type_y    5881 non-null object\n",
      "event_time_y    5881 non-null float64\n",
      "revenue         5881 non-null float64\n",
      "dtypes: float64(2), int64(1), object(5)\n",
      "memory usage: 18.3+ MB\n"
     ]
    }
   ],
   "source": [
    "send_order_emails.info()"
   ]
  },
  {
   "cell_type": "code",
   "execution_count": 50,
   "metadata": {},
   "outputs": [],
   "source": [
    "send_order_emails['purchased_widget']=send_order_emails['product'].apply(lambda x: 1 if x=='widget' else 0)\n",
    "send_order_emails['purchased_trinket']=send_order_emails['product'].apply(lambda x: 1 if x=='trinket' else 0)\n",
    "send_order_emails['purchased_gizmo']=send_order_emails['product'].apply(lambda x: 1 if x=='gizmo' else 0)\n",
    "send_order_emails['orders']=send_order_emails['product'].apply(lambda x: 0 if pd.isnull(x) else 1)"
   ]
  },
  {
   "cell_type": "code",
   "execution_count": 51,
   "metadata": {},
   "outputs": [],
   "source": [
    "send_orders = send_order_emails.groupby('id').agg({'purchased_widget':sum, \n",
    "                                                   'purchased_trinket':sum, \n",
    "                                                   'purchased_gizmo':sum,\n",
    "                                                   'orders': sum,\n",
    "                                                   'revenue': sum\n",
    "                                                  }).reset_index()"
   ]
  },
  {
   "cell_type": "code",
   "execution_count": 52,
   "metadata": {},
   "outputs": [
    {
     "data": {
      "text/html": [
       "<div>\n",
       "<style scoped>\n",
       "    .dataframe tbody tr th:only-of-type {\n",
       "        vertical-align: middle;\n",
       "    }\n",
       "\n",
       "    .dataframe tbody tr th {\n",
       "        vertical-align: top;\n",
       "    }\n",
       "\n",
       "    .dataframe thead th {\n",
       "        text-align: right;\n",
       "    }\n",
       "</style>\n",
       "<table border=\"1\" class=\"dataframe\">\n",
       "  <thead>\n",
       "    <tr style=\"text-align: right;\">\n",
       "      <th></th>\n",
       "      <th>purchased_widget</th>\n",
       "      <th>purchased_trinket</th>\n",
       "      <th>purchased_gizmo</th>\n",
       "      <th>orders</th>\n",
       "      <th>revenue</th>\n",
       "    </tr>\n",
       "  </thead>\n",
       "  <tbody>\n",
       "    <tr>\n",
       "      <th>count</th>\n",
       "      <td>264634.000000</td>\n",
       "      <td>264634.000000</td>\n",
       "      <td>264634.000000</td>\n",
       "      <td>264634.000000</td>\n",
       "      <td>264634.000000</td>\n",
       "    </tr>\n",
       "    <tr>\n",
       "      <th>mean</th>\n",
       "      <td>0.002879</td>\n",
       "      <td>0.009254</td>\n",
       "      <td>0.002520</td>\n",
       "      <td>0.022223</td>\n",
       "      <td>1.006692</td>\n",
       "    </tr>\n",
       "    <tr>\n",
       "      <th>std</th>\n",
       "      <td>0.058570</td>\n",
       "      <td>0.107784</td>\n",
       "      <td>0.053707</td>\n",
       "      <td>0.230273</td>\n",
       "      <td>14.928920</td>\n",
       "    </tr>\n",
       "    <tr>\n",
       "      <th>min</th>\n",
       "      <td>0.000000</td>\n",
       "      <td>0.000000</td>\n",
       "      <td>0.000000</td>\n",
       "      <td>0.000000</td>\n",
       "      <td>0.000000</td>\n",
       "    </tr>\n",
       "    <tr>\n",
       "      <th>25%</th>\n",
       "      <td>0.000000</td>\n",
       "      <td>0.000000</td>\n",
       "      <td>0.000000</td>\n",
       "      <td>0.000000</td>\n",
       "      <td>0.000000</td>\n",
       "    </tr>\n",
       "    <tr>\n",
       "      <th>50%</th>\n",
       "      <td>0.000000</td>\n",
       "      <td>0.000000</td>\n",
       "      <td>0.000000</td>\n",
       "      <td>0.000000</td>\n",
       "      <td>0.000000</td>\n",
       "    </tr>\n",
       "    <tr>\n",
       "      <th>75%</th>\n",
       "      <td>0.000000</td>\n",
       "      <td>0.000000</td>\n",
       "      <td>0.000000</td>\n",
       "      <td>0.000000</td>\n",
       "      <td>0.000000</td>\n",
       "    </tr>\n",
       "    <tr>\n",
       "      <th>max</th>\n",
       "      <td>6.000000</td>\n",
       "      <td>7.000000</td>\n",
       "      <td>3.000000</td>\n",
       "      <td>46.000000</td>\n",
       "      <td>1650.000000</td>\n",
       "    </tr>\n",
       "  </tbody>\n",
       "</table>\n",
       "</div>"
      ],
      "text/plain": [
       "       purchased_widget  purchased_trinket  purchased_gizmo         orders  \\\n",
       "count     264634.000000      264634.000000    264634.000000  264634.000000   \n",
       "mean           0.002879           0.009254         0.002520       0.022223   \n",
       "std            0.058570           0.107784         0.053707       0.230273   \n",
       "min            0.000000           0.000000         0.000000       0.000000   \n",
       "25%            0.000000           0.000000         0.000000       0.000000   \n",
       "50%            0.000000           0.000000         0.000000       0.000000   \n",
       "75%            0.000000           0.000000         0.000000       0.000000   \n",
       "max            6.000000           7.000000         3.000000      46.000000   \n",
       "\n",
       "             revenue  \n",
       "count  264634.000000  \n",
       "mean        1.006692  \n",
       "std        14.928920  \n",
       "min         0.000000  \n",
       "25%         0.000000  \n",
       "50%         0.000000  \n",
       "75%         0.000000  \n",
       "max      1650.000000  "
      ]
     },
     "execution_count": 52,
     "metadata": {},
     "output_type": "execute_result"
    }
   ],
   "source": [
    "send_orders.describe()"
   ]
  },
  {
   "cell_type": "markdown",
   "metadata": {},
   "source": [
    "#### Fourth, join send emails and consumers data"
   ]
  },
  {
   "cell_type": "code",
   "execution_count": 53,
   "metadata": {},
   "outputs": [],
   "source": [
    "send_consumers = pd.merge(send_emails, params, on='id', how='left')"
   ]
  },
  {
   "cell_type": "code",
   "execution_count": 54,
   "metadata": {},
   "outputs": [
    {
     "name": "stdout",
     "output_type": "stream",
     "text": [
      "<class 'pandas.core.frame.DataFrame'>\n",
      "Int64Index: 265737 entries, 0 to 265736\n",
      "Data columns (total 14 columns):\n",
      "id                       265737 non-null object\n",
      "event_time               265737 non-null int64\n",
      "event_type               265737 non-null object\n",
      "dt                       265737 non-null object\n",
      "has_purchased_widget     265709 non-null object\n",
      "has_purchased_trinket    265709 non-null object\n",
      "has_purchased_gizmo      265709 non-null object\n",
      "order_count              265709 non-null float64\n",
      "first_order_date         265709 non-null float64\n",
      "last_order_date          265709 non-null float64\n",
      "lifetime_revenue         265658 non-null float64\n",
      "first_order_dt           265709 non-null object\n",
      "last_order_dt            265709 non-null object\n",
      "ages                     265737 non-null int64\n",
      "dtypes: float64(4), int64(2), object(8)\n",
      "memory usage: 30.4+ MB\n"
     ]
    }
   ],
   "source": [
    "send_consumers.info()"
   ]
  },
  {
   "cell_type": "code",
   "execution_count": 55,
   "metadata": {},
   "outputs": [
    {
     "data": {
      "text/html": [
       "<div>\n",
       "<style scoped>\n",
       "    .dataframe tbody tr th:only-of-type {\n",
       "        vertical-align: middle;\n",
       "    }\n",
       "\n",
       "    .dataframe tbody tr th {\n",
       "        vertical-align: top;\n",
       "    }\n",
       "\n",
       "    .dataframe thead th {\n",
       "        text-align: right;\n",
       "    }\n",
       "</style>\n",
       "<table border=\"1\" class=\"dataframe\">\n",
       "  <thead>\n",
       "    <tr style=\"text-align: right;\">\n",
       "      <th></th>\n",
       "      <th>id</th>\n",
       "      <th>event_time</th>\n",
       "      <th>event_type</th>\n",
       "      <th>dt</th>\n",
       "      <th>has_purchased_widget</th>\n",
       "      <th>has_purchased_trinket</th>\n",
       "      <th>has_purchased_gizmo</th>\n",
       "      <th>order_count</th>\n",
       "      <th>first_order_date</th>\n",
       "      <th>last_order_date</th>\n",
       "      <th>lifetime_revenue</th>\n",
       "      <th>first_order_dt</th>\n",
       "      <th>last_order_dt</th>\n",
       "      <th>ages</th>\n",
       "    </tr>\n",
       "  </thead>\n",
       "  <tbody>\n",
       "    <tr>\n",
       "      <th>0</th>\n",
       "      <td>0d170fdf-fc33-43be-9a62-c9b644525cf5</td>\n",
       "      <td>1493146851</td>\n",
       "      <td>email_send</td>\n",
       "      <td>2017-04-25</td>\n",
       "      <td>t</td>\n",
       "      <td>t</td>\n",
       "      <td>t</td>\n",
       "      <td>11.0</td>\n",
       "      <td>1.473984e+09</td>\n",
       "      <td>1.494547e+09</td>\n",
       "      <td>141000.0</td>\n",
       "      <td>2016-09-15</td>\n",
       "      <td>2017-05-11</td>\n",
       "      <td>238</td>\n",
       "    </tr>\n",
       "    <tr>\n",
       "      <th>1</th>\n",
       "      <td>1b44fece-d7dd-44f5-9ee9-a4ffe6999c70</td>\n",
       "      <td>1493147858</td>\n",
       "      <td>email_send</td>\n",
       "      <td>2017-04-25</td>\n",
       "      <td>t</td>\n",
       "      <td>f</td>\n",
       "      <td>f</td>\n",
       "      <td>2.0</td>\n",
       "      <td>1.425427e+09</td>\n",
       "      <td>1.429142e+09</td>\n",
       "      <td>36000.0</td>\n",
       "      <td>2015-03-03</td>\n",
       "      <td>2015-04-15</td>\n",
       "      <td>43</td>\n",
       "    </tr>\n",
       "  </tbody>\n",
       "</table>\n",
       "</div>"
      ],
      "text/plain": [
       "                                     id  event_time  event_type          dt  \\\n",
       "0  0d170fdf-fc33-43be-9a62-c9b644525cf5  1493146851  email_send  2017-04-25   \n",
       "1  1b44fece-d7dd-44f5-9ee9-a4ffe6999c70  1493147858  email_send  2017-04-25   \n",
       "\n",
       "  has_purchased_widget has_purchased_trinket has_purchased_gizmo  order_count  \\\n",
       "0                    t                     t                   t         11.0   \n",
       "1                    t                     f                   f          2.0   \n",
       "\n",
       "   first_order_date  last_order_date  lifetime_revenue first_order_dt  \\\n",
       "0      1.473984e+09     1.494547e+09          141000.0     2016-09-15   \n",
       "1      1.425427e+09     1.429142e+09           36000.0     2015-03-03   \n",
       "\n",
       "  last_order_dt  ages  \n",
       "0    2017-05-11   238  \n",
       "1    2015-04-15    43  "
      ]
     },
     "execution_count": 55,
     "metadata": {},
     "output_type": "execute_result"
    }
   ],
   "source": [
    "send_consumers.head(2)"
   ]
  },
  {
   "cell_type": "markdown",
   "metadata": {},
   "source": [
    "#### Fifth, merge all tables together"
   ]
  },
  {
   "cell_type": "code",
   "execution_count": 80,
   "metadata": {},
   "outputs": [],
   "source": [
    "df = pd.merge(send_consumers, send_orders, on='id', how='left')\n",
    "df = pd.merge(df, send_opens, on='id', how='left')\n",
    "df = pd.merge(df, send_clicks, on='id', how='left')"
   ]
  },
  {
   "cell_type": "code",
   "execution_count": 81,
   "metadata": {},
   "outputs": [
    {
     "name": "stdout",
     "output_type": "stream",
     "text": [
      "<class 'pandas.core.frame.DataFrame'>\n",
      "Int64Index: 265737 entries, 0 to 265736\n",
      "Data columns (total 21 columns):\n",
      "id                       265737 non-null object\n",
      "event_time               265737 non-null int64\n",
      "event_type               265737 non-null object\n",
      "dt                       265737 non-null object\n",
      "has_purchased_widget     265709 non-null object\n",
      "has_purchased_trinket    265709 non-null object\n",
      "has_purchased_gizmo      265709 non-null object\n",
      "order_count              265709 non-null float64\n",
      "first_order_date         265709 non-null float64\n",
      "last_order_date          265709 non-null float64\n",
      "lifetime_revenue         265658 non-null float64\n",
      "first_order_dt           265709 non-null object\n",
      "last_order_dt            265709 non-null object\n",
      "ages                     265737 non-null int64\n",
      "purchased_widget         264635 non-null float64\n",
      "purchased_trinket        264635 non-null float64\n",
      "purchased_gizmo          264635 non-null float64\n",
      "orders                   264635 non-null float64\n",
      "revenue                  264635 non-null float64\n",
      "opens                    265735 non-null float64\n",
      "clicks                   265724 non-null float64\n",
      "dtypes: float64(11), int64(2), object(8)\n",
      "memory usage: 44.6+ MB\n"
     ]
    }
   ],
   "source": [
    "df.info()"
   ]
  },
  {
   "cell_type": "code",
   "execution_count": 82,
   "metadata": {},
   "outputs": [
    {
     "data": {
      "text/html": [
       "<div>\n",
       "<style scoped>\n",
       "    .dataframe tbody tr th:only-of-type {\n",
       "        vertical-align: middle;\n",
       "    }\n",
       "\n",
       "    .dataframe tbody tr th {\n",
       "        vertical-align: top;\n",
       "    }\n",
       "\n",
       "    .dataframe thead th {\n",
       "        text-align: right;\n",
       "    }\n",
       "</style>\n",
       "<table border=\"1\" class=\"dataframe\">\n",
       "  <thead>\n",
       "    <tr style=\"text-align: right;\">\n",
       "      <th></th>\n",
       "      <th>id</th>\n",
       "      <th>event_time</th>\n",
       "      <th>event_type</th>\n",
       "      <th>dt</th>\n",
       "      <th>has_purchased_widget</th>\n",
       "      <th>has_purchased_trinket</th>\n",
       "      <th>has_purchased_gizmo</th>\n",
       "      <th>order_count</th>\n",
       "      <th>first_order_date</th>\n",
       "      <th>last_order_date</th>\n",
       "      <th>...</th>\n",
       "      <th>first_order_dt</th>\n",
       "      <th>last_order_dt</th>\n",
       "      <th>ages</th>\n",
       "      <th>purchased_widget</th>\n",
       "      <th>purchased_trinket</th>\n",
       "      <th>purchased_gizmo</th>\n",
       "      <th>orders</th>\n",
       "      <th>revenue</th>\n",
       "      <th>opens</th>\n",
       "      <th>clicks</th>\n",
       "    </tr>\n",
       "  </thead>\n",
       "  <tbody>\n",
       "    <tr>\n",
       "      <th>0</th>\n",
       "      <td>0d170fdf-fc33-43be-9a62-c9b644525cf5</td>\n",
       "      <td>1493146851</td>\n",
       "      <td>email_send</td>\n",
       "      <td>2017-04-25</td>\n",
       "      <td>t</td>\n",
       "      <td>t</td>\n",
       "      <td>t</td>\n",
       "      <td>11.00</td>\n",
       "      <td>1,473,984,000.00</td>\n",
       "      <td>1,494,547,200.00</td>\n",
       "      <td>...</td>\n",
       "      <td>2016-09-15</td>\n",
       "      <td>2017-05-11</td>\n",
       "      <td>238</td>\n",
       "      <td>3.00</td>\n",
       "      <td>2.00</td>\n",
       "      <td>2.00</td>\n",
       "      <td>12.00</td>\n",
       "      <td>774.00</td>\n",
       "      <td>14.00</td>\n",
       "      <td>4.00</td>\n",
       "    </tr>\n",
       "    <tr>\n",
       "      <th>1</th>\n",
       "      <td>1b44fece-d7dd-44f5-9ee9-a4ffe6999c70</td>\n",
       "      <td>1493147858</td>\n",
       "      <td>email_send</td>\n",
       "      <td>2017-04-25</td>\n",
       "      <td>t</td>\n",
       "      <td>f</td>\n",
       "      <td>f</td>\n",
       "      <td>2.00</td>\n",
       "      <td>1,425,427,200.00</td>\n",
       "      <td>1,429,142,400.00</td>\n",
       "      <td>...</td>\n",
       "      <td>2015-03-03</td>\n",
       "      <td>2015-04-15</td>\n",
       "      <td>43</td>\n",
       "      <td>0.00</td>\n",
       "      <td>0.00</td>\n",
       "      <td>0.00</td>\n",
       "      <td>0.00</td>\n",
       "      <td>0.00</td>\n",
       "      <td>1.00</td>\n",
       "      <td>0.00</td>\n",
       "    </tr>\n",
       "  </tbody>\n",
       "</table>\n",
       "<p>2 rows × 21 columns</p>\n",
       "</div>"
      ],
      "text/plain": [
       "                                     id  event_time  event_type          dt  \\\n",
       "0  0d170fdf-fc33-43be-9a62-c9b644525cf5  1493146851  email_send  2017-04-25   \n",
       "1  1b44fece-d7dd-44f5-9ee9-a4ffe6999c70  1493147858  email_send  2017-04-25   \n",
       "\n",
       "  has_purchased_widget has_purchased_trinket has_purchased_gizmo  order_count  \\\n",
       "0                    t                     t                   t        11.00   \n",
       "1                    t                     f                   f         2.00   \n",
       "\n",
       "   first_order_date  last_order_date  ...  first_order_dt last_order_dt ages  \\\n",
       "0  1,473,984,000.00 1,494,547,200.00  ...      2016-09-15    2017-05-11  238   \n",
       "1  1,425,427,200.00 1,429,142,400.00  ...      2015-03-03    2015-04-15   43   \n",
       "\n",
       "   purchased_widget  purchased_trinket  purchased_gizmo  orders  revenue  \\\n",
       "0              3.00               2.00             2.00   12.00   774.00   \n",
       "1              0.00               0.00             0.00    0.00     0.00   \n",
       "\n",
       "   opens  clicks  \n",
       "0  14.00    4.00  \n",
       "1   1.00    0.00  \n",
       "\n",
       "[2 rows x 21 columns]"
      ]
     },
     "execution_count": 82,
     "metadata": {},
     "output_type": "execute_result"
    }
   ],
   "source": [
    "df.head(2)"
   ]
  },
  {
   "cell_type": "code",
   "execution_count": 83,
   "metadata": {},
   "outputs": [],
   "source": [
    "df['has_purchased_widget'] = df['has_purchased_widget'].apply(lambda x: 1.12 if x=='t' else 0.50)\n",
    "df['has_purchased_trinket'] = df['has_purchased_trinket'].apply(lambda x: 1.99 if x=='t' else 0.60)\n",
    "df['has_purchased_gizmo'] = df['has_purchased_gizmo'].apply(lambda x: 3.23 if x=='t' else 0.74)"
   ]
  },
  {
   "cell_type": "code",
   "execution_count": 59,
   "metadata": {},
   "outputs": [],
   "source": [
    "### change categorical to binary variables\n",
    "# df['has_purchased_gizmo'] = (df['has_purchased_gizmo']=='t')\n",
    "# # df['has_purchased'] = df.apply(lambda x: True if (x['has_purchased_widget'] or x['has_purchased_trinket'] or x['has_purchased_gizmo']) else False)\n",
    "# df['has_purchased'] = (df['has_purchased_widget']) | (df['has_purchased_trinket']) | df['has_purchased_gizmo']"
   ]
  },
  {
   "cell_type": "code",
   "execution_count": 84,
   "metadata": {},
   "outputs": [],
   "source": [
    "### fill in missing\n",
    "df['order_count']=df['order_count'].fillna(0)\n",
    "df['lifetime_revenue']=df['lifetime_revenue'].fillna(0)\n",
    "df['ages']=df['ages'].fillna(0)\n",
    "df['opens']=df['opens'].fillna(0)\n",
    "df['clicks']=df['clicks'].fillna(0)"
   ]
  },
  {
   "cell_type": "code",
   "execution_count": 85,
   "metadata": {},
   "outputs": [],
   "source": [
    "### replace outliers \n",
    "def replace(series):\n",
    "    mean, std, cutpoint = series.mean(), series.std(), series.quantile(.99)\n",
    "    outliers = (series - mean).abs() > 3*std\n",
    "    value = int(cutpoint + 1)\n",
    "    series=series.where(~outliers, value)\n",
    "    return(series)\n",
    "\n",
    "num_attribs =[\n",
    "    'order_count',\n",
    "    'lifetime_revenue',\n",
    "    'ages',\n",
    "    'opens',\n",
    "    'clicks'\n",
    "]\n",
    "df[num_attribs] = df[num_attribs].apply(lambda x: replace(x), axis=0)"
   ]
  },
  {
   "cell_type": "code",
   "execution_count": 86,
   "metadata": {},
   "outputs": [],
   "source": [
    "df.drop(['event_time', 'event_type', 'dt', 'first_order_date', 'last_order_date', 'first_order_dt', 'last_order_dt'], 1, inplace=True)"
   ]
  },
  {
   "cell_type": "code",
   "execution_count": 87,
   "metadata": {},
   "outputs": [
    {
     "data": {
      "text/html": [
       "<div>\n",
       "<style scoped>\n",
       "    .dataframe tbody tr th:only-of-type {\n",
       "        vertical-align: middle;\n",
       "    }\n",
       "\n",
       "    .dataframe tbody tr th {\n",
       "        vertical-align: top;\n",
       "    }\n",
       "\n",
       "    .dataframe thead th {\n",
       "        text-align: right;\n",
       "    }\n",
       "</style>\n",
       "<table border=\"1\" class=\"dataframe\">\n",
       "  <thead>\n",
       "    <tr style=\"text-align: right;\">\n",
       "      <th></th>\n",
       "      <th>has_purchased_widget</th>\n",
       "      <th>has_purchased_trinket</th>\n",
       "      <th>has_purchased_gizmo</th>\n",
       "      <th>order_count</th>\n",
       "      <th>lifetime_revenue</th>\n",
       "      <th>ages</th>\n",
       "      <th>purchased_widget</th>\n",
       "      <th>purchased_trinket</th>\n",
       "      <th>purchased_gizmo</th>\n",
       "      <th>orders</th>\n",
       "      <th>revenue</th>\n",
       "      <th>opens</th>\n",
       "      <th>clicks</th>\n",
       "    </tr>\n",
       "  </thead>\n",
       "  <tbody>\n",
       "    <tr>\n",
       "      <th>count</th>\n",
       "      <td>265,737.00</td>\n",
       "      <td>265,737.00</td>\n",
       "      <td>265,737.00</td>\n",
       "      <td>265,737.00</td>\n",
       "      <td>265,737.00</td>\n",
       "      <td>265,737.00</td>\n",
       "      <td>264,635.00</td>\n",
       "      <td>264,635.00</td>\n",
       "      <td>264,635.00</td>\n",
       "      <td>264,635.00</td>\n",
       "      <td>264,635.00</td>\n",
       "      <td>265,737.00</td>\n",
       "      <td>265,737.00</td>\n",
       "    </tr>\n",
       "    <tr>\n",
       "      <th>mean</th>\n",
       "      <td>1.01</td>\n",
       "      <td>1.01</td>\n",
       "      <td>1.01</td>\n",
       "      <td>1.20</td>\n",
       "      <td>17,592.43</td>\n",
       "      <td>31.20</td>\n",
       "      <td>0.00</td>\n",
       "      <td>0.01</td>\n",
       "      <td>0.00</td>\n",
       "      <td>0.02</td>\n",
       "      <td>1.01</td>\n",
       "      <td>0.35</td>\n",
       "      <td>0.05</td>\n",
       "    </tr>\n",
       "    <tr>\n",
       "      <th>std</th>\n",
       "      <td>0.24</td>\n",
       "      <td>0.63</td>\n",
       "      <td>0.77</td>\n",
       "      <td>0.53</td>\n",
       "      <td>9,396.87</td>\n",
       "      <td>108.19</td>\n",
       "      <td>0.06</td>\n",
       "      <td>0.11</td>\n",
       "      <td>0.05</td>\n",
       "      <td>0.23</td>\n",
       "      <td>14.93</td>\n",
       "      <td>0.76</td>\n",
       "      <td>0.32</td>\n",
       "    </tr>\n",
       "    <tr>\n",
       "      <th>min</th>\n",
       "      <td>0.50</td>\n",
       "      <td>0.60</td>\n",
       "      <td>0.74</td>\n",
       "      <td>0.00</td>\n",
       "      <td>0.00</td>\n",
       "      <td>0.00</td>\n",
       "      <td>0.00</td>\n",
       "      <td>0.00</td>\n",
       "      <td>0.00</td>\n",
       "      <td>0.00</td>\n",
       "      <td>0.00</td>\n",
       "      <td>0.00</td>\n",
       "      <td>0.00</td>\n",
       "    </tr>\n",
       "    <tr>\n",
       "      <th>25%</th>\n",
       "      <td>1.12</td>\n",
       "      <td>0.60</td>\n",
       "      <td>0.74</td>\n",
       "      <td>1.00</td>\n",
       "      <td>15,000.00</td>\n",
       "      <td>0.00</td>\n",
       "      <td>0.00</td>\n",
       "      <td>0.00</td>\n",
       "      <td>0.00</td>\n",
       "      <td>0.00</td>\n",
       "      <td>0.00</td>\n",
       "      <td>0.00</td>\n",
       "      <td>0.00</td>\n",
       "    </tr>\n",
       "    <tr>\n",
       "      <th>50%</th>\n",
       "      <td>1.12</td>\n",
       "      <td>0.60</td>\n",
       "      <td>0.74</td>\n",
       "      <td>1.00</td>\n",
       "      <td>17,389.00</td>\n",
       "      <td>0.00</td>\n",
       "      <td>0.00</td>\n",
       "      <td>0.00</td>\n",
       "      <td>0.00</td>\n",
       "      <td>0.00</td>\n",
       "      <td>0.00</td>\n",
       "      <td>0.00</td>\n",
       "      <td>0.00</td>\n",
       "    </tr>\n",
       "    <tr>\n",
       "      <th>75%</th>\n",
       "      <td>1.12</td>\n",
       "      <td>1.99</td>\n",
       "      <td>0.74</td>\n",
       "      <td>1.00</td>\n",
       "      <td>20,500.00</td>\n",
       "      <td>0.00</td>\n",
       "      <td>0.00</td>\n",
       "      <td>0.00</td>\n",
       "      <td>0.00</td>\n",
       "      <td>0.00</td>\n",
       "      <td>0.00</td>\n",
       "      <td>0.00</td>\n",
       "      <td>0.00</td>\n",
       "    </tr>\n",
       "    <tr>\n",
       "      <th>max</th>\n",
       "      <td>1.12</td>\n",
       "      <td>1.99</td>\n",
       "      <td>3.23</td>\n",
       "      <td>5.00</td>\n",
       "      <td>53,001.00</td>\n",
       "      <td>557.00</td>\n",
       "      <td>6.00</td>\n",
       "      <td>7.00</td>\n",
       "      <td>3.00</td>\n",
       "      <td>46.00</td>\n",
       "      <td>1,650.00</td>\n",
       "      <td>6.00</td>\n",
       "      <td>2.00</td>\n",
       "    </tr>\n",
       "  </tbody>\n",
       "</table>\n",
       "</div>"
      ],
      "text/plain": [
       "       has_purchased_widget  has_purchased_trinket  has_purchased_gizmo  \\\n",
       "count            265,737.00             265,737.00           265,737.00   \n",
       "mean                   1.01                   1.01                 1.01   \n",
       "std                    0.24                   0.63                 0.77   \n",
       "min                    0.50                   0.60                 0.74   \n",
       "25%                    1.12                   0.60                 0.74   \n",
       "50%                    1.12                   0.60                 0.74   \n",
       "75%                    1.12                   1.99                 0.74   \n",
       "max                    1.12                   1.99                 3.23   \n",
       "\n",
       "       order_count  lifetime_revenue       ages  purchased_widget  \\\n",
       "count   265,737.00        265,737.00 265,737.00        264,635.00   \n",
       "mean          1.20         17,592.43      31.20              0.00   \n",
       "std           0.53          9,396.87     108.19              0.06   \n",
       "min           0.00              0.00       0.00              0.00   \n",
       "25%           1.00         15,000.00       0.00              0.00   \n",
       "50%           1.00         17,389.00       0.00              0.00   \n",
       "75%           1.00         20,500.00       0.00              0.00   \n",
       "max           5.00         53,001.00     557.00              6.00   \n",
       "\n",
       "       purchased_trinket  purchased_gizmo     orders    revenue      opens  \\\n",
       "count         264,635.00       264,635.00 264,635.00 264,635.00 265,737.00   \n",
       "mean                0.01             0.00       0.02       1.01       0.35   \n",
       "std                 0.11             0.05       0.23      14.93       0.76   \n",
       "min                 0.00             0.00       0.00       0.00       0.00   \n",
       "25%                 0.00             0.00       0.00       0.00       0.00   \n",
       "50%                 0.00             0.00       0.00       0.00       0.00   \n",
       "75%                 0.00             0.00       0.00       0.00       0.00   \n",
       "max                 7.00             3.00      46.00   1,650.00       6.00   \n",
       "\n",
       "          clicks  \n",
       "count 265,737.00  \n",
       "mean        0.05  \n",
       "std         0.32  \n",
       "min         0.00  \n",
       "25%         0.00  \n",
       "50%         0.00  \n",
       "75%         0.00  \n",
       "max         2.00  "
      ]
     },
     "execution_count": 87,
     "metadata": {},
     "output_type": "execute_result"
    }
   ],
   "source": [
    "df.describe()"
   ]
  },
  {
   "cell_type": "code",
   "execution_count": 88,
   "metadata": {},
   "outputs": [],
   "source": [
    "df['flag'] = df['orders']>=1\n",
    "pd.options.display.float_format ='{0:,.2f}'.format"
   ]
  },
  {
   "cell_type": "code",
   "execution_count": 89,
   "metadata": {},
   "outputs": [
    {
     "data": {
      "text/html": [
       "<div>\n",
       "<style scoped>\n",
       "    .dataframe tbody tr th:only-of-type {\n",
       "        vertical-align: middle;\n",
       "    }\n",
       "\n",
       "    .dataframe tbody tr th {\n",
       "        vertical-align: top;\n",
       "    }\n",
       "\n",
       "    .dataframe thead th {\n",
       "        text-align: right;\n",
       "    }\n",
       "</style>\n",
       "<table border=\"1\" class=\"dataframe\">\n",
       "  <thead>\n",
       "    <tr style=\"text-align: right;\">\n",
       "      <th></th>\n",
       "      <th>has_purchased_widget</th>\n",
       "      <th>has_purchased_trinket</th>\n",
       "      <th>has_purchased_gizmo</th>\n",
       "      <th>order_count</th>\n",
       "      <th>lifetime_revenue</th>\n",
       "      <th>ages</th>\n",
       "      <th>purchased_widget</th>\n",
       "      <th>purchased_trinket</th>\n",
       "      <th>purchased_gizmo</th>\n",
       "      <th>orders</th>\n",
       "      <th>revenue</th>\n",
       "      <th>opens</th>\n",
       "      <th>clicks</th>\n",
       "    </tr>\n",
       "  </thead>\n",
       "  <tbody>\n",
       "    <tr>\n",
       "      <th>count</th>\n",
       "      <td>4,078.00</td>\n",
       "      <td>4,078.00</td>\n",
       "      <td>4,078.00</td>\n",
       "      <td>4,078.00</td>\n",
       "      <td>4,078.00</td>\n",
       "      <td>4,078.00</td>\n",
       "      <td>4,078.00</td>\n",
       "      <td>4,078.00</td>\n",
       "      <td>4,078.00</td>\n",
       "      <td>4,078.00</td>\n",
       "      <td>4,078.00</td>\n",
       "      <td>4,078.00</td>\n",
       "      <td>4,078.00</td>\n",
       "    </tr>\n",
       "    <tr>\n",
       "      <th>mean</th>\n",
       "      <td>0.98</td>\n",
       "      <td>1.60</td>\n",
       "      <td>1.50</td>\n",
       "      <td>2.57</td>\n",
       "      <td>24,333.11</td>\n",
       "      <td>292.59</td>\n",
       "      <td>0.19</td>\n",
       "      <td>0.60</td>\n",
       "      <td>0.16</td>\n",
       "      <td>1.44</td>\n",
       "      <td>65.33</td>\n",
       "      <td>1.17</td>\n",
       "      <td>0.52</td>\n",
       "    </tr>\n",
       "    <tr>\n",
       "      <th>std</th>\n",
       "      <td>0.26</td>\n",
       "      <td>0.62</td>\n",
       "      <td>1.15</td>\n",
       "      <td>0.82</td>\n",
       "      <td>13,984.37</td>\n",
       "      <td>202.24</td>\n",
       "      <td>0.43</td>\n",
       "      <td>0.63</td>\n",
       "      <td>0.40</td>\n",
       "      <td>1.18</td>\n",
       "      <td>101.31</td>\n",
       "      <td>1.52</td>\n",
       "      <td>0.88</td>\n",
       "    </tr>\n",
       "    <tr>\n",
       "      <th>min</th>\n",
       "      <td>0.50</td>\n",
       "      <td>0.60</td>\n",
       "      <td>0.74</td>\n",
       "      <td>2.00</td>\n",
       "      <td>2,200.00</td>\n",
       "      <td>13.00</td>\n",
       "      <td>0.00</td>\n",
       "      <td>0.00</td>\n",
       "      <td>0.00</td>\n",
       "      <td>1.00</td>\n",
       "      <td>9.00</td>\n",
       "      <td>0.00</td>\n",
       "      <td>0.00</td>\n",
       "    </tr>\n",
       "    <tr>\n",
       "      <th>25%</th>\n",
       "      <td>1.12</td>\n",
       "      <td>0.60</td>\n",
       "      <td>0.74</td>\n",
       "      <td>2.00</td>\n",
       "      <td>17,400.00</td>\n",
       "      <td>113.00</td>\n",
       "      <td>0.00</td>\n",
       "      <td>0.00</td>\n",
       "      <td>0.00</td>\n",
       "      <td>1.00</td>\n",
       "      <td>15.00</td>\n",
       "      <td>0.00</td>\n",
       "      <td>0.00</td>\n",
       "    </tr>\n",
       "    <tr>\n",
       "      <th>50%</th>\n",
       "      <td>1.12</td>\n",
       "      <td>1.99</td>\n",
       "      <td>0.74</td>\n",
       "      <td>2.00</td>\n",
       "      <td>22,200.00</td>\n",
       "      <td>241.00</td>\n",
       "      <td>0.00</td>\n",
       "      <td>1.00</td>\n",
       "      <td>0.00</td>\n",
       "      <td>1.00</td>\n",
       "      <td>28.00</td>\n",
       "      <td>1.00</td>\n",
       "      <td>0.00</td>\n",
       "    </tr>\n",
       "    <tr>\n",
       "      <th>75%</th>\n",
       "      <td>1.12</td>\n",
       "      <td>1.99</td>\n",
       "      <td>3.23</td>\n",
       "      <td>3.00</td>\n",
       "      <td>32,375.00</td>\n",
       "      <td>557.00</td>\n",
       "      <td>0.00</td>\n",
       "      <td>1.00</td>\n",
       "      <td>0.00</td>\n",
       "      <td>2.00</td>\n",
       "      <td>52.00</td>\n",
       "      <td>2.00</td>\n",
       "      <td>2.00</td>\n",
       "    </tr>\n",
       "    <tr>\n",
       "      <th>max</th>\n",
       "      <td>1.12</td>\n",
       "      <td>1.99</td>\n",
       "      <td>3.23</td>\n",
       "      <td>5.00</td>\n",
       "      <td>53,001.00</td>\n",
       "      <td>557.00</td>\n",
       "      <td>6.00</td>\n",
       "      <td>7.00</td>\n",
       "      <td>3.00</td>\n",
       "      <td>46.00</td>\n",
       "      <td>1,650.00</td>\n",
       "      <td>6.00</td>\n",
       "      <td>2.00</td>\n",
       "    </tr>\n",
       "  </tbody>\n",
       "</table>\n",
       "</div>"
      ],
      "text/plain": [
       "       has_purchased_widget  has_purchased_trinket  has_purchased_gizmo  \\\n",
       "count              4,078.00               4,078.00             4,078.00   \n",
       "mean                   0.98                   1.60                 1.50   \n",
       "std                    0.26                   0.62                 1.15   \n",
       "min                    0.50                   0.60                 0.74   \n",
       "25%                    1.12                   0.60                 0.74   \n",
       "50%                    1.12                   1.99                 0.74   \n",
       "75%                    1.12                   1.99                 3.23   \n",
       "max                    1.12                   1.99                 3.23   \n",
       "\n",
       "       order_count  lifetime_revenue     ages  purchased_widget  \\\n",
       "count     4,078.00          4,078.00 4,078.00          4,078.00   \n",
       "mean          2.57         24,333.11   292.59              0.19   \n",
       "std           0.82         13,984.37   202.24              0.43   \n",
       "min           2.00          2,200.00    13.00              0.00   \n",
       "25%           2.00         17,400.00   113.00              0.00   \n",
       "50%           2.00         22,200.00   241.00              0.00   \n",
       "75%           3.00         32,375.00   557.00              0.00   \n",
       "max           5.00         53,001.00   557.00              6.00   \n",
       "\n",
       "       purchased_trinket  purchased_gizmo   orders  revenue    opens   clicks  \n",
       "count           4,078.00         4,078.00 4,078.00 4,078.00 4,078.00 4,078.00  \n",
       "mean                0.60             0.16     1.44    65.33     1.17     0.52  \n",
       "std                 0.63             0.40     1.18   101.31     1.52     0.88  \n",
       "min                 0.00             0.00     1.00     9.00     0.00     0.00  \n",
       "25%                 0.00             0.00     1.00    15.00     0.00     0.00  \n",
       "50%                 1.00             0.00     1.00    28.00     1.00     0.00  \n",
       "75%                 1.00             0.00     2.00    52.00     2.00     2.00  \n",
       "max                 7.00             3.00    46.00 1,650.00     6.00     2.00  "
      ]
     },
     "execution_count": 89,
     "metadata": {},
     "output_type": "execute_result"
    }
   ],
   "source": [
    "df[df['flag']==True].describe()"
   ]
  },
  {
   "cell_type": "code",
   "execution_count": 90,
   "metadata": {},
   "outputs": [
    {
     "data": {
      "text/html": [
       "<div>\n",
       "<style scoped>\n",
       "    .dataframe tbody tr th:only-of-type {\n",
       "        vertical-align: middle;\n",
       "    }\n",
       "\n",
       "    .dataframe tbody tr th {\n",
       "        vertical-align: top;\n",
       "    }\n",
       "\n",
       "    .dataframe thead th {\n",
       "        text-align: right;\n",
       "    }\n",
       "</style>\n",
       "<table border=\"1\" class=\"dataframe\">\n",
       "  <thead>\n",
       "    <tr style=\"text-align: right;\">\n",
       "      <th></th>\n",
       "      <th>has_purchased_widget</th>\n",
       "      <th>has_purchased_trinket</th>\n",
       "      <th>has_purchased_gizmo</th>\n",
       "      <th>order_count</th>\n",
       "      <th>lifetime_revenue</th>\n",
       "      <th>ages</th>\n",
       "      <th>purchased_widget</th>\n",
       "      <th>purchased_trinket</th>\n",
       "      <th>purchased_gizmo</th>\n",
       "      <th>orders</th>\n",
       "      <th>revenue</th>\n",
       "      <th>opens</th>\n",
       "      <th>clicks</th>\n",
       "    </tr>\n",
       "  </thead>\n",
       "  <tbody>\n",
       "    <tr>\n",
       "      <th>count</th>\n",
       "      <td>261,659.00</td>\n",
       "      <td>261,659.00</td>\n",
       "      <td>261,659.00</td>\n",
       "      <td>261,659.00</td>\n",
       "      <td>261,659.00</td>\n",
       "      <td>261,659.00</td>\n",
       "      <td>260,557.00</td>\n",
       "      <td>260,557.00</td>\n",
       "      <td>260,557.00</td>\n",
       "      <td>260,557.00</td>\n",
       "      <td>260,557.00</td>\n",
       "      <td>261,659.00</td>\n",
       "      <td>261,659.00</td>\n",
       "    </tr>\n",
       "    <tr>\n",
       "      <th>mean</th>\n",
       "      <td>1.01</td>\n",
       "      <td>1.00</td>\n",
       "      <td>1.00</td>\n",
       "      <td>1.18</td>\n",
       "      <td>17,487.37</td>\n",
       "      <td>27.13</td>\n",
       "      <td>0.00</td>\n",
       "      <td>0.00</td>\n",
       "      <td>0.00</td>\n",
       "      <td>0.00</td>\n",
       "      <td>0.00</td>\n",
       "      <td>0.34</td>\n",
       "      <td>0.05</td>\n",
       "    </tr>\n",
       "    <tr>\n",
       "      <th>std</th>\n",
       "      <td>0.24</td>\n",
       "      <td>0.63</td>\n",
       "      <td>0.76</td>\n",
       "      <td>0.49</td>\n",
       "      <td>9,268.82</td>\n",
       "      <td>100.84</td>\n",
       "      <td>0.00</td>\n",
       "      <td>0.00</td>\n",
       "      <td>0.00</td>\n",
       "      <td>0.00</td>\n",
       "      <td>0.00</td>\n",
       "      <td>0.73</td>\n",
       "      <td>0.30</td>\n",
       "    </tr>\n",
       "    <tr>\n",
       "      <th>min</th>\n",
       "      <td>0.50</td>\n",
       "      <td>0.60</td>\n",
       "      <td>0.74</td>\n",
       "      <td>0.00</td>\n",
       "      <td>0.00</td>\n",
       "      <td>0.00</td>\n",
       "      <td>0.00</td>\n",
       "      <td>0.00</td>\n",
       "      <td>0.00</td>\n",
       "      <td>0.00</td>\n",
       "      <td>0.00</td>\n",
       "      <td>0.00</td>\n",
       "      <td>0.00</td>\n",
       "    </tr>\n",
       "    <tr>\n",
       "      <th>25%</th>\n",
       "      <td>1.12</td>\n",
       "      <td>0.60</td>\n",
       "      <td>0.74</td>\n",
       "      <td>1.00</td>\n",
       "      <td>15,000.00</td>\n",
       "      <td>0.00</td>\n",
       "      <td>0.00</td>\n",
       "      <td>0.00</td>\n",
       "      <td>0.00</td>\n",
       "      <td>0.00</td>\n",
       "      <td>0.00</td>\n",
       "      <td>0.00</td>\n",
       "      <td>0.00</td>\n",
       "    </tr>\n",
       "    <tr>\n",
       "      <th>50%</th>\n",
       "      <td>1.12</td>\n",
       "      <td>0.60</td>\n",
       "      <td>0.74</td>\n",
       "      <td>1.00</td>\n",
       "      <td>17,000.00</td>\n",
       "      <td>0.00</td>\n",
       "      <td>0.00</td>\n",
       "      <td>0.00</td>\n",
       "      <td>0.00</td>\n",
       "      <td>0.00</td>\n",
       "      <td>0.00</td>\n",
       "      <td>0.00</td>\n",
       "      <td>0.00</td>\n",
       "    </tr>\n",
       "    <tr>\n",
       "      <th>75%</th>\n",
       "      <td>1.12</td>\n",
       "      <td>1.99</td>\n",
       "      <td>0.74</td>\n",
       "      <td>1.00</td>\n",
       "      <td>20,100.00</td>\n",
       "      <td>0.00</td>\n",
       "      <td>0.00</td>\n",
       "      <td>0.00</td>\n",
       "      <td>0.00</td>\n",
       "      <td>0.00</td>\n",
       "      <td>0.00</td>\n",
       "      <td>0.00</td>\n",
       "      <td>0.00</td>\n",
       "    </tr>\n",
       "    <tr>\n",
       "      <th>max</th>\n",
       "      <td>1.12</td>\n",
       "      <td>1.99</td>\n",
       "      <td>3.23</td>\n",
       "      <td>5.00</td>\n",
       "      <td>53,001.00</td>\n",
       "      <td>557.00</td>\n",
       "      <td>0.00</td>\n",
       "      <td>0.00</td>\n",
       "      <td>0.00</td>\n",
       "      <td>0.00</td>\n",
       "      <td>0.00</td>\n",
       "      <td>6.00</td>\n",
       "      <td>2.00</td>\n",
       "    </tr>\n",
       "  </tbody>\n",
       "</table>\n",
       "</div>"
      ],
      "text/plain": [
       "       has_purchased_widget  has_purchased_trinket  has_purchased_gizmo  \\\n",
       "count            261,659.00             261,659.00           261,659.00   \n",
       "mean                   1.01                   1.00                 1.00   \n",
       "std                    0.24                   0.63                 0.76   \n",
       "min                    0.50                   0.60                 0.74   \n",
       "25%                    1.12                   0.60                 0.74   \n",
       "50%                    1.12                   0.60                 0.74   \n",
       "75%                    1.12                   1.99                 0.74   \n",
       "max                    1.12                   1.99                 3.23   \n",
       "\n",
       "       order_count  lifetime_revenue       ages  purchased_widget  \\\n",
       "count   261,659.00        261,659.00 261,659.00        260,557.00   \n",
       "mean          1.18         17,487.37      27.13              0.00   \n",
       "std           0.49          9,268.82     100.84              0.00   \n",
       "min           0.00              0.00       0.00              0.00   \n",
       "25%           1.00         15,000.00       0.00              0.00   \n",
       "50%           1.00         17,000.00       0.00              0.00   \n",
       "75%           1.00         20,100.00       0.00              0.00   \n",
       "max           5.00         53,001.00     557.00              0.00   \n",
       "\n",
       "       purchased_trinket  purchased_gizmo     orders    revenue      opens  \\\n",
       "count         260,557.00       260,557.00 260,557.00 260,557.00 261,659.00   \n",
       "mean                0.00             0.00       0.00       0.00       0.34   \n",
       "std                 0.00             0.00       0.00       0.00       0.73   \n",
       "min                 0.00             0.00       0.00       0.00       0.00   \n",
       "25%                 0.00             0.00       0.00       0.00       0.00   \n",
       "50%                 0.00             0.00       0.00       0.00       0.00   \n",
       "75%                 0.00             0.00       0.00       0.00       0.00   \n",
       "max                 0.00             0.00       0.00       0.00       6.00   \n",
       "\n",
       "          clicks  \n",
       "count 261,659.00  \n",
       "mean        0.05  \n",
       "std         0.30  \n",
       "min         0.00  \n",
       "25%         0.00  \n",
       "50%         0.00  \n",
       "75%         0.00  \n",
       "max         2.00  "
      ]
     },
     "execution_count": 90,
     "metadata": {},
     "output_type": "execute_result"
    }
   ],
   "source": [
    "df[df['flag']==False].describe()"
   ]
  },
  {
   "cell_type": "code",
   "execution_count": 92,
   "metadata": {},
   "outputs": [],
   "source": [
    "# from numpy import dot\n",
    "# from numpy.linalg import norm\n",
    "\n",
    "# y=df['flag'].apply(lambda s: 1 if s else 0)\n",
    "# for col in ['flag','has_purchased_widget', 'has_purchased_trinket', 'has_purchased_gizmo', 'has_purchased']:\n",
    "#     x = df[col].apply(lambda s: 1 if s else 0)\n",
    "#     cos_sim = dot(x, y)/(norm(x)*norm(y))\n",
    "#     print([col, cos_sim])"
   ]
  },
  {
   "cell_type": "markdown",
   "metadata": {},
   "source": [
    "### ML Models"
   ]
  },
  {
   "cell_type": "code",
   "execution_count": 93,
   "metadata": {},
   "outputs": [
    {
     "name": "stderr",
     "output_type": "stream",
     "text": [
      "/Users/ling/miniconda3/lib/python3.7/importlib/_bootstrap.py:219: RuntimeWarning: numpy.ufunc size changed, may indicate binary incompatibility. Expected 192 from C header, got 216 from PyObject\n",
      "  return f(*args, **kwds)\n",
      "/Users/ling/miniconda3/lib/python3.7/importlib/_bootstrap.py:219: RuntimeWarning: numpy.ufunc size changed, may indicate binary incompatibility. Expected 192 from C header, got 216 from PyObject\n",
      "  return f(*args, **kwds)\n"
     ]
    }
   ],
   "source": [
    "from sklearn.model_selection import train_test_split"
   ]
  },
  {
   "cell_type": "code",
   "execution_count": 94,
   "metadata": {},
   "outputs": [
    {
     "data": {
      "text/html": [
       "<div>\n",
       "<style scoped>\n",
       "    .dataframe tbody tr th:only-of-type {\n",
       "        vertical-align: middle;\n",
       "    }\n",
       "\n",
       "    .dataframe tbody tr th {\n",
       "        vertical-align: top;\n",
       "    }\n",
       "\n",
       "    .dataframe thead th {\n",
       "        text-align: right;\n",
       "    }\n",
       "</style>\n",
       "<table border=\"1\" class=\"dataframe\">\n",
       "  <thead>\n",
       "    <tr style=\"text-align: right;\">\n",
       "      <th></th>\n",
       "      <th>has_purchased_widget</th>\n",
       "      <th>has_purchased_trinket</th>\n",
       "      <th>has_purchased_gizmo</th>\n",
       "      <th>order_count</th>\n",
       "      <th>lifetime_revenue</th>\n",
       "      <th>ages</th>\n",
       "      <th>purchased_widget</th>\n",
       "      <th>purchased_trinket</th>\n",
       "      <th>purchased_gizmo</th>\n",
       "      <th>orders</th>\n",
       "      <th>revenue</th>\n",
       "      <th>opens</th>\n",
       "      <th>clicks</th>\n",
       "    </tr>\n",
       "  </thead>\n",
       "  <tbody>\n",
       "    <tr>\n",
       "      <th>count</th>\n",
       "      <td>265,737.00</td>\n",
       "      <td>265,737.00</td>\n",
       "      <td>265,737.00</td>\n",
       "      <td>265,737.00</td>\n",
       "      <td>265,737.00</td>\n",
       "      <td>265,737.00</td>\n",
       "      <td>264,635.00</td>\n",
       "      <td>264,635.00</td>\n",
       "      <td>264,635.00</td>\n",
       "      <td>264,635.00</td>\n",
       "      <td>264,635.00</td>\n",
       "      <td>265,737.00</td>\n",
       "      <td>265,737.00</td>\n",
       "    </tr>\n",
       "    <tr>\n",
       "      <th>mean</th>\n",
       "      <td>1.01</td>\n",
       "      <td>1.01</td>\n",
       "      <td>1.01</td>\n",
       "      <td>1.20</td>\n",
       "      <td>17,592.43</td>\n",
       "      <td>31.20</td>\n",
       "      <td>0.00</td>\n",
       "      <td>0.01</td>\n",
       "      <td>0.00</td>\n",
       "      <td>0.02</td>\n",
       "      <td>1.01</td>\n",
       "      <td>0.35</td>\n",
       "      <td>0.05</td>\n",
       "    </tr>\n",
       "    <tr>\n",
       "      <th>std</th>\n",
       "      <td>0.24</td>\n",
       "      <td>0.63</td>\n",
       "      <td>0.77</td>\n",
       "      <td>0.53</td>\n",
       "      <td>9,396.87</td>\n",
       "      <td>108.19</td>\n",
       "      <td>0.06</td>\n",
       "      <td>0.11</td>\n",
       "      <td>0.05</td>\n",
       "      <td>0.23</td>\n",
       "      <td>14.93</td>\n",
       "      <td>0.76</td>\n",
       "      <td>0.32</td>\n",
       "    </tr>\n",
       "    <tr>\n",
       "      <th>min</th>\n",
       "      <td>0.50</td>\n",
       "      <td>0.60</td>\n",
       "      <td>0.74</td>\n",
       "      <td>0.00</td>\n",
       "      <td>0.00</td>\n",
       "      <td>0.00</td>\n",
       "      <td>0.00</td>\n",
       "      <td>0.00</td>\n",
       "      <td>0.00</td>\n",
       "      <td>0.00</td>\n",
       "      <td>0.00</td>\n",
       "      <td>0.00</td>\n",
       "      <td>0.00</td>\n",
       "    </tr>\n",
       "    <tr>\n",
       "      <th>25%</th>\n",
       "      <td>1.12</td>\n",
       "      <td>0.60</td>\n",
       "      <td>0.74</td>\n",
       "      <td>1.00</td>\n",
       "      <td>15,000.00</td>\n",
       "      <td>0.00</td>\n",
       "      <td>0.00</td>\n",
       "      <td>0.00</td>\n",
       "      <td>0.00</td>\n",
       "      <td>0.00</td>\n",
       "      <td>0.00</td>\n",
       "      <td>0.00</td>\n",
       "      <td>0.00</td>\n",
       "    </tr>\n",
       "    <tr>\n",
       "      <th>50%</th>\n",
       "      <td>1.12</td>\n",
       "      <td>0.60</td>\n",
       "      <td>0.74</td>\n",
       "      <td>1.00</td>\n",
       "      <td>17,389.00</td>\n",
       "      <td>0.00</td>\n",
       "      <td>0.00</td>\n",
       "      <td>0.00</td>\n",
       "      <td>0.00</td>\n",
       "      <td>0.00</td>\n",
       "      <td>0.00</td>\n",
       "      <td>0.00</td>\n",
       "      <td>0.00</td>\n",
       "    </tr>\n",
       "    <tr>\n",
       "      <th>75%</th>\n",
       "      <td>1.12</td>\n",
       "      <td>1.99</td>\n",
       "      <td>0.74</td>\n",
       "      <td>1.00</td>\n",
       "      <td>20,500.00</td>\n",
       "      <td>0.00</td>\n",
       "      <td>0.00</td>\n",
       "      <td>0.00</td>\n",
       "      <td>0.00</td>\n",
       "      <td>0.00</td>\n",
       "      <td>0.00</td>\n",
       "      <td>0.00</td>\n",
       "      <td>0.00</td>\n",
       "    </tr>\n",
       "    <tr>\n",
       "      <th>max</th>\n",
       "      <td>1.12</td>\n",
       "      <td>1.99</td>\n",
       "      <td>3.23</td>\n",
       "      <td>5.00</td>\n",
       "      <td>53,001.00</td>\n",
       "      <td>557.00</td>\n",
       "      <td>6.00</td>\n",
       "      <td>7.00</td>\n",
       "      <td>3.00</td>\n",
       "      <td>46.00</td>\n",
       "      <td>1,650.00</td>\n",
       "      <td>6.00</td>\n",
       "      <td>2.00</td>\n",
       "    </tr>\n",
       "  </tbody>\n",
       "</table>\n",
       "</div>"
      ],
      "text/plain": [
       "       has_purchased_widget  has_purchased_trinket  has_purchased_gizmo  \\\n",
       "count            265,737.00             265,737.00           265,737.00   \n",
       "mean                   1.01                   1.01                 1.01   \n",
       "std                    0.24                   0.63                 0.77   \n",
       "min                    0.50                   0.60                 0.74   \n",
       "25%                    1.12                   0.60                 0.74   \n",
       "50%                    1.12                   0.60                 0.74   \n",
       "75%                    1.12                   1.99                 0.74   \n",
       "max                    1.12                   1.99                 3.23   \n",
       "\n",
       "       order_count  lifetime_revenue       ages  purchased_widget  \\\n",
       "count   265,737.00        265,737.00 265,737.00        264,635.00   \n",
       "mean          1.20         17,592.43      31.20              0.00   \n",
       "std           0.53          9,396.87     108.19              0.06   \n",
       "min           0.00              0.00       0.00              0.00   \n",
       "25%           1.00         15,000.00       0.00              0.00   \n",
       "50%           1.00         17,389.00       0.00              0.00   \n",
       "75%           1.00         20,500.00       0.00              0.00   \n",
       "max           5.00         53,001.00     557.00              6.00   \n",
       "\n",
       "       purchased_trinket  purchased_gizmo     orders    revenue      opens  \\\n",
       "count         264,635.00       264,635.00 264,635.00 264,635.00 265,737.00   \n",
       "mean                0.01             0.00       0.02       1.01       0.35   \n",
       "std                 0.11             0.05       0.23      14.93       0.76   \n",
       "min                 0.00             0.00       0.00       0.00       0.00   \n",
       "25%                 0.00             0.00       0.00       0.00       0.00   \n",
       "50%                 0.00             0.00       0.00       0.00       0.00   \n",
       "75%                 0.00             0.00       0.00       0.00       0.00   \n",
       "max                 7.00             3.00      46.00   1,650.00       6.00   \n",
       "\n",
       "          clicks  \n",
       "count 265,737.00  \n",
       "mean        0.05  \n",
       "std         0.32  \n",
       "min         0.00  \n",
       "25%         0.00  \n",
       "50%         0.00  \n",
       "75%         0.00  \n",
       "max         2.00  "
      ]
     },
     "execution_count": 94,
     "metadata": {},
     "output_type": "execute_result"
    }
   ],
   "source": [
    "df.describe()"
   ]
  },
  {
   "cell_type": "code",
   "execution_count": 95,
   "metadata": {},
   "outputs": [],
   "source": [
    "train_set, test_set = train_test_split(df, test_size=0.2, random_state=42)"
   ]
  },
  {
   "cell_type": "code",
   "execution_count": 96,
   "metadata": {},
   "outputs": [
    {
     "data": {
      "text/plain": [
       "count     212589\n",
       "unique         2\n",
       "top        False\n",
       "freq      209293\n",
       "Name: flag, dtype: object"
      ]
     },
     "execution_count": 96,
     "metadata": {},
     "output_type": "execute_result"
    }
   ],
   "source": [
    "y_train = (train_set['flag']==True)\n",
    "y_train.describe()"
   ]
  },
  {
   "cell_type": "code",
   "execution_count": 97,
   "metadata": {},
   "outputs": [
    {
     "data": {
      "text/plain": [
       "count     53148\n",
       "unique        2\n",
       "top       False\n",
       "freq      52366\n",
       "Name: flag, dtype: object"
      ]
     },
     "execution_count": 97,
     "metadata": {},
     "output_type": "execute_result"
    }
   ],
   "source": [
    "y_test = (test_set['flag']==True)\n",
    "y_test.describe()"
   ]
  },
  {
   "cell_type": "code",
   "execution_count": 98,
   "metadata": {},
   "outputs": [],
   "source": [
    "del_attribs =[\n",
    " 'id',\n",
    " 'flag',\n",
    " 'purchased_widget',\n",
    " 'purchased_trinket',\n",
    " 'purchased_gizmo',\n",
    " 'orders',\n",
    " 'revenue'\n",
    "]"
   ]
  },
  {
   "cell_type": "code",
   "execution_count": 99,
   "metadata": {},
   "outputs": [
    {
     "data": {
      "text/html": [
       "<div>\n",
       "<style scoped>\n",
       "    .dataframe tbody tr th:only-of-type {\n",
       "        vertical-align: middle;\n",
       "    }\n",
       "\n",
       "    .dataframe tbody tr th {\n",
       "        vertical-align: top;\n",
       "    }\n",
       "\n",
       "    .dataframe thead th {\n",
       "        text-align: right;\n",
       "    }\n",
       "</style>\n",
       "<table border=\"1\" class=\"dataframe\">\n",
       "  <thead>\n",
       "    <tr style=\"text-align: right;\">\n",
       "      <th></th>\n",
       "      <th>has_purchased_widget</th>\n",
       "      <th>has_purchased_trinket</th>\n",
       "      <th>has_purchased_gizmo</th>\n",
       "      <th>order_count</th>\n",
       "      <th>lifetime_revenue</th>\n",
       "      <th>ages</th>\n",
       "      <th>opens</th>\n",
       "      <th>clicks</th>\n",
       "    </tr>\n",
       "  </thead>\n",
       "  <tbody>\n",
       "    <tr>\n",
       "      <th>142309</th>\n",
       "      <td>1.12</td>\n",
       "      <td>0.60</td>\n",
       "      <td>0.74</td>\n",
       "      <td>1.00</td>\n",
       "      <td>17,000.00</td>\n",
       "      <td>0</td>\n",
       "      <td>0.00</td>\n",
       "      <td>0.00</td>\n",
       "    </tr>\n",
       "    <tr>\n",
       "      <th>59897</th>\n",
       "      <td>1.12</td>\n",
       "      <td>1.99</td>\n",
       "      <td>3.23</td>\n",
       "      <td>1.00</td>\n",
       "      <td>26,400.00</td>\n",
       "      <td>0</td>\n",
       "      <td>0.00</td>\n",
       "      <td>0.00</td>\n",
       "    </tr>\n",
       "  </tbody>\n",
       "</table>\n",
       "</div>"
      ],
      "text/plain": [
       "        has_purchased_widget  has_purchased_trinket  has_purchased_gizmo  \\\n",
       "142309                  1.12                   0.60                 0.74   \n",
       "59897                   1.12                   1.99                 3.23   \n",
       "\n",
       "        order_count  lifetime_revenue  ages  opens  clicks  \n",
       "142309         1.00         17,000.00     0   0.00    0.00  \n",
       "59897          1.00         26,400.00     0   0.00    0.00  "
      ]
     },
     "execution_count": 99,
     "metadata": {},
     "output_type": "execute_result"
    }
   ],
   "source": [
    "train_set = train_set.drop(del_attribs, 1)\n",
    "train_set.head(2)"
   ]
  },
  {
   "cell_type": "code",
   "execution_count": 100,
   "metadata": {},
   "outputs": [
    {
     "data": {
      "text/html": [
       "<div>\n",
       "<style scoped>\n",
       "    .dataframe tbody tr th:only-of-type {\n",
       "        vertical-align: middle;\n",
       "    }\n",
       "\n",
       "    .dataframe tbody tr th {\n",
       "        vertical-align: top;\n",
       "    }\n",
       "\n",
       "    .dataframe thead th {\n",
       "        text-align: right;\n",
       "    }\n",
       "</style>\n",
       "<table border=\"1\" class=\"dataframe\">\n",
       "  <thead>\n",
       "    <tr style=\"text-align: right;\">\n",
       "      <th></th>\n",
       "      <th>has_purchased_widget</th>\n",
       "      <th>has_purchased_trinket</th>\n",
       "      <th>has_purchased_gizmo</th>\n",
       "      <th>order_count</th>\n",
       "      <th>lifetime_revenue</th>\n",
       "      <th>ages</th>\n",
       "      <th>opens</th>\n",
       "      <th>clicks</th>\n",
       "    </tr>\n",
       "  </thead>\n",
       "  <tbody>\n",
       "    <tr>\n",
       "      <th>221806</th>\n",
       "      <td>1.12</td>\n",
       "      <td>0.60</td>\n",
       "      <td>0.74</td>\n",
       "      <td>1.00</td>\n",
       "      <td>22,000.00</td>\n",
       "      <td>0</td>\n",
       "      <td>5.00</td>\n",
       "      <td>2.00</td>\n",
       "    </tr>\n",
       "    <tr>\n",
       "      <th>184534</th>\n",
       "      <td>0.50</td>\n",
       "      <td>0.60</td>\n",
       "      <td>0.74</td>\n",
       "      <td>1.00</td>\n",
       "      <td>4,500.00</td>\n",
       "      <td>0</td>\n",
       "      <td>0.00</td>\n",
       "      <td>0.00</td>\n",
       "    </tr>\n",
       "  </tbody>\n",
       "</table>\n",
       "</div>"
      ],
      "text/plain": [
       "        has_purchased_widget  has_purchased_trinket  has_purchased_gizmo  \\\n",
       "221806                  1.12                   0.60                 0.74   \n",
       "184534                  0.50                   0.60                 0.74   \n",
       "\n",
       "        order_count  lifetime_revenue  ages  opens  clicks  \n",
       "221806         1.00         22,000.00     0   5.00    2.00  \n",
       "184534         1.00          4,500.00     0   0.00    0.00  "
      ]
     },
     "execution_count": 100,
     "metadata": {},
     "output_type": "execute_result"
    }
   ],
   "source": [
    "test_set = test_set.drop(del_attribs, 1)\n",
    "test_set.head(2)"
   ]
  },
  {
   "cell_type": "code",
   "execution_count": 101,
   "metadata": {},
   "outputs": [],
   "source": [
    "from sklearn.model_selection import cross_val_predict\n",
    "from sklearn.metrics import precision_score, recall_score, f1_score, roc_auc_score\n",
    "from sklearn.metrics import roc_curve\n",
    "\n",
    "import matplotlib.pyplot as plt"
   ]
  },
  {
   "cell_type": "code",
   "execution_count": 102,
   "metadata": {},
   "outputs": [],
   "source": [
    "def display_scores(obs, pred):\n",
    "    precision=precision_score(obs, pred)\n",
    "    recall=recall_score(obs, pred)\n",
    "    f1=f1_score(obs, pred)\n",
    "    print(\"precision\", precision)\n",
    "    print(\"recall\", recall)\n",
    "    print(\"f1\", f1)"
   ]
  },
  {
   "cell_type": "code",
   "execution_count": 103,
   "metadata": {},
   "outputs": [],
   "source": [
    "def plot_roc_curve(fpr, tpr, label=None):\n",
    "    plt.plot(fpr, tpr, linewidth=2, label=label)\n",
    "    plt.plot([0, 1], [0, 1], 'k--')\n",
    "    plt.axis([0, 1, 0, 1])\n",
    "    plt.xlabel('False Positive Rate')\n",
    "    plt.ylabel('True Positive Rate')"
   ]
  },
  {
   "cell_type": "markdown",
   "metadata": {},
   "source": [
    "### Decision Tree"
   ]
  },
  {
   "cell_type": "code",
   "execution_count": 104,
   "metadata": {},
   "outputs": [],
   "source": [
    "from sklearn.tree import DecisionTreeClassifier"
   ]
  },
  {
   "cell_type": "code",
   "execution_count": 105,
   "metadata": {},
   "outputs": [
    {
     "data": {
      "text/plain": [
       "DecisionTreeClassifier(class_weight=None, criterion='gini', max_depth=4,\n",
       "            max_features=None, max_leaf_nodes=None,\n",
       "            min_impurity_decrease=0.0, min_impurity_split=None,\n",
       "            min_samples_leaf=1, min_samples_split=2,\n",
       "            min_weight_fraction_leaf=0.0, presort=False, random_state=None,\n",
       "            splitter='best')"
      ]
     },
     "execution_count": 105,
     "metadata": {},
     "output_type": "execute_result"
    }
   ],
   "source": [
    "# tree_clf = DecisionTreeClassifier()\n",
    "tree_clf = DecisionTreeClassifier(max_depth=4)\n",
    "tree_clf.fit(train_set, y_train)"
   ]
  },
  {
   "cell_type": "code",
   "execution_count": 106,
   "metadata": {},
   "outputs": [],
   "source": [
    "y_train_pred = cross_val_predict(tree_clf, train_set, y_train, cv=10)\n",
    "y_test_pred = cross_val_predict(tree_clf, test_set, y_test, cv=10)"
   ]
  },
  {
   "cell_type": "code",
   "execution_count": 107,
   "metadata": {},
   "outputs": [],
   "source": [
    "from sklearn.tree import export_graphviz"
   ]
  },
  {
   "cell_type": "code",
   "execution_count": 108,
   "metadata": {},
   "outputs": [],
   "source": [
    "attrib=list(train_set)\n",
    "export_graphviz(\n",
    "        tree_clf,\n",
    "        out_file=\"tree_clf1.dot\",\n",
    "        feature_names=attrib,\n",
    "        rounded=True,\n",
    "        filled=True\n",
    "    )"
   ]
  },
  {
   "cell_type": "code",
   "execution_count": 109,
   "metadata": {},
   "outputs": [],
   "source": [
    "!dot -Tpng tree_clf1.dot -o tree_clf1.png"
   ]
  },
  {
   "cell_type": "code",
   "execution_count": 110,
   "metadata": {},
   "outputs": [
    {
     "name": "stdout",
     "output_type": "stream",
     "text": [
      "precision 0.5764925373134329\n",
      "recall 0.09375\n",
      "f1 0.16127348643006262\n"
     ]
    }
   ],
   "source": [
    "display_scores(y_train, y_train_pred)"
   ]
  },
  {
   "cell_type": "code",
   "execution_count": 111,
   "metadata": {},
   "outputs": [
    {
     "name": "stdout",
     "output_type": "stream",
     "text": [
      "precision 0.5813953488372093\n",
      "recall 0.0959079283887468\n",
      "f1 0.1646542261251372\n"
     ]
    }
   ],
   "source": [
    "display_scores(y_test, y_test_pred)"
   ]
  },
  {
   "cell_type": "code",
   "execution_count": 112,
   "metadata": {},
   "outputs": [
    {
     "data": {
      "text/plain": [
       "0.546332698059658"
      ]
     },
     "execution_count": 112,
     "metadata": {},
     "output_type": "execute_result"
    }
   ],
   "source": [
    "roc_auc_score(y_train, y_train_pred)"
   ]
  },
  {
   "cell_type": "code",
   "execution_count": 113,
   "metadata": {},
   "outputs": [
    {
     "data": {
      "text/plain": [
       "0.5474383624680624"
      ]
     },
     "execution_count": 113,
     "metadata": {},
     "output_type": "execute_result"
    }
   ],
   "source": [
    "y_test=0+np.array(y_test)\n",
    "y_test_pred=0+np.array(y_test_pred)\n",
    "roc_auc_score(y_test, y_test_pred)"
   ]
  },
  {
   "cell_type": "markdown",
   "metadata": {},
   "source": [
    "### Random Forest"
   ]
  },
  {
   "cell_type": "code",
   "execution_count": 114,
   "metadata": {},
   "outputs": [
    {
     "name": "stderr",
     "output_type": "stream",
     "text": [
      "/Users/ling/miniconda3/lib/python3.7/importlib/_bootstrap.py:219: RuntimeWarning: numpy.ufunc size changed, may indicate binary incompatibility. Expected 192 from C header, got 216 from PyObject\n",
      "  return f(*args, **kwds)\n"
     ]
    }
   ],
   "source": [
    "from sklearn.ensemble import RandomForestClassifier"
   ]
  },
  {
   "cell_type": "code",
   "execution_count": 115,
   "metadata": {},
   "outputs": [
    {
     "data": {
      "text/plain": [
       "RandomForestClassifier(bootstrap=True, class_weight=None, criterion='gini',\n",
       "            max_depth=5, max_features=None, max_leaf_nodes=None,\n",
       "            min_impurity_decrease=0.0, min_impurity_split=None,\n",
       "            min_samples_leaf=1, min_samples_split=2,\n",
       "            min_weight_fraction_leaf=0.0, n_estimators=100, n_jobs=None,\n",
       "            oob_score=False, random_state=None, verbose=0,\n",
       "            warm_start=False)"
      ]
     },
     "execution_count": 115,
     "metadata": {},
     "output_type": "execute_result"
    }
   ],
   "source": [
    "forest_clf = RandomForestClassifier(n_estimators=100, max_depth= 5, max_features = None)\n",
    "forest_clf.fit(train_set, y_train)"
   ]
  },
  {
   "cell_type": "code",
   "execution_count": 116,
   "metadata": {},
   "outputs": [],
   "source": [
    "y_train_pred = cross_val_predict(forest_clf, train_set, y_train, cv=10)\n",
    "y_test_pred = cross_val_predict(forest_clf, test_set, y_test, cv=10)"
   ]
  },
  {
   "cell_type": "code",
   "execution_count": 117,
   "metadata": {},
   "outputs": [
    {
     "name": "stdout",
     "output_type": "stream",
     "text": [
      "precision 0.5563025210084034\n",
      "recall 0.1004247572815534\n",
      "f1 0.17013621177075303\n"
     ]
    }
   ],
   "source": [
    "display_scores(y_train, y_train_pred)"
   ]
  },
  {
   "cell_type": "code",
   "execution_count": 118,
   "metadata": {},
   "outputs": [
    {
     "name": "stdout",
     "output_type": "stream",
     "text": [
      "precision 0.5377358490566038\n",
      "recall 0.07289002557544758\n",
      "f1 0.1283783783783784\n"
     ]
    }
   ],
   "source": [
    "display_scores(y_test, y_test_pred)"
   ]
  },
  {
   "cell_type": "code",
   "execution_count": 119,
   "metadata": {},
   "outputs": [
    {
     "data": {
      "text/plain": [
       "0.5495816838731543"
      ]
     },
     "execution_count": 119,
     "metadata": {},
     "output_type": "execute_result"
    }
   ],
   "source": [
    "roc_auc_score(y_train, y_train_pred)"
   ]
  },
  {
   "cell_type": "code",
   "execution_count": 120,
   "metadata": {},
   "outputs": [
    {
     "data": {
      "text/plain": [
       "0.5359771519619972"
      ]
     },
     "execution_count": 120,
     "metadata": {},
     "output_type": "execute_result"
    }
   ],
   "source": [
    "y_test=0+np.array(y_test)\n",
    "y_test_pred=0+np.array(y_test_pred)\n",
    "roc_auc_score(y_test, y_test_pred)"
   ]
  },
  {
   "cell_type": "code",
   "execution_count": 121,
   "metadata": {},
   "outputs": [
    {
     "data": {
      "text/html": [
       "<div>\n",
       "<style scoped>\n",
       "    .dataframe tbody tr th:only-of-type {\n",
       "        vertical-align: middle;\n",
       "    }\n",
       "\n",
       "    .dataframe tbody tr th {\n",
       "        vertical-align: top;\n",
       "    }\n",
       "\n",
       "    .dataframe thead th {\n",
       "        text-align: right;\n",
       "    }\n",
       "</style>\n",
       "<table border=\"1\" class=\"dataframe\">\n",
       "  <thead>\n",
       "    <tr style=\"text-align: right;\">\n",
       "      <th></th>\n",
       "      <th>feature</th>\n",
       "      <th>coef</th>\n",
       "    </tr>\n",
       "  </thead>\n",
       "  <tbody>\n",
       "    <tr>\n",
       "      <th>5</th>\n",
       "      <td>ages</td>\n",
       "      <td>0.55</td>\n",
       "    </tr>\n",
       "    <tr>\n",
       "      <th>7</th>\n",
       "      <td>clicks</td>\n",
       "      <td>0.33</td>\n",
       "    </tr>\n",
       "    <tr>\n",
       "      <th>3</th>\n",
       "      <td>order_count</td>\n",
       "      <td>0.04</td>\n",
       "    </tr>\n",
       "    <tr>\n",
       "      <th>6</th>\n",
       "      <td>opens</td>\n",
       "      <td>0.04</td>\n",
       "    </tr>\n",
       "    <tr>\n",
       "      <th>4</th>\n",
       "      <td>lifetime_revenue</td>\n",
       "      <td>0.03</td>\n",
       "    </tr>\n",
       "    <tr>\n",
       "      <th>1</th>\n",
       "      <td>has_purchased_trinket</td>\n",
       "      <td>0.00</td>\n",
       "    </tr>\n",
       "    <tr>\n",
       "      <th>2</th>\n",
       "      <td>has_purchased_gizmo</td>\n",
       "      <td>0.00</td>\n",
       "    </tr>\n",
       "    <tr>\n",
       "      <th>0</th>\n",
       "      <td>has_purchased_widget</td>\n",
       "      <td>0.00</td>\n",
       "    </tr>\n",
       "  </tbody>\n",
       "</table>\n",
       "</div>"
      ],
      "text/plain": [
       "                 feature  coef\n",
       "5                   ages  0.55\n",
       "7                 clicks  0.33\n",
       "3            order_count  0.04\n",
       "6                  opens  0.04\n",
       "4       lifetime_revenue  0.03\n",
       "1  has_purchased_trinket  0.00\n",
       "2    has_purchased_gizmo  0.00\n",
       "0   has_purchased_widget  0.00"
      ]
     },
     "execution_count": 121,
     "metadata": {},
     "output_type": "execute_result"
    }
   ],
   "source": [
    "attrib=list(train_set)\n",
    "pd.DataFrame({'feature':attrib,'coef':forest_clf.feature_importances_}).sort_values(by='coef', ascending=False)"
   ]
  },
  {
   "cell_type": "markdown",
   "metadata": {},
   "source": [
    "### LightGBM"
   ]
  },
  {
   "cell_type": "code",
   "execution_count": 122,
   "metadata": {},
   "outputs": [
    {
     "name": "stderr",
     "output_type": "stream",
     "text": [
      "/Users/ling/miniconda3/lib/python3.7/site-packages/lightgbm/__init__.py:30: ResourceWarning: unclosed file <_io.TextIOWrapper name='/Users/ling/miniconda3/lib/python3.7/site-packages/lightgbm/VERSION.txt' mode='r' encoding='UTF-8'>\n",
      "  __version__ = open(os.path.join(dir_path, 'VERSION.txt')).read().strip()\n",
      "ResourceWarning: Enable tracemalloc to get the object allocation traceback\n",
      "/Users/ling/miniconda3/lib/python3.7/site-packages/lightgbm/__init__.py:46: UserWarning: Starting from version 2.2.1, the library file in distribution wheels for macOS is built by the Apple Clang (Xcode_8.3.1) compiler.\n",
      "This means that in case of installing LightGBM from PyPI via the ``pip install lightgbm`` command, you don't need to install the gcc compiler anymore.\n",
      "Instead of that, you need to install the OpenMP library, which is required for running LightGBM on the system with the Apple Clang compiler.\n",
      "You can install the OpenMP library by the following command: ``brew install libomp``.\n",
      "  \"You can install the OpenMP library by the following command: ``brew install libomp``.\", UserWarning)\n"
     ]
    }
   ],
   "source": [
    "import lightgbm as lgb"
   ]
  },
  {
   "cell_type": "code",
   "execution_count": 123,
   "metadata": {},
   "outputs": [],
   "source": [
    "#Select Hyper-Parameters\n",
    "params = {'metric' : 'binary_logloss',\n",
    "          'objective':'binary',\n",
    "          'boosting_type' : 'gbdt',\n",
    "          'colsample_bytree' : 0.9234,\n",
    "          'num_leaves' : 10,\n",
    "          'max_depth' : -1,\n",
    "          'n_estimators' : 200,\n",
    "          'min_child_samples': 399, \n",
    "          'min_child_weight': 0.1,\n",
    "          'reg_alpha': 2,\n",
    "          'reg_lambda': 5,\n",
    "          'subsample': 0.855,\n",
    "          'verbose' : -1,\n",
    "          'num_threads' : 4\n",
    "}"
   ]
  },
  {
   "cell_type": "code",
   "execution_count": 124,
   "metadata": {},
   "outputs": [
    {
     "name": "stderr",
     "output_type": "stream",
     "text": [
      "/Users/ling/miniconda3/lib/python3.7/site-packages/lightgbm/engine.py:116: UserWarning: Found `n_estimators` in params. Will use it instead of argument\n",
      "  warnings.warn(\"Found `{}` in params. Will use it instead of argument\".format(alias))\n"
     ]
    },
    {
     "name": "stdout",
     "output_type": "stream",
     "text": [
      "Training until validation scores don't improve for 30 rounds.\n",
      "[10]\tvalid_0's binary_logloss: 0.0464782\n",
      "[20]\tvalid_0's binary_logloss: 0.0425271\n",
      "[30]\tvalid_0's binary_logloss: 0.041268\n",
      "[40]\tvalid_0's binary_logloss: 0.0408151\n",
      "[50]\tvalid_0's binary_logloss: 0.0406197\n",
      "[60]\tvalid_0's binary_logloss: 0.0405406\n",
      "[70]\tvalid_0's binary_logloss: 0.0405021\n",
      "[80]\tvalid_0's binary_logloss: 0.0404788\n",
      "[90]\tvalid_0's binary_logloss: 0.0404428\n",
      "[100]\tvalid_0's binary_logloss: 0.0403939\n",
      "[110]\tvalid_0's binary_logloss: 0.0403968\n",
      "[120]\tvalid_0's binary_logloss: 0.0403446\n",
      "[130]\tvalid_0's binary_logloss: 0.0403543\n",
      "[140]\tvalid_0's binary_logloss: 0.0403417\n",
      "[150]\tvalid_0's binary_logloss: 0.0403017\n",
      "[160]\tvalid_0's binary_logloss: 0.0402879\n",
      "[170]\tvalid_0's binary_logloss: 0.0402807\n",
      "[180]\tvalid_0's binary_logloss: 0.0402386\n",
      "[190]\tvalid_0's binary_logloss: 0.0402214\n",
      "[200]\tvalid_0's binary_logloss: 0.0402108\n",
      "Did not meet early stopping. Best iteration is:\n",
      "[199]\tvalid_0's binary_logloss: 0.0402074\n"
     ]
    }
   ],
   "source": [
    "lgb_train = lgb.Dataset(train_set, y_train)\n",
    "lgb_eval = lgb.Dataset(test_set, y_test, reference=lgb_train)\n",
    "\n",
    "lgbm = lgb.train(params,\n",
    "                 lgb_train,\n",
    "                 100,\n",
    "                 lgb_eval,\n",
    "                 early_stopping_rounds= 30,\n",
    "                 verbose_eval= 10\n",
    "                 )"
   ]
  },
  {
   "cell_type": "code",
   "execution_count": 125,
   "metadata": {},
   "outputs": [
    {
     "data": {
      "text/html": [
       "<div>\n",
       "<style scoped>\n",
       "    .dataframe tbody tr th:only-of-type {\n",
       "        vertical-align: middle;\n",
       "    }\n",
       "\n",
       "    .dataframe tbody tr th {\n",
       "        vertical-align: top;\n",
       "    }\n",
       "\n",
       "    .dataframe thead th {\n",
       "        text-align: right;\n",
       "    }\n",
       "</style>\n",
       "<table border=\"1\" class=\"dataframe\">\n",
       "  <thead>\n",
       "    <tr style=\"text-align: right;\">\n",
       "      <th></th>\n",
       "      <th>feature</th>\n",
       "      <th>importances</th>\n",
       "    </tr>\n",
       "  </thead>\n",
       "  <tbody>\n",
       "    <tr>\n",
       "      <th>4</th>\n",
       "      <td>lifetime_revenue</td>\n",
       "      <td>828</td>\n",
       "    </tr>\n",
       "    <tr>\n",
       "      <th>5</th>\n",
       "      <td>ages</td>\n",
       "      <td>577</td>\n",
       "    </tr>\n",
       "    <tr>\n",
       "      <th>6</th>\n",
       "      <td>opens</td>\n",
       "      <td>184</td>\n",
       "    </tr>\n",
       "    <tr>\n",
       "      <th>3</th>\n",
       "      <td>order_count</td>\n",
       "      <td>118</td>\n",
       "    </tr>\n",
       "    <tr>\n",
       "      <th>7</th>\n",
       "      <td>clicks</td>\n",
       "      <td>32</td>\n",
       "    </tr>\n",
       "    <tr>\n",
       "      <th>1</th>\n",
       "      <td>has_purchased_trinket</td>\n",
       "      <td>29</td>\n",
       "    </tr>\n",
       "    <tr>\n",
       "      <th>0</th>\n",
       "      <td>has_purchased_widget</td>\n",
       "      <td>14</td>\n",
       "    </tr>\n",
       "    <tr>\n",
       "      <th>2</th>\n",
       "      <td>has_purchased_gizmo</td>\n",
       "      <td>9</td>\n",
       "    </tr>\n",
       "  </tbody>\n",
       "</table>\n",
       "</div>"
      ],
      "text/plain": [
       "                 feature  importances\n",
       "4       lifetime_revenue          828\n",
       "5                   ages          577\n",
       "6                  opens          184\n",
       "3            order_count          118\n",
       "7                 clicks           32\n",
       "1  has_purchased_trinket           29\n",
       "0   has_purchased_widget           14\n",
       "2    has_purchased_gizmo            9"
      ]
     },
     "execution_count": 125,
     "metadata": {},
     "output_type": "execute_result"
    }
   ],
   "source": [
    "perf = pd.DataFrame({'feature': lgbm.feature_name(),\n",
    "                     'importances':list(lgbm.feature_importance())}).sort_values(by='importances', ascending=False)\n",
    "perf"
   ]
  },
  {
   "cell_type": "code",
   "execution_count": 126,
   "metadata": {},
   "outputs": [
    {
     "data": {
      "text/plain": [
       "<lightgbm.basic.Booster at 0x1a1e7efc88>"
      ]
     },
     "execution_count": 126,
     "metadata": {},
     "output_type": "execute_result"
    }
   ],
   "source": [
    "lgbm.save_model('model.txt')"
   ]
  },
  {
   "cell_type": "code",
   "execution_count": 159,
   "metadata": {},
   "outputs": [],
   "source": [
    "gbm_clf =  lgb.LGBMClassifier(boosting_type='gbdt', objective = 'binary', n_estimators = 100, max_depth=4, learning_rate=0.1,  num_leaves = 10)"
   ]
  },
  {
   "cell_type": "code",
   "execution_count": 160,
   "metadata": {},
   "outputs": [],
   "source": [
    "y_train_pred = cross_val_predict(gbm_clf, train_set, y_train, cv=10)\n",
    "y_test_pred = cross_val_predict(gbm_clf, test_set, y_test, cv=10)"
   ]
  },
  {
   "cell_type": "code",
   "execution_count": 161,
   "metadata": {},
   "outputs": [
    {
     "name": "stdout",
     "output_type": "stream",
     "text": [
      "precision 0.5680473372781065\n",
      "recall 0.11650485436893204\n",
      "f1 0.1933534743202417\n"
     ]
    }
   ],
   "source": [
    "display_scores(y_train, y_train_pred)"
   ]
  },
  {
   "cell_type": "code",
   "execution_count": 162,
   "metadata": {},
   "outputs": [
    {
     "name": "stdout",
     "output_type": "stream",
     "text": [
      "precision 0.5238095238095238\n",
      "recall 0.11253196930946291\n",
      "f1 0.18526315789473682\n"
     ]
    }
   ],
   "source": [
    "display_scores(y_test, y_test_pred)"
   ]
  },
  {
   "cell_type": "code",
   "execution_count": 163,
   "metadata": {},
   "outputs": [
    {
     "data": {
      "text/plain": [
       "0.5575548405475502"
      ]
     },
     "execution_count": 163,
     "metadata": {},
     "output_type": "execute_result"
    }
   ],
   "source": [
    "y_train=0+np.array(y_train)\n",
    "y_train_pred=[0 if x<=0.5 else 1 for x in y_train_pred]\n",
    "roc_auc_score(y_train, y_train_pred)"
   ]
  },
  {
   "cell_type": "code",
   "execution_count": 164,
   "metadata": {},
   "outputs": [
    {
     "data": {
      "text/plain": [
       "0.5555021302453819"
      ]
     },
     "execution_count": 164,
     "metadata": {},
     "output_type": "execute_result"
    }
   ],
   "source": [
    "y_test=0+np.array(y_test)\n",
    "y_test_pred=0+np.array(y_test_pred)\n",
    "roc_auc_score(y_test, y_test_pred)"
   ]
  },
  {
   "cell_type": "markdown",
   "metadata": {},
   "source": [
    "### Profiling Consumers by Bucket"
   ]
  },
  {
   "cell_type": "code",
   "execution_count": 133,
   "metadata": {},
   "outputs": [],
   "source": [
    "# Predict score data set\n",
    "gbm_clf = lgb.LGBMClassifier(boosting_type='gbdt', objective = 'binary', n_estimators = 100, max_depth=5, learning_rate=0.1,  num_leaves = 10)\n",
    "lgbm_clf = gbm_clf.fit(train_set, y_train)"
   ]
  },
  {
   "cell_type": "code",
   "execution_count": 134,
   "metadata": {},
   "outputs": [],
   "source": [
    "y_hat = lgbm_clf.predict(df[train_set.columns])\n",
    "y_hat_1 =  pd.DataFrame(lgbm_clf.predict_proba(df[train_set.columns]))[1]\n",
    "df['y_hat'] = y_hat\n",
    "df['y_hat_prob'] = [y if y>0 else 0 for y in y_hat_1]"
   ]
  },
  {
   "cell_type": "code",
   "execution_count": 135,
   "metadata": {},
   "outputs": [],
   "source": [
    "df['y_hat_bucket']=pd.cut(df['y_hat_prob'], 10)"
   ]
  },
  {
   "cell_type": "code",
   "execution_count": 136,
   "metadata": {},
   "outputs": [
    {
     "data": {
      "text/html": [
       "<div>\n",
       "<style scoped>\n",
       "    .dataframe tbody tr th:only-of-type {\n",
       "        vertical-align: middle;\n",
       "    }\n",
       "\n",
       "    .dataframe tbody tr th {\n",
       "        vertical-align: top;\n",
       "    }\n",
       "\n",
       "    .dataframe thead th {\n",
       "        text-align: right;\n",
       "    }\n",
       "</style>\n",
       "<table border=\"1\" class=\"dataframe\">\n",
       "  <thead>\n",
       "    <tr style=\"text-align: right;\">\n",
       "      <th></th>\n",
       "      <th>id</th>\n",
       "      <th>has_purchased_widget</th>\n",
       "      <th>has_purchased_trinket</th>\n",
       "      <th>has_purchased_gizmo</th>\n",
       "      <th>order_count</th>\n",
       "      <th>lifetime_revenue</th>\n",
       "      <th>ages</th>\n",
       "      <th>purchased_widget</th>\n",
       "      <th>purchased_trinket</th>\n",
       "      <th>purchased_gizmo</th>\n",
       "      <th>orders</th>\n",
       "      <th>revenue</th>\n",
       "      <th>opens</th>\n",
       "      <th>clicks</th>\n",
       "      <th>flag</th>\n",
       "      <th>y_hat</th>\n",
       "      <th>y_hat_prob</th>\n",
       "      <th>y_hat_bucket</th>\n",
       "    </tr>\n",
       "  </thead>\n",
       "  <tbody>\n",
       "    <tr>\n",
       "      <th>0</th>\n",
       "      <td>0d170fdf-fc33-43be-9a62-c9b644525cf5</td>\n",
       "      <td>1.12</td>\n",
       "      <td>1.99</td>\n",
       "      <td>3.23</td>\n",
       "      <td>4.00</td>\n",
       "      <td>53,001.00</td>\n",
       "      <td>238</td>\n",
       "      <td>3.00</td>\n",
       "      <td>2.00</td>\n",
       "      <td>2.00</td>\n",
       "      <td>12.00</td>\n",
       "      <td>774.00</td>\n",
       "      <td>5.00</td>\n",
       "      <td>2.00</td>\n",
       "      <td>True</td>\n",
       "      <td>1</td>\n",
       "      <td>0.59</td>\n",
       "      <td>(0.529, 0.617]</td>\n",
       "    </tr>\n",
       "    <tr>\n",
       "      <th>1</th>\n",
       "      <td>1b44fece-d7dd-44f5-9ee9-a4ffe6999c70</td>\n",
       "      <td>1.12</td>\n",
       "      <td>0.60</td>\n",
       "      <td>0.74</td>\n",
       "      <td>2.00</td>\n",
       "      <td>36,000.00</td>\n",
       "      <td>43</td>\n",
       "      <td>0.00</td>\n",
       "      <td>0.00</td>\n",
       "      <td>0.00</td>\n",
       "      <td>0.00</td>\n",
       "      <td>0.00</td>\n",
       "      <td>1.00</td>\n",
       "      <td>0.00</td>\n",
       "      <td>False</td>\n",
       "      <td>0</td>\n",
       "      <td>0.05</td>\n",
       "      <td>(-0.00088, 0.0881]</td>\n",
       "    </tr>\n",
       "  </tbody>\n",
       "</table>\n",
       "</div>"
      ],
      "text/plain": [
       "                                     id  has_purchased_widget  \\\n",
       "0  0d170fdf-fc33-43be-9a62-c9b644525cf5                  1.12   \n",
       "1  1b44fece-d7dd-44f5-9ee9-a4ffe6999c70                  1.12   \n",
       "\n",
       "   has_purchased_trinket  has_purchased_gizmo  order_count  lifetime_revenue  \\\n",
       "0                   1.99                 3.23         4.00         53,001.00   \n",
       "1                   0.60                 0.74         2.00         36,000.00   \n",
       "\n",
       "   ages  purchased_widget  purchased_trinket  purchased_gizmo  orders  \\\n",
       "0   238              3.00               2.00             2.00   12.00   \n",
       "1    43              0.00               0.00             0.00    0.00   \n",
       "\n",
       "   revenue  opens  clicks   flag  y_hat  y_hat_prob        y_hat_bucket  \n",
       "0   774.00   5.00    2.00   True      1        0.59      (0.529, 0.617]  \n",
       "1     0.00   1.00    0.00  False      0        0.05  (-0.00088, 0.0881]  "
      ]
     },
     "execution_count": 136,
     "metadata": {},
     "output_type": "execute_result"
    }
   ],
   "source": [
    "df.head(2)"
   ]
  },
  {
   "cell_type": "code",
   "execution_count": 137,
   "metadata": {},
   "outputs": [
    {
     "data": {
      "text/plain": [
       "y_hat_bucket\n",
       "(-0.00088, 0.0881]    247740\n",
       "(0.0881, 0.176]        13035\n",
       "(0.176, 0.264]          2099\n",
       "(0.264, 0.352]           765\n",
       "(0.352, 0.441]          1011\n",
       "(0.441, 0.529]           450\n",
       "(0.529, 0.617]           279\n",
       "(0.617, 0.705]           166\n",
       "(0.705, 0.793]           138\n",
       "(0.793, 0.881]            54\n",
       "dtype: int64"
      ]
     },
     "execution_count": 137,
     "metadata": {},
     "output_type": "execute_result"
    }
   ],
   "source": [
    "df.groupby(['y_hat_bucket']).size()"
   ]
  },
  {
   "cell_type": "code",
   "execution_count": 138,
   "metadata": {},
   "outputs": [
    {
     "data": {
      "text/html": [
       "<div>\n",
       "<style scoped>\n",
       "    .dataframe tbody tr th:only-of-type {\n",
       "        vertical-align: middle;\n",
       "    }\n",
       "\n",
       "    .dataframe tbody tr th {\n",
       "        vertical-align: top;\n",
       "    }\n",
       "\n",
       "    .dataframe thead th {\n",
       "        text-align: right;\n",
       "    }\n",
       "</style>\n",
       "<table border=\"1\" class=\"dataframe\">\n",
       "  <thead>\n",
       "    <tr style=\"text-align: right;\">\n",
       "      <th></th>\n",
       "      <th>0</th>\n",
       "      <th>flag</th>\n",
       "      <th>y_hat_prob</th>\n",
       "      <th>has_purchased_widget</th>\n",
       "      <th>has_purchased_trinket</th>\n",
       "      <th>has_purchased_gizmo</th>\n",
       "      <th>order_count</th>\n",
       "      <th>lifetime_revenue</th>\n",
       "      <th>ages</th>\n",
       "      <th>opens</th>\n",
       "      <th>clicks</th>\n",
       "    </tr>\n",
       "    <tr>\n",
       "      <th>y_hat_bucket</th>\n",
       "      <th></th>\n",
       "      <th></th>\n",
       "      <th></th>\n",
       "      <th></th>\n",
       "      <th></th>\n",
       "      <th></th>\n",
       "      <th></th>\n",
       "      <th></th>\n",
       "      <th></th>\n",
       "      <th></th>\n",
       "      <th></th>\n",
       "    </tr>\n",
       "  </thead>\n",
       "  <tbody>\n",
       "    <tr>\n",
       "      <th>(-0.00088, 0.0881]</th>\n",
       "      <td>247740</td>\n",
       "      <td>0.00</td>\n",
       "      <td>0.00</td>\n",
       "      <td>1.01</td>\n",
       "      <td>0.96</td>\n",
       "      <td>0.97</td>\n",
       "      <td>1.10</td>\n",
       "      <td>17,077.17</td>\n",
       "      <td>8.99</td>\n",
       "      <td>0.31</td>\n",
       "      <td>0.04</td>\n",
       "    </tr>\n",
       "    <tr>\n",
       "      <th>(0.0881, 0.176]</th>\n",
       "      <td>13035</td>\n",
       "      <td>0.12</td>\n",
       "      <td>0.12</td>\n",
       "      <td>1.00</td>\n",
       "      <td>1.59</td>\n",
       "      <td>1.45</td>\n",
       "      <td>2.43</td>\n",
       "      <td>24,690.08</td>\n",
       "      <td>343.12</td>\n",
       "      <td>0.49</td>\n",
       "      <td>0.01</td>\n",
       "    </tr>\n",
       "    <tr>\n",
       "      <th>(0.176, 0.264]</th>\n",
       "      <td>2099</td>\n",
       "      <td>0.22</td>\n",
       "      <td>0.21</td>\n",
       "      <td>0.94</td>\n",
       "      <td>1.76</td>\n",
       "      <td>1.84</td>\n",
       "      <td>3.42</td>\n",
       "      <td>28,150.97</td>\n",
       "      <td>359.53</td>\n",
       "      <td>1.22</td>\n",
       "      <td>0.05</td>\n",
       "    </tr>\n",
       "    <tr>\n",
       "      <th>(0.264, 0.352]</th>\n",
       "      <td>765</td>\n",
       "      <td>0.31</td>\n",
       "      <td>0.30</td>\n",
       "      <td>0.93</td>\n",
       "      <td>1.68</td>\n",
       "      <td>1.63</td>\n",
       "      <td>3.16</td>\n",
       "      <td>24,809.39</td>\n",
       "      <td>329.19</td>\n",
       "      <td>1.66</td>\n",
       "      <td>0.60</td>\n",
       "    </tr>\n",
       "    <tr>\n",
       "      <th>(0.352, 0.441]</th>\n",
       "      <td>1011</td>\n",
       "      <td>0.41</td>\n",
       "      <td>0.39</td>\n",
       "      <td>1.02</td>\n",
       "      <td>1.68</td>\n",
       "      <td>1.46</td>\n",
       "      <td>2.49</td>\n",
       "      <td>22,243.03</td>\n",
       "      <td>298.65</td>\n",
       "      <td>1.47</td>\n",
       "      <td>1.87</td>\n",
       "    </tr>\n",
       "    <tr>\n",
       "      <th>(0.441, 0.529]</th>\n",
       "      <td>450</td>\n",
       "      <td>0.47</td>\n",
       "      <td>0.48</td>\n",
       "      <td>0.94</td>\n",
       "      <td>1.67</td>\n",
       "      <td>1.44</td>\n",
       "      <td>2.54</td>\n",
       "      <td>20,819.19</td>\n",
       "      <td>265.52</td>\n",
       "      <td>2.85</td>\n",
       "      <td>1.97</td>\n",
       "    </tr>\n",
       "    <tr>\n",
       "      <th>(0.529, 0.617]</th>\n",
       "      <td>279</td>\n",
       "      <td>0.64</td>\n",
       "      <td>0.56</td>\n",
       "      <td>0.86</td>\n",
       "      <td>1.65</td>\n",
       "      <td>1.38</td>\n",
       "      <td>2.38</td>\n",
       "      <td>17,486.71</td>\n",
       "      <td>242.39</td>\n",
       "      <td>3.55</td>\n",
       "      <td>2.00</td>\n",
       "    </tr>\n",
       "    <tr>\n",
       "      <th>(0.617, 0.705]</th>\n",
       "      <td>166</td>\n",
       "      <td>0.54</td>\n",
       "      <td>0.66</td>\n",
       "      <td>0.97</td>\n",
       "      <td>1.69</td>\n",
       "      <td>1.66</td>\n",
       "      <td>2.73</td>\n",
       "      <td>22,584.31</td>\n",
       "      <td>268.46</td>\n",
       "      <td>4.03</td>\n",
       "      <td>1.99</td>\n",
       "    </tr>\n",
       "    <tr>\n",
       "      <th>(0.705, 0.793]</th>\n",
       "      <td>138</td>\n",
       "      <td>0.75</td>\n",
       "      <td>0.75</td>\n",
       "      <td>0.96</td>\n",
       "      <td>1.85</td>\n",
       "      <td>1.91</td>\n",
       "      <td>3.38</td>\n",
       "      <td>21,487.00</td>\n",
       "      <td>299.14</td>\n",
       "      <td>4.07</td>\n",
       "      <td>2.00</td>\n",
       "    </tr>\n",
       "    <tr>\n",
       "      <th>(0.793, 0.881]</th>\n",
       "      <td>54</td>\n",
       "      <td>0.85</td>\n",
       "      <td>0.82</td>\n",
       "      <td>0.81</td>\n",
       "      <td>1.84</td>\n",
       "      <td>1.98</td>\n",
       "      <td>3.69</td>\n",
       "      <td>16,789.70</td>\n",
       "      <td>202.98</td>\n",
       "      <td>4.04</td>\n",
       "      <td>2.00</td>\n",
       "    </tr>\n",
       "  </tbody>\n",
       "</table>\n",
       "</div>"
      ],
      "text/plain": [
       "                         0  flag  y_hat_prob  has_purchased_widget  \\\n",
       "y_hat_bucket                                                         \n",
       "(-0.00088, 0.0881]  247740  0.00        0.00                  1.01   \n",
       "(0.0881, 0.176]      13035  0.12        0.12                  1.00   \n",
       "(0.176, 0.264]        2099  0.22        0.21                  0.94   \n",
       "(0.264, 0.352]         765  0.31        0.30                  0.93   \n",
       "(0.352, 0.441]        1011  0.41        0.39                  1.02   \n",
       "(0.441, 0.529]         450  0.47        0.48                  0.94   \n",
       "(0.529, 0.617]         279  0.64        0.56                  0.86   \n",
       "(0.617, 0.705]         166  0.54        0.66                  0.97   \n",
       "(0.705, 0.793]         138  0.75        0.75                  0.96   \n",
       "(0.793, 0.881]          54  0.85        0.82                  0.81   \n",
       "\n",
       "                    has_purchased_trinket  has_purchased_gizmo  order_count  \\\n",
       "y_hat_bucket                                                                  \n",
       "(-0.00088, 0.0881]                   0.96                 0.97         1.10   \n",
       "(0.0881, 0.176]                      1.59                 1.45         2.43   \n",
       "(0.176, 0.264]                       1.76                 1.84         3.42   \n",
       "(0.264, 0.352]                       1.68                 1.63         3.16   \n",
       "(0.352, 0.441]                       1.68                 1.46         2.49   \n",
       "(0.441, 0.529]                       1.67                 1.44         2.54   \n",
       "(0.529, 0.617]                       1.65                 1.38         2.38   \n",
       "(0.617, 0.705]                       1.69                 1.66         2.73   \n",
       "(0.705, 0.793]                       1.85                 1.91         3.38   \n",
       "(0.793, 0.881]                       1.84                 1.98         3.69   \n",
       "\n",
       "                    lifetime_revenue   ages  opens  clicks  \n",
       "y_hat_bucket                                                \n",
       "(-0.00088, 0.0881]         17,077.17   8.99   0.31    0.04  \n",
       "(0.0881, 0.176]            24,690.08 343.12   0.49    0.01  \n",
       "(0.176, 0.264]             28,150.97 359.53   1.22    0.05  \n",
       "(0.264, 0.352]             24,809.39 329.19   1.66    0.60  \n",
       "(0.352, 0.441]             22,243.03 298.65   1.47    1.87  \n",
       "(0.441, 0.529]             20,819.19 265.52   2.85    1.97  \n",
       "(0.529, 0.617]             17,486.71 242.39   3.55    2.00  \n",
       "(0.617, 0.705]             22,584.31 268.46   4.03    1.99  \n",
       "(0.705, 0.793]             21,487.00 299.14   4.07    2.00  \n",
       "(0.793, 0.881]             16,789.70 202.98   4.04    2.00  "
      ]
     },
     "execution_count": 138,
     "metadata": {},
     "output_type": "execute_result"
    }
   ],
   "source": [
    "pd.concat([df.groupby(['y_hat_bucket']).size(), df.groupby(['y_hat_bucket'])['flag','y_hat_prob','has_purchased_widget', 'has_purchased_trinket', 'has_purchased_gizmo','order_count', 'lifetime_revenue', 'ages', 'opens', 'clicks'].mean()], axis=1)"
   ]
  },
  {
   "cell_type": "code",
   "execution_count": 139,
   "metadata": {},
   "outputs": [
    {
     "data": {
      "text/html": [
       "<div>\n",
       "<style scoped>\n",
       "    .dataframe tbody tr th:only-of-type {\n",
       "        vertical-align: middle;\n",
       "    }\n",
       "\n",
       "    .dataframe tbody tr th {\n",
       "        vertical-align: top;\n",
       "    }\n",
       "\n",
       "    .dataframe thead th {\n",
       "        text-align: right;\n",
       "    }\n",
       "</style>\n",
       "<table border=\"1\" class=\"dataframe\">\n",
       "  <thead>\n",
       "    <tr style=\"text-align: right;\">\n",
       "      <th></th>\n",
       "      <th>y_hat_prob</th>\n",
       "      <th>lifetime_revenue</th>\n",
       "      <th>order_count</th>\n",
       "      <th>orders</th>\n",
       "      <th>revenue</th>\n",
       "    </tr>\n",
       "    <tr>\n",
       "      <th>y_hat_bucket</th>\n",
       "      <th></th>\n",
       "      <th></th>\n",
       "      <th></th>\n",
       "      <th></th>\n",
       "      <th></th>\n",
       "    </tr>\n",
       "  </thead>\n",
       "  <tbody>\n",
       "    <tr>\n",
       "      <th>(-0.00088, 0.0881]</th>\n",
       "      <td>0.00</td>\n",
       "      <td>17,077.17</td>\n",
       "      <td>1.10</td>\n",
       "      <td>0.00</td>\n",
       "      <td>0.27</td>\n",
       "    </tr>\n",
       "    <tr>\n",
       "      <th>(0.0881, 0.176]</th>\n",
       "      <td>0.12</td>\n",
       "      <td>24,690.08</td>\n",
       "      <td>2.43</td>\n",
       "      <td>0.18</td>\n",
       "      <td>8.79</td>\n",
       "    </tr>\n",
       "    <tr>\n",
       "      <th>(0.176, 0.264]</th>\n",
       "      <td>0.21</td>\n",
       "      <td>28,150.97</td>\n",
       "      <td>3.42</td>\n",
       "      <td>0.38</td>\n",
       "      <td>17.05</td>\n",
       "    </tr>\n",
       "    <tr>\n",
       "      <th>(0.264, 0.352]</th>\n",
       "      <td>0.30</td>\n",
       "      <td>24,809.39</td>\n",
       "      <td>3.16</td>\n",
       "      <td>0.52</td>\n",
       "      <td>22.04</td>\n",
       "    </tr>\n",
       "    <tr>\n",
       "      <th>(0.352, 0.441]</th>\n",
       "      <td>0.39</td>\n",
       "      <td>22,243.03</td>\n",
       "      <td>2.49</td>\n",
       "      <td>0.68</td>\n",
       "      <td>18.49</td>\n",
       "    </tr>\n",
       "    <tr>\n",
       "      <th>(0.441, 0.529]</th>\n",
       "      <td>0.48</td>\n",
       "      <td>20,819.19</td>\n",
       "      <td>2.54</td>\n",
       "      <td>0.76</td>\n",
       "      <td>22.38</td>\n",
       "    </tr>\n",
       "    <tr>\n",
       "      <th>(0.529, 0.617]</th>\n",
       "      <td>0.56</td>\n",
       "      <td>17,486.71</td>\n",
       "      <td>2.38</td>\n",
       "      <td>1.05</td>\n",
       "      <td>26.98</td>\n",
       "    </tr>\n",
       "    <tr>\n",
       "      <th>(0.617, 0.705]</th>\n",
       "      <td>0.66</td>\n",
       "      <td>22,584.31</td>\n",
       "      <td>2.73</td>\n",
       "      <td>0.80</td>\n",
       "      <td>23.02</td>\n",
       "    </tr>\n",
       "    <tr>\n",
       "      <th>(0.705, 0.793]</th>\n",
       "      <td>0.75</td>\n",
       "      <td>21,487.00</td>\n",
       "      <td>3.38</td>\n",
       "      <td>1.30</td>\n",
       "      <td>30.15</td>\n",
       "    </tr>\n",
       "    <tr>\n",
       "      <th>(0.793, 0.881]</th>\n",
       "      <td>0.82</td>\n",
       "      <td>16,789.70</td>\n",
       "      <td>3.69</td>\n",
       "      <td>1.68</td>\n",
       "      <td>30.23</td>\n",
       "    </tr>\n",
       "  </tbody>\n",
       "</table>\n",
       "</div>"
      ],
      "text/plain": [
       "                    y_hat_prob  lifetime_revenue  order_count  orders  revenue\n",
       "y_hat_bucket                                                                  \n",
       "(-0.00088, 0.0881]        0.00         17,077.17         1.10    0.00     0.27\n",
       "(0.0881, 0.176]           0.12         24,690.08         2.43    0.18     8.79\n",
       "(0.176, 0.264]            0.21         28,150.97         3.42    0.38    17.05\n",
       "(0.264, 0.352]            0.30         24,809.39         3.16    0.52    22.04\n",
       "(0.352, 0.441]            0.39         22,243.03         2.49    0.68    18.49\n",
       "(0.441, 0.529]            0.48         20,819.19         2.54    0.76    22.38\n",
       "(0.529, 0.617]            0.56         17,486.71         2.38    1.05    26.98\n",
       "(0.617, 0.705]            0.66         22,584.31         2.73    0.80    23.02\n",
       "(0.705, 0.793]            0.75         21,487.00         3.38    1.30    30.15\n",
       "(0.793, 0.881]            0.82         16,789.70         3.69    1.68    30.23"
      ]
     },
     "execution_count": 139,
     "metadata": {},
     "output_type": "execute_result"
    }
   ],
   "source": [
    "df.groupby(['y_hat_bucket'])['y_hat_prob','lifetime_revenue','order_count', 'orders', 'revenue'].mean()"
   ]
  },
  {
   "cell_type": "code",
   "execution_count": 140,
   "metadata": {},
   "outputs": [
    {
     "data": {
      "text/html": [
       "<div>\n",
       "<style scoped>\n",
       "    .dataframe tbody tr th:only-of-type {\n",
       "        vertical-align: middle;\n",
       "    }\n",
       "\n",
       "    .dataframe tbody tr th {\n",
       "        vertical-align: top;\n",
       "    }\n",
       "\n",
       "    .dataframe thead th {\n",
       "        text-align: right;\n",
       "    }\n",
       "</style>\n",
       "<table border=\"1\" class=\"dataframe\">\n",
       "  <thead>\n",
       "    <tr style=\"text-align: right;\">\n",
       "      <th></th>\n",
       "      <th>has_purchased_widget</th>\n",
       "      <th>has_purchased_trinket</th>\n",
       "      <th>has_purchased_gizmo</th>\n",
       "      <th>purchased_widget</th>\n",
       "      <th>purchased_trinket</th>\n",
       "      <th>purchased_gizmo</th>\n",
       "    </tr>\n",
       "    <tr>\n",
       "      <th>y_hat_bucket</th>\n",
       "      <th></th>\n",
       "      <th></th>\n",
       "      <th></th>\n",
       "      <th></th>\n",
       "      <th></th>\n",
       "      <th></th>\n",
       "    </tr>\n",
       "  </thead>\n",
       "  <tbody>\n",
       "    <tr>\n",
       "      <th>(-0.00088, 0.0881]</th>\n",
       "      <td>1.01</td>\n",
       "      <td>0.96</td>\n",
       "      <td>0.97</td>\n",
       "      <td>0.00</td>\n",
       "      <td>0.00</td>\n",
       "      <td>0.00</td>\n",
       "    </tr>\n",
       "    <tr>\n",
       "      <th>(0.0881, 0.176]</th>\n",
       "      <td>1.00</td>\n",
       "      <td>1.59</td>\n",
       "      <td>1.45</td>\n",
       "      <td>0.03</td>\n",
       "      <td>0.07</td>\n",
       "      <td>0.02</td>\n",
       "    </tr>\n",
       "    <tr>\n",
       "      <th>(0.176, 0.264]</th>\n",
       "      <td>0.94</td>\n",
       "      <td>1.76</td>\n",
       "      <td>1.84</td>\n",
       "      <td>0.04</td>\n",
       "      <td>0.15</td>\n",
       "      <td>0.04</td>\n",
       "    </tr>\n",
       "    <tr>\n",
       "      <th>(0.264, 0.352]</th>\n",
       "      <td>0.93</td>\n",
       "      <td>1.68</td>\n",
       "      <td>1.63</td>\n",
       "      <td>0.06</td>\n",
       "      <td>0.23</td>\n",
       "      <td>0.06</td>\n",
       "    </tr>\n",
       "    <tr>\n",
       "      <th>(0.352, 0.441]</th>\n",
       "      <td>1.02</td>\n",
       "      <td>1.68</td>\n",
       "      <td>1.46</td>\n",
       "      <td>0.03</td>\n",
       "      <td>0.38</td>\n",
       "      <td>0.08</td>\n",
       "    </tr>\n",
       "    <tr>\n",
       "      <th>(0.441, 0.529]</th>\n",
       "      <td>0.94</td>\n",
       "      <td>1.67</td>\n",
       "      <td>1.44</td>\n",
       "      <td>0.04</td>\n",
       "      <td>0.42</td>\n",
       "      <td>0.07</td>\n",
       "    </tr>\n",
       "    <tr>\n",
       "      <th>(0.529, 0.617]</th>\n",
       "      <td>0.86</td>\n",
       "      <td>1.65</td>\n",
       "      <td>1.38</td>\n",
       "      <td>0.04</td>\n",
       "      <td>0.57</td>\n",
       "      <td>0.12</td>\n",
       "    </tr>\n",
       "    <tr>\n",
       "      <th>(0.617, 0.705]</th>\n",
       "      <td>0.97</td>\n",
       "      <td>1.69</td>\n",
       "      <td>1.66</td>\n",
       "      <td>0.05</td>\n",
       "      <td>0.40</td>\n",
       "      <td>0.13</td>\n",
       "    </tr>\n",
       "    <tr>\n",
       "      <th>(0.705, 0.793]</th>\n",
       "      <td>0.96</td>\n",
       "      <td>1.85</td>\n",
       "      <td>1.91</td>\n",
       "      <td>0.02</td>\n",
       "      <td>0.73</td>\n",
       "      <td>0.20</td>\n",
       "    </tr>\n",
       "    <tr>\n",
       "      <th>(0.793, 0.881]</th>\n",
       "      <td>0.81</td>\n",
       "      <td>1.84</td>\n",
       "      <td>1.98</td>\n",
       "      <td>0.00</td>\n",
       "      <td>1.02</td>\n",
       "      <td>0.26</td>\n",
       "    </tr>\n",
       "  </tbody>\n",
       "</table>\n",
       "</div>"
      ],
      "text/plain": [
       "                    has_purchased_widget  has_purchased_trinket  \\\n",
       "y_hat_bucket                                                      \n",
       "(-0.00088, 0.0881]                  1.01                   0.96   \n",
       "(0.0881, 0.176]                     1.00                   1.59   \n",
       "(0.176, 0.264]                      0.94                   1.76   \n",
       "(0.264, 0.352]                      0.93                   1.68   \n",
       "(0.352, 0.441]                      1.02                   1.68   \n",
       "(0.441, 0.529]                      0.94                   1.67   \n",
       "(0.529, 0.617]                      0.86                   1.65   \n",
       "(0.617, 0.705]                      0.97                   1.69   \n",
       "(0.705, 0.793]                      0.96                   1.85   \n",
       "(0.793, 0.881]                      0.81                   1.84   \n",
       "\n",
       "                    has_purchased_gizmo  purchased_widget  purchased_trinket  \\\n",
       "y_hat_bucket                                                                   \n",
       "(-0.00088, 0.0881]                 0.97              0.00               0.00   \n",
       "(0.0881, 0.176]                    1.45              0.03               0.07   \n",
       "(0.176, 0.264]                     1.84              0.04               0.15   \n",
       "(0.264, 0.352]                     1.63              0.06               0.23   \n",
       "(0.352, 0.441]                     1.46              0.03               0.38   \n",
       "(0.441, 0.529]                     1.44              0.04               0.42   \n",
       "(0.529, 0.617]                     1.38              0.04               0.57   \n",
       "(0.617, 0.705]                     1.66              0.05               0.40   \n",
       "(0.705, 0.793]                     1.91              0.02               0.73   \n",
       "(0.793, 0.881]                     1.98              0.00               1.02   \n",
       "\n",
       "                    purchased_gizmo  \n",
       "y_hat_bucket                         \n",
       "(-0.00088, 0.0881]             0.00  \n",
       "(0.0881, 0.176]                0.02  \n",
       "(0.176, 0.264]                 0.04  \n",
       "(0.264, 0.352]                 0.06  \n",
       "(0.352, 0.441]                 0.08  \n",
       "(0.441, 0.529]                 0.07  \n",
       "(0.529, 0.617]                 0.12  \n",
       "(0.617, 0.705]                 0.13  \n",
       "(0.705, 0.793]                 0.20  \n",
       "(0.793, 0.881]                 0.26  "
      ]
     },
     "execution_count": 140,
     "metadata": {},
     "output_type": "execute_result"
    }
   ],
   "source": [
    "df.groupby(['y_hat_bucket'])['has_purchased_widget','has_purchased_trinket','has_purchased_gizmo','purchased_widget', 'purchased_trinket', 'purchased_gizmo'].mean()"
   ]
  },
  {
   "cell_type": "code",
   "execution_count": null,
   "metadata": {},
   "outputs": [],
   "source": []
  }
 ],
 "metadata": {
  "kernelspec": {
   "display_name": "Python 3",
   "language": "python",
   "name": "python3"
  },
  "language_info": {
   "codemirror_mode": {
    "name": "ipython",
    "version": 3
   },
   "file_extension": ".py",
   "mimetype": "text/x-python",
   "name": "python",
   "nbconvert_exporter": "python",
   "pygments_lexer": "ipython3",
   "version": "3.7.2"
  }
 },
 "nbformat": 4,
 "nbformat_minor": 2
}
