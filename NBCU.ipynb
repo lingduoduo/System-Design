{
 "cells": [
  {
   "cell_type": "code",
   "execution_count": 1,
   "metadata": {},
   "outputs": [],
   "source": [
    "import numpy as np\n",
    "import pandas as pd\n",
    "import math\n",
    "import random\n",
    "\n",
    "import matplotlib as mpl\n",
    "import matplotlib.pyplot as plt\n",
    "import seaborn as sns\n",
    "\n",
    "from datetime import datetime, timedelta\n",
    "import warnings; warnings.filterwarnings(action='once')\n",
    "\n",
    "large = 22; med = 16; small = 12\n",
    "params = {'axes.titlesize': large,\n",
    "          'legend.fontsize': med,\n",
    "          'figure.figsize': (16, 10),\n",
    "          'axes.labelsize': med,\n",
    "          'axes.titlesize': med,\n",
    "          'xtick.labelsize': med,\n",
    "          'ytick.labelsize': med,\n",
    "          'figure.titlesize': large}\n",
    "\n",
    "plt.rcParams.update(params)\n",
    "plt.style.use('seaborn-whitegrid')\n",
    "sns.set_style(\"white\")\n",
    "%matplotlib inline\n",
    "\n",
    "import pandas_profiling\n",
    "import datetime"
   ]
  },
  {
   "cell_type": "markdown",
   "metadata": {},
   "source": [
    "### Readin and Profile Episode Ratings and Program Ratings"
   ]
  },
  {
   "cell_type": "markdown",
   "metadata": {},
   "source": [
    "#### Episode Ratings"
   ]
  },
  {
   "cell_type": "code",
   "execution_count": 2,
   "metadata": {},
   "outputs": [
    {
     "data": {
      "text/html": [
       "<div>\n",
       "<style scoped>\n",
       "    .dataframe tbody tr th:only-of-type {\n",
       "        vertical-align: middle;\n",
       "    }\n",
       "\n",
       "    .dataframe tbody tr th {\n",
       "        vertical-align: top;\n",
       "    }\n",
       "\n",
       "    .dataframe thead th {\n",
       "        text-align: right;\n",
       "    }\n",
       "</style>\n",
       "<table border=\"1\" class=\"dataframe\">\n",
       "  <thead>\n",
       "    <tr style=\"text-align: right;\">\n",
       "      <th></th>\n",
       "      <th>Unnamed: 0</th>\n",
       "      <th>Network</th>\n",
       "      <th>Date</th>\n",
       "      <th>Time</th>\n",
       "      <th>Program</th>\n",
       "      <th>Length</th>\n",
       "      <th>Rating</th>\n",
       "      <th>Minute_In_Commercial</th>\n",
       "      <th>Total_Loss_perc</th>\n",
       "    </tr>\n",
       "  </thead>\n",
       "  <tbody>\n",
       "    <tr>\n",
       "      <th>0</th>\n",
       "      <td>0</td>\n",
       "      <td>DKN</td>\n",
       "      <td>2015-09-21</td>\n",
       "      <td>10:00 PM</td>\n",
       "      <td>BLACK_S_BOT</td>\n",
       "      <td>60</td>\n",
       "      <td>3.735534</td>\n",
       "      <td>0</td>\n",
       "      <td>15.637767</td>\n",
       "    </tr>\n",
       "    <tr>\n",
       "      <th>1</th>\n",
       "      <td>1</td>\n",
       "      <td>DKN</td>\n",
       "      <td>2015-09-21</td>\n",
       "      <td>10:01 PM</td>\n",
       "      <td>BLACK_S_BOT</td>\n",
       "      <td>60</td>\n",
       "      <td>3.528162</td>\n",
       "      <td>0</td>\n",
       "      <td>5.965321</td>\n",
       "    </tr>\n",
       "    <tr>\n",
       "      <th>2</th>\n",
       "      <td>2</td>\n",
       "      <td>DKN</td>\n",
       "      <td>2015-09-21</td>\n",
       "      <td>10:02 PM</td>\n",
       "      <td>BLACK_S_BOT</td>\n",
       "      <td>60</td>\n",
       "      <td>3.540440</td>\n",
       "      <td>0</td>\n",
       "      <td>6.501681</td>\n",
       "    </tr>\n",
       "    <tr>\n",
       "      <th>3</th>\n",
       "      <td>3</td>\n",
       "      <td>DKN</td>\n",
       "      <td>2015-09-21</td>\n",
       "      <td>10:03 PM</td>\n",
       "      <td>BLACK_S_BOT</td>\n",
       "      <td>60</td>\n",
       "      <td>3.478097</td>\n",
       "      <td>0</td>\n",
       "      <td>5.259257</td>\n",
       "    </tr>\n",
       "    <tr>\n",
       "      <th>4</th>\n",
       "      <td>4</td>\n",
       "      <td>DKN</td>\n",
       "      <td>2015-09-21</td>\n",
       "      <td>10:04 PM</td>\n",
       "      <td>BLACK_S_BOT</td>\n",
       "      <td>60</td>\n",
       "      <td>3.385776</td>\n",
       "      <td>0</td>\n",
       "      <td>3.366675</td>\n",
       "    </tr>\n",
       "  </tbody>\n",
       "</table>\n",
       "</div>"
      ],
      "text/plain": [
       "   Unnamed: 0 Network        Date      Time      Program  Length    Rating  \\\n",
       "0           0     DKN  2015-09-21  10:00 PM  BLACK_S_BOT      60  3.735534   \n",
       "1           1     DKN  2015-09-21  10:01 PM  BLACK_S_BOT      60  3.528162   \n",
       "2           2     DKN  2015-09-21  10:02 PM  BLACK_S_BOT      60  3.540440   \n",
       "3           3     DKN  2015-09-21  10:03 PM  BLACK_S_BOT      60  3.478097   \n",
       "4           4     DKN  2015-09-21  10:04 PM  BLACK_S_BOT      60  3.385776   \n",
       "\n",
       "   Minute_In_Commercial  Total_Loss_perc  \n",
       "0                     0        15.637767  \n",
       "1                     0         5.965321  \n",
       "2                     0         6.501681  \n",
       "3                     0         5.259257  \n",
       "4                     0         3.366675  "
      ]
     },
     "execution_count": 2,
     "metadata": {},
     "output_type": "execute_result"
    }
   ],
   "source": [
    "ratings = pd.read_csv(\"/Users/ling/Desktop/Interview/Peacock/mxm.csv\")\n",
    "ratings.head()"
   ]
  },
  {
   "cell_type": "code",
   "execution_count": 3,
   "metadata": {},
   "outputs": [
    {
     "name": "stdout",
     "output_type": "stream",
     "text": [
      "<class 'pandas.core.frame.DataFrame'>\n",
      "RangeIndex: 2088 entries, 0 to 2087\n",
      "Data columns (total 9 columns):\n",
      " #   Column                Non-Null Count  Dtype  \n",
      "---  ------                --------------  -----  \n",
      " 0   Unnamed: 0            2088 non-null   int64  \n",
      " 1   Network               2088 non-null   object \n",
      " 2   Date                  2088 non-null   object \n",
      " 3   Time                  2088 non-null   object \n",
      " 4   Program               2088 non-null   object \n",
      " 5   Length                2088 non-null   int64  \n",
      " 6   Rating                2088 non-null   float64\n",
      " 7   Minute_In_Commercial  2088 non-null   int64  \n",
      " 8   Total_Loss_perc       2088 non-null   float64\n",
      "dtypes: float64(2), int64(3), object(4)\n",
      "memory usage: 146.9+ KB\n"
     ]
    }
   ],
   "source": [
    "ratings.info()"
   ]
  },
  {
   "cell_type": "code",
   "execution_count": 4,
   "metadata": {
    "scrolled": true
   },
   "outputs": [
    {
     "data": {
      "application/vnd.jupyter.widget-view+json": {
       "model_id": "1b78a34248604d32a99d3e181e26ff09",
       "version_major": 2,
       "version_minor": 0
      },
      "text/plain": [
       "HBox(children=(FloatProgress(value=0.0, description='Summarize dataset', max=23.0, style=ProgressStyle(descrip…"
      ]
     },
     "metadata": {},
     "output_type": "display_data"
    },
    {
     "name": "stdout",
     "output_type": "stream",
     "text": [
      "\n"
     ]
    },
    {
     "data": {
      "application/vnd.jupyter.widget-view+json": {
       "model_id": "e0b007a0abc04bb59741b0bd812474d2",
       "version_major": 2,
       "version_minor": 0
      },
      "text/plain": [
       "HBox(children=(FloatProgress(value=0.0, description='Generate report structure', max=1.0, style=ProgressStyle(…"
      ]
     },
     "metadata": {},
     "output_type": "display_data"
    },
    {
     "name": "stdout",
     "output_type": "stream",
     "text": [
      "\n"
     ]
    },
    {
     "data": {
      "application/vnd.jupyter.widget-view+json": {
       "model_id": "0fbb1b7b432a458c861f0d4764147f01",
       "version_major": 2,
       "version_minor": 0
      },
      "text/plain": [
       "HBox(children=(FloatProgress(value=0.0, description='Render HTML', max=1.0, style=ProgressStyle(description_wi…"
      ]
     },
     "metadata": {},
     "output_type": "display_data"
    },
    {
     "name": "stdout",
     "output_type": "stream",
     "text": [
      "\n"
     ]
    },
    {
     "data": {
      "application/vnd.jupyter.widget-view+json": {
       "model_id": "a40299a6c5d541f09b558c54391c0549",
       "version_major": 2,
       "version_minor": 0
      },
      "text/plain": [
       "HBox(children=(FloatProgress(value=0.0, description='Export report to file', max=1.0, style=ProgressStyle(desc…"
      ]
     },
     "metadata": {},
     "output_type": "display_data"
    },
    {
     "name": "stdout",
     "output_type": "stream",
     "text": [
      "\n"
     ]
    }
   ],
   "source": [
    "# ratings_profile = pandas_profiling.ProfileReport(ratings)\n",
    "# ratings_profile\n",
    "ratings_profile = pandas_profiling.ProfileReport(ratings)\n",
    "ratings_profile.to_file(output_file='ratings_profile.html')"
   ]
  },
  {
   "cell_type": "markdown",
   "metadata": {},
   "source": [
    "#### Program Ratings"
   ]
  },
  {
   "cell_type": "code",
   "execution_count": 5,
   "metadata": {},
   "outputs": [
    {
     "data": {
      "text/html": [
       "<div>\n",
       "<style scoped>\n",
       "    .dataframe tbody tr th:only-of-type {\n",
       "        vertical-align: middle;\n",
       "    }\n",
       "\n",
       "    .dataframe tbody tr th {\n",
       "        vertical-align: top;\n",
       "    }\n",
       "\n",
       "    .dataframe thead th {\n",
       "        text-align: right;\n",
       "    }\n",
       "</style>\n",
       "<table border=\"1\" class=\"dataframe\">\n",
       "  <thead>\n",
       "    <tr style=\"text-align: right;\">\n",
       "      <th></th>\n",
       "      <th>Unnamed: 0</th>\n",
       "      <th>show_name</th>\n",
       "      <th>network</th>\n",
       "      <th>genre</th>\n",
       "      <th>time_slot</th>\n",
       "      <th>program_start_time</th>\n",
       "      <th>program_duration</th>\n",
       "      <th>show_premier</th>\n",
       "      <th>show_repeat</th>\n",
       "      <th>rating</th>\n",
       "    </tr>\n",
       "  </thead>\n",
       "  <tbody>\n",
       "    <tr>\n",
       "      <th>0</th>\n",
       "      <td>0</td>\n",
       "      <td>OF WOLVES AND MAN</td>\n",
       "      <td>JGN</td>\n",
       "      <td>Drama</td>\n",
       "      <td>2015-09-20 20:00:00</td>\n",
       "      <td>2015-09-20 20:00:00</td>\n",
       "      <td>3600</td>\n",
       "      <td>0</td>\n",
       "      <td>1</td>\n",
       "      <td>0.006776</td>\n",
       "    </tr>\n",
       "    <tr>\n",
       "      <th>1</th>\n",
       "      <td>1</td>\n",
       "      <td>OF WOLVES AND MAN</td>\n",
       "      <td>JGN</td>\n",
       "      <td>Drama</td>\n",
       "      <td>2015-09-20 21:00:00</td>\n",
       "      <td>2015-09-20 21:00:00</td>\n",
       "      <td>7200</td>\n",
       "      <td>0</td>\n",
       "      <td>1</td>\n",
       "      <td>0.005118</td>\n",
       "    </tr>\n",
       "    <tr>\n",
       "      <th>2</th>\n",
       "      <td>2</td>\n",
       "      <td>OF WOLVES AND MAN</td>\n",
       "      <td>JGN</td>\n",
       "      <td>Drama</td>\n",
       "      <td>2015-09-27 20:00:00</td>\n",
       "      <td>2015-09-27 20:00:00</td>\n",
       "      <td>3600</td>\n",
       "      <td>1</td>\n",
       "      <td>0</td>\n",
       "      <td>0.021757</td>\n",
       "    </tr>\n",
       "    <tr>\n",
       "      <th>3</th>\n",
       "      <td>3</td>\n",
       "      <td>OF WOLVES AND MAN</td>\n",
       "      <td>JGN</td>\n",
       "      <td>Drama</td>\n",
       "      <td>2015-10-04 20:00:00</td>\n",
       "      <td>2015-10-04 20:00:00</td>\n",
       "      <td>3600</td>\n",
       "      <td>0</td>\n",
       "      <td>0</td>\n",
       "      <td>0.018664</td>\n",
       "    </tr>\n",
       "    <tr>\n",
       "      <th>4</th>\n",
       "      <td>4</td>\n",
       "      <td>OF WOLVES AND MAN</td>\n",
       "      <td>JGN</td>\n",
       "      <td>Drama</td>\n",
       "      <td>2015-10-11 20:00:00</td>\n",
       "      <td>2015-10-11 20:00:00</td>\n",
       "      <td>3600</td>\n",
       "      <td>0</td>\n",
       "      <td>0</td>\n",
       "      <td>0.016884</td>\n",
       "    </tr>\n",
       "  </tbody>\n",
       "</table>\n",
       "</div>"
      ],
      "text/plain": [
       "   Unnamed: 0          show_name network  genre            time_slot  \\\n",
       "0           0  OF WOLVES AND MAN     JGN  Drama  2015-09-20 20:00:00   \n",
       "1           1  OF WOLVES AND MAN     JGN  Drama  2015-09-20 21:00:00   \n",
       "2           2  OF WOLVES AND MAN     JGN  Drama  2015-09-27 20:00:00   \n",
       "3           3  OF WOLVES AND MAN     JGN  Drama  2015-10-04 20:00:00   \n",
       "4           4  OF WOLVES AND MAN     JGN  Drama  2015-10-11 20:00:00   \n",
       "\n",
       "    program_start_time  program_duration  show_premier  show_repeat    rating  \n",
       "0  2015-09-20 20:00:00              3600             0            1  0.006776  \n",
       "1  2015-09-20 21:00:00              7200             0            1  0.005118  \n",
       "2  2015-09-27 20:00:00              3600             1            0  0.021757  \n",
       "3  2015-10-04 20:00:00              3600             0            0  0.018664  \n",
       "4  2015-10-11 20:00:00              3600             0            0  0.016884  "
      ]
     },
     "execution_count": 5,
     "metadata": {},
     "output_type": "execute_result"
    }
   ],
   "source": [
    "programs = pd.read_csv(\"/Users/ling/Desktop/Interview/Peacock/seasonal_telecast_ratings.csv\")\n",
    "programs.head()"
   ]
  },
  {
   "cell_type": "code",
   "execution_count": 6,
   "metadata": {},
   "outputs": [
    {
     "name": "stdout",
     "output_type": "stream",
     "text": [
      "<class 'pandas.core.frame.DataFrame'>\n",
      "RangeIndex: 4598 entries, 0 to 4597\n",
      "Data columns (total 10 columns):\n",
      " #   Column              Non-Null Count  Dtype  \n",
      "---  ------              --------------  -----  \n",
      " 0   Unnamed: 0          4598 non-null   int64  \n",
      " 1   show_name           4593 non-null   object \n",
      " 2   network             4598 non-null   object \n",
      " 3   genre               4598 non-null   object \n",
      " 4   time_slot           4598 non-null   object \n",
      " 5   program_start_time  4598 non-null   object \n",
      " 6   program_duration    4598 non-null   int64  \n",
      " 7   show_premier        4598 non-null   int64  \n",
      " 8   show_repeat         4598 non-null   int64  \n",
      " 9   rating              4598 non-null   float64\n",
      "dtypes: float64(1), int64(4), object(5)\n",
      "memory usage: 359.3+ KB\n"
     ]
    }
   ],
   "source": [
    "programs.info()"
   ]
  },
  {
   "cell_type": "code",
   "execution_count": 7,
   "metadata": {},
   "outputs": [
    {
     "data": {
      "application/vnd.jupyter.widget-view+json": {
       "model_id": "dbe13ab908b84f53b9fb7d9f8d6d6771",
       "version_major": 2,
       "version_minor": 0
      },
      "text/plain": [
       "HBox(children=(FloatProgress(value=0.0, description='Summarize dataset', max=24.0, style=ProgressStyle(descrip…"
      ]
     },
     "metadata": {},
     "output_type": "display_data"
    },
    {
     "name": "stdout",
     "output_type": "stream",
     "text": [
      "\n"
     ]
    },
    {
     "data": {
      "application/vnd.jupyter.widget-view+json": {
       "model_id": "3a98b449064e4787bba79d572cefe7b1",
       "version_major": 2,
       "version_minor": 0
      },
      "text/plain": [
       "HBox(children=(FloatProgress(value=0.0, description='Generate report structure', max=1.0, style=ProgressStyle(…"
      ]
     },
     "metadata": {},
     "output_type": "display_data"
    },
    {
     "name": "stdout",
     "output_type": "stream",
     "text": [
      "\n"
     ]
    },
    {
     "data": {
      "application/vnd.jupyter.widget-view+json": {
       "model_id": "ec1613d769c94d6ebe8933755546b84c",
       "version_major": 2,
       "version_minor": 0
      },
      "text/plain": [
       "HBox(children=(FloatProgress(value=0.0, description='Render HTML', max=1.0, style=ProgressStyle(description_wi…"
      ]
     },
     "metadata": {},
     "output_type": "display_data"
    },
    {
     "name": "stdout",
     "output_type": "stream",
     "text": [
      "\n"
     ]
    },
    {
     "data": {
      "application/vnd.jupyter.widget-view+json": {
       "model_id": "f4ad8c6e8ba7484c80d3a581adec03ad",
       "version_major": 2,
       "version_minor": 0
      },
      "text/plain": [
       "HBox(children=(FloatProgress(value=0.0, description='Export report to file', max=1.0, style=ProgressStyle(desc…"
      ]
     },
     "metadata": {},
     "output_type": "display_data"
    },
    {
     "name": "stdout",
     "output_type": "stream",
     "text": [
      "\n"
     ]
    }
   ],
   "source": [
    "# program_profile = pandas_profiling.ProfileReport(pragrams)\n",
    "# program_profile\n",
    "program_profile = pandas_profiling.ProfileReport(programs)\n",
    "program_profile.to_file(output_file='programs_profile.html')"
   ]
  },
  {
   "cell_type": "markdown",
   "metadata": {},
   "source": [
    "#### Program Ratings for Mr.Bl@ck.s.bot "
   ]
  },
  {
   "cell_type": "markdown",
   "metadata": {},
   "source": [
    "Collect the same period of program data from 2015/9/2 to 2017/1/18, which alligned with Mr.Black@bot Season 1 and 2"
   ]
  },
  {
   "cell_type": "code",
   "execution_count": 8,
   "metadata": {},
   "outputs": [],
   "source": [
    "## Consider only BlackClickBot \n",
    "program_black = programs.copy()\n",
    "program_black['program_start_time'] = pd.to_datetime(program_black['program_start_time'])\n",
    "program_black['date'] = program_black['program_start_time'].apply(lambda x: x.date())\n",
    "program_black = program_black.loc[(program_black.date >= datetime.date(2015, 9, 21))]\n",
    "program_black = program_black.loc[(program_black.date <= datetime.date(2017, 1, 18))]"
   ]
  },
  {
   "cell_type": "code",
   "execution_count": 10,
   "metadata": {},
   "outputs": [
    {
     "data": {
      "application/vnd.jupyter.widget-view+json": {
       "model_id": "0a9fd11359d646cd82f88af3a9d69f44",
       "version_major": 2,
       "version_minor": 0
      },
      "text/plain": [
       "HBox(children=(FloatProgress(value=0.0, description='Summarize dataset', max=26.0, style=ProgressStyle(descrip…"
      ]
     },
     "metadata": {},
     "output_type": "display_data"
    },
    {
     "name": "stdout",
     "output_type": "stream",
     "text": [
      "\n"
     ]
    },
    {
     "data": {
      "application/vnd.jupyter.widget-view+json": {
       "model_id": "062fe50bd2a34c8e9349716c0849ad81",
       "version_major": 2,
       "version_minor": 0
      },
      "text/plain": [
       "HBox(children=(FloatProgress(value=0.0, description='Generate report structure', max=1.0, style=ProgressStyle(…"
      ]
     },
     "metadata": {},
     "output_type": "display_data"
    },
    {
     "name": "stdout",
     "output_type": "stream",
     "text": [
      "\n"
     ]
    },
    {
     "data": {
      "application/vnd.jupyter.widget-view+json": {
       "model_id": "8e783feb70654a3cb94d55cd99e45163",
       "version_major": 2,
       "version_minor": 0
      },
      "text/plain": [
       "HBox(children=(FloatProgress(value=0.0, description='Render HTML', max=1.0, style=ProgressStyle(description_wi…"
      ]
     },
     "metadata": {},
     "output_type": "display_data"
    },
    {
     "name": "stdout",
     "output_type": "stream",
     "text": [
      "\n"
     ]
    },
    {
     "data": {
      "application/vnd.jupyter.widget-view+json": {
       "model_id": "54a4756a49f9425e8179631456f88286",
       "version_major": 2,
       "version_minor": 0
      },
      "text/plain": [
       "HBox(children=(FloatProgress(value=0.0, description='Export report to file', max=1.0, style=ProgressStyle(desc…"
      ]
     },
     "metadata": {},
     "output_type": "display_data"
    },
    {
     "name": "stdout",
     "output_type": "stream",
     "text": [
      "\n"
     ]
    }
   ],
   "source": [
    "# program_profile = pandas_profiling.ProfileReport(rogram_black)\n",
    "# program_profile\n",
    "program_profile = pandas_profiling.ProfileReport(program_black)\n",
    "program_profile.to_file(output_file='black_program_profile.html')"
   ]
  },
  {
   "cell_type": "markdown",
   "metadata": {},
   "source": [
    "### Ratings and Loss % by date"
   ]
  },
  {
   "cell_type": "code",
   "execution_count": 10,
   "metadata": {},
   "outputs": [],
   "source": [
    "ratings['dateTime'] = ratings['Date'] + ' ' + ratings['Time']"
   ]
  },
  {
   "cell_type": "code",
   "execution_count": 11,
   "metadata": {},
   "outputs": [],
   "source": [
    "ratings['dateTime'] = pd.to_datetime(ratings['dateTime'])"
   ]
  },
  {
   "cell_type": "code",
   "execution_count": 12,
   "metadata": {},
   "outputs": [],
   "source": [
    "ratings['date'] = ratings['dateTime'].apply(lambda x: x.date())\n",
    "ratings['season'] = ratings['date'].apply(lambda x: 'Season 1' if x>=datetime.date(2015, 9, 21) and x<=datetime.date(2016, 5, 23) else 'Season 2')"
   ]
  },
  {
   "cell_type": "code",
   "execution_count": 13,
   "metadata": {},
   "outputs": [
    {
     "data": {
      "text/plain": [
       "season\n",
       "Season 1    1368\n",
       "Season 2     720\n",
       "dtype: int64"
      ]
     },
     "execution_count": 13,
     "metadata": {},
     "output_type": "execute_result"
    }
   ],
   "source": [
    "ratings.groupby('season').size()"
   ]
  },
  {
   "cell_type": "code",
   "execution_count": 14,
   "metadata": {},
   "outputs": [
    {
     "data": {
      "text/plain": [
       "count    2088.000000\n",
       "mean        1.706287\n",
       "std         0.469426\n",
       "min         0.955006\n",
       "25%         1.372028\n",
       "50%         1.552339\n",
       "75%         1.963901\n",
       "max         3.831234\n",
       "Name: Rating, dtype: float64"
      ]
     },
     "execution_count": 14,
     "metadata": {},
     "output_type": "execute_result"
    }
   ],
   "source": [
    "ratings['Rating'].describe()"
   ]
  },
  {
   "cell_type": "code",
   "execution_count": 152,
   "metadata": {},
   "outputs": [],
   "source": [
    "avg_rate = (ratings.groupby(['date'])\n",
    " .agg({'Rating':('mean')})\n",
    " .reset_index()\n",
    " .sort_values('date')\n",
    ")\n",
    "avg_total_Loss_perc = (ratings.groupby(['date'])['Total_Loss_perc'].mean()\n",
    " .reset_index()\n",
    " .sort_values('date')\n",
    ")"
   ]
  },
  {
   "cell_type": "code",
   "execution_count": 153,
   "metadata": {},
   "outputs": [
    {
     "data": {
      "image/png": "[encoded data removed]",
      "text/plain": [
       "<Figure size 576x396 with 1 Axes>"
      ]
     },
     "metadata": {},
     "output_type": "display_data"
    },
    {
     "data": {
      "image/png": "[encoded data removed]",
      "text/plain": [
       "<Figure size 576x396 with 1 Axes>"
      ]
     },
     "metadata": {},
     "output_type": "display_data"
    }
   ],
   "source": [
    "avg_rate.plot.bar(x=\"date\", y=\"Rating\", title=\"Average Ratings from 2015/9/21 to 2017/1/18\");\n",
    "avg_total_Loss_perc.plot.bar(x=\"date\", y=\"Total_Loss_perc\", title=\"Average Loss % from 2015/9/21 to 2017/1/18\")\n",
    "plt.show()"
   ]
  },
  {
   "cell_type": "code",
   "execution_count": 21,
   "metadata": {},
   "outputs": [
    {
     "data": {
      "text/html": [
       "<div>\n",
       "<style scoped>\n",
       "    .dataframe tbody tr th:only-of-type {\n",
       "        vertical-align: middle;\n",
       "    }\n",
       "\n",
       "    .dataframe tbody tr th {\n",
       "        vertical-align: top;\n",
       "    }\n",
       "\n",
       "    .dataframe thead th {\n",
       "        text-align: right;\n",
       "    }\n",
       "</style>\n",
       "<table border=\"1\" class=\"dataframe\">\n",
       "  <thead>\n",
       "    <tr style=\"text-align: right;\">\n",
       "      <th></th>\n",
       "      <th>Unnamed: 0</th>\n",
       "      <th>Network</th>\n",
       "      <th>Date</th>\n",
       "      <th>Time</th>\n",
       "      <th>Program</th>\n",
       "      <th>Length</th>\n",
       "      <th>Rating</th>\n",
       "      <th>Minute_In_Commercial</th>\n",
       "      <th>Total_Loss_perc</th>\n",
       "      <th>dateTime</th>\n",
       "      <th>date</th>\n",
       "      <th>season</th>\n",
       "    </tr>\n",
       "  </thead>\n",
       "  <tbody>\n",
       "    <tr>\n",
       "      <th>1368</th>\n",
       "      <td>1368</td>\n",
       "      <td>DKN</td>\n",
       "      <td>2016-09-14</td>\n",
       "      <td>10:00 PM</td>\n",
       "      <td>BLACK_S_BOT</td>\n",
       "      <td>60</td>\n",
       "      <td>3.831234</td>\n",
       "      <td>0</td>\n",
       "      <td>28.891510</td>\n",
       "      <td>2016-09-14 22:00:00</td>\n",
       "      <td>2016-09-14</td>\n",
       "      <td>Season 2</td>\n",
       "    </tr>\n",
       "    <tr>\n",
       "      <th>0</th>\n",
       "      <td>0</td>\n",
       "      <td>DKN</td>\n",
       "      <td>2015-09-21</td>\n",
       "      <td>10:00 PM</td>\n",
       "      <td>BLACK_S_BOT</td>\n",
       "      <td>60</td>\n",
       "      <td>3.735534</td>\n",
       "      <td>0</td>\n",
       "      <td>15.637767</td>\n",
       "      <td>2015-09-21 22:00:00</td>\n",
       "      <td>2015-09-21</td>\n",
       "      <td>Season 1</td>\n",
       "    </tr>\n",
       "    <tr>\n",
       "      <th>600</th>\n",
       "      <td>600</td>\n",
       "      <td>DKN</td>\n",
       "      <td>2016-02-29</td>\n",
       "      <td>10:00 PM</td>\n",
       "      <td>BLACK_S_BOT</td>\n",
       "      <td>60</td>\n",
       "      <td>3.638675</td>\n",
       "      <td>0</td>\n",
       "      <td>26.661760</td>\n",
       "      <td>2016-02-29 22:00:00</td>\n",
       "      <td>2016-02-29</td>\n",
       "      <td>Season 1</td>\n",
       "    </tr>\n",
       "    <tr>\n",
       "      <th>2</th>\n",
       "      <td>2</td>\n",
       "      <td>DKN</td>\n",
       "      <td>2015-09-21</td>\n",
       "      <td>10:02 PM</td>\n",
       "      <td>BLACK_S_BOT</td>\n",
       "      <td>60</td>\n",
       "      <td>3.540440</td>\n",
       "      <td>0</td>\n",
       "      <td>6.501681</td>\n",
       "      <td>2015-09-21 22:02:00</td>\n",
       "      <td>2015-09-21</td>\n",
       "      <td>Season 1</td>\n",
       "    </tr>\n",
       "    <tr>\n",
       "      <th>60</th>\n",
       "      <td>60</td>\n",
       "      <td>DKN</td>\n",
       "      <td>2015-09-28</td>\n",
       "      <td>10:00 PM</td>\n",
       "      <td>BLACK_S_BOT</td>\n",
       "      <td>60</td>\n",
       "      <td>3.529610</td>\n",
       "      <td>0</td>\n",
       "      <td>21.636786</td>\n",
       "      <td>2015-09-28 22:00:00</td>\n",
       "      <td>2015-09-28</td>\n",
       "      <td>Season 1</td>\n",
       "    </tr>\n",
       "    <tr>\n",
       "      <th>1</th>\n",
       "      <td>1</td>\n",
       "      <td>DKN</td>\n",
       "      <td>2015-09-21</td>\n",
       "      <td>10:01 PM</td>\n",
       "      <td>BLACK_S_BOT</td>\n",
       "      <td>60</td>\n",
       "      <td>3.528162</td>\n",
       "      <td>0</td>\n",
       "      <td>5.965321</td>\n",
       "      <td>2015-09-21 22:01:00</td>\n",
       "      <td>2015-09-21</td>\n",
       "      <td>Season 1</td>\n",
       "    </tr>\n",
       "    <tr>\n",
       "      <th>3</th>\n",
       "      <td>3</td>\n",
       "      <td>DKN</td>\n",
       "      <td>2015-09-21</td>\n",
       "      <td>10:03 PM</td>\n",
       "      <td>BLACK_S_BOT</td>\n",
       "      <td>60</td>\n",
       "      <td>3.478097</td>\n",
       "      <td>0</td>\n",
       "      <td>5.259257</td>\n",
       "      <td>2015-09-21 22:03:00</td>\n",
       "      <td>2015-09-21</td>\n",
       "      <td>Season 1</td>\n",
       "    </tr>\n",
       "    <tr>\n",
       "      <th>660</th>\n",
       "      <td>660</td>\n",
       "      <td>DKN</td>\n",
       "      <td>2016-03-07</td>\n",
       "      <td>10:01 PM</td>\n",
       "      <td>BLACK_S_BOT</td>\n",
       "      <td>59</td>\n",
       "      <td>3.414862</td>\n",
       "      <td>0</td>\n",
       "      <td>25.702512</td>\n",
       "      <td>2016-03-07 22:01:00</td>\n",
       "      <td>2016-03-07</td>\n",
       "      <td>Season 1</td>\n",
       "    </tr>\n",
       "    <tr>\n",
       "      <th>4</th>\n",
       "      <td>4</td>\n",
       "      <td>DKN</td>\n",
       "      <td>2015-09-21</td>\n",
       "      <td>10:04 PM</td>\n",
       "      <td>BLACK_S_BOT</td>\n",
       "      <td>60</td>\n",
       "      <td>3.385776</td>\n",
       "      <td>0</td>\n",
       "      <td>3.366675</td>\n",
       "      <td>2015-09-21 22:04:00</td>\n",
       "      <td>2015-09-21</td>\n",
       "      <td>Season 1</td>\n",
       "    </tr>\n",
       "    <tr>\n",
       "      <th>5</th>\n",
       "      <td>5</td>\n",
       "      <td>DKN</td>\n",
       "      <td>2015-09-21</td>\n",
       "      <td>10:05 PM</td>\n",
       "      <td>BLACK_S_BOT</td>\n",
       "      <td>60</td>\n",
       "      <td>3.337246</td>\n",
       "      <td>0</td>\n",
       "      <td>2.329912</td>\n",
       "      <td>2015-09-21 22:05:00</td>\n",
       "      <td>2015-09-21</td>\n",
       "      <td>Season 1</td>\n",
       "    </tr>\n",
       "  </tbody>\n",
       "</table>\n",
       "</div>"
      ],
      "text/plain": [
       "      Unnamed: 0 Network        Date      Time      Program  Length    Rating  \\\n",
       "1368        1368     DKN  2016-09-14  10:00 PM  BLACK_S_BOT      60  3.831234   \n",
       "0              0     DKN  2015-09-21  10:00 PM  BLACK_S_BOT      60  3.735534   \n",
       "600          600     DKN  2016-02-29  10:00 PM  BLACK_S_BOT      60  3.638675   \n",
       "2              2     DKN  2015-09-21  10:02 PM  BLACK_S_BOT      60  3.540440   \n",
       "60            60     DKN  2015-09-28  10:00 PM  BLACK_S_BOT      60  3.529610   \n",
       "1              1     DKN  2015-09-21  10:01 PM  BLACK_S_BOT      60  3.528162   \n",
       "3              3     DKN  2015-09-21  10:03 PM  BLACK_S_BOT      60  3.478097   \n",
       "660          660     DKN  2016-03-07  10:01 PM  BLACK_S_BOT      59  3.414862   \n",
       "4              4     DKN  2015-09-21  10:04 PM  BLACK_S_BOT      60  3.385776   \n",
       "5              5     DKN  2015-09-21  10:05 PM  BLACK_S_BOT      60  3.337246   \n",
       "\n",
       "      Minute_In_Commercial  Total_Loss_perc            dateTime        date  \\\n",
       "1368                     0        28.891510 2016-09-14 22:00:00  2016-09-14   \n",
       "0                        0        15.637767 2015-09-21 22:00:00  2015-09-21   \n",
       "600                      0        26.661760 2016-02-29 22:00:00  2016-02-29   \n",
       "2                        0         6.501681 2015-09-21 22:02:00  2015-09-21   \n",
       "60                       0        21.636786 2015-09-28 22:00:00  2015-09-28   \n",
       "1                        0         5.965321 2015-09-21 22:01:00  2015-09-21   \n",
       "3                        0         5.259257 2015-09-21 22:03:00  2015-09-21   \n",
       "660                      0        25.702512 2016-03-07 22:01:00  2016-03-07   \n",
       "4                        0         3.366675 2015-09-21 22:04:00  2015-09-21   \n",
       "5                        0         2.329912 2015-09-21 22:05:00  2015-09-21   \n",
       "\n",
       "        season  \n",
       "1368  Season 2  \n",
       "0     Season 1  \n",
       "600   Season 1  \n",
       "2     Season 1  \n",
       "60    Season 1  \n",
       "1     Season 1  \n",
       "3     Season 1  \n",
       "660   Season 1  \n",
       "4     Season 1  \n",
       "5     Season 1  "
      ]
     },
     "execution_count": 21,
     "metadata": {},
     "output_type": "execute_result"
    }
   ],
   "source": [
    "ratings.nlargest(10, columns='Rating')"
   ]
  },
  {
   "cell_type": "code",
   "execution_count": 22,
   "metadata": {},
   "outputs": [
    {
     "data": {
      "text/html": [
       "<div>\n",
       "<style scoped>\n",
       "    .dataframe tbody tr th:only-of-type {\n",
       "        vertical-align: middle;\n",
       "    }\n",
       "\n",
       "    .dataframe tbody tr th {\n",
       "        vertical-align: top;\n",
       "    }\n",
       "\n",
       "    .dataframe thead th {\n",
       "        text-align: right;\n",
       "    }\n",
       "</style>\n",
       "<table border=\"1\" class=\"dataframe\">\n",
       "  <thead>\n",
       "    <tr style=\"text-align: right;\">\n",
       "      <th></th>\n",
       "      <th>Unnamed: 0</th>\n",
       "      <th>Network</th>\n",
       "      <th>Date</th>\n",
       "      <th>Time</th>\n",
       "      <th>Program</th>\n",
       "      <th>Length</th>\n",
       "      <th>Rating</th>\n",
       "      <th>Minute_In_Commercial</th>\n",
       "      <th>Total_Loss_perc</th>\n",
       "      <th>dateTime</th>\n",
       "      <th>date</th>\n",
       "      <th>season</th>\n",
       "    </tr>\n",
       "  </thead>\n",
       "  <tbody>\n",
       "    <tr>\n",
       "      <th>2068</th>\n",
       "      <td>2068</td>\n",
       "      <td>DKN</td>\n",
       "      <td>2017-01-18</td>\n",
       "      <td>08:40 PM</td>\n",
       "      <td>BLACK_S_BOT</td>\n",
       "      <td>60</td>\n",
       "      <td>0.955006</td>\n",
       "      <td>1</td>\n",
       "      <td>3.244431</td>\n",
       "      <td>2017-01-18 20:40:00</td>\n",
       "      <td>2017-01-18</td>\n",
       "      <td>Season 2</td>\n",
       "    </tr>\n",
       "    <tr>\n",
       "      <th>2069</th>\n",
       "      <td>2069</td>\n",
       "      <td>DKN</td>\n",
       "      <td>2017-01-18</td>\n",
       "      <td>08:41 PM</td>\n",
       "      <td>BLACK_S_BOT</td>\n",
       "      <td>60</td>\n",
       "      <td>0.964660</td>\n",
       "      <td>0</td>\n",
       "      <td>2.836796</td>\n",
       "      <td>2017-01-18 20:41:00</td>\n",
       "      <td>2017-01-18</td>\n",
       "      <td>Season 2</td>\n",
       "    </tr>\n",
       "    <tr>\n",
       "      <th>2067</th>\n",
       "      <td>2067</td>\n",
       "      <td>DKN</td>\n",
       "      <td>2017-01-18</td>\n",
       "      <td>08:39 PM</td>\n",
       "      <td>BLACK_S_BOT</td>\n",
       "      <td>60</td>\n",
       "      <td>0.968701</td>\n",
       "      <td>1</td>\n",
       "      <td>3.613537</td>\n",
       "      <td>2017-01-18 20:39:00</td>\n",
       "      <td>2017-01-18</td>\n",
       "      <td>Season 2</td>\n",
       "    </tr>\n",
       "    <tr>\n",
       "      <th>2076</th>\n",
       "      <td>2076</td>\n",
       "      <td>DKN</td>\n",
       "      <td>2017-01-18</td>\n",
       "      <td>08:48 PM</td>\n",
       "      <td>BLACK_S_BOT</td>\n",
       "      <td>60</td>\n",
       "      <td>0.972682</td>\n",
       "      <td>1</td>\n",
       "      <td>2.191736</td>\n",
       "      <td>2017-01-18 20:48:00</td>\n",
       "      <td>2017-01-18</td>\n",
       "      <td>Season 2</td>\n",
       "    </tr>\n",
       "    <tr>\n",
       "      <th>2077</th>\n",
       "      <td>2077</td>\n",
       "      <td>DKN</td>\n",
       "      <td>2017-01-18</td>\n",
       "      <td>08:49 PM</td>\n",
       "      <td>BLACK_S_BOT</td>\n",
       "      <td>60</td>\n",
       "      <td>0.974435</td>\n",
       "      <td>1</td>\n",
       "      <td>1.896227</td>\n",
       "      <td>2017-01-18 20:49:00</td>\n",
       "      <td>2017-01-18</td>\n",
       "      <td>Season 2</td>\n",
       "    </tr>\n",
       "    <tr>\n",
       "      <th>2078</th>\n",
       "      <td>2078</td>\n",
       "      <td>DKN</td>\n",
       "      <td>2017-01-18</td>\n",
       "      <td>08:50 PM</td>\n",
       "      <td>BLACK_S_BOT</td>\n",
       "      <td>60</td>\n",
       "      <td>0.981209</td>\n",
       "      <td>1</td>\n",
       "      <td>1.348651</td>\n",
       "      <td>2017-01-18 20:50:00</td>\n",
       "      <td>2017-01-18</td>\n",
       "      <td>Season 2</td>\n",
       "    </tr>\n",
       "    <tr>\n",
       "      <th>2070</th>\n",
       "      <td>2070</td>\n",
       "      <td>DKN</td>\n",
       "      <td>2017-01-18</td>\n",
       "      <td>08:42 PM</td>\n",
       "      <td>BLACK_S_BOT</td>\n",
       "      <td>60</td>\n",
       "      <td>0.982866</td>\n",
       "      <td>1</td>\n",
       "      <td>2.244323</td>\n",
       "      <td>2017-01-18 20:42:00</td>\n",
       "      <td>2017-01-18</td>\n",
       "      <td>Season 2</td>\n",
       "    </tr>\n",
       "    <tr>\n",
       "      <th>2058</th>\n",
       "      <td>2058</td>\n",
       "      <td>DKN</td>\n",
       "      <td>2017-01-18</td>\n",
       "      <td>08:30 PM</td>\n",
       "      <td>BLACK_S_BOT</td>\n",
       "      <td>60</td>\n",
       "      <td>0.983418</td>\n",
       "      <td>1</td>\n",
       "      <td>2.010489</td>\n",
       "      <td>2017-01-18 20:30:00</td>\n",
       "      <td>2017-01-18</td>\n",
       "      <td>Season 2</td>\n",
       "    </tr>\n",
       "    <tr>\n",
       "      <th>2059</th>\n",
       "      <td>2059</td>\n",
       "      <td>DKN</td>\n",
       "      <td>2017-01-18</td>\n",
       "      <td>08:31 PM</td>\n",
       "      <td>BLACK_S_BOT</td>\n",
       "      <td>60</td>\n",
       "      <td>0.991686</td>\n",
       "      <td>1</td>\n",
       "      <td>2.531508</td>\n",
       "      <td>2017-01-18 20:31:00</td>\n",
       "      <td>2017-01-18</td>\n",
       "      <td>Season 2</td>\n",
       "    </tr>\n",
       "    <tr>\n",
       "      <th>2045</th>\n",
       "      <td>2045</td>\n",
       "      <td>DKN</td>\n",
       "      <td>2017-01-18</td>\n",
       "      <td>08:17 PM</td>\n",
       "      <td>BLACK_S_BOT</td>\n",
       "      <td>60</td>\n",
       "      <td>0.993828</td>\n",
       "      <td>1</td>\n",
       "      <td>2.604938</td>\n",
       "      <td>2017-01-18 20:17:00</td>\n",
       "      <td>2017-01-18</td>\n",
       "      <td>Season 2</td>\n",
       "    </tr>\n",
       "  </tbody>\n",
       "</table>\n",
       "</div>"
      ],
      "text/plain": [
       "      Unnamed: 0 Network        Date      Time      Program  Length    Rating  \\\n",
       "2068        2068     DKN  2017-01-18  08:40 PM  BLACK_S_BOT      60  0.955006   \n",
       "2069        2069     DKN  2017-01-18  08:41 PM  BLACK_S_BOT      60  0.964660   \n",
       "2067        2067     DKN  2017-01-18  08:39 PM  BLACK_S_BOT      60  0.968701   \n",
       "2076        2076     DKN  2017-01-18  08:48 PM  BLACK_S_BOT      60  0.972682   \n",
       "2077        2077     DKN  2017-01-18  08:49 PM  BLACK_S_BOT      60  0.974435   \n",
       "2078        2078     DKN  2017-01-18  08:50 PM  BLACK_S_BOT      60  0.981209   \n",
       "2070        2070     DKN  2017-01-18  08:42 PM  BLACK_S_BOT      60  0.982866   \n",
       "2058        2058     DKN  2017-01-18  08:30 PM  BLACK_S_BOT      60  0.983418   \n",
       "2059        2059     DKN  2017-01-18  08:31 PM  BLACK_S_BOT      60  0.991686   \n",
       "2045        2045     DKN  2017-01-18  08:17 PM  BLACK_S_BOT      60  0.993828   \n",
       "\n",
       "      Minute_In_Commercial  Total_Loss_perc            dateTime        date  \\\n",
       "2068                     1         3.244431 2017-01-18 20:40:00  2017-01-18   \n",
       "2069                     0         2.836796 2017-01-18 20:41:00  2017-01-18   \n",
       "2067                     1         3.613537 2017-01-18 20:39:00  2017-01-18   \n",
       "2076                     1         2.191736 2017-01-18 20:48:00  2017-01-18   \n",
       "2077                     1         1.896227 2017-01-18 20:49:00  2017-01-18   \n",
       "2078                     1         1.348651 2017-01-18 20:50:00  2017-01-18   \n",
       "2070                     1         2.244323 2017-01-18 20:42:00  2017-01-18   \n",
       "2058                     1         2.010489 2017-01-18 20:30:00  2017-01-18   \n",
       "2059                     1         2.531508 2017-01-18 20:31:00  2017-01-18   \n",
       "2045                     1         2.604938 2017-01-18 20:17:00  2017-01-18   \n",
       "\n",
       "        season  \n",
       "2068  Season 2  \n",
       "2069  Season 2  \n",
       "2067  Season 2  \n",
       "2076  Season 2  \n",
       "2077  Season 2  \n",
       "2078  Season 2  \n",
       "2070  Season 2  \n",
       "2058  Season 2  \n",
       "2059  Season 2  \n",
       "2045  Season 2  "
      ]
     },
     "execution_count": 22,
     "metadata": {},
     "output_type": "execute_result"
    }
   ],
   "source": [
    "ratings.nsmallest(10, columns='Rating')"
   ]
  },
  {
   "cell_type": "code",
   "execution_count": 23,
   "metadata": {},
   "outputs": [
    {
     "data": {
      "text/html": [
       "<div>\n",
       "<style scoped>\n",
       "    .dataframe tbody tr th:only-of-type {\n",
       "        vertical-align: middle;\n",
       "    }\n",
       "\n",
       "    .dataframe tbody tr th {\n",
       "        vertical-align: top;\n",
       "    }\n",
       "\n",
       "    .dataframe thead th {\n",
       "        text-align: right;\n",
       "    }\n",
       "</style>\n",
       "<table border=\"1\" class=\"dataframe\">\n",
       "  <thead>\n",
       "    <tr style=\"text-align: right;\">\n",
       "      <th></th>\n",
       "      <th>Unnamed: 0</th>\n",
       "      <th>Network</th>\n",
       "      <th>Date</th>\n",
       "      <th>Time</th>\n",
       "      <th>Program</th>\n",
       "      <th>Length</th>\n",
       "      <th>Rating</th>\n",
       "      <th>Minute_In_Commercial</th>\n",
       "      <th>Total_Loss_perc</th>\n",
       "      <th>dateTime</th>\n",
       "      <th>date</th>\n",
       "      <th>season</th>\n",
       "    </tr>\n",
       "  </thead>\n",
       "  <tbody>\n",
       "    <tr>\n",
       "      <th>1250</th>\n",
       "      <td>1250</td>\n",
       "      <td>DKN</td>\n",
       "      <td>2016-05-16</td>\n",
       "      <td>10:01 PM</td>\n",
       "      <td>BLACK_S_BOT</td>\n",
       "      <td>59</td>\n",
       "      <td>2.791087</td>\n",
       "      <td>0</td>\n",
       "      <td>29.634020</td>\n",
       "      <td>2016-05-16 22:01:00</td>\n",
       "      <td>2016-05-16</td>\n",
       "      <td>Season 1</td>\n",
       "    </tr>\n",
       "    <tr>\n",
       "      <th>1368</th>\n",
       "      <td>1368</td>\n",
       "      <td>DKN</td>\n",
       "      <td>2016-09-14</td>\n",
       "      <td>10:00 PM</td>\n",
       "      <td>BLACK_S_BOT</td>\n",
       "      <td>60</td>\n",
       "      <td>3.831234</td>\n",
       "      <td>0</td>\n",
       "      <td>28.891510</td>\n",
       "      <td>2016-09-14 22:00:00</td>\n",
       "      <td>2016-09-14</td>\n",
       "      <td>Season 2</td>\n",
       "    </tr>\n",
       "    <tr>\n",
       "      <th>600</th>\n",
       "      <td>600</td>\n",
       "      <td>DKN</td>\n",
       "      <td>2016-02-29</td>\n",
       "      <td>10:00 PM</td>\n",
       "      <td>BLACK_S_BOT</td>\n",
       "      <td>60</td>\n",
       "      <td>3.638675</td>\n",
       "      <td>0</td>\n",
       "      <td>26.661760</td>\n",
       "      <td>2016-02-29 22:00:00</td>\n",
       "      <td>2016-02-29</td>\n",
       "      <td>Season 1</td>\n",
       "    </tr>\n",
       "    <tr>\n",
       "      <th>837</th>\n",
       "      <td>837</td>\n",
       "      <td>DKN</td>\n",
       "      <td>2016-03-28</td>\n",
       "      <td>10:01 PM</td>\n",
       "      <td>BLACK_S_BOT</td>\n",
       "      <td>59</td>\n",
       "      <td>2.862369</td>\n",
       "      <td>0</td>\n",
       "      <td>25.990907</td>\n",
       "      <td>2016-03-28 22:01:00</td>\n",
       "      <td>2016-03-28</td>\n",
       "      <td>Season 1</td>\n",
       "    </tr>\n",
       "    <tr>\n",
       "      <th>660</th>\n",
       "      <td>660</td>\n",
       "      <td>DKN</td>\n",
       "      <td>2016-03-07</td>\n",
       "      <td>10:01 PM</td>\n",
       "      <td>BLACK_S_BOT</td>\n",
       "      <td>59</td>\n",
       "      <td>3.414862</td>\n",
       "      <td>0</td>\n",
       "      <td>25.702512</td>\n",
       "      <td>2016-03-07 22:01:00</td>\n",
       "      <td>2016-03-07</td>\n",
       "      <td>Season 1</td>\n",
       "    </tr>\n",
       "    <tr>\n",
       "      <th>1309</th>\n",
       "      <td>1309</td>\n",
       "      <td>DKN</td>\n",
       "      <td>2016-05-23</td>\n",
       "      <td>10:01 PM</td>\n",
       "      <td>BLACK_S_BOT</td>\n",
       "      <td>59</td>\n",
       "      <td>2.669922</td>\n",
       "      <td>0</td>\n",
       "      <td>25.463404</td>\n",
       "      <td>2016-05-23 22:01:00</td>\n",
       "      <td>2016-05-23</td>\n",
       "      <td>Season 1</td>\n",
       "    </tr>\n",
       "    <tr>\n",
       "      <th>1191</th>\n",
       "      <td>1191</td>\n",
       "      <td>DKN</td>\n",
       "      <td>2016-05-09</td>\n",
       "      <td>10:01 PM</td>\n",
       "      <td>BLACK_S_BOT</td>\n",
       "      <td>59</td>\n",
       "      <td>2.681112</td>\n",
       "      <td>0</td>\n",
       "      <td>25.303860</td>\n",
       "      <td>2016-05-09 22:01:00</td>\n",
       "      <td>2016-05-09</td>\n",
       "      <td>Season 1</td>\n",
       "    </tr>\n",
       "    <tr>\n",
       "      <th>1132</th>\n",
       "      <td>1132</td>\n",
       "      <td>DKN</td>\n",
       "      <td>2016-05-02</td>\n",
       "      <td>10:01 PM</td>\n",
       "      <td>BLACK_S_BOT</td>\n",
       "      <td>59</td>\n",
       "      <td>2.593268</td>\n",
       "      <td>0</td>\n",
       "      <td>24.792615</td>\n",
       "      <td>2016-05-02 22:01:00</td>\n",
       "      <td>2016-05-02</td>\n",
       "      <td>Season 1</td>\n",
       "    </tr>\n",
       "    <tr>\n",
       "      <th>1014</th>\n",
       "      <td>1014</td>\n",
       "      <td>DKN</td>\n",
       "      <td>2016-04-18</td>\n",
       "      <td>10:01 PM</td>\n",
       "      <td>BLACK_S_BOT</td>\n",
       "      <td>59</td>\n",
       "      <td>2.875911</td>\n",
       "      <td>0</td>\n",
       "      <td>23.574558</td>\n",
       "      <td>2016-04-18 22:01:00</td>\n",
       "      <td>2016-04-18</td>\n",
       "      <td>Season 1</td>\n",
       "    </tr>\n",
       "    <tr>\n",
       "      <th>480</th>\n",
       "      <td>480</td>\n",
       "      <td>DKN</td>\n",
       "      <td>2015-11-16</td>\n",
       "      <td>10:00 PM</td>\n",
       "      <td>BLACK_S_BOT</td>\n",
       "      <td>60</td>\n",
       "      <td>3.230364</td>\n",
       "      <td>0</td>\n",
       "      <td>23.532294</td>\n",
       "      <td>2015-11-16 22:00:00</td>\n",
       "      <td>2015-11-16</td>\n",
       "      <td>Season 1</td>\n",
       "    </tr>\n",
       "  </tbody>\n",
       "</table>\n",
       "</div>"
      ],
      "text/plain": [
       "      Unnamed: 0 Network        Date      Time      Program  Length    Rating  \\\n",
       "1250        1250     DKN  2016-05-16  10:01 PM  BLACK_S_BOT      59  2.791087   \n",
       "1368        1368     DKN  2016-09-14  10:00 PM  BLACK_S_BOT      60  3.831234   \n",
       "600          600     DKN  2016-02-29  10:00 PM  BLACK_S_BOT      60  3.638675   \n",
       "837          837     DKN  2016-03-28  10:01 PM  BLACK_S_BOT      59  2.862369   \n",
       "660          660     DKN  2016-03-07  10:01 PM  BLACK_S_BOT      59  3.414862   \n",
       "1309        1309     DKN  2016-05-23  10:01 PM  BLACK_S_BOT      59  2.669922   \n",
       "1191        1191     DKN  2016-05-09  10:01 PM  BLACK_S_BOT      59  2.681112   \n",
       "1132        1132     DKN  2016-05-02  10:01 PM  BLACK_S_BOT      59  2.593268   \n",
       "1014        1014     DKN  2016-04-18  10:01 PM  BLACK_S_BOT      59  2.875911   \n",
       "480          480     DKN  2015-11-16  10:00 PM  BLACK_S_BOT      60  3.230364   \n",
       "\n",
       "      Minute_In_Commercial  Total_Loss_perc            dateTime        date  \\\n",
       "1250                     0        29.634020 2016-05-16 22:01:00  2016-05-16   \n",
       "1368                     0        28.891510 2016-09-14 22:00:00  2016-09-14   \n",
       "600                      0        26.661760 2016-02-29 22:00:00  2016-02-29   \n",
       "837                      0        25.990907 2016-03-28 22:01:00  2016-03-28   \n",
       "660                      0        25.702512 2016-03-07 22:01:00  2016-03-07   \n",
       "1309                     0        25.463404 2016-05-23 22:01:00  2016-05-23   \n",
       "1191                     0        25.303860 2016-05-09 22:01:00  2016-05-09   \n",
       "1132                     0        24.792615 2016-05-02 22:01:00  2016-05-02   \n",
       "1014                     0        23.574558 2016-04-18 22:01:00  2016-04-18   \n",
       "480                      0        23.532294 2015-11-16 22:00:00  2015-11-16   \n",
       "\n",
       "        season  \n",
       "1250  Season 1  \n",
       "1368  Season 2  \n",
       "600   Season 1  \n",
       "837   Season 1  \n",
       "660   Season 1  \n",
       "1309  Season 1  \n",
       "1191  Season 1  \n",
       "1132  Season 1  \n",
       "1014  Season 1  \n",
       "480   Season 1  "
      ]
     },
     "execution_count": 23,
     "metadata": {},
     "output_type": "execute_result"
    }
   ],
   "source": [
    "ratings.nlargest(10, columns = 'Total_Loss_perc')"
   ]
  },
  {
   "cell_type": "code",
   "execution_count": 24,
   "metadata": {},
   "outputs": [
    {
     "data": {
      "text/html": [
       "<div>\n",
       "<style scoped>\n",
       "    .dataframe tbody tr th:only-of-type {\n",
       "        vertical-align: middle;\n",
       "    }\n",
       "\n",
       "    .dataframe tbody tr th {\n",
       "        vertical-align: top;\n",
       "    }\n",
       "\n",
       "    .dataframe thead th {\n",
       "        text-align: right;\n",
       "    }\n",
       "</style>\n",
       "<table border=\"1\" class=\"dataframe\">\n",
       "  <thead>\n",
       "    <tr style=\"text-align: right;\">\n",
       "      <th></th>\n",
       "      <th>Unnamed: 0</th>\n",
       "      <th>Network</th>\n",
       "      <th>Date</th>\n",
       "      <th>Time</th>\n",
       "      <th>Program</th>\n",
       "      <th>Length</th>\n",
       "      <th>Rating</th>\n",
       "      <th>Minute_In_Commercial</th>\n",
       "      <th>Total_Loss_perc</th>\n",
       "      <th>dateTime</th>\n",
       "      <th>date</th>\n",
       "      <th>season</th>\n",
       "    </tr>\n",
       "  </thead>\n",
       "  <tbody>\n",
       "    <tr>\n",
       "      <th>59</th>\n",
       "      <td>59</td>\n",
       "      <td>DKN</td>\n",
       "      <td>2015-09-21</td>\n",
       "      <td>10:59 PM</td>\n",
       "      <td>BLACK_S_BOT</td>\n",
       "      <td>60</td>\n",
       "      <td>3.067311</td>\n",
       "      <td>0</td>\n",
       "      <td>0.0</td>\n",
       "      <td>2015-09-21 22:59:00</td>\n",
       "      <td>2015-09-21</td>\n",
       "      <td>Season 1</td>\n",
       "    </tr>\n",
       "    <tr>\n",
       "      <th>119</th>\n",
       "      <td>119</td>\n",
       "      <td>DKN</td>\n",
       "      <td>2015-09-28</td>\n",
       "      <td>10:59 PM</td>\n",
       "      <td>BLACK_S_BOT</td>\n",
       "      <td>60</td>\n",
       "      <td>2.250048</td>\n",
       "      <td>1</td>\n",
       "      <td>0.0</td>\n",
       "      <td>2015-09-28 22:59:00</td>\n",
       "      <td>2015-09-28</td>\n",
       "      <td>Season 1</td>\n",
       "    </tr>\n",
       "    <tr>\n",
       "      <th>179</th>\n",
       "      <td>179</td>\n",
       "      <td>DKN</td>\n",
       "      <td>2015-10-05</td>\n",
       "      <td>10:59 PM</td>\n",
       "      <td>BLACK_S_BOT</td>\n",
       "      <td>60</td>\n",
       "      <td>2.227396</td>\n",
       "      <td>1</td>\n",
       "      <td>0.0</td>\n",
       "      <td>2015-10-05 22:59:00</td>\n",
       "      <td>2015-10-05</td>\n",
       "      <td>Season 1</td>\n",
       "    </tr>\n",
       "    <tr>\n",
       "      <th>239</th>\n",
       "      <td>239</td>\n",
       "      <td>DKN</td>\n",
       "      <td>2015-10-12</td>\n",
       "      <td>10:59 PM</td>\n",
       "      <td>BLACK_S_BOT</td>\n",
       "      <td>60</td>\n",
       "      <td>2.070064</td>\n",
       "      <td>1</td>\n",
       "      <td>0.0</td>\n",
       "      <td>2015-10-12 22:59:00</td>\n",
       "      <td>2015-10-12</td>\n",
       "      <td>Season 1</td>\n",
       "    </tr>\n",
       "    <tr>\n",
       "      <th>299</th>\n",
       "      <td>299</td>\n",
       "      <td>DKN</td>\n",
       "      <td>2015-10-19</td>\n",
       "      <td>10:59 PM</td>\n",
       "      <td>BLACK_S_BOT</td>\n",
       "      <td>60</td>\n",
       "      <td>2.130356</td>\n",
       "      <td>1</td>\n",
       "      <td>0.0</td>\n",
       "      <td>2015-10-19 22:59:00</td>\n",
       "      <td>2015-10-19</td>\n",
       "      <td>Season 1</td>\n",
       "    </tr>\n",
       "    <tr>\n",
       "      <th>359</th>\n",
       "      <td>359</td>\n",
       "      <td>DKN</td>\n",
       "      <td>2015-10-26</td>\n",
       "      <td>10:59 PM</td>\n",
       "      <td>BLACK_S_BOT</td>\n",
       "      <td>60</td>\n",
       "      <td>1.983187</td>\n",
       "      <td>1</td>\n",
       "      <td>0.0</td>\n",
       "      <td>2015-10-26 22:59:00</td>\n",
       "      <td>2015-10-26</td>\n",
       "      <td>Season 1</td>\n",
       "    </tr>\n",
       "    <tr>\n",
       "      <th>419</th>\n",
       "      <td>419</td>\n",
       "      <td>DKN</td>\n",
       "      <td>2015-11-02</td>\n",
       "      <td>10:59 PM</td>\n",
       "      <td>BLACK_S_BOT</td>\n",
       "      <td>60</td>\n",
       "      <td>2.383369</td>\n",
       "      <td>0</td>\n",
       "      <td>0.0</td>\n",
       "      <td>2015-11-02 22:59:00</td>\n",
       "      <td>2015-11-02</td>\n",
       "      <td>Season 1</td>\n",
       "    </tr>\n",
       "    <tr>\n",
       "      <th>479</th>\n",
       "      <td>479</td>\n",
       "      <td>DKN</td>\n",
       "      <td>2015-11-09</td>\n",
       "      <td>10:59 PM</td>\n",
       "      <td>BLACK_S_BOT</td>\n",
       "      <td>60</td>\n",
       "      <td>1.935596</td>\n",
       "      <td>0</td>\n",
       "      <td>0.0</td>\n",
       "      <td>2015-11-09 22:59:00</td>\n",
       "      <td>2015-11-09</td>\n",
       "      <td>Season 1</td>\n",
       "    </tr>\n",
       "    <tr>\n",
       "      <th>539</th>\n",
       "      <td>539</td>\n",
       "      <td>DKN</td>\n",
       "      <td>2015-11-16</td>\n",
       "      <td>10:59 PM</td>\n",
       "      <td>BLACK_S_BOT</td>\n",
       "      <td>60</td>\n",
       "      <td>2.273419</td>\n",
       "      <td>0</td>\n",
       "      <td>0.0</td>\n",
       "      <td>2015-11-16 22:59:00</td>\n",
       "      <td>2015-11-16</td>\n",
       "      <td>Season 1</td>\n",
       "    </tr>\n",
       "    <tr>\n",
       "      <th>599</th>\n",
       "      <td>599</td>\n",
       "      <td>DKN</td>\n",
       "      <td>2015-11-23</td>\n",
       "      <td>10:59 PM</td>\n",
       "      <td>BLACK_S_BOT</td>\n",
       "      <td>60</td>\n",
       "      <td>1.740585</td>\n",
       "      <td>0</td>\n",
       "      <td>0.0</td>\n",
       "      <td>2015-11-23 22:59:00</td>\n",
       "      <td>2015-11-23</td>\n",
       "      <td>Season 1</td>\n",
       "    </tr>\n",
       "  </tbody>\n",
       "</table>\n",
       "</div>"
      ],
      "text/plain": [
       "     Unnamed: 0 Network        Date      Time      Program  Length    Rating  \\\n",
       "59           59     DKN  2015-09-21  10:59 PM  BLACK_S_BOT      60  3.067311   \n",
       "119         119     DKN  2015-09-28  10:59 PM  BLACK_S_BOT      60  2.250048   \n",
       "179         179     DKN  2015-10-05  10:59 PM  BLACK_S_BOT      60  2.227396   \n",
       "239         239     DKN  2015-10-12  10:59 PM  BLACK_S_BOT      60  2.070064   \n",
       "299         299     DKN  2015-10-19  10:59 PM  BLACK_S_BOT      60  2.130356   \n",
       "359         359     DKN  2015-10-26  10:59 PM  BLACK_S_BOT      60  1.983187   \n",
       "419         419     DKN  2015-11-02  10:59 PM  BLACK_S_BOT      60  2.383369   \n",
       "479         479     DKN  2015-11-09  10:59 PM  BLACK_S_BOT      60  1.935596   \n",
       "539         539     DKN  2015-11-16  10:59 PM  BLACK_S_BOT      60  2.273419   \n",
       "599         599     DKN  2015-11-23  10:59 PM  BLACK_S_BOT      60  1.740585   \n",
       "\n",
       "     Minute_In_Commercial  Total_Loss_perc            dateTime        date  \\\n",
       "59                      0              0.0 2015-09-21 22:59:00  2015-09-21   \n",
       "119                     1              0.0 2015-09-28 22:59:00  2015-09-28   \n",
       "179                     1              0.0 2015-10-05 22:59:00  2015-10-05   \n",
       "239                     1              0.0 2015-10-12 22:59:00  2015-10-12   \n",
       "299                     1              0.0 2015-10-19 22:59:00  2015-10-19   \n",
       "359                     1              0.0 2015-10-26 22:59:00  2015-10-26   \n",
       "419                     0              0.0 2015-11-02 22:59:00  2015-11-02   \n",
       "479                     0              0.0 2015-11-09 22:59:00  2015-11-09   \n",
       "539                     0              0.0 2015-11-16 22:59:00  2015-11-16   \n",
       "599                     0              0.0 2015-11-23 22:59:00  2015-11-23   \n",
       "\n",
       "       season  \n",
       "59   Season 1  \n",
       "119  Season 1  \n",
       "179  Season 1  \n",
       "239  Season 1  \n",
       "299  Season 1  \n",
       "359  Season 1  \n",
       "419  Season 1  \n",
       "479  Season 1  \n",
       "539  Season 1  \n",
       "599  Season 1  "
      ]
     },
     "execution_count": 24,
     "metadata": {},
     "output_type": "execute_result"
    }
   ],
   "source": [
    "ratings.nsmallest(10, columns = 'Total_Loss_perc')"
   ]
  },
  {
   "cell_type": "markdown",
   "metadata": {},
   "source": [
    "### Rates by Date"
   ]
  },
  {
   "cell_type": "code",
   "execution_count": 25,
   "metadata": {},
   "outputs": [
    {
     "data": {
      "image/png": "[encoded data removed]",
      "text/plain": [
       "<Figure size 1120x800 with 1 Axes>"
      ]
     },
     "metadata": {},
     "output_type": "display_data"
    }
   ],
   "source": [
    "plt.figure(figsize=(14,10), dpi= 80)\n",
    "import matplotlib.ticker as ticker\n",
    "\n",
    "ax = sns.boxplot(x='Date', y='Rating', hue='season', data=ratings, notch=False, showfliers=False)\n",
    "ax.xaxis.set_major_locator(ticker.MultipleLocator(3))\n",
    "\n",
    "# Decorations\n",
    "plt.gca().set(xlabel='Time', ylabel='Rating')\n",
    "plt.title('Box Plot of Ratings by Date', fontsize=22)\n",
    "plt.grid(linestyle='--', alpha=0.5)\n",
    "plt.show()"
   ]
  },
  {
   "cell_type": "code",
   "execution_count": 73,
   "metadata": {},
   "outputs": [],
   "source": [
    "from sklearn.utils import resample\n",
    "\n",
    "def resampling(df, groupby_var, metrics_var):\n",
    "    df = df[[groupby_var, metrics_var]]\n",
    "    n_iterations = 1000\n",
    "    n_size = int(len(df) * 0.50)\n",
    "\n",
    "    # run bootstrap\n",
    "    stats = list()\n",
    "    for i in range(n_iterations):\n",
    "        sample = resample(df, n_samples=n_size)\n",
    "\n",
    "        # fit model\n",
    "        grpmean = list(sample.groupby([groupby_var])[metrics_var].mean())\n",
    "        diff = grpmean[1]-grpmean[0]\n",
    "        stats.append(diff) \n",
    "    \n",
    "    # confidence intervals\n",
    "    alpha = 0.95\n",
    "    p = ((1.0-alpha)/2.0) * 100\n",
    "    est = sum(stats)/len(stats)\n",
    "    lower = np.percentile(stats, p)\n",
    "    p = (alpha+((1.0-alpha)/2.0)) * 100\n",
    "    upper = np.percentile(stats, p)\n",
    "    print('group mean %.5f' % (est))\n",
    "    print('%.1f confidence interval %.5f and %.5f' % (alpha*100, lower, upper))"
   ]
  },
  {
   "cell_type": "code",
   "execution_count": 74,
   "metadata": {},
   "outputs": [
    {
     "name": "stdout",
     "output_type": "stream",
     "text": [
      "group mean -0.51617\n",
      "95.0 confidence interval -0.55823 and -0.47351\n"
     ]
    }
   ],
   "source": [
    "# configure bootstrap\n",
    "resampling(ratings, 'season', 'Rating')"
   ]
  },
  {
   "cell_type": "code",
   "execution_count": 27,
   "metadata": {},
   "outputs": [],
   "source": [
    "season1, season2 = ratings.groupby(['season'])['Rating'].mean()"
   ]
  },
  {
   "cell_type": "code",
   "execution_count": 28,
   "metadata": {},
   "outputs": [
    {
     "data": {
      "text/plain": [
       "-0.5161636769073596"
      ]
     },
     "execution_count": 28,
     "metadata": {},
     "output_type": "execute_result"
    }
   ],
   "source": [
    "season2 - season1"
   ]
  },
  {
   "cell_type": "markdown",
   "metadata": {},
   "source": [
    "#### Analysis for Derived Group on Length, Minute_in_Commercial, and Scheduling"
   ]
  },
  {
   "cell_type": "code",
   "execution_count": 86,
   "metadata": {},
   "outputs": [],
   "source": [
    "ratings['schedule'] = ratings['dateTime'].apply(lambda x: \"10 PM\" if x.time()>=datetime.time(22, 0, 0) else \"8 PM\")"
   ]
  },
  {
   "cell_type": "code",
   "execution_count": 108,
   "metadata": {},
   "outputs": [
    {
     "data": {
      "text/html": [
       "<div>\n",
       "<style scoped>\n",
       "    .dataframe tbody tr th:only-of-type {\n",
       "        vertical-align: middle;\n",
       "    }\n",
       "\n",
       "    .dataframe tbody tr th {\n",
       "        vertical-align: top;\n",
       "    }\n",
       "\n",
       "    .dataframe thead th {\n",
       "        text-align: right;\n",
       "    }\n",
       "</style>\n",
       "<table border=\"1\" class=\"dataframe\">\n",
       "  <thead>\n",
       "    <tr style=\"text-align: right;\">\n",
       "      <th></th>\n",
       "      <th>schedule</th>\n",
       "      <th>count</th>\n",
       "      <th>mean</th>\n",
       "    </tr>\n",
       "  </thead>\n",
       "  <tbody>\n",
       "    <tr>\n",
       "      <th>0</th>\n",
       "      <td>10 PM</td>\n",
       "      <td>1428</td>\n",
       "      <td>1.882318</td>\n",
       "    </tr>\n",
       "    <tr>\n",
       "      <th>1</th>\n",
       "      <td>8 PM</td>\n",
       "      <td>660</td>\n",
       "      <td>1.325420</td>\n",
       "    </tr>\n",
       "  </tbody>\n",
       "</table>\n",
       "</div>"
      ],
      "text/plain": [
       "  schedule  count      mean\n",
       "0    10 PM   1428  1.882318\n",
       "1     8 PM    660  1.325420"
      ]
     },
     "execution_count": 108,
     "metadata": {},
     "output_type": "execute_result"
    }
   ],
   "source": [
    "(pd.merge(\n",
    "    (ratings.groupby(['schedule'])\n",
    "     .size()\n",
    "     .to_frame('count')\n",
    "     .reset_index()\n",
    "    ),\n",
    "    (ratings.groupby(['schedule'])['Rating']\n",
    "    .mean()\n",
    "    .to_frame('mean')\n",
    "    .reset_index()\n",
    "    )\n",
    "    , on=\"schedule\")\n",
    ")"
   ]
  },
  {
   "cell_type": "code",
   "execution_count": 101,
   "metadata": {},
   "outputs": [
    {
     "name": "stdout",
     "output_type": "stream",
     "text": [
      "group mean -0.55642\n",
      "95.0 confidence interval -0.59221 and -0.52130\n"
     ]
    }
   ],
   "source": [
    "resampling(ratings, 'schedule', 'Rating')"
   ]
  },
  {
   "cell_type": "code",
   "execution_count": 102,
   "metadata": {},
   "outputs": [],
   "source": [
    "schedule1, schedule2 = ratings.groupby(['schedule'])['Rating'].mean()"
   ]
  },
  {
   "cell_type": "code",
   "execution_count": 103,
   "metadata": {},
   "outputs": [
    {
     "data": {
      "text/plain": [
       "-0.5568979705500883"
      ]
     },
     "execution_count": 103,
     "metadata": {},
     "output_type": "execute_result"
    }
   ],
   "source": [
    "schedule2 - schedule1"
   ]
  },
  {
   "cell_type": "code",
   "execution_count": 104,
   "metadata": {},
   "outputs": [
    {
     "data": {
      "text/html": [
       "<div>\n",
       "<style scoped>\n",
       "    .dataframe tbody tr th:only-of-type {\n",
       "        vertical-align: middle;\n",
       "    }\n",
       "\n",
       "    .dataframe tbody tr th {\n",
       "        vertical-align: top;\n",
       "    }\n",
       "\n",
       "    .dataframe thead th {\n",
       "        text-align: right;\n",
       "    }\n",
       "</style>\n",
       "<table border=\"1\" class=\"dataframe\">\n",
       "  <thead>\n",
       "    <tr style=\"text-align: right;\">\n",
       "      <th>schedule</th>\n",
       "      <th>10 PM</th>\n",
       "      <th>8 PM</th>\n",
       "    </tr>\n",
       "    <tr>\n",
       "      <th>season</th>\n",
       "      <th></th>\n",
       "      <th></th>\n",
       "    </tr>\n",
       "  </thead>\n",
       "  <tbody>\n",
       "    <tr>\n",
       "      <th>Season 1</th>\n",
       "      <td>1368</td>\n",
       "      <td>0</td>\n",
       "    </tr>\n",
       "    <tr>\n",
       "      <th>Season 2</th>\n",
       "      <td>60</td>\n",
       "      <td>660</td>\n",
       "    </tr>\n",
       "  </tbody>\n",
       "</table>\n",
       "</div>"
      ],
      "text/plain": [
       "schedule  10 PM  8 PM\n",
       "season               \n",
       "Season 1   1368     0\n",
       "Season 2     60   660"
      ]
     },
     "execution_count": 104,
     "metadata": {},
     "output_type": "execute_result"
    }
   ],
   "source": [
    "pd.crosstab(ratings['season'], ratings['schedule'])"
   ]
  },
  {
   "cell_type": "code",
   "execution_count": 110,
   "metadata": {},
   "outputs": [
    {
     "data": {
      "text/html": [
       "<div>\n",
       "<style scoped>\n",
       "    .dataframe tbody tr th:only-of-type {\n",
       "        vertical-align: middle;\n",
       "    }\n",
       "\n",
       "    .dataframe tbody tr th {\n",
       "        vertical-align: top;\n",
       "    }\n",
       "\n",
       "    .dataframe thead th {\n",
       "        text-align: right;\n",
       "    }\n",
       "</style>\n",
       "<table border=\"1\" class=\"dataframe\">\n",
       "  <thead>\n",
       "    <tr style=\"text-align: right;\">\n",
       "      <th></th>\n",
       "      <th>dateTime</th>\n",
       "    </tr>\n",
       "  </thead>\n",
       "  <tbody>\n",
       "    <tr>\n",
       "      <th>count</th>\n",
       "      <td>60</td>\n",
       "    </tr>\n",
       "    <tr>\n",
       "      <th>unique</th>\n",
       "      <td>60</td>\n",
       "    </tr>\n",
       "    <tr>\n",
       "      <th>top</th>\n",
       "      <td>2016-09-14 22:27:00</td>\n",
       "    </tr>\n",
       "    <tr>\n",
       "      <th>freq</th>\n",
       "      <td>1</td>\n",
       "    </tr>\n",
       "    <tr>\n",
       "      <th>first</th>\n",
       "      <td>2016-09-14 22:00:00</td>\n",
       "    </tr>\n",
       "    <tr>\n",
       "      <th>last</th>\n",
       "      <td>2016-09-14 22:59:00</td>\n",
       "    </tr>\n",
       "  </tbody>\n",
       "</table>\n",
       "</div>"
      ],
      "text/plain": [
       "                   dateTime\n",
       "count                    60\n",
       "unique                   60\n",
       "top     2016-09-14 22:27:00\n",
       "freq                      1\n",
       "first   2016-09-14 22:00:00\n",
       "last    2016-09-14 22:59:00"
      ]
     },
     "execution_count": 110,
     "metadata": {},
     "output_type": "execute_result"
    }
   ],
   "source": [
    "ratings[(ratings['schedule']=='10 PM') & (ratings['season']=='Season 2')][['dateTime']].describe()"
   ]
  },
  {
   "cell_type": "markdown",
   "metadata": {},
   "source": [
    "#### Analysis for Ratings and Total Loss % by Derived Group on Length, Minute_in_Commercial, and Scheduling"
   ]
  },
  {
   "cell_type": "code",
   "execution_count": 107,
   "metadata": {},
   "outputs": [],
   "source": [
    "def shedule_len_commerical(Length, Minute_In_Commercial):\n",
    "    if Length==59 and Minute_In_Commercial==0:\n",
    "        return 'Length=59 and Minute_In_Commercial=0'\n",
    "    elif Length==59 and Minute_In_Commercial==1:\n",
    "        return 'Length=59 and Minute_In_Commercial=1'\n",
    "    elif  Length==60 and Minute_In_Commercial==0:\n",
    "        return 'Length=60 and Minute_In_Commercial=0'\n",
    "    else:\n",
    "        return 'Length=60 and Minute_In_Commercial=1'   "
   ]
  },
  {
   "cell_type": "code",
   "execution_count": 32,
   "metadata": {},
   "outputs": [],
   "source": [
    "ratings['type'] = ratings.apply(lambda x: len_commerical(x.Length, x.Minute_In_Commercial), axis=1)"
   ]
  },
  {
   "cell_type": "code",
   "execution_count": 190,
   "metadata": {},
   "outputs": [
    {
     "data": {
      "text/html": [
       "<div>\n",
       "<style scoped>\n",
       "    .dataframe tbody tr th:only-of-type {\n",
       "        vertical-align: middle;\n",
       "    }\n",
       "\n",
       "    .dataframe tbody tr th {\n",
       "        vertical-align: top;\n",
       "    }\n",
       "\n",
       "    .dataframe thead th {\n",
       "        text-align: right;\n",
       "    }\n",
       "</style>\n",
       "<table border=\"1\" class=\"dataframe\">\n",
       "  <thead>\n",
       "    <tr style=\"text-align: right;\">\n",
       "      <th></th>\n",
       "      <th>type</th>\n",
       "      <th>count</th>\n",
       "      <th>mean</th>\n",
       "    </tr>\n",
       "  </thead>\n",
       "  <tbody>\n",
       "    <tr>\n",
       "      <th>0</th>\n",
       "      <td>Length=59 and Minute_In_Commercial=0</td>\n",
       "      <td>476</td>\n",
       "      <td>1.603662</td>\n",
       "    </tr>\n",
       "    <tr>\n",
       "      <th>1</th>\n",
       "      <td>Length=59 and Minute_In_Commercial=1</td>\n",
       "      <td>232</td>\n",
       "      <td>1.515727</td>\n",
       "    </tr>\n",
       "    <tr>\n",
       "      <th>2</th>\n",
       "      <td>Length=60 and Minute_In_Commercial=0</td>\n",
       "      <td>887</td>\n",
       "      <td>1.826142</td>\n",
       "    </tr>\n",
       "    <tr>\n",
       "      <th>3</th>\n",
       "      <td>Length=60 and Minute_In_Commercial=1</td>\n",
       "      <td>493</td>\n",
       "      <td>1.679408</td>\n",
       "    </tr>\n",
       "  </tbody>\n",
       "</table>\n",
       "</div>"
      ],
      "text/plain": [
       "                                   type  count      mean\n",
       "0  Length=59 and Minute_In_Commercial=0    476  1.603662\n",
       "1  Length=59 and Minute_In_Commercial=1    232  1.515727\n",
       "2  Length=60 and Minute_In_Commercial=0    887  1.826142\n",
       "3  Length=60 and Minute_In_Commercial=1    493  1.679408"
      ]
     },
     "execution_count": 190,
     "metadata": {},
     "output_type": "execute_result"
    }
   ],
   "source": [
    "(pd.merge(\n",
    "    ratings.groupby(['type'])\n",
    "     .size()\n",
    "     .to_frame('count')\n",
    "     .reset_index(),\n",
    "    ratings.groupby(['type'])['Rating']\n",
    "        .mean()\n",
    "        .to_frame('mean')\n",
    "        .reset_index(),\n",
    "    on = 'type')\n",
    ")"
   ]
  },
  {
   "cell_type": "code",
   "execution_count": 204,
   "metadata": {},
   "outputs": [
    {
     "data": {
      "text/html": [
       "<div>\n",
       "<style scoped>\n",
       "    .dataframe tbody tr th:only-of-type {\n",
       "        vertical-align: middle;\n",
       "    }\n",
       "\n",
       "    .dataframe tbody tr th {\n",
       "        vertical-align: top;\n",
       "    }\n",
       "\n",
       "    .dataframe thead th {\n",
       "        text-align: right;\n",
       "    }\n",
       "</style>\n",
       "<table border=\"1\" class=\"dataframe\">\n",
       "  <thead>\n",
       "    <tr style=\"text-align: right;\">\n",
       "      <th></th>\n",
       "      <th>Rating</th>\n",
       "      <th>Total_Loss_perc</th>\n",
       "    </tr>\n",
       "  </thead>\n",
       "  <tbody>\n",
       "    <tr>\n",
       "      <th>Rating</th>\n",
       "      <td>1.00000</td>\n",
       "      <td>0.25042</td>\n",
       "    </tr>\n",
       "    <tr>\n",
       "      <th>Total_Loss_perc</th>\n",
       "      <td>0.25042</td>\n",
       "      <td>1.00000</td>\n",
       "    </tr>\n",
       "  </tbody>\n",
       "</table>\n",
       "</div>"
      ],
      "text/plain": [
       "                  Rating  Total_Loss_perc\n",
       "Rating           1.00000          0.25042\n",
       "Total_Loss_perc  0.25042          1.00000"
      ]
     },
     "execution_count": 204,
     "metadata": {},
     "output_type": "execute_result"
    }
   ],
   "source": [
    "numeric_vars = ratings[['Rating', 'Total_Loss_perc']]\n",
    "corr_matrix = numeric_vars.corr()\n",
    "corr_matrix"
   ]
  },
  {
   "cell_type": "code",
   "execution_count": 192,
   "metadata": {},
   "outputs": [
    {
     "name": "stdout",
     "output_type": "stream",
     "text": [
      "                   Rating  Total_Loss_perc\n",
      "Rating           1.000000         0.838203\n",
      "Total_Loss_perc  0.838203         1.000000\n",
      "                   Rating  Total_Loss_perc\n",
      "Rating           1.000000         0.362348\n",
      "Total_Loss_perc  0.362348         1.000000\n",
      "                   Rating  Total_Loss_perc\n",
      "Rating           1.000000         0.116829\n",
      "Total_Loss_perc  0.116829         1.000000\n",
      "                   Rating  Total_Loss_perc\n",
      "Rating           1.000000         0.220804\n",
      "Total_Loss_perc  0.220804         1.000000\n"
     ]
    }
   ],
   "source": [
    "numeric_vars1 = ratings[ratings['type']=='Length=59 and Minute_In_Commercial=0'][['Rating', 'Total_Loss_perc']]\n",
    "print(numeric_vars1.corr())\n",
    "\n",
    "numeric_vars2 = ratings[ratings['type']=='Length=59 and Minute_In_Commercial=1'][['Rating', 'Total_Loss_perc']]\n",
    "print(numeric_vars2.corr())\n",
    "\n",
    "numeric_vars3 = ratings[ratings['type']=='Length=60 and Minute_In_Commercial=0'][['Rating', 'Total_Loss_perc']]\n",
    "print(numeric_vars3.corr())\n",
    "\n",
    "numeric_vars4 = ratings[ratings['type']=='Length=60 and Minute_In_Commercial=1'][['Rating', 'Total_Loss_perc']]\n",
    "print(numeric_vars4.corr())"
   ]
  },
  {
   "cell_type": "code",
   "execution_count": 197,
   "metadata": {},
   "outputs": [],
   "source": [
    "avg_rate = (ratings.groupby(['date'])['Rating'].mean()\n",
    " .reset_index()\n",
    " .sort_values('date')\n",
    ")\n",
    "avg_total_Loss_perc = (ratings.groupby(['date'])['Total_Loss_perc'].mean()\n",
    " .reset_index()\n",
    " .sort_values('date')\n",
    ")\n",
    "daily_avg = pd.merge(avg_rate, avg_total_Loss_perc, on='date')"
   ]
  },
  {
   "cell_type": "code",
   "execution_count": 198,
   "metadata": {},
   "outputs": [
    {
     "data": {
      "image/png": "[encoded data removed]",
      "text/plain": [
       "<Figure size 576x396 with 2 Axes>"
      ]
     },
     "metadata": {},
     "output_type": "display_data"
    }
   ],
   "source": [
    "daily_avg.hist()\n",
    "plt.show()"
   ]
  },
  {
   "cell_type": "code",
   "execution_count": 199,
   "metadata": {},
   "outputs": [
    {
     "data": {
      "text/html": [
       "<div>\n",
       "<style scoped>\n",
       "    .dataframe tbody tr th:only-of-type {\n",
       "        vertical-align: middle;\n",
       "    }\n",
       "\n",
       "    .dataframe tbody tr th {\n",
       "        vertical-align: top;\n",
       "    }\n",
       "\n",
       "    .dataframe thead th {\n",
       "        text-align: right;\n",
       "    }\n",
       "</style>\n",
       "<table border=\"1\" class=\"dataframe\">\n",
       "  <thead>\n",
       "    <tr style=\"text-align: right;\">\n",
       "      <th></th>\n",
       "      <th>Rating</th>\n",
       "      <th>Total_Loss_perc</th>\n",
       "    </tr>\n",
       "  </thead>\n",
       "  <tbody>\n",
       "    <tr>\n",
       "      <th>Rating</th>\n",
       "      <td>1.000000</td>\n",
       "      <td>-0.500705</td>\n",
       "    </tr>\n",
       "    <tr>\n",
       "      <th>Total_Loss_perc</th>\n",
       "      <td>-0.500705</td>\n",
       "      <td>1.000000</td>\n",
       "    </tr>\n",
       "  </tbody>\n",
       "</table>\n",
       "</div>"
      ],
      "text/plain": [
       "                   Rating  Total_Loss_perc\n",
       "Rating           1.000000        -0.500705\n",
       "Total_Loss_perc -0.500705         1.000000"
      ]
     },
     "execution_count": 199,
     "metadata": {},
     "output_type": "execute_result"
    }
   ],
   "source": [
    "corr_matrix = daily_avg.corr()\n",
    "corr_matrix"
   ]
  },
  {
   "cell_type": "code",
   "execution_count": 205,
   "metadata": {},
   "outputs": [
    {
     "data": {
      "text/html": [
       "<div>\n",
       "<style scoped>\n",
       "    .dataframe tbody tr th:only-of-type {\n",
       "        vertical-align: middle;\n",
       "    }\n",
       "\n",
       "    .dataframe tbody tr th {\n",
       "        vertical-align: top;\n",
       "    }\n",
       "\n",
       "    .dataframe thead th {\n",
       "        text-align: right;\n",
       "    }\n",
       "</style>\n",
       "<table border=\"1\" class=\"dataframe\">\n",
       "  <thead>\n",
       "    <tr style=\"text-align: right;\">\n",
       "      <th></th>\n",
       "      <th>date</th>\n",
       "      <th>Rating</th>\n",
       "      <th>Total_Loss_perc</th>\n",
       "    </tr>\n",
       "  </thead>\n",
       "  <tbody>\n",
       "    <tr>\n",
       "      <th>25</th>\n",
       "      <td>2016-09-28</td>\n",
       "      <td>1.416605</td>\n",
       "      <td>4.226916</td>\n",
       "    </tr>\n",
       "    <tr>\n",
       "      <th>26</th>\n",
       "      <td>2016-10-05</td>\n",
       "      <td>1.252120</td>\n",
       "      <td>3.529737</td>\n",
       "    </tr>\n",
       "    <tr>\n",
       "      <th>27</th>\n",
       "      <td>2016-10-12</td>\n",
       "      <td>1.276814</td>\n",
       "      <td>3.275362</td>\n",
       "    </tr>\n",
       "    <tr>\n",
       "      <th>28</th>\n",
       "      <td>2016-10-19</td>\n",
       "      <td>1.225611</td>\n",
       "      <td>3.776977</td>\n",
       "    </tr>\n",
       "    <tr>\n",
       "      <th>29</th>\n",
       "      <td>2016-10-26</td>\n",
       "      <td>1.415415</td>\n",
       "      <td>3.883543</td>\n",
       "    </tr>\n",
       "    <tr>\n",
       "      <th>30</th>\n",
       "      <td>2016-11-09</td>\n",
       "      <td>1.388519</td>\n",
       "      <td>4.132580</td>\n",
       "    </tr>\n",
       "    <tr>\n",
       "      <th>31</th>\n",
       "      <td>2016-11-16</td>\n",
       "      <td>1.308123</td>\n",
       "      <td>4.141856</td>\n",
       "    </tr>\n",
       "    <tr>\n",
       "      <th>32</th>\n",
       "      <td>2017-01-04</td>\n",
       "      <td>1.394666</td>\n",
       "      <td>4.184813</td>\n",
       "    </tr>\n",
       "    <tr>\n",
       "      <th>33</th>\n",
       "      <td>2017-01-11</td>\n",
       "      <td>1.348449</td>\n",
       "      <td>4.053781</td>\n",
       "    </tr>\n",
       "  </tbody>\n",
       "</table>\n",
       "</div>"
      ],
      "text/plain": [
       "          date    Rating  Total_Loss_perc\n",
       "25  2016-09-28  1.416605         4.226916\n",
       "26  2016-10-05  1.252120         3.529737\n",
       "27  2016-10-12  1.276814         3.275362\n",
       "28  2016-10-19  1.225611         3.776977\n",
       "29  2016-10-26  1.415415         3.883543\n",
       "30  2016-11-09  1.388519         4.132580\n",
       "31  2016-11-16  1.308123         4.141856\n",
       "32  2017-01-04  1.394666         4.184813\n",
       "33  2017-01-11  1.348449         4.053781"
      ]
     },
     "execution_count": 205,
     "metadata": {},
     "output_type": "execute_result"
    }
   ],
   "source": [
    "daily_avg[-10:-1]"
   ]
  },
  {
   "cell_type": "markdown",
   "metadata": {},
   "source": [
    "### Models using Program Ratings for Mr.Bl@ck.s.bot"
   ]
  },
  {
   "cell_type": "code",
   "execution_count": 11,
   "metadata": {},
   "outputs": [
    {
     "name": "stdout",
     "output_type": "stream",
     "text": [
      "<class 'pandas.core.frame.DataFrame'>\n",
      "Int64Index: 4374 entries, 2 to 4596\n",
      "Data columns (total 11 columns):\n",
      " #   Column              Non-Null Count  Dtype         \n",
      "---  ------              --------------  -----         \n",
      " 0   Unnamed: 0          4374 non-null   int64         \n",
      " 1   show_name           4371 non-null   object        \n",
      " 2   network             4374 non-null   object        \n",
      " 3   genre               4374 non-null   object        \n",
      " 4   time_slot           4374 non-null   object        \n",
      " 5   program_start_time  4374 non-null   datetime64[ns]\n",
      " 6   program_duration    4374 non-null   int64         \n",
      " 7   show_premier        4374 non-null   int64         \n",
      " 8   show_repeat         4374 non-null   int64         \n",
      " 9   rating              4374 non-null   float64       \n",
      " 10  date                4374 non-null   object        \n",
      "dtypes: datetime64[ns](1), float64(1), int64(4), object(5)\n",
      "memory usage: 410.1+ KB\n"
     ]
    }
   ],
   "source": [
    "program_black.info()"
   ]
  },
  {
   "cell_type": "code",
   "execution_count": 63,
   "metadata": {},
   "outputs": [],
   "source": [
    "program_black['slot'] = program_black['program_start_time'].apply(lambda x: x.time())"
   ]
  },
  {
   "cell_type": "markdown",
   "metadata": {},
   "source": [
    "### Analysis on rating difference between two slots for all shows"
   ]
  },
  {
   "cell_type": "code",
   "execution_count": 159,
   "metadata": {},
   "outputs": [],
   "source": [
    "avg_rating = program_black.groupby(['date', 'slot'])['rating'].mean().to_frame('avg_rating').reset_index()"
   ]
  },
  {
   "cell_type": "code",
   "execution_count": 160,
   "metadata": {},
   "outputs": [],
   "source": [
    "avg_rating = avg_rating[((avg_rating.slot==datetime.time(20, 0, 0)) | (avg_rating.slot==datetime.time(22, 0, 0)))]"
   ]
  },
  {
   "cell_type": "code",
   "execution_count": 161,
   "metadata": {},
   "outputs": [],
   "source": [
    "avg_rating_twoslots = avg_rating.pivot(index='date', columns='slot',values='avg_rating').reset_index()"
   ]
  },
  {
   "cell_type": "code",
   "execution_count": 162,
   "metadata": {},
   "outputs": [],
   "source": [
    "avg_rating_twoslots.columns =['date', '20:00:00', '22:00:00']"
   ]
  },
  {
   "cell_type": "code",
   "execution_count": 163,
   "metadata": {},
   "outputs": [
    {
     "data": {
      "text/html": [
       "<div>\n",
       "<style scoped>\n",
       "    .dataframe tbody tr th:only-of-type {\n",
       "        vertical-align: middle;\n",
       "    }\n",
       "\n",
       "    .dataframe tbody tr th {\n",
       "        vertical-align: top;\n",
       "    }\n",
       "\n",
       "    .dataframe thead th {\n",
       "        text-align: right;\n",
       "    }\n",
       "</style>\n",
       "<table border=\"1\" class=\"dataframe\">\n",
       "  <thead>\n",
       "    <tr style=\"text-align: right;\">\n",
       "      <th></th>\n",
       "      <th>date</th>\n",
       "      <th>20:00:00</th>\n",
       "      <th>22:00:00</th>\n",
       "    </tr>\n",
       "  </thead>\n",
       "  <tbody>\n",
       "    <tr>\n",
       "      <th>0</th>\n",
       "      <td>2015-09-21</td>\n",
       "      <td>0.038502</td>\n",
       "      <td>0.036800</td>\n",
       "    </tr>\n",
       "    <tr>\n",
       "      <th>1</th>\n",
       "      <td>2015-09-22</td>\n",
       "      <td>0.035066</td>\n",
       "      <td>0.030551</td>\n",
       "    </tr>\n",
       "    <tr>\n",
       "      <th>2</th>\n",
       "      <td>2015-09-23</td>\n",
       "      <td>0.026849</td>\n",
       "      <td>0.015880</td>\n",
       "    </tr>\n",
       "    <tr>\n",
       "      <th>3</th>\n",
       "      <td>2015-09-24</td>\n",
       "      <td>0.020217</td>\n",
       "      <td>0.021969</td>\n",
       "    </tr>\n",
       "    <tr>\n",
       "      <th>4</th>\n",
       "      <td>2015-09-25</td>\n",
       "      <td>0.014653</td>\n",
       "      <td>0.030231</td>\n",
       "    </tr>\n",
       "    <tr>\n",
       "      <th>...</th>\n",
       "      <td>...</td>\n",
       "      <td>...</td>\n",
       "      <td>...</td>\n",
       "    </tr>\n",
       "    <tr>\n",
       "      <th>472</th>\n",
       "      <td>2017-01-14</td>\n",
       "      <td>0.008734</td>\n",
       "      <td>0.009278</td>\n",
       "    </tr>\n",
       "    <tr>\n",
       "      <th>473</th>\n",
       "      <td>2017-01-15</td>\n",
       "      <td>0.021500</td>\n",
       "      <td>0.011431</td>\n",
       "    </tr>\n",
       "    <tr>\n",
       "      <th>474</th>\n",
       "      <td>2017-01-16</td>\n",
       "      <td>0.018833</td>\n",
       "      <td>0.018862</td>\n",
       "    </tr>\n",
       "    <tr>\n",
       "      <th>475</th>\n",
       "      <td>2017-01-17</td>\n",
       "      <td>0.024801</td>\n",
       "      <td>0.019762</td>\n",
       "    </tr>\n",
       "    <tr>\n",
       "      <th>476</th>\n",
       "      <td>2017-01-18</td>\n",
       "      <td>0.018644</td>\n",
       "      <td>0.018195</td>\n",
       "    </tr>\n",
       "  </tbody>\n",
       "</table>\n",
       "<p>477 rows × 3 columns</p>\n",
       "</div>"
      ],
      "text/plain": [
       "           date  20:00:00  22:00:00\n",
       "0    2015-09-21  0.038502  0.036800\n",
       "1    2015-09-22  0.035066  0.030551\n",
       "2    2015-09-23  0.026849  0.015880\n",
       "3    2015-09-24  0.020217  0.021969\n",
       "4    2015-09-25  0.014653  0.030231\n",
       "..          ...       ...       ...\n",
       "472  2017-01-14  0.008734  0.009278\n",
       "473  2017-01-15  0.021500  0.011431\n",
       "474  2017-01-16  0.018833  0.018862\n",
       "475  2017-01-17  0.024801  0.019762\n",
       "476  2017-01-18  0.018644  0.018195\n",
       "\n",
       "[477 rows x 3 columns]"
      ]
     },
     "execution_count": 163,
     "metadata": {},
     "output_type": "execute_result"
    }
   ],
   "source": [
    "avg_rating_twoslots"
   ]
  },
  {
   "cell_type": "code",
   "execution_count": 164,
   "metadata": {},
   "outputs": [
    {
     "data": {
      "text/plain": [
       "0.0016232609666991837"
      ]
     },
     "execution_count": 164,
     "metadata": {},
     "output_type": "execute_result"
    }
   ],
   "source": [
    "np.mean(avg_rating_twoslots['20:00:00']-avg_rating_twoslots['22:00:00'])"
   ]
  },
  {
   "cell_type": "code",
   "execution_count": 165,
   "metadata": {},
   "outputs": [],
   "source": [
    "import pandas as pd \n",
    "from scipy import stats "
   ]
  },
  {
   "cell_type": "code",
   "execution_count": 166,
   "metadata": {},
   "outputs": [],
   "source": [
    "avg_rating_twoslots = avg_rating_twoslots.dropna()"
   ]
  },
  {
   "cell_type": "code",
   "execution_count": 167,
   "metadata": {},
   "outputs": [
    {
     "data": {
      "text/html": [
       "<div>\n",
       "<style scoped>\n",
       "    .dataframe tbody tr th:only-of-type {\n",
       "        vertical-align: middle;\n",
       "    }\n",
       "\n",
       "    .dataframe tbody tr th {\n",
       "        vertical-align: top;\n",
       "    }\n",
       "\n",
       "    .dataframe thead th {\n",
       "        text-align: right;\n",
       "    }\n",
       "</style>\n",
       "<table border=\"1\" class=\"dataframe\">\n",
       "  <thead>\n",
       "    <tr style=\"text-align: right;\">\n",
       "      <th></th>\n",
       "      <th>20:00:00</th>\n",
       "      <th>22:00:00</th>\n",
       "    </tr>\n",
       "  </thead>\n",
       "  <tbody>\n",
       "    <tr>\n",
       "      <th>count</th>\n",
       "      <td>388.000000</td>\n",
       "      <td>388.000000</td>\n",
       "    </tr>\n",
       "    <tr>\n",
       "      <th>mean</th>\n",
       "      <td>0.019834</td>\n",
       "      <td>0.018210</td>\n",
       "    </tr>\n",
       "    <tr>\n",
       "      <th>std</th>\n",
       "      <td>0.007380</td>\n",
       "      <td>0.007592</td>\n",
       "    </tr>\n",
       "    <tr>\n",
       "      <th>min</th>\n",
       "      <td>0.003957</td>\n",
       "      <td>0.004026</td>\n",
       "    </tr>\n",
       "    <tr>\n",
       "      <th>25%</th>\n",
       "      <td>0.014326</td>\n",
       "      <td>0.013130</td>\n",
       "    </tr>\n",
       "    <tr>\n",
       "      <th>50%</th>\n",
       "      <td>0.019365</td>\n",
       "      <td>0.017578</td>\n",
       "    </tr>\n",
       "    <tr>\n",
       "      <th>75%</th>\n",
       "      <td>0.025130</td>\n",
       "      <td>0.021804</td>\n",
       "    </tr>\n",
       "    <tr>\n",
       "      <th>max</th>\n",
       "      <td>0.055210</td>\n",
       "      <td>0.042432</td>\n",
       "    </tr>\n",
       "  </tbody>\n",
       "</table>\n",
       "</div>"
      ],
      "text/plain": [
       "         20:00:00    22:00:00\n",
       "count  388.000000  388.000000\n",
       "mean     0.019834    0.018210\n",
       "std      0.007380    0.007592\n",
       "min      0.003957    0.004026\n",
       "25%      0.014326    0.013130\n",
       "50%      0.019365    0.017578\n",
       "75%      0.025130    0.021804\n",
       "max      0.055210    0.042432"
      ]
     },
     "execution_count": 167,
     "metadata": {},
     "output_type": "execute_result"
    }
   ],
   "source": [
    "avg_rating_twoslots.describe()"
   ]
  },
  {
   "cell_type": "code",
   "execution_count": 182,
   "metadata": {},
   "outputs": [
    {
     "data": {
      "text/plain": [
       "array([[<matplotlib.axes._subplots.AxesSubplot object at 0x13b9631d0>,\n",
       "        <matplotlib.axes._subplots.AxesSubplot object at 0x13b9c1350>],\n",
       "       [<matplotlib.axes._subplots.AxesSubplot object at 0x13b9f27d0>,\n",
       "        <matplotlib.axes._subplots.AxesSubplot object at 0x13ba28350>]],\n",
       "      dtype=object)"
      ]
     },
     "execution_count": 182,
     "metadata": {},
     "output_type": "execute_result"
    },
    {
     "data": {
      "image/png": "[encoded data removed]",
      "text/plain": [
       "<Figure size 864x576 with 4 Axes>"
      ]
     },
     "metadata": {},
     "output_type": "display_data"
    }
   ],
   "source": [
    "from pandas.plotting import scatter_matrix\n",
    "\n",
    "attributes = [\"20:00:00\", \"22:00:00\"]\n",
    "scatter_matrix(avg_rating_twoslots[attributes], figsize=(12, 8))"
   ]
  },
  {
   "cell_type": "code",
   "execution_count": 168,
   "metadata": {},
   "outputs": [
    {
     "data": {
      "text/plain": [
       "F_onewayResult(statistic=9.120829199855573, pvalue=0.00261025219245962)"
      ]
     },
     "execution_count": 168,
     "metadata": {},
     "output_type": "execute_result"
    }
   ],
   "source": [
    "one_way_anova = stats.f_oneway(avg_rating_twoslots['20:00:00'], avg_rating_twoslots['22:00:00']) \n",
    "one_way_anova"
   ]
  },
  {
   "cell_type": "code",
   "execution_count": 169,
   "metadata": {},
   "outputs": [
    {
     "data": {
      "text/plain": [
       "Ttest_indResult(statistic=3.020071058742752, pvalue=0.0026102521924597577)"
      ]
     },
     "execution_count": 169,
     "metadata": {},
     "output_type": "execute_result"
    }
   ],
   "source": [
    "stats.ttest_ind(avg_rating_twoslots['20:00:00'], avg_rating_twoslots['22:00:00']) "
   ]
  },
  {
   "cell_type": "markdown",
   "metadata": {},
   "source": [
    "### Analysis on rating difference between two slotson DKN and Drama"
   ]
  },
  {
   "cell_type": "code",
   "execution_count": 183,
   "metadata": {},
   "outputs": [
    {
     "data": {
      "text/html": [
       "<div>\n",
       "<style scoped>\n",
       "    .dataframe tbody tr th:only-of-type {\n",
       "        vertical-align: middle;\n",
       "    }\n",
       "\n",
       "    .dataframe tbody tr th {\n",
       "        vertical-align: top;\n",
       "    }\n",
       "\n",
       "    .dataframe thead th {\n",
       "        text-align: right;\n",
       "    }\n",
       "</style>\n",
       "<table border=\"1\" class=\"dataframe\">\n",
       "  <thead>\n",
       "    <tr style=\"text-align: right;\">\n",
       "      <th></th>\n",
       "      <th>Unnamed: 0</th>\n",
       "      <th>show_name</th>\n",
       "      <th>network</th>\n",
       "      <th>genre</th>\n",
       "      <th>time_slot</th>\n",
       "      <th>program_start_time</th>\n",
       "      <th>program_duration</th>\n",
       "      <th>show_premier</th>\n",
       "      <th>show_repeat</th>\n",
       "      <th>rating</th>\n",
       "      <th>date</th>\n",
       "      <th>slot</th>\n",
       "    </tr>\n",
       "  </thead>\n",
       "  <tbody>\n",
       "    <tr>\n",
       "      <th>3734</th>\n",
       "      <td>3734</td>\n",
       "      <td>PERSECUTION</td>\n",
       "      <td>DKN</td>\n",
       "      <td>Drama</td>\n",
       "      <td>2015-09-23 21:00:00</td>\n",
       "      <td>2015-09-23 21:00:00</td>\n",
       "      <td>7200</td>\n",
       "      <td>1</td>\n",
       "      <td>0</td>\n",
       "      <td>0.028989</td>\n",
       "      <td>2015-09-23</td>\n",
       "      <td>21:00:00</td>\n",
       "    </tr>\n",
       "    <tr>\n",
       "      <th>3735</th>\n",
       "      <td>3735</td>\n",
       "      <td>PERSECUTION</td>\n",
       "      <td>DKN</td>\n",
       "      <td>Drama</td>\n",
       "      <td>2015-09-30 21:00:00</td>\n",
       "      <td>2015-09-30 21:00:00</td>\n",
       "      <td>3600</td>\n",
       "      <td>0</td>\n",
       "      <td>0</td>\n",
       "      <td>0.023574</td>\n",
       "      <td>2015-09-30</td>\n",
       "      <td>21:00:00</td>\n",
       "    </tr>\n",
       "    <tr>\n",
       "      <th>3736</th>\n",
       "      <td>3736</td>\n",
       "      <td>PERSECUTION</td>\n",
       "      <td>DKN</td>\n",
       "      <td>Drama</td>\n",
       "      <td>2015-10-07 21:00:00</td>\n",
       "      <td>2015-10-07 21:00:00</td>\n",
       "      <td>3600</td>\n",
       "      <td>0</td>\n",
       "      <td>0</td>\n",
       "      <td>0.022886</td>\n",
       "      <td>2015-10-07</td>\n",
       "      <td>21:00:00</td>\n",
       "    </tr>\n",
       "    <tr>\n",
       "      <th>3737</th>\n",
       "      <td>3737</td>\n",
       "      <td>PERSECUTION</td>\n",
       "      <td>DKN</td>\n",
       "      <td>Drama</td>\n",
       "      <td>2015-10-14 21:00:00</td>\n",
       "      <td>2015-10-14 21:00:00</td>\n",
       "      <td>3600</td>\n",
       "      <td>0</td>\n",
       "      <td>0</td>\n",
       "      <td>0.022554</td>\n",
       "      <td>2015-10-14</td>\n",
       "      <td>21:00:00</td>\n",
       "    </tr>\n",
       "    <tr>\n",
       "      <th>3738</th>\n",
       "      <td>3738</td>\n",
       "      <td>PERSECUTION</td>\n",
       "      <td>DKN</td>\n",
       "      <td>Drama</td>\n",
       "      <td>2015-10-21 21:00:00</td>\n",
       "      <td>2015-10-21 21:00:00</td>\n",
       "      <td>3600</td>\n",
       "      <td>0</td>\n",
       "      <td>0</td>\n",
       "      <td>0.022801</td>\n",
       "      <td>2015-10-21</td>\n",
       "      <td>21:00:00</td>\n",
       "    </tr>\n",
       "    <tr>\n",
       "      <th>...</th>\n",
       "      <td>...</td>\n",
       "      <td>...</td>\n",
       "      <td>...</td>\n",
       "      <td>...</td>\n",
       "      <td>...</td>\n",
       "      <td>...</td>\n",
       "      <td>...</td>\n",
       "      <td>...</td>\n",
       "      <td>...</td>\n",
       "      <td>...</td>\n",
       "      <td>...</td>\n",
       "      <td>...</td>\n",
       "    </tr>\n",
       "    <tr>\n",
       "      <th>4579</th>\n",
       "      <td>4579</td>\n",
       "      <td>FUTURE IS NOW</td>\n",
       "      <td>DKN</td>\n",
       "      <td>Drama</td>\n",
       "      <td>2016-12-05 22:00:00</td>\n",
       "      <td>2016-12-05 22:01:00</td>\n",
       "      <td>3540</td>\n",
       "      <td>0</td>\n",
       "      <td>0</td>\n",
       "      <td>0.017831</td>\n",
       "      <td>2016-12-05</td>\n",
       "      <td>22:01:00</td>\n",
       "    </tr>\n",
       "    <tr>\n",
       "      <th>4580</th>\n",
       "      <td>4580</td>\n",
       "      <td>FUTURE IS NOW</td>\n",
       "      <td>DKN</td>\n",
       "      <td>Drama</td>\n",
       "      <td>2016-12-12 22:00:00</td>\n",
       "      <td>2016-12-12 22:01:00</td>\n",
       "      <td>3540</td>\n",
       "      <td>0</td>\n",
       "      <td>0</td>\n",
       "      <td>0.014195</td>\n",
       "      <td>2016-12-12</td>\n",
       "      <td>22:01:00</td>\n",
       "    </tr>\n",
       "    <tr>\n",
       "      <th>4581</th>\n",
       "      <td>4581</td>\n",
       "      <td>FUTURE IS NOW</td>\n",
       "      <td>DKN</td>\n",
       "      <td>Drama</td>\n",
       "      <td>2017-01-16 22:00:00</td>\n",
       "      <td>2017-01-16 22:00:00</td>\n",
       "      <td>3600</td>\n",
       "      <td>0</td>\n",
       "      <td>0</td>\n",
       "      <td>0.011333</td>\n",
       "      <td>2017-01-16</td>\n",
       "      <td>22:00:00</td>\n",
       "    </tr>\n",
       "    <tr>\n",
       "      <th>4592</th>\n",
       "      <td>4592</td>\n",
       "      <td>BEYOND THE LAND</td>\n",
       "      <td>DKN</td>\n",
       "      <td>Drama</td>\n",
       "      <td>2017-01-06 21:00:00</td>\n",
       "      <td>2017-01-06 21:00:00</td>\n",
       "      <td>7200</td>\n",
       "      <td>1</td>\n",
       "      <td>0</td>\n",
       "      <td>0.015015</td>\n",
       "      <td>2017-01-06</td>\n",
       "      <td>21:00:00</td>\n",
       "    </tr>\n",
       "    <tr>\n",
       "      <th>4593</th>\n",
       "      <td>4593</td>\n",
       "      <td>BEYOND THE LAND</td>\n",
       "      <td>DKN</td>\n",
       "      <td>Drama</td>\n",
       "      <td>2017-01-13 21:00:00</td>\n",
       "      <td>2017-01-13 21:00:00</td>\n",
       "      <td>3600</td>\n",
       "      <td>0</td>\n",
       "      <td>0</td>\n",
       "      <td>0.010219</td>\n",
       "      <td>2017-01-13</td>\n",
       "      <td>21:00:00</td>\n",
       "    </tr>\n",
       "  </tbody>\n",
       "</table>\n",
       "<p>388 rows × 12 columns</p>\n",
       "</div>"
      ],
      "text/plain": [
       "      Unnamed: 0        show_name network  genre            time_slot  \\\n",
       "3734        3734      PERSECUTION     DKN  Drama  2015-09-23 21:00:00   \n",
       "3735        3735      PERSECUTION     DKN  Drama  2015-09-30 21:00:00   \n",
       "3736        3736      PERSECUTION     DKN  Drama  2015-10-07 21:00:00   \n",
       "3737        3737      PERSECUTION     DKN  Drama  2015-10-14 21:00:00   \n",
       "3738        3738      PERSECUTION     DKN  Drama  2015-10-21 21:00:00   \n",
       "...          ...              ...     ...    ...                  ...   \n",
       "4579        4579    FUTURE IS NOW     DKN  Drama  2016-12-05 22:00:00   \n",
       "4580        4580    FUTURE IS NOW     DKN  Drama  2016-12-12 22:00:00   \n",
       "4581        4581    FUTURE IS NOW     DKN  Drama  2017-01-16 22:00:00   \n",
       "4592        4592  BEYOND THE LAND     DKN  Drama  2017-01-06 21:00:00   \n",
       "4593        4593  BEYOND THE LAND     DKN  Drama  2017-01-13 21:00:00   \n",
       "\n",
       "      program_start_time  program_duration  show_premier  show_repeat  \\\n",
       "3734 2015-09-23 21:00:00              7200             1            0   \n",
       "3735 2015-09-30 21:00:00              3600             0            0   \n",
       "3736 2015-10-07 21:00:00              3600             0            0   \n",
       "3737 2015-10-14 21:00:00              3600             0            0   \n",
       "3738 2015-10-21 21:00:00              3600             0            0   \n",
       "...                  ...               ...           ...          ...   \n",
       "4579 2016-12-05 22:01:00              3540             0            0   \n",
       "4580 2016-12-12 22:01:00              3540             0            0   \n",
       "4581 2017-01-16 22:00:00              3600             0            0   \n",
       "4592 2017-01-06 21:00:00              7200             1            0   \n",
       "4593 2017-01-13 21:00:00              3600             0            0   \n",
       "\n",
       "        rating        date      slot  \n",
       "3734  0.028989  2015-09-23  21:00:00  \n",
       "3735  0.023574  2015-09-30  21:00:00  \n",
       "3736  0.022886  2015-10-07  21:00:00  \n",
       "3737  0.022554  2015-10-14  21:00:00  \n",
       "3738  0.022801  2015-10-21  21:00:00  \n",
       "...        ...         ...       ...  \n",
       "4579  0.017831  2016-12-05  22:01:00  \n",
       "4580  0.014195  2016-12-12  22:01:00  \n",
       "4581  0.011333  2017-01-16  22:00:00  \n",
       "4592  0.015015  2017-01-06  21:00:00  \n",
       "4593  0.010219  2017-01-13  21:00:00  \n",
       "\n",
       "[388 rows x 12 columns]"
      ]
     },
     "execution_count": 183,
     "metadata": {},
     "output_type": "execute_result"
    }
   ],
   "source": [
    "filtered = program_black[(program_black.genre == 'Drama') & (program_black.network =='DKN')]"
   ]
  },
  {
   "cell_type": "code",
   "execution_count": 188,
   "metadata": {},
   "outputs": [
    {
     "data": {
      "text/plain": [
       "3734        PERSECUTION\n",
       "3735        PERSECUTION\n",
       "3736        PERSECUTION\n",
       "3737        PERSECUTION\n",
       "3738        PERSECUTION\n",
       "             ...       \n",
       "4579      FUTURE IS NOW\n",
       "4580      FUTURE IS NOW\n",
       "4581      FUTURE IS NOW\n",
       "4592    BEYOND THE LAND\n",
       "4593    BEYOND THE LAND\n",
       "Name: show_name, Length: 388, dtype: object"
      ]
     },
     "execution_count": 188,
     "metadata": {},
     "output_type": "execute_result"
    }
   ],
   "source": [
    "filtered.show_name"
   ]
  },
  {
   "cell_type": "code",
   "execution_count": 184,
   "metadata": {},
   "outputs": [
    {
     "data": {
      "text/html": [
       "<div>\n",
       "<style scoped>\n",
       "    .dataframe tbody tr th:only-of-type {\n",
       "        vertical-align: middle;\n",
       "    }\n",
       "\n",
       "    .dataframe tbody tr th {\n",
       "        vertical-align: top;\n",
       "    }\n",
       "\n",
       "    .dataframe thead th {\n",
       "        text-align: right;\n",
       "    }\n",
       "</style>\n",
       "<table border=\"1\" class=\"dataframe\">\n",
       "  <thead>\n",
       "    <tr style=\"text-align: right;\">\n",
       "      <th></th>\n",
       "      <th>Unnamed: 0</th>\n",
       "      <th>program_duration</th>\n",
       "      <th>show_premier</th>\n",
       "      <th>show_repeat</th>\n",
       "      <th>rating</th>\n",
       "    </tr>\n",
       "  </thead>\n",
       "  <tbody>\n",
       "    <tr>\n",
       "      <th>count</th>\n",
       "      <td>388.000000</td>\n",
       "      <td>388.000000</td>\n",
       "      <td>388.000000</td>\n",
       "      <td>388.000000</td>\n",
       "      <td>388.000000</td>\n",
       "    </tr>\n",
       "    <tr>\n",
       "      <th>mean</th>\n",
       "      <td>4174.038660</td>\n",
       "      <td>3680.257732</td>\n",
       "      <td>0.069588</td>\n",
       "      <td>0.115979</td>\n",
       "      <td>0.019075</td>\n",
       "    </tr>\n",
       "    <tr>\n",
       "      <th>std</th>\n",
       "      <td>244.495073</td>\n",
       "      <td>592.360439</td>\n",
       "      <td>0.254779</td>\n",
       "      <td>0.320614</td>\n",
       "      <td>0.006530</td>\n",
       "    </tr>\n",
       "    <tr>\n",
       "      <th>min</th>\n",
       "      <td>3734.000000</td>\n",
       "      <td>780.000000</td>\n",
       "      <td>0.000000</td>\n",
       "      <td>0.000000</td>\n",
       "      <td>0.003805</td>\n",
       "    </tr>\n",
       "    <tr>\n",
       "      <th>25%</th>\n",
       "      <td>4039.750000</td>\n",
       "      <td>3600.000000</td>\n",
       "      <td>0.000000</td>\n",
       "      <td>0.000000</td>\n",
       "      <td>0.014097</td>\n",
       "    </tr>\n",
       "    <tr>\n",
       "      <th>50%</th>\n",
       "      <td>4159.500000</td>\n",
       "      <td>3600.000000</td>\n",
       "      <td>0.000000</td>\n",
       "      <td>0.000000</td>\n",
       "      <td>0.019850</td>\n",
       "    </tr>\n",
       "    <tr>\n",
       "      <th>75%</th>\n",
       "      <td>4354.250000</td>\n",
       "      <td>3600.000000</td>\n",
       "      <td>0.000000</td>\n",
       "      <td>0.000000</td>\n",
       "      <td>0.023590</td>\n",
       "    </tr>\n",
       "    <tr>\n",
       "      <th>max</th>\n",
       "      <td>4593.000000</td>\n",
       "      <td>7200.000000</td>\n",
       "      <td>1.000000</td>\n",
       "      <td>1.000000</td>\n",
       "      <td>0.036800</td>\n",
       "    </tr>\n",
       "  </tbody>\n",
       "</table>\n",
       "</div>"
      ],
      "text/plain": [
       "        Unnamed: 0  program_duration  show_premier  show_repeat      rating\n",
       "count   388.000000        388.000000    388.000000   388.000000  388.000000\n",
       "mean   4174.038660       3680.257732      0.069588     0.115979    0.019075\n",
       "std     244.495073        592.360439      0.254779     0.320614    0.006530\n",
       "min    3734.000000        780.000000      0.000000     0.000000    0.003805\n",
       "25%    4039.750000       3600.000000      0.000000     0.000000    0.014097\n",
       "50%    4159.500000       3600.000000      0.000000     0.000000    0.019850\n",
       "75%    4354.250000       3600.000000      0.000000     0.000000    0.023590\n",
       "max    4593.000000       7200.000000      1.000000     1.000000    0.036800"
      ]
     },
     "execution_count": 184,
     "metadata": {},
     "output_type": "execute_result"
    }
   ],
   "source": [
    "filtered.describe()"
   ]
  },
  {
   "cell_type": "code",
   "execution_count": 189,
   "metadata": {},
   "outputs": [
    {
     "data": {
      "text/plain": [
       "<matplotlib.axes._subplots.AxesSubplot at 0x13a5fbc90>"
      ]
     },
     "execution_count": 189,
     "metadata": {},
     "output_type": "execute_result"
    },
    {
     "data": {
      "image/png": "[encoded data removed]",
      "text/plain": [
       "<Figure size 1200x800 with 1 Axes>"
      ]
     },
     "metadata": {},
     "output_type": "display_data"
    }
   ],
   "source": [
    "plt.figure(figsize=(15,10), dpi= 80)\n",
    "sns.boxplot(x='rating', y='show_name', data=filtered, notch=False, showfliers=False)"
   ]
  },
  {
   "cell_type": "code",
   "execution_count": 193,
   "metadata": {},
   "outputs": [
    {
     "data": {
      "text/plain": [
       "19"
      ]
     },
     "execution_count": 193,
     "metadata": {},
     "output_type": "execute_result"
    }
   ],
   "source": [
    "filtered.show_name.nunique()"
   ]
  },
  {
   "cell_type": "code",
   "execution_count": 171,
   "metadata": {},
   "outputs": [],
   "source": [
    "avg_rating_filter = filtered.groupby(['date', 'slot'])['rating'].mean().to_frame('avg_rating').reset_index()"
   ]
  },
  {
   "cell_type": "code",
   "execution_count": 172,
   "metadata": {},
   "outputs": [],
   "source": [
    "avg_rating_filter= avg_rating_filter[((avg_rating_filter.slot==datetime.time(20, 0, 0)) | (avg_rating_filter.slot==datetime.time(22, 0, 0)))]"
   ]
  },
  {
   "cell_type": "code",
   "execution_count": 173,
   "metadata": {},
   "outputs": [],
   "source": [
    "avg_rating_filtertwoslots = avg_rating_filter.pivot(index='date', columns='slot', values='avg_rating').reset_index()"
   ]
  },
  {
   "cell_type": "code",
   "execution_count": 174,
   "metadata": {},
   "outputs": [],
   "source": [
    "avg_rating_filtertwoslots.columns =['date', '20:00:00', '22:00:00']"
   ]
  },
  {
   "cell_type": "code",
   "execution_count": 175,
   "metadata": {},
   "outputs": [
    {
     "data": {
      "text/html": [
       "<div>\n",
       "<style scoped>\n",
       "    .dataframe tbody tr th:only-of-type {\n",
       "        vertical-align: middle;\n",
       "    }\n",
       "\n",
       "    .dataframe tbody tr th {\n",
       "        vertical-align: top;\n",
       "    }\n",
       "\n",
       "    .dataframe thead th {\n",
       "        text-align: right;\n",
       "    }\n",
       "</style>\n",
       "<table border=\"1\" class=\"dataframe\">\n",
       "  <thead>\n",
       "    <tr style=\"text-align: right;\">\n",
       "      <th></th>\n",
       "      <th>date</th>\n",
       "      <th>20:00:00</th>\n",
       "      <th>22:00:00</th>\n",
       "    </tr>\n",
       "  </thead>\n",
       "  <tbody>\n",
       "    <tr>\n",
       "      <th>0</th>\n",
       "      <td>2015-09-21</td>\n",
       "      <td>NaN</td>\n",
       "      <td>0.036800</td>\n",
       "    </tr>\n",
       "    <tr>\n",
       "      <th>1</th>\n",
       "      <td>2015-09-23</td>\n",
       "      <td>0.024430</td>\n",
       "      <td>NaN</td>\n",
       "    </tr>\n",
       "    <tr>\n",
       "      <th>2</th>\n",
       "      <td>2015-09-24</td>\n",
       "      <td>0.021749</td>\n",
       "      <td>0.015712</td>\n",
       "    </tr>\n",
       "    <tr>\n",
       "      <th>3</th>\n",
       "      <td>2015-09-28</td>\n",
       "      <td>NaN</td>\n",
       "      <td>0.030369</td>\n",
       "    </tr>\n",
       "    <tr>\n",
       "      <th>4</th>\n",
       "      <td>2015-09-30</td>\n",
       "      <td>0.022798</td>\n",
       "      <td>0.020843</td>\n",
       "    </tr>\n",
       "    <tr>\n",
       "      <th>...</th>\n",
       "      <td>...</td>\n",
       "      <td>...</td>\n",
       "      <td>...</td>\n",
       "    </tr>\n",
       "    <tr>\n",
       "      <th>153</th>\n",
       "      <td>2017-01-12</td>\n",
       "      <td>NaN</td>\n",
       "      <td>0.017173</td>\n",
       "    </tr>\n",
       "    <tr>\n",
       "      <th>154</th>\n",
       "      <td>2017-01-13</td>\n",
       "      <td>0.014479</td>\n",
       "      <td>NaN</td>\n",
       "    </tr>\n",
       "    <tr>\n",
       "      <th>155</th>\n",
       "      <td>2017-01-16</td>\n",
       "      <td>NaN</td>\n",
       "      <td>0.011333</td>\n",
       "    </tr>\n",
       "    <tr>\n",
       "      <th>156</th>\n",
       "      <td>2017-01-17</td>\n",
       "      <td>NaN</td>\n",
       "      <td>0.025594</td>\n",
       "    </tr>\n",
       "    <tr>\n",
       "      <th>157</th>\n",
       "      <td>2017-01-18</td>\n",
       "      <td>0.014268</td>\n",
       "      <td>0.025928</td>\n",
       "    </tr>\n",
       "  </tbody>\n",
       "</table>\n",
       "<p>158 rows × 3 columns</p>\n",
       "</div>"
      ],
      "text/plain": [
       "           date  20:00:00  22:00:00\n",
       "0    2015-09-21       NaN  0.036800\n",
       "1    2015-09-23  0.024430       NaN\n",
       "2    2015-09-24  0.021749  0.015712\n",
       "3    2015-09-28       NaN  0.030369\n",
       "4    2015-09-30  0.022798  0.020843\n",
       "..          ...       ...       ...\n",
       "153  2017-01-12       NaN  0.017173\n",
       "154  2017-01-13  0.014479       NaN\n",
       "155  2017-01-16       NaN  0.011333\n",
       "156  2017-01-17       NaN  0.025594\n",
       "157  2017-01-18  0.014268  0.025928\n",
       "\n",
       "[158 rows x 3 columns]"
      ]
     },
     "execution_count": 175,
     "metadata": {},
     "output_type": "execute_result"
    }
   ],
   "source": [
    "avg_rating_filtertwoslots"
   ]
  },
  {
   "cell_type": "code",
   "execution_count": 176,
   "metadata": {},
   "outputs": [],
   "source": [
    "avg_rating_filtertwoslots = avg_rating_filtertwoslots.dropna()"
   ]
  },
  {
   "cell_type": "code",
   "execution_count": 177,
   "metadata": {},
   "outputs": [
    {
     "data": {
      "text/html": [
       "<div>\n",
       "<style scoped>\n",
       "    .dataframe tbody tr th:only-of-type {\n",
       "        vertical-align: middle;\n",
       "    }\n",
       "\n",
       "    .dataframe tbody tr th {\n",
       "        vertical-align: top;\n",
       "    }\n",
       "\n",
       "    .dataframe thead th {\n",
       "        text-align: right;\n",
       "    }\n",
       "</style>\n",
       "<table border=\"1\" class=\"dataframe\">\n",
       "  <thead>\n",
       "    <tr style=\"text-align: right;\">\n",
       "      <th></th>\n",
       "      <th>20:00:00</th>\n",
       "      <th>22:00:00</th>\n",
       "    </tr>\n",
       "  </thead>\n",
       "  <tbody>\n",
       "    <tr>\n",
       "      <th>count</th>\n",
       "      <td>388.000000</td>\n",
       "      <td>388.000000</td>\n",
       "    </tr>\n",
       "    <tr>\n",
       "      <th>mean</th>\n",
       "      <td>0.019834</td>\n",
       "      <td>0.018210</td>\n",
       "    </tr>\n",
       "    <tr>\n",
       "      <th>std</th>\n",
       "      <td>0.007380</td>\n",
       "      <td>0.007592</td>\n",
       "    </tr>\n",
       "    <tr>\n",
       "      <th>min</th>\n",
       "      <td>0.003957</td>\n",
       "      <td>0.004026</td>\n",
       "    </tr>\n",
       "    <tr>\n",
       "      <th>25%</th>\n",
       "      <td>0.014326</td>\n",
       "      <td>0.013130</td>\n",
       "    </tr>\n",
       "    <tr>\n",
       "      <th>50%</th>\n",
       "      <td>0.019365</td>\n",
       "      <td>0.017578</td>\n",
       "    </tr>\n",
       "    <tr>\n",
       "      <th>75%</th>\n",
       "      <td>0.025130</td>\n",
       "      <td>0.021804</td>\n",
       "    </tr>\n",
       "    <tr>\n",
       "      <th>max</th>\n",
       "      <td>0.055210</td>\n",
       "      <td>0.042432</td>\n",
       "    </tr>\n",
       "  </tbody>\n",
       "</table>\n",
       "</div>"
      ],
      "text/plain": [
       "         20:00:00    22:00:00\n",
       "count  388.000000  388.000000\n",
       "mean     0.019834    0.018210\n",
       "std      0.007380    0.007592\n",
       "min      0.003957    0.004026\n",
       "25%      0.014326    0.013130\n",
       "50%      0.019365    0.017578\n",
       "75%      0.025130    0.021804\n",
       "max      0.055210    0.042432"
      ]
     },
     "execution_count": 177,
     "metadata": {},
     "output_type": "execute_result"
    }
   ],
   "source": [
    "avg_rating_twoslots.describe()"
   ]
  },
  {
   "cell_type": "code",
   "execution_count": 178,
   "metadata": {
    "scrolled": false
   },
   "outputs": [
    {
     "data": {
      "text/plain": [
       "Index(['date', '20:00:00', '22:00:00'], dtype='object')"
      ]
     },
     "execution_count": 178,
     "metadata": {},
     "output_type": "execute_result"
    }
   ],
   "source": [
    "avg_rating_filtertwoslots.columns"
   ]
  },
  {
   "cell_type": "code",
   "execution_count": 179,
   "metadata": {},
   "outputs": [
    {
     "data": {
      "text/plain": [
       "F_onewayResult(statistic=8.215456424141063, pvalue=0.0049626243474222035)"
      ]
     },
     "execution_count": 179,
     "metadata": {},
     "output_type": "execute_result"
    }
   ],
   "source": [
    "one_way_anova = stats.f_oneway(avg_rating_filtertwoslots['20:00:00'], avg_rating_filtertwoslots['22:00:00']) \n",
    "one_way_anova"
   ]
  },
  {
   "cell_type": "code",
   "execution_count": 180,
   "metadata": {},
   "outputs": [
    {
     "data": {
      "text/plain": [
       "Ttest_indResult(statistic=-2.8662617508073223, pvalue=0.0049626243474222296)"
      ]
     },
     "execution_count": 180,
     "metadata": {},
     "output_type": "execute_result"
    }
   ],
   "source": [
    "stats.ttest_ind(avg_rating_filtertwoslots['20:00:00'], avg_rating_filtertwoslots['22:00:00']) "
   ]
  },
  {
   "cell_type": "code",
   "execution_count": 181,
   "metadata": {},
   "outputs": [
    {
     "data": {
      "text/plain": [
       "-0.002694104144281806"
      ]
     },
     "execution_count": 181,
     "metadata": {},
     "output_type": "execute_result"
    }
   ],
   "source": [
    "np.mean(avg_rating_filtertwoslots['20:00:00']-avg_rating_filtertwoslots['22:00:00'])"
   ]
  },
  {
   "cell_type": "code",
   "execution_count": 12,
   "metadata": {},
   "outputs": [
    {
     "name": "stderr",
     "output_type": "stream",
     "text": [
      "/usr/local/Cellar/python/3.7.6_1/Frameworks/Python.framework/Versions/3.7/lib/python3.7/importlib/_bootstrap.py:219: RuntimeWarning: numpy.ufunc size changed, may indicate binary incompatibility. Expected 192 from C header, got 216 from PyObject\n",
      "  return f(*args, **kwds)\n",
      "/usr/local/Cellar/python/3.7.6_1/Frameworks/Python.framework/Versions/3.7/lib/python3.7/importlib/_bootstrap.py:219: RuntimeWarning: numpy.ufunc size changed, may indicate binary incompatibility. Expected 192 from C header, got 216 from PyObject\n",
      "  return f(*args, **kwds)\n"
     ]
    }
   ],
   "source": [
    "from sklearn.linear_model import LinearRegression"
   ]
  },
  {
   "cell_type": "code",
   "execution_count": 21,
   "metadata": {},
   "outputs": [
    {
     "data": {
      "text/html": [
       "<div>\n",
       "<style scoped>\n",
       "    .dataframe tbody tr th:only-of-type {\n",
       "        vertical-align: middle;\n",
       "    }\n",
       "\n",
       "    .dataframe tbody tr th {\n",
       "        vertical-align: top;\n",
       "    }\n",
       "\n",
       "    .dataframe thead th {\n",
       "        text-align: right;\n",
       "    }\n",
       "</style>\n",
       "<table border=\"1\" class=\"dataframe\">\n",
       "  <thead>\n",
       "    <tr style=\"text-align: right;\">\n",
       "      <th></th>\n",
       "      <th>Unnamed: 0</th>\n",
       "      <th>show_name</th>\n",
       "      <th>network</th>\n",
       "      <th>genre</th>\n",
       "      <th>time_slot</th>\n",
       "      <th>program_start_time</th>\n",
       "      <th>program_duration</th>\n",
       "      <th>show_premier</th>\n",
       "      <th>show_repeat</th>\n",
       "      <th>rating</th>\n",
       "      <th>date</th>\n",
       "    </tr>\n",
       "  </thead>\n",
       "  <tbody>\n",
       "    <tr>\n",
       "      <th>2</th>\n",
       "      <td>2</td>\n",
       "      <td>OF WOLVES AND MAN</td>\n",
       "      <td>JGN</td>\n",
       "      <td>Drama</td>\n",
       "      <td>2015-09-27 20:00:00</td>\n",
       "      <td>2015-09-27 20:00:00</td>\n",
       "      <td>3600</td>\n",
       "      <td>1</td>\n",
       "      <td>0</td>\n",
       "      <td>0.021757</td>\n",
       "      <td>2015-09-27</td>\n",
       "    </tr>\n",
       "    <tr>\n",
       "      <th>3</th>\n",
       "      <td>3</td>\n",
       "      <td>OF WOLVES AND MAN</td>\n",
       "      <td>JGN</td>\n",
       "      <td>Drama</td>\n",
       "      <td>2015-10-04 20:00:00</td>\n",
       "      <td>2015-10-04 20:00:00</td>\n",
       "      <td>3600</td>\n",
       "      <td>0</td>\n",
       "      <td>0</td>\n",
       "      <td>0.018664</td>\n",
       "      <td>2015-10-04</td>\n",
       "    </tr>\n",
       "  </tbody>\n",
       "</table>\n",
       "</div>"
      ],
      "text/plain": [
       "   Unnamed: 0          show_name network  genre            time_slot  \\\n",
       "2           2  OF WOLVES AND MAN     JGN  Drama  2015-09-27 20:00:00   \n",
       "3           3  OF WOLVES AND MAN     JGN  Drama  2015-10-04 20:00:00   \n",
       "\n",
       "   program_start_time  program_duration  show_premier  show_repeat    rating  \\\n",
       "2 2015-09-27 20:00:00              3600             1            0  0.021757   \n",
       "3 2015-10-04 20:00:00              3600             0            0  0.018664   \n",
       "\n",
       "         date  \n",
       "2  2015-09-27  \n",
       "3  2015-10-04  "
      ]
     },
     "execution_count": 21,
     "metadata": {},
     "output_type": "execute_result"
    }
   ],
   "source": [
    "program_black[:2]"
   ]
  },
  {
   "cell_type": "code",
   "execution_count": 32,
   "metadata": {},
   "outputs": [],
   "source": [
    "program_black_prepared = program_black[['rating']].copy()\n",
    "program_black_prepared = program_black_prepared.values.reshape((-1, 1))"
   ]
  },
  {
   "cell_type": "code",
   "execution_count": 47,
   "metadata": {},
   "outputs": [],
   "source": [
    "lin_reg = LinearRegression()"
   ]
  },
  {
   "cell_type": "code",
   "execution_count": 53,
   "metadata": {},
   "outputs": [],
   "source": [
    "var1 = program_black.program_duration.values.reshape((-1, 1))\n",
    "var2 = program_black.show_premier.values.reshape((-1, 1))"
   ]
  },
  {
   "cell_type": "code",
   "execution_count": 57,
   "metadata": {},
   "outputs": [
    {
     "data": {
      "text/plain": [
       "LinearRegression(copy_X=True, fit_intercept=True, n_jobs=None, normalize=False)"
      ]
     },
     "execution_count": 57,
     "metadata": {},
     "output_type": "execute_result"
    }
   ],
   "source": [
    "X = np.concatenate((var1,var2), axis = 1)\n",
    "lin_reg.fit(X, program_black['rating'])"
   ]
  },
  {
   "cell_type": "code",
   "execution_count": 43,
   "metadata": {},
   "outputs": [
    {
     "data": {
      "text/plain": [
       "LinearRegression(copy_X=True, fit_intercept=True, n_jobs=None, normalize=False)"
      ]
     },
     "execution_count": 43,
     "metadata": {},
     "output_type": "execute_result"
    }
   ],
   "source": [
    "lin_reg.fit(program_black_prepared, program_black_prepared.rating)"
   ]
  },
  {
   "cell_type": "code",
   "execution_count": 44,
   "metadata": {},
   "outputs": [],
   "source": [
    "program_black_prepared_predictions = lin_reg.predict(program_black_prepared)"
   ]
  },
  {
   "cell_type": "code",
   "execution_count": 45,
   "metadata": {},
   "outputs": [
    {
     "data": {
      "text/plain": [
       "2.1960446354154666e-18"
      ]
     },
     "execution_count": 45,
     "metadata": {},
     "output_type": "execute_result"
    }
   ],
   "source": [
    "from sklearn.metrics import mean_squared_error\n",
    "lin_mse = mean_squared_error(program_black_prepared.rating, program_black_prepared_predictions)\n",
    "lin_rmse = np.sqrt(lin_mse)\n",
    "lin_rmse"
   ]
  },
  {
   "cell_type": "code",
   "execution_count": null,
   "metadata": {},
   "outputs": [],
   "source": []
  }
 ],
 "metadata": {
  "kernelspec": {
   "display_name": "Python 3",
   "language": "python",
   "name": "python3"
  },
  "language_info": {
   "codemirror_mode": {
    "name": "ipython",
    "version": 3
   },
   "file_extension": ".py",
   "mimetype": "text/x-python",
   "name": "python",
   "nbconvert_exporter": "python",
   "pygments_lexer": "ipython3",
   "version": "3.7.6"
  }
 },
 "nbformat": 4,
 "nbformat_minor": 4
}
