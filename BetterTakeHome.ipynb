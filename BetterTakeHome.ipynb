{
 "cells": [
  {
   "cell_type": "code",
   "execution_count": 1,
   "metadata": {},
   "outputs": [],
   "source": [
    "import numpy as np\n",
    "import pandas as pd\n",
    "import math\n",
    "import random\n",
    "\n",
    "import requests\n",
    "import json\n",
    "import csv\n",
    "from multiprocessing import Pool\n",
    "\n",
    "import matplotlib as mpl\n",
    "import matplotlib.pyplot as plt\n",
    "import seaborn as sns\n",
    "from datetime import datetime, timedelta\n",
    "import warnings; warnings.filterwarnings(action='once')\n",
    "\n",
    "large = 22; med = 16; small = 12\n",
    "params = {'axes.titlesize': large,\n",
    "          'legend.fontsize': med,\n",
    "          'figure.figsize': (16, 10),\n",
    "          'axes.labelsize': med,\n",
    "          'axes.titlesize': med,\n",
    "          'xtick.labelsize': med,\n",
    "          'ytick.labelsize': med,\n",
    "          'figure.titlesize': large}\n",
    "\n",
    "plt.rcParams.update(params)\n",
    "plt.style.use('seaborn-whitegrid')\n",
    "sns.set_style(\"white\")\n",
    "%matplotlib inline"
   ]
  },
  {
   "cell_type": "markdown",
   "metadata": {},
   "source": [
    "## Part 1"
   ]
  },
  {
   "cell_type": "markdown",
   "metadata": {},
   "source": [
    "### Readin Loans"
   ]
  },
  {
   "cell_type": "code",
   "execution_count": 2,
   "metadata": {},
   "outputs": [],
   "source": [
    "sample = pd.read_csv(\"/Users/ling/Desktop/Interview/Better/loans.csv\", header=None)\n",
    "sample.columns = [\"loan\", \"address\", \"created_ts\", \"funded_ts\"]"
   ]
  },
  {
   "cell_type": "code",
   "execution_count": 3,
   "metadata": {},
   "outputs": [
    {
     "name": "stdout",
     "output_type": "stream",
     "text": [
      "<class 'pandas.core.frame.DataFrame'>\n",
      "RangeIndex: 5143 entries, 0 to 5142\n",
      "Data columns (total 4 columns):\n",
      "loan          5143 non-null float64\n",
      "address       5143 non-null object\n",
      "created_ts    5143 non-null object\n",
      "funded_ts     1055 non-null object\n",
      "dtypes: float64(1), object(3)\n",
      "memory usage: 160.8+ KB\n"
     ]
    }
   ],
   "source": [
    "sample.info()"
   ]
  },
  {
   "cell_type": "code",
   "execution_count": 4,
   "metadata": {},
   "outputs": [
    {
     "data": {
      "text/html": [
       "<div>\n",
       "<style scoped>\n",
       "    .dataframe tbody tr th:only-of-type {\n",
       "        vertical-align: middle;\n",
       "    }\n",
       "\n",
       "    .dataframe tbody tr th {\n",
       "        vertical-align: top;\n",
       "    }\n",
       "\n",
       "    .dataframe thead th {\n",
       "        text-align: right;\n",
       "    }\n",
       "</style>\n",
       "<table border=\"1\" class=\"dataframe\">\n",
       "  <thead>\n",
       "    <tr style=\"text-align: right;\">\n",
       "      <th></th>\n",
       "      <th>loan</th>\n",
       "      <th>address</th>\n",
       "      <th>created_ts</th>\n",
       "      <th>funded_ts</th>\n",
       "    </tr>\n",
       "  </thead>\n",
       "  <tbody>\n",
       "    <tr>\n",
       "      <th>0</th>\n",
       "      <td>568705.0</td>\n",
       "      <td>22226 Brookpine, Mission Viejo CA 92692</td>\n",
       "      <td>2016-12-20T07:16:04.778800+00:00</td>\n",
       "      <td>NaN</td>\n",
       "    </tr>\n",
       "    <tr>\n",
       "      <th>1</th>\n",
       "      <td>413165.0</td>\n",
       "      <td>124 Vignolia Court, Roseville CA 95747</td>\n",
       "      <td>2016-10-11T20:35:19.951835+00:00</td>\n",
       "      <td>2016-11-07T00:00:00+00:00</td>\n",
       "    </tr>\n",
       "  </tbody>\n",
       "</table>\n",
       "</div>"
      ],
      "text/plain": [
       "       loan                                  address  \\\n",
       "0  568705.0  22226 Brookpine, Mission Viejo CA 92692   \n",
       "1  413165.0   124 Vignolia Court, Roseville CA 95747   \n",
       "\n",
       "                         created_ts                  funded_ts  \n",
       "0  2016-12-20T07:16:04.778800+00:00                        NaN  \n",
       "1  2016-10-11T20:35:19.951835+00:00  2016-11-07T00:00:00+00:00  "
      ]
     },
     "execution_count": 4,
     "metadata": {},
     "output_type": "execute_result"
    }
   ],
   "source": [
    "sample.head(2)"
   ]
  },
  {
   "cell_type": "code",
   "execution_count": 5,
   "metadata": {},
   "outputs": [
    {
     "data": {
      "text/html": [
       "<div>\n",
       "<style scoped>\n",
       "    .dataframe tbody tr th:only-of-type {\n",
       "        vertical-align: middle;\n",
       "    }\n",
       "\n",
       "    .dataframe tbody tr th {\n",
       "        vertical-align: top;\n",
       "    }\n",
       "\n",
       "    .dataframe thead th {\n",
       "        text-align: right;\n",
       "    }\n",
       "</style>\n",
       "<table border=\"1\" class=\"dataframe\">\n",
       "  <thead>\n",
       "    <tr style=\"text-align: right;\">\n",
       "      <th></th>\n",
       "      <th>loan</th>\n",
       "    </tr>\n",
       "  </thead>\n",
       "  <tbody>\n",
       "    <tr>\n",
       "      <th>count</th>\n",
       "      <td>5.143000e+03</td>\n",
       "    </tr>\n",
       "    <tr>\n",
       "      <th>mean</th>\n",
       "      <td>3.823894e+05</td>\n",
       "    </tr>\n",
       "    <tr>\n",
       "      <th>std</th>\n",
       "      <td>1.271108e+06</td>\n",
       "    </tr>\n",
       "    <tr>\n",
       "      <th>min</th>\n",
       "      <td>9.000000e+00</td>\n",
       "    </tr>\n",
       "    <tr>\n",
       "      <th>25%</th>\n",
       "      <td>2.166565e+05</td>\n",
       "    </tr>\n",
       "    <tr>\n",
       "      <th>50%</th>\n",
       "      <td>3.179370e+05</td>\n",
       "    </tr>\n",
       "    <tr>\n",
       "      <th>75%</th>\n",
       "      <td>4.216590e+05</td>\n",
       "    </tr>\n",
       "    <tr>\n",
       "      <th>max</th>\n",
       "      <td>5.776249e+07</td>\n",
       "    </tr>\n",
       "  </tbody>\n",
       "</table>\n",
       "</div>"
      ],
      "text/plain": [
       "               loan\n",
       "count  5.143000e+03\n",
       "mean   3.823894e+05\n",
       "std    1.271108e+06\n",
       "min    9.000000e+00\n",
       "25%    2.166565e+05\n",
       "50%    3.179370e+05\n",
       "75%    4.216590e+05\n",
       "max    5.776249e+07"
      ]
     },
     "execution_count": 5,
     "metadata": {},
     "output_type": "execute_result"
    }
   ],
   "source": [
    "sample.describe()"
   ]
  },
  {
   "cell_type": "markdown",
   "metadata": {},
   "source": [
    "### Data Cleaning"
   ]
  },
  {
   "cell_type": "code",
   "execution_count": 6,
   "metadata": {},
   "outputs": [
    {
     "name": "stdout",
     "output_type": "stream",
     "text": [
      "883114.3\n",
      "82069.85\n"
     ]
    }
   ],
   "source": [
    "upper = sample['loan'].quantile(0.975); print(upper)\n",
    "lower = sample['loan'].quantile(0.025); print(lower)"
   ]
  },
  {
   "cell_type": "code",
   "execution_count": 7,
   "metadata": {},
   "outputs": [],
   "source": [
    "df = sample[(sample['loan']>=lower) & (sample['loan']<=upper)].copy()"
   ]
  },
  {
   "cell_type": "code",
   "execution_count": 8,
   "metadata": {},
   "outputs": [],
   "source": [
    "df['zip'] = df['address'].apply(lambda x: x.split(\" \")[-1])\n",
    "df['state'] = df['address'].apply(lambda x: x.split(\" \")[-2])"
   ]
  },
  {
   "cell_type": "code",
   "execution_count": 9,
   "metadata": {},
   "outputs": [
    {
     "data": {
      "text/html": [
       "<div>\n",
       "<style scoped>\n",
       "    .dataframe tbody tr th:only-of-type {\n",
       "        vertical-align: middle;\n",
       "    }\n",
       "\n",
       "    .dataframe tbody tr th {\n",
       "        vertical-align: top;\n",
       "    }\n",
       "\n",
       "    .dataframe thead th {\n",
       "        text-align: right;\n",
       "    }\n",
       "</style>\n",
       "<table border=\"1\" class=\"dataframe\">\n",
       "  <thead>\n",
       "    <tr style=\"text-align: right;\">\n",
       "      <th></th>\n",
       "      <th>loan</th>\n",
       "      <th>address</th>\n",
       "      <th>created_ts</th>\n",
       "      <th>funded_ts</th>\n",
       "      <th>zip</th>\n",
       "      <th>state</th>\n",
       "    </tr>\n",
       "  </thead>\n",
       "  <tbody>\n",
       "    <tr>\n",
       "      <th>0</th>\n",
       "      <td>568705.0</td>\n",
       "      <td>22226 Brookpine, Mission Viejo CA 92692</td>\n",
       "      <td>2016-12-20T07:16:04.778800+00:00</td>\n",
       "      <td>NaN</td>\n",
       "      <td>92692</td>\n",
       "      <td>CA</td>\n",
       "    </tr>\n",
       "    <tr>\n",
       "      <th>1</th>\n",
       "      <td>413165.0</td>\n",
       "      <td>124 Vignolia Court, Roseville CA 95747</td>\n",
       "      <td>2016-10-11T20:35:19.951835+00:00</td>\n",
       "      <td>2016-11-07T00:00:00+00:00</td>\n",
       "      <td>95747</td>\n",
       "      <td>CA</td>\n",
       "    </tr>\n",
       "  </tbody>\n",
       "</table>\n",
       "</div>"
      ],
      "text/plain": [
       "       loan                                  address  \\\n",
       "0  568705.0  22226 Brookpine, Mission Viejo CA 92692   \n",
       "1  413165.0   124 Vignolia Court, Roseville CA 95747   \n",
       "\n",
       "                         created_ts                  funded_ts    zip state  \n",
       "0  2016-12-20T07:16:04.778800+00:00                        NaN  92692    CA  \n",
       "1  2016-10-11T20:35:19.951835+00:00  2016-11-07T00:00:00+00:00  95747    CA  "
      ]
     },
     "execution_count": 9,
     "metadata": {},
     "output_type": "execute_result"
    }
   ],
   "source": [
    "df.head(2)"
   ]
  },
  {
   "cell_type": "code",
   "execution_count": 10,
   "metadata": {},
   "outputs": [
    {
     "data": {
      "text/html": [
       "<div>\n",
       "<style scoped>\n",
       "    .dataframe tbody tr th:only-of-type {\n",
       "        vertical-align: middle;\n",
       "    }\n",
       "\n",
       "    .dataframe tbody tr th {\n",
       "        vertical-align: top;\n",
       "    }\n",
       "\n",
       "    .dataframe thead th {\n",
       "        text-align: right;\n",
       "    }\n",
       "</style>\n",
       "<table border=\"1\" class=\"dataframe\">\n",
       "  <thead>\n",
       "    <tr style=\"text-align: right;\">\n",
       "      <th></th>\n",
       "      <th>loan</th>\n",
       "    </tr>\n",
       "  </thead>\n",
       "  <tbody>\n",
       "    <tr>\n",
       "      <th>count</th>\n",
       "      <td>4885.000000</td>\n",
       "    </tr>\n",
       "    <tr>\n",
       "      <th>mean</th>\n",
       "      <td>337882.609007</td>\n",
       "    </tr>\n",
       "    <tr>\n",
       "      <th>std</th>\n",
       "      <td>154681.855697</td>\n",
       "    </tr>\n",
       "    <tr>\n",
       "      <th>min</th>\n",
       "      <td>82127.000000</td>\n",
       "    </tr>\n",
       "    <tr>\n",
       "      <th>25%</th>\n",
       "      <td>222139.000000</td>\n",
       "    </tr>\n",
       "    <tr>\n",
       "      <th>50%</th>\n",
       "      <td>317937.000000</td>\n",
       "    </tr>\n",
       "    <tr>\n",
       "      <th>75%</th>\n",
       "      <td>417000.000000</td>\n",
       "    </tr>\n",
       "    <tr>\n",
       "      <th>max</th>\n",
       "      <td>883099.000000</td>\n",
       "    </tr>\n",
       "  </tbody>\n",
       "</table>\n",
       "</div>"
      ],
      "text/plain": [
       "                loan\n",
       "count    4885.000000\n",
       "mean   337882.609007\n",
       "std    154681.855697\n",
       "min     82127.000000\n",
       "25%    222139.000000\n",
       "50%    317937.000000\n",
       "75%    417000.000000\n",
       "max    883099.000000"
      ]
     },
     "execution_count": 10,
     "metadata": {},
     "output_type": "execute_result"
    }
   ],
   "source": [
    "df.describe()"
   ]
  },
  {
   "cell_type": "code",
   "execution_count": 11,
   "metadata": {},
   "outputs": [
    {
     "data": {
      "text/html": [
       "<div>\n",
       "<style scoped>\n",
       "    .dataframe tbody tr th:only-of-type {\n",
       "        vertical-align: middle;\n",
       "    }\n",
       "\n",
       "    .dataframe tbody tr th {\n",
       "        vertical-align: top;\n",
       "    }\n",
       "\n",
       "    .dataframe thead th {\n",
       "        text-align: right;\n",
       "    }\n",
       "</style>\n",
       "<table border=\"1\" class=\"dataframe\">\n",
       "  <thead>\n",
       "    <tr style=\"text-align: right;\">\n",
       "      <th></th>\n",
       "      <th>zip</th>\n",
       "      <th>cnt</th>\n",
       "    </tr>\n",
       "  </thead>\n",
       "  <tbody>\n",
       "    <tr>\n",
       "      <th>1949</th>\n",
       "      <td>98115</td>\n",
       "      <td>20</td>\n",
       "    </tr>\n",
       "    <tr>\n",
       "      <th>1295</th>\n",
       "      <td>92127</td>\n",
       "      <td>18</td>\n",
       "    </tr>\n",
       "    <tr>\n",
       "      <th>1900</th>\n",
       "      <td>98012</td>\n",
       "      <td>17</td>\n",
       "    </tr>\n",
       "    <tr>\n",
       "      <th>1955</th>\n",
       "      <td>98122</td>\n",
       "      <td>16</td>\n",
       "    </tr>\n",
       "    <tr>\n",
       "      <th>1963</th>\n",
       "      <td>98155</td>\n",
       "      <td>16</td>\n",
       "    </tr>\n",
       "    <tr>\n",
       "      <th>1940</th>\n",
       "      <td>98103</td>\n",
       "      <td>16</td>\n",
       "    </tr>\n",
       "    <tr>\n",
       "      <th>1668</th>\n",
       "      <td>95123</td>\n",
       "      <td>15</td>\n",
       "    </tr>\n",
       "    <tr>\n",
       "      <th>1562</th>\n",
       "      <td>94536</td>\n",
       "      <td>15</td>\n",
       "    </tr>\n",
       "    <tr>\n",
       "      <th>1568</th>\n",
       "      <td>94546</td>\n",
       "      <td>15</td>\n",
       "    </tr>\n",
       "    <tr>\n",
       "      <th>1584</th>\n",
       "      <td>94568</td>\n",
       "      <td>15</td>\n",
       "    </tr>\n",
       "  </tbody>\n",
       "</table>\n",
       "</div>"
      ],
      "text/plain": [
       "        zip  cnt\n",
       "1949  98115   20\n",
       "1295  92127   18\n",
       "1900  98012   17\n",
       "1955  98122   16\n",
       "1963  98155   16\n",
       "1940  98103   16\n",
       "1668  95123   15\n",
       "1562  94536   15\n",
       "1568  94546   15\n",
       "1584  94568   15"
      ]
     },
     "execution_count": 11,
     "metadata": {},
     "output_type": "execute_result"
    }
   ],
   "source": [
    "df.groupby('zip').size().reset_index(name='cnt').sort_values('cnt', ascending=False).head(10)"
   ]
  },
  {
   "cell_type": "code",
   "execution_count": 12,
   "metadata": {},
   "outputs": [
    {
     "data": {
      "text/html": [
       "<div>\n",
       "<style scoped>\n",
       "    .dataframe tbody tr th:only-of-type {\n",
       "        vertical-align: middle;\n",
       "    }\n",
       "\n",
       "    .dataframe tbody tr th {\n",
       "        vertical-align: top;\n",
       "    }\n",
       "\n",
       "    .dataframe thead th {\n",
       "        text-align: right;\n",
       "    }\n",
       "</style>\n",
       "<table border=\"1\" class=\"dataframe\">\n",
       "  <thead>\n",
       "    <tr style=\"text-align: right;\">\n",
       "      <th></th>\n",
       "      <th>state</th>\n",
       "      <th>loans</th>\n",
       "      <th>avg loans</th>\n",
       "    </tr>\n",
       "  </thead>\n",
       "  <tbody>\n",
       "    <tr>\n",
       "      <th>1</th>\n",
       "      <td>CA</td>\n",
       "      <td>2313.0</td>\n",
       "      <td>393240.028534</td>\n",
       "    </tr>\n",
       "    <tr>\n",
       "      <th>15</th>\n",
       "      <td>WA</td>\n",
       "      <td>658.0</td>\n",
       "      <td>341785.056231</td>\n",
       "    </tr>\n",
       "    <tr>\n",
       "      <th>10</th>\n",
       "      <td>NJ</td>\n",
       "      <td>307.0</td>\n",
       "      <td>319993.859935</td>\n",
       "    </tr>\n",
       "    <tr>\n",
       "      <th>13</th>\n",
       "      <td>PA</td>\n",
       "      <td>279.0</td>\n",
       "      <td>227678.480287</td>\n",
       "    </tr>\n",
       "    <tr>\n",
       "      <th>9</th>\n",
       "      <td>NC</td>\n",
       "      <td>245.0</td>\n",
       "      <td>248718.510204</td>\n",
       "    </tr>\n",
       "    <tr>\n",
       "      <th>6</th>\n",
       "      <td>GA</td>\n",
       "      <td>220.0</td>\n",
       "      <td>254174.318182</td>\n",
       "    </tr>\n",
       "    <tr>\n",
       "      <th>7</th>\n",
       "      <td>IL</td>\n",
       "      <td>213.0</td>\n",
       "      <td>266901.450704</td>\n",
       "    </tr>\n",
       "    <tr>\n",
       "      <th>12</th>\n",
       "      <td>OR</td>\n",
       "      <td>149.0</td>\n",
       "      <td>281594.067114</td>\n",
       "    </tr>\n",
       "    <tr>\n",
       "      <th>5</th>\n",
       "      <td>FL</td>\n",
       "      <td>145.0</td>\n",
       "      <td>233037.731034</td>\n",
       "    </tr>\n",
       "    <tr>\n",
       "      <th>0</th>\n",
       "      <td>AZ</td>\n",
       "      <td>122.0</td>\n",
       "      <td>245116.549180</td>\n",
       "    </tr>\n",
       "    <tr>\n",
       "      <th>2</th>\n",
       "      <td>CO</td>\n",
       "      <td>119.0</td>\n",
       "      <td>295992.756303</td>\n",
       "    </tr>\n",
       "    <tr>\n",
       "      <th>3</th>\n",
       "      <td>CT</td>\n",
       "      <td>72.0</td>\n",
       "      <td>283761.388889</td>\n",
       "    </tr>\n",
       "    <tr>\n",
       "      <th>4</th>\n",
       "      <td>DC</td>\n",
       "      <td>40.0</td>\n",
       "      <td>448010.525000</td>\n",
       "    </tr>\n",
       "    <tr>\n",
       "      <th>8</th>\n",
       "      <td>MD</td>\n",
       "      <td>1.0</td>\n",
       "      <td>774721.000000</td>\n",
       "    </tr>\n",
       "    <tr>\n",
       "      <th>11</th>\n",
       "      <td>NY</td>\n",
       "      <td>1.0</td>\n",
       "      <td>370000.000000</td>\n",
       "    </tr>\n",
       "    <tr>\n",
       "      <th>14</th>\n",
       "      <td>TX</td>\n",
       "      <td>1.0</td>\n",
       "      <td>261681.000000</td>\n",
       "    </tr>\n",
       "  </tbody>\n",
       "</table>\n",
       "</div>"
      ],
      "text/plain": [
       "   state   loans      avg loans\n",
       "1     CA  2313.0  393240.028534\n",
       "15    WA   658.0  341785.056231\n",
       "10    NJ   307.0  319993.859935\n",
       "13    PA   279.0  227678.480287\n",
       "9     NC   245.0  248718.510204\n",
       "6     GA   220.0  254174.318182\n",
       "7     IL   213.0  266901.450704\n",
       "12    OR   149.0  281594.067114\n",
       "5     FL   145.0  233037.731034\n",
       "0     AZ   122.0  245116.549180\n",
       "2     CO   119.0  295992.756303\n",
       "3     CT    72.0  283761.388889\n",
       "4     DC    40.0  448010.525000\n",
       "8     MD     1.0  774721.000000\n",
       "11    NY     1.0  370000.000000\n",
       "14    TX     1.0  261681.000000"
      ]
     },
     "execution_count": 12,
     "metadata": {},
     "output_type": "execute_result"
    }
   ],
   "source": [
    "sorted = df.groupby('state').agg({'loan': [len, np.mean]}).reset_index()\n",
    "sorted.columns=sorted.columns.get_level_values(0)\n",
    "sorted.columns=['state','loans', 'avg loans']\n",
    "sorted.sort_values('loans', ascending=False)"
   ]
  },
  {
   "cell_type": "code",
   "execution_count": 13,
   "metadata": {},
   "outputs": [
    {
     "data": {
      "text/plain": [
       "Text(0.5, 1.0, 'Box Plot of Loan Amounts by State')"
      ]
     },
     "execution_count": 13,
     "metadata": {},
     "output_type": "execute_result"
    },
    {
     "data": {
      "image/png": "[encoded data removed]",
      "text/plain": [
       "<Figure size 1280x800 with 1 Axes>"
      ]
     },
     "metadata": {
      "needs_background": "light"
     },
     "output_type": "display_data"
    }
   ],
   "source": [
    "plt.figure(figsize=(16,10), dpi= 80)\n",
    "sns.boxplot(x='state', y='loan', data=df, notch=False)\n",
    "plt.title('Box Plot of Loan Amounts by State', fontsize=22)"
   ]
  },
  {
   "cell_type": "code",
   "execution_count": 14,
   "metadata": {},
   "outputs": [
    {
     "data": {
      "text/plain": [
       "4885"
      ]
     },
     "execution_count": 14,
     "metadata": {},
     "output_type": "execute_result"
    }
   ],
   "source": [
    "len(df)"
   ]
  },
  {
   "cell_type": "code",
   "execution_count": 15,
   "metadata": {},
   "outputs": [
    {
     "data": {
      "text/html": [
       "<div>\n",
       "<style scoped>\n",
       "    .dataframe tbody tr th:only-of-type {\n",
       "        vertical-align: middle;\n",
       "    }\n",
       "\n",
       "    .dataframe tbody tr th {\n",
       "        vertical-align: top;\n",
       "    }\n",
       "\n",
       "    .dataframe thead th {\n",
       "        text-align: right;\n",
       "    }\n",
       "</style>\n",
       "<table border=\"1\" class=\"dataframe\">\n",
       "  <thead>\n",
       "    <tr style=\"text-align: right;\">\n",
       "      <th></th>\n",
       "      <th>loan</th>\n",
       "      <th>address</th>\n",
       "      <th>created_ts</th>\n",
       "      <th>funded_ts</th>\n",
       "      <th>zip</th>\n",
       "      <th>state</th>\n",
       "    </tr>\n",
       "  </thead>\n",
       "  <tbody>\n",
       "    <tr>\n",
       "      <th>0</th>\n",
       "      <td>568705.0</td>\n",
       "      <td>22226 Brookpine, Mission Viejo CA 92692</td>\n",
       "      <td>2016-12-20T07:16:04.778800+00:00</td>\n",
       "      <td>NaN</td>\n",
       "      <td>92692</td>\n",
       "      <td>CA</td>\n",
       "    </tr>\n",
       "    <tr>\n",
       "      <th>1</th>\n",
       "      <td>413165.0</td>\n",
       "      <td>124 Vignolia Court, Roseville CA 95747</td>\n",
       "      <td>2016-10-11T20:35:19.951835+00:00</td>\n",
       "      <td>2016-11-07T00:00:00+00:00</td>\n",
       "      <td>95747</td>\n",
       "      <td>CA</td>\n",
       "    </tr>\n",
       "  </tbody>\n",
       "</table>\n",
       "</div>"
      ],
      "text/plain": [
       "       loan                                  address  \\\n",
       "0  568705.0  22226 Brookpine, Mission Viejo CA 92692   \n",
       "1  413165.0   124 Vignolia Court, Roseville CA 95747   \n",
       "\n",
       "                         created_ts                  funded_ts    zip state  \n",
       "0  2016-12-20T07:16:04.778800+00:00                        NaN  92692    CA  \n",
       "1  2016-10-11T20:35:19.951835+00:00  2016-11-07T00:00:00+00:00  95747    CA  "
      ]
     },
     "execution_count": 15,
     "metadata": {},
     "output_type": "execute_result"
    }
   ],
   "source": [
    "df.head(2)"
   ]
  },
  {
   "cell_type": "code",
   "execution_count": 16,
   "metadata": {},
   "outputs": [
    {
     "name": "stdout",
     "output_type": "stream",
     "text": [
      "<class 'pandas.core.frame.DataFrame'>\n",
      "Int64Index: 4885 entries, 0 to 5142\n",
      "Data columns (total 6 columns):\n",
      "loan          4885 non-null float64\n",
      "address       4885 non-null object\n",
      "created_ts    4885 non-null object\n",
      "funded_ts     1049 non-null object\n",
      "zip           4885 non-null object\n",
      "state         4885 non-null object\n",
      "dtypes: float64(1), object(5)\n",
      "memory usage: 427.1+ KB\n"
     ]
    }
   ],
   "source": [
    "df.info()"
   ]
  },
  {
   "cell_type": "code",
   "execution_count": 17,
   "metadata": {},
   "outputs": [],
   "source": [
    "df['created_dt'] = df['created_ts'].apply(lambda x: datetime.strptime(x.split(\"T\")[0], '%Y-%m-%d').date())"
   ]
  },
  {
   "cell_type": "code",
   "execution_count": 18,
   "metadata": {},
   "outputs": [],
   "source": [
    "df['funded_dt'] = df['funded_ts'].apply(lambda x: None if str(x).lower()=='nan' else datetime.strptime(str(x).split(\"T\")[0], '%Y-%m-%d').date())"
   ]
  },
  {
   "cell_type": "code",
   "execution_count": 19,
   "metadata": {},
   "outputs": [],
   "source": [
    "df['duration'] = (df['funded_dt']-df['created_dt']).apply(lambda x: max(0,x.days))"
   ]
  },
  {
   "cell_type": "code",
   "execution_count": 20,
   "metadata": {},
   "outputs": [],
   "source": [
    "df['convert'] = df['funded_dt'].apply(lambda x: 0 if x is None  else 1)"
   ]
  },
  {
   "cell_type": "code",
   "execution_count": 21,
   "metadata": {},
   "outputs": [
    {
     "data": {
      "text/plain": [
       "count    4885.000000\n",
       "mean        0.214739\n",
       "std         0.410683\n",
       "min         0.000000\n",
       "25%         0.000000\n",
       "50%         0.000000\n",
       "75%         0.000000\n",
       "max         1.000000\n",
       "Name: convert, dtype: float64"
      ]
     },
     "execution_count": 21,
     "metadata": {},
     "output_type": "execute_result"
    }
   ],
   "source": [
    "df['convert'].describe()"
   ]
  },
  {
   "cell_type": "code",
   "execution_count": 22,
   "metadata": {},
   "outputs": [
    {
     "data": {
      "text/plain": [
       "count    1046.000000\n",
       "mean       49.512428\n",
       "std        22.958072\n",
       "min        16.000000\n",
       "25%        36.000000\n",
       "50%        45.000000\n",
       "75%        58.000000\n",
       "max       430.000000\n",
       "Name: duration, dtype: float64"
      ]
     },
     "execution_count": 22,
     "metadata": {},
     "output_type": "execute_result"
    }
   ],
   "source": [
    "df[df['duration']>0]['duration'].describe()"
   ]
  },
  {
   "cell_type": "markdown",
   "metadata": {},
   "source": [
    "### Aggregate Data"
   ]
  },
  {
   "cell_type": "code",
   "execution_count": 23,
   "metadata": {},
   "outputs": [],
   "source": [
    "date_format='%Y-%m'\n",
    "df['create_year_mon']=df['created_dt'].apply(lambda x: x.strftime(date_format))"
   ]
  },
  {
   "cell_type": "code",
   "execution_count": 24,
   "metadata": {},
   "outputs": [],
   "source": [
    "df['duration_mon']=df['duration'].apply(lambda x: x//30)"
   ]
  },
  {
   "cell_type": "code",
   "execution_count": 25,
   "metadata": {},
   "outputs": [],
   "source": [
    "df2=df.groupby(['create_year_mon']).size().reset_index(name='loads')"
   ]
  },
  {
   "cell_type": "code",
   "execution_count": 26,
   "metadata": {},
   "outputs": [],
   "source": [
    "df3=df.groupby(['create_year_mon','duration_mon'])['convert'].sum().reset_index(name='convert')"
   ]
  },
  {
   "cell_type": "code",
   "execution_count": 27,
   "metadata": {},
   "outputs": [
    {
     "data": {
      "text/plain": [
       "2017-01    492\n",
       "2017-08    490\n",
       "2017-07    459\n",
       "2017-09    437\n",
       "2017-06    401\n",
       "2017-10    394\n",
       "2017-11    335\n",
       "2016-12    299\n",
       "2017-02    244\n",
       "2016-11    242\n",
       "2017-03    206\n",
       "2017-05    198\n",
       "2016-10    169\n",
       "2017-04    162\n",
       "2017-12    132\n",
       "2016-09    119\n",
       "2016-05     45\n",
       "2016-04     31\n",
       "2016-08     15\n",
       "2016-03      9\n",
       "2016-07      3\n",
       "2016-06      2\n",
       "2016-02      1\n",
       "Name: create_year_mon, dtype: int64"
      ]
     },
     "execution_count": 27,
     "metadata": {},
     "output_type": "execute_result"
    }
   ],
   "source": [
    "df['create_year_mon'].value_counts()"
   ]
  },
  {
   "cell_type": "code",
   "execution_count": 28,
   "metadata": {},
   "outputs": [
    {
     "data": {
      "text/plain": [
       "0     3954\n",
       "1      692\n",
       "2      200\n",
       "3       32\n",
       "6        3\n",
       "4        3\n",
       "14       1\n",
       "Name: duration_mon, dtype: int64"
      ]
     },
     "execution_count": 28,
     "metadata": {},
     "output_type": "execute_result"
    }
   ],
   "source": [
    "df['duration_mon'].value_counts()"
   ]
  },
  {
   "cell_type": "code",
   "execution_count": 29,
   "metadata": {},
   "outputs": [],
   "source": [
    "mons1=df['create_year_mon'].value_counts().index\n",
    "mons2=range(7)"
   ]
  },
  {
   "cell_type": "code",
   "execution_count": 30,
   "metadata": {},
   "outputs": [],
   "source": [
    "from itertools import product"
   ]
  },
  {
   "cell_type": "code",
   "execution_count": 31,
   "metadata": {},
   "outputs": [],
   "source": [
    "l=[]\n",
    "for mon1, mon2 in product(mons1, mons2):\n",
    "    l.append([mon1, mon2])"
   ]
  },
  {
   "cell_type": "code",
   "execution_count": 32,
   "metadata": {},
   "outputs": [],
   "source": [
    "driver=pd.DataFrame(l, columns=['create_year_mon','duration_mon']).sort_values(['create_year_mon','duration_mon']).reset_index(drop=True)"
   ]
  },
  {
   "cell_type": "code",
   "execution_count": 33,
   "metadata": {},
   "outputs": [],
   "source": [
    "driver = pd.merge(driver, df2, on=['create_year_mon'], how='left')"
   ]
  },
  {
   "cell_type": "code",
   "execution_count": 34,
   "metadata": {},
   "outputs": [],
   "source": [
    "driver = pd.merge(driver, df3, on=['create_year_mon','duration_mon'], how='left')\n",
    "driver = driver.fillna(0)"
   ]
  },
  {
   "cell_type": "code",
   "execution_count": 35,
   "metadata": {},
   "outputs": [],
   "source": [
    "driver['conversion_rate']=driver['convert']/driver['loads']"
   ]
  },
  {
   "cell_type": "code",
   "execution_count": 36,
   "metadata": {},
   "outputs": [],
   "source": [
    "result = driver.pivot_table(index='create_year_mon', columns='duration_mon', values='conversion_rate')"
   ]
  },
  {
   "cell_type": "code",
   "execution_count": 37,
   "metadata": {},
   "outputs": [],
   "source": [
    "plot_df = df['create_year_mon'].value_counts().reset_index(name='number_of_loans')\n",
    "plot_df.columns =['create_year_mon','number_of_loans']\n",
    "plot_df=plot_df.sort_values(['create_year_mon'])"
   ]
  },
  {
   "cell_type": "code",
   "execution_count": 38,
   "metadata": {},
   "outputs": [
    {
     "data": {
      "text/html": [
       "<div>\n",
       "<style scoped>\n",
       "    .dataframe tbody tr th:only-of-type {\n",
       "        vertical-align: middle;\n",
       "    }\n",
       "\n",
       "    .dataframe tbody tr th {\n",
       "        vertical-align: top;\n",
       "    }\n",
       "\n",
       "    .dataframe thead th {\n",
       "        text-align: right;\n",
       "    }\n",
       "</style>\n",
       "<table border=\"1\" class=\"dataframe\">\n",
       "  <thead>\n",
       "    <tr style=\"text-align: right;\">\n",
       "      <th></th>\n",
       "      <th>number_of_loans</th>\n",
       "    </tr>\n",
       "  </thead>\n",
       "  <tbody>\n",
       "    <tr>\n",
       "      <th>count</th>\n",
       "      <td>23.000000</td>\n",
       "    </tr>\n",
       "    <tr>\n",
       "      <th>mean</th>\n",
       "      <td>212.391304</td>\n",
       "    </tr>\n",
       "    <tr>\n",
       "      <th>std</th>\n",
       "      <td>172.334437</td>\n",
       "    </tr>\n",
       "    <tr>\n",
       "      <th>min</th>\n",
       "      <td>1.000000</td>\n",
       "    </tr>\n",
       "    <tr>\n",
       "      <th>25%</th>\n",
       "      <td>38.000000</td>\n",
       "    </tr>\n",
       "    <tr>\n",
       "      <th>50%</th>\n",
       "      <td>198.000000</td>\n",
       "    </tr>\n",
       "    <tr>\n",
       "      <th>75%</th>\n",
       "      <td>364.500000</td>\n",
       "    </tr>\n",
       "    <tr>\n",
       "      <th>max</th>\n",
       "      <td>492.000000</td>\n",
       "    </tr>\n",
       "  </tbody>\n",
       "</table>\n",
       "</div>"
      ],
      "text/plain": [
       "       number_of_loans\n",
       "count        23.000000\n",
       "mean        212.391304\n",
       "std         172.334437\n",
       "min           1.000000\n",
       "25%          38.000000\n",
       "50%         198.000000\n",
       "75%         364.500000\n",
       "max         492.000000"
      ]
     },
     "execution_count": 38,
     "metadata": {},
     "output_type": "execute_result"
    }
   ],
   "source": [
    "plot_df.describe()"
   ]
  },
  {
   "cell_type": "code",
   "execution_count": 39,
   "metadata": {},
   "outputs": [
    {
     "data": {
      "text/plain": [
       "Text(0.5, 1.0, 'Number of Loans by Creation Month')"
      ]
     },
     "execution_count": 39,
     "metadata": {},
     "output_type": "execute_result"
    },
    {
     "data": {
      "image/png": "[encoded data removed]",
      "text/plain": [
       "<Figure size 1152x720 with 1 Axes>"
      ]
     },
     "metadata": {
      "needs_background": "light"
     },
     "output_type": "display_data"
    }
   ],
   "source": [
    "plt.figure(figsize=(16,10))\n",
    "sns.barplot(y='create_year_mon', x='number_of_loans',data=plot_df)\n",
    "plt.title('Number of Loans by Creation Month', fontsize=22)"
   ]
  },
  {
   "cell_type": "code",
   "execution_count": 40,
   "metadata": {},
   "outputs": [
    {
     "data": {
      "text/plain": [
       "Text(0.5, 1.0, 'Conversion Rates by Creation Month and Duration')"
      ]
     },
     "execution_count": 40,
     "metadata": {},
     "output_type": "execute_result"
    },
    {
     "data": {
      "image/png": "[encoded data removed]",
      "text/plain": [
       "<Figure size 1280x800 with 2 Axes>"
      ]
     },
     "metadata": {
      "needs_background": "light"
     },
     "output_type": "display_data"
    }
   ],
   "source": [
    "plt.figure(figsize=(16,10), dpi= 80)\n",
    "sns.heatmap(result, annot=True, fmt=\"g\", cmap='viridis')\n",
    "plt.title('Conversion Rates by Creation Month and Duration', fontsize=22)"
   ]
  },
  {
   "cell_type": "markdown",
   "metadata": {},
   "source": [
    "## Part 2"
   ]
  },
  {
   "cell_type": "markdown",
   "metadata": {},
   "source": [
    "### Fetch and readin county code"
   ]
  },
  {
   "cell_type": "code",
   "execution_count": 41,
   "metadata": {},
   "outputs": [],
   "source": [
    "def parse_one_address(address):\n",
    "    url = 'https://geomap.ffiec.gov/FFIECGeocMap/GeocodeMap1.aspx/GetGeocodeData'\n",
    "    headers = {'content-type':'application/json'}\n",
    "    data = {'sSingleLine': address, 'iCensusYear': \"2018\"}  \n",
    "    r = requests.post(url, data = json.dumps(data), headers=headers)\n",
    "    d = r.json()['d']\n",
    "    return ([address, d['sMatchAddr'],d['sStateCode'],d['sStateAbbr'],d['sCountyCode'],d['sCountyName']])\n",
    "\n",
    "def main(rowid):\n",
    "    print(rowid)\n",
    "    try:\n",
    "        res = parse_one_address(sample.loc[rowid, 'address'])\n",
    "        with open(\"output.csv\", 'a') as csvFile:\n",
    "            writer = csv.writer(csvFile)\n",
    "            writer.writerow(res)\n",
    "        csvFile.close()\n",
    "    except Exception as e:\n",
    "        print(e)\n",
    "\n",
    "# pool = Pool(5)\n",
    "# pool.map(main, [i for i in range(len(sample))]) "
   ]
  },
  {
   "cell_type": "code",
   "execution_count": 42,
   "metadata": {},
   "outputs": [],
   "source": [
    "sample2 = pd.read_csv(\"/Users/ling/Desktop/Interview/Better/output.csv\", header=None)\n",
    "sample2.columns = ['address','MatchAddr','StateCode','StateAbbr','CountyCode','CountyName']"
   ]
  },
  {
   "cell_type": "code",
   "execution_count": 43,
   "metadata": {},
   "outputs": [
    {
     "data": {
      "text/html": [
       "<div>\n",
       "<style scoped>\n",
       "    .dataframe tbody tr th:only-of-type {\n",
       "        vertical-align: middle;\n",
       "    }\n",
       "\n",
       "    .dataframe tbody tr th {\n",
       "        vertical-align: top;\n",
       "    }\n",
       "\n",
       "    .dataframe thead th {\n",
       "        text-align: right;\n",
       "    }\n",
       "</style>\n",
       "<table border=\"1\" class=\"dataframe\">\n",
       "  <thead>\n",
       "    <tr style=\"text-align: right;\">\n",
       "      <th></th>\n",
       "      <th>address</th>\n",
       "      <th>MatchAddr</th>\n",
       "      <th>StateCode</th>\n",
       "      <th>StateAbbr</th>\n",
       "      <th>CountyCode</th>\n",
       "      <th>CountyName</th>\n",
       "    </tr>\n",
       "  </thead>\n",
       "  <tbody>\n",
       "    <tr>\n",
       "      <th>0</th>\n",
       "      <td>2214 Streatley Ln, Matthews NC 28105</td>\n",
       "      <td>2214 STREATLEY LN, MATTHEWS, NC, 28105</td>\n",
       "      <td>37.0</td>\n",
       "      <td>NC</td>\n",
       "      <td>119.0</td>\n",
       "      <td>MECKLENBURG COUNTY                            ...</td>\n",
       "    </tr>\n",
       "    <tr>\n",
       "      <th>1</th>\n",
       "      <td>7528 Franklin Ave, Los Angeles CA 90046</td>\n",
       "      <td>7528 FRANKLIN AVE, LOS ANGELES, CA, 90046</td>\n",
       "      <td>6.0</td>\n",
       "      <td>CA</td>\n",
       "      <td>37.0</td>\n",
       "      <td>LOS ANGELES COUNTY                            ...</td>\n",
       "    </tr>\n",
       "  </tbody>\n",
       "</table>\n",
       "</div>"
      ],
      "text/plain": [
       "                                   address  \\\n",
       "0     2214 Streatley Ln, Matthews NC 28105   \n",
       "1  7528 Franklin Ave, Los Angeles CA 90046   \n",
       "\n",
       "                                   MatchAddr  StateCode StateAbbr  CountyCode  \\\n",
       "0     2214 STREATLEY LN, MATTHEWS, NC, 28105       37.0        NC       119.0   \n",
       "1  7528 FRANKLIN AVE, LOS ANGELES, CA, 90046        6.0        CA        37.0   \n",
       "\n",
       "                                          CountyName  \n",
       "0  MECKLENBURG COUNTY                            ...  \n",
       "1  LOS ANGELES COUNTY                            ...  "
      ]
     },
     "execution_count": 43,
     "metadata": {},
     "output_type": "execute_result"
    }
   ],
   "source": [
    "sample2.head(2)"
   ]
  },
  {
   "cell_type": "code",
   "execution_count": 44,
   "metadata": {},
   "outputs": [],
   "source": [
    "sample2['StateCode']=sample2['StateCode'].fillna(0).astype(int).astype(str)\n",
    "sample2['CountyCode']=sample2['CountyCode'].fillna(0).astype(int).astype(str)"
   ]
  },
  {
   "cell_type": "code",
   "execution_count": 45,
   "metadata": {},
   "outputs": [
    {
     "name": "stdout",
     "output_type": "stream",
     "text": [
      "<class 'pandas.core.frame.DataFrame'>\n",
      "RangeIndex: 5143 entries, 0 to 5142\n",
      "Data columns (total 6 columns):\n",
      "address       5143 non-null object\n",
      "MatchAddr     4772 non-null object\n",
      "StateCode     5143 non-null object\n",
      "StateAbbr     4772 non-null object\n",
      "CountyCode    5143 non-null object\n",
      "CountyName    4772 non-null object\n",
      "dtypes: object(6)\n",
      "memory usage: 241.2+ KB\n"
     ]
    }
   ],
   "source": [
    "sample2.info()"
   ]
  },
  {
   "cell_type": "code",
   "execution_count": 46,
   "metadata": {},
   "outputs": [
    {
     "data": {
      "text/html": [
       "<div>\n",
       "<style scoped>\n",
       "    .dataframe tbody tr th:only-of-type {\n",
       "        vertical-align: middle;\n",
       "    }\n",
       "\n",
       "    .dataframe tbody tr th {\n",
       "        vertical-align: top;\n",
       "    }\n",
       "\n",
       "    .dataframe thead th {\n",
       "        text-align: right;\n",
       "    }\n",
       "</style>\n",
       "<table border=\"1\" class=\"dataframe\">\n",
       "  <thead>\n",
       "    <tr style=\"text-align: right;\">\n",
       "      <th></th>\n",
       "      <th>address</th>\n",
       "      <th>MatchAddr</th>\n",
       "      <th>StateCode</th>\n",
       "      <th>StateAbbr</th>\n",
       "      <th>CountyCode</th>\n",
       "      <th>CountyName</th>\n",
       "    </tr>\n",
       "  </thead>\n",
       "  <tbody>\n",
       "    <tr>\n",
       "      <th>0</th>\n",
       "      <td>2214 Streatley Ln, Matthews NC 28105</td>\n",
       "      <td>2214 STREATLEY LN, MATTHEWS, NC, 28105</td>\n",
       "      <td>37</td>\n",
       "      <td>NC</td>\n",
       "      <td>119</td>\n",
       "      <td>MECKLENBURG COUNTY                            ...</td>\n",
       "    </tr>\n",
       "    <tr>\n",
       "      <th>1</th>\n",
       "      <td>7528 Franklin Ave, Los Angeles CA 90046</td>\n",
       "      <td>7528 FRANKLIN AVE, LOS ANGELES, CA, 90046</td>\n",
       "      <td>6</td>\n",
       "      <td>CA</td>\n",
       "      <td>37</td>\n",
       "      <td>LOS ANGELES COUNTY                            ...</td>\n",
       "    </tr>\n",
       "  </tbody>\n",
       "</table>\n",
       "</div>"
      ],
      "text/plain": [
       "                                   address  \\\n",
       "0     2214 Streatley Ln, Matthews NC 28105   \n",
       "1  7528 Franklin Ave, Los Angeles CA 90046   \n",
       "\n",
       "                                   MatchAddr StateCode StateAbbr CountyCode  \\\n",
       "0     2214 STREATLEY LN, MATTHEWS, NC, 28105        37        NC        119   \n",
       "1  7528 FRANKLIN AVE, LOS ANGELES, CA, 90046         6        CA         37   \n",
       "\n",
       "                                          CountyName  \n",
       "0  MECKLENBURG COUNTY                            ...  \n",
       "1  LOS ANGELES COUNTY                            ...  "
      ]
     },
     "execution_count": 46,
     "metadata": {},
     "output_type": "execute_result"
    }
   ],
   "source": [
    "sample2.head(2)"
   ]
  },
  {
   "cell_type": "code",
   "execution_count": 47,
   "metadata": {},
   "outputs": [
    {
     "data": {
      "text/plain": [
       "0.9278631149134746"
      ]
     },
     "execution_count": 47,
     "metadata": {},
     "output_type": "execute_result"
    }
   ],
   "source": [
    "4772/5143"
   ]
  },
  {
   "cell_type": "code",
   "execution_count": 48,
   "metadata": {},
   "outputs": [],
   "source": [
    "county = pd.merge(df, sample2, on='address', how='left' )"
   ]
  },
  {
   "cell_type": "code",
   "execution_count": 49,
   "metadata": {},
   "outputs": [
    {
     "data": {
      "text/plain": [
       "4533"
      ]
     },
     "execution_count": 49,
     "metadata": {},
     "output_type": "execute_result"
    }
   ],
   "source": [
    "sum(county['state']==county['StateAbbr'])"
   ]
  },
  {
   "cell_type": "markdown",
   "metadata": {},
   "source": [
    "### Readin County Limits"
   ]
  },
  {
   "cell_type": "code",
   "execution_count": 50,
   "metadata": {},
   "outputs": [],
   "source": [
    "sample3 = pd.ExcelFile(\"/Users/ling/Desktop/Interview/Better/FullCountyLoanLimitList2017.xlsx\")\n",
    "limits = sample3.parse(\"GSE Limits\", header=1)"
   ]
  },
  {
   "cell_type": "code",
   "execution_count": 51,
   "metadata": {},
   "outputs": [
    {
     "data": {
      "text/html": [
       "<div>\n",
       "<style scoped>\n",
       "    .dataframe tbody tr th:only-of-type {\n",
       "        vertical-align: middle;\n",
       "    }\n",
       "\n",
       "    .dataframe tbody tr th {\n",
       "        vertical-align: top;\n",
       "    }\n",
       "\n",
       "    .dataframe thead th {\n",
       "        text-align: right;\n",
       "    }\n",
       "</style>\n",
       "<table border=\"1\" class=\"dataframe\">\n",
       "  <thead>\n",
       "    <tr style=\"text-align: right;\">\n",
       "      <th></th>\n",
       "      <th>FIPS State Code</th>\n",
       "      <th>FIPS County Code</th>\n",
       "      <th>County Name</th>\n",
       "      <th>State</th>\n",
       "      <th>CBSA Number</th>\n",
       "      <th>One-Unit Limit</th>\n",
       "      <th>Two-Unit Limit</th>\n",
       "      <th>Three-Unit Limit</th>\n",
       "      <th>Four-Unit Limit</th>\n",
       "    </tr>\n",
       "  </thead>\n",
       "  <tbody>\n",
       "    <tr>\n",
       "      <th>0</th>\n",
       "      <td>1</td>\n",
       "      <td>1</td>\n",
       "      <td>AUTAUGA</td>\n",
       "      <td>AL</td>\n",
       "      <td>33860.0</td>\n",
       "      <td>424100</td>\n",
       "      <td>543000</td>\n",
       "      <td>656350</td>\n",
       "      <td>815650</td>\n",
       "    </tr>\n",
       "    <tr>\n",
       "      <th>1</th>\n",
       "      <td>1</td>\n",
       "      <td>3</td>\n",
       "      <td>BALDWIN</td>\n",
       "      <td>AL</td>\n",
       "      <td>19300.0</td>\n",
       "      <td>424100</td>\n",
       "      <td>543000</td>\n",
       "      <td>656350</td>\n",
       "      <td>815650</td>\n",
       "    </tr>\n",
       "    <tr>\n",
       "      <th>2</th>\n",
       "      <td>1</td>\n",
       "      <td>5</td>\n",
       "      <td>BARBOUR</td>\n",
       "      <td>AL</td>\n",
       "      <td>NaN</td>\n",
       "      <td>424100</td>\n",
       "      <td>543000</td>\n",
       "      <td>656350</td>\n",
       "      <td>815650</td>\n",
       "    </tr>\n",
       "    <tr>\n",
       "      <th>3</th>\n",
       "      <td>1</td>\n",
       "      <td>7</td>\n",
       "      <td>BIBB</td>\n",
       "      <td>AL</td>\n",
       "      <td>13820.0</td>\n",
       "      <td>424100</td>\n",
       "      <td>543000</td>\n",
       "      <td>656350</td>\n",
       "      <td>815650</td>\n",
       "    </tr>\n",
       "    <tr>\n",
       "      <th>4</th>\n",
       "      <td>1</td>\n",
       "      <td>9</td>\n",
       "      <td>BLOUNT</td>\n",
       "      <td>AL</td>\n",
       "      <td>13820.0</td>\n",
       "      <td>424100</td>\n",
       "      <td>543000</td>\n",
       "      <td>656350</td>\n",
       "      <td>815650</td>\n",
       "    </tr>\n",
       "  </tbody>\n",
       "</table>\n",
       "</div>"
      ],
      "text/plain": [
       "   FIPS State Code  FIPS County Code County Name State  CBSA Number  \\\n",
       "0                1                 1     AUTAUGA    AL      33860.0   \n",
       "1                1                 3     BALDWIN    AL      19300.0   \n",
       "2                1                 5     BARBOUR    AL          NaN   \n",
       "3                1                 7        BIBB    AL      13820.0   \n",
       "4                1                 9      BLOUNT    AL      13820.0   \n",
       "\n",
       "   One-Unit Limit  Two-Unit Limit  Three-Unit Limit  Four-Unit Limit  \n",
       "0          424100          543000            656350           815650  \n",
       "1          424100          543000            656350           815650  \n",
       "2          424100          543000            656350           815650  \n",
       "3          424100          543000            656350           815650  \n",
       "4          424100          543000            656350           815650  "
      ]
     },
     "execution_count": 51,
     "metadata": {},
     "output_type": "execute_result"
    }
   ],
   "source": [
    "limits.head()"
   ]
  },
  {
   "cell_type": "code",
   "execution_count": 52,
   "metadata": {},
   "outputs": [
    {
     "name": "stdout",
     "output_type": "stream",
     "text": [
      "<class 'pandas.core.frame.DataFrame'>\n",
      "RangeIndex: 3234 entries, 0 to 3233\n",
      "Data columns (total 9 columns):\n",
      "FIPS State Code     3234 non-null object\n",
      "FIPS County Code    3234 non-null object\n",
      "County Name         3234 non-null object\n",
      "State               3234 non-null object\n",
      "CBSA Number         1882 non-null float64\n",
      "One-Unit Limit      3234 non-null int64\n",
      "Two-Unit Limit      3234 non-null int64\n",
      "Three-Unit Limit    3234 non-null int64\n",
      "Four-Unit Limit     3234 non-null int64\n",
      "dtypes: float64(1), int64(4), object(4)\n",
      "memory usage: 227.5+ KB\n"
     ]
    }
   ],
   "source": [
    "limits['FIPS State Code']=limits['FIPS State Code'].astype(str)\n",
    "limits['FIPS County Code']=limits['FIPS County Code'].astype(str)\n",
    "limits.info()"
   ]
  },
  {
   "cell_type": "code",
   "execution_count": 53,
   "metadata": {},
   "outputs": [
    {
     "data": {
      "text/html": [
       "<div>\n",
       "<style scoped>\n",
       "    .dataframe tbody tr th:only-of-type {\n",
       "        vertical-align: middle;\n",
       "    }\n",
       "\n",
       "    .dataframe tbody tr th {\n",
       "        vertical-align: top;\n",
       "    }\n",
       "\n",
       "    .dataframe thead th {\n",
       "        text-align: right;\n",
       "    }\n",
       "</style>\n",
       "<table border=\"1\" class=\"dataframe\">\n",
       "  <thead>\n",
       "    <tr style=\"text-align: right;\">\n",
       "      <th></th>\n",
       "      <th>loan</th>\n",
       "      <th>address</th>\n",
       "      <th>created_ts</th>\n",
       "      <th>funded_ts</th>\n",
       "      <th>zip</th>\n",
       "      <th>state</th>\n",
       "      <th>created_dt</th>\n",
       "      <th>funded_dt</th>\n",
       "      <th>duration</th>\n",
       "      <th>convert</th>\n",
       "      <th>create_year_mon</th>\n",
       "      <th>duration_mon</th>\n",
       "      <th>MatchAddr</th>\n",
       "      <th>StateCode</th>\n",
       "      <th>StateAbbr</th>\n",
       "      <th>CountyCode</th>\n",
       "      <th>CountyName</th>\n",
       "    </tr>\n",
       "  </thead>\n",
       "  <tbody>\n",
       "    <tr>\n",
       "      <th>0</th>\n",
       "      <td>568705.0</td>\n",
       "      <td>22226 Brookpine, Mission Viejo CA 92692</td>\n",
       "      <td>2016-12-20T07:16:04.778800+00:00</td>\n",
       "      <td>NaN</td>\n",
       "      <td>92692</td>\n",
       "      <td>CA</td>\n",
       "      <td>2016-12-20</td>\n",
       "      <td>None</td>\n",
       "      <td>0</td>\n",
       "      <td>0</td>\n",
       "      <td>2016-12</td>\n",
       "      <td>0</td>\n",
       "      <td>22226 BROOKPINE, MISSION VIEJO, CA, 92692</td>\n",
       "      <td>6</td>\n",
       "      <td>CA</td>\n",
       "      <td>59</td>\n",
       "      <td>ORANGE COUNTY                                 ...</td>\n",
       "    </tr>\n",
       "    <tr>\n",
       "      <th>1</th>\n",
       "      <td>413165.0</td>\n",
       "      <td>124 Vignolia Court, Roseville CA 95747</td>\n",
       "      <td>2016-10-11T20:35:19.951835+00:00</td>\n",
       "      <td>2016-11-07T00:00:00+00:00</td>\n",
       "      <td>95747</td>\n",
       "      <td>CA</td>\n",
       "      <td>2016-10-11</td>\n",
       "      <td>2016-11-07</td>\n",
       "      <td>27</td>\n",
       "      <td>1</td>\n",
       "      <td>2016-10</td>\n",
       "      <td>0</td>\n",
       "      <td>124 VIGNOLIA CT, ROSEVILLE, CA, 95747</td>\n",
       "      <td>6</td>\n",
       "      <td>CA</td>\n",
       "      <td>61</td>\n",
       "      <td>PLACER COUNTY                                 ...</td>\n",
       "    </tr>\n",
       "  </tbody>\n",
       "</table>\n",
       "</div>"
      ],
      "text/plain": [
       "       loan                                  address  \\\n",
       "0  568705.0  22226 Brookpine, Mission Viejo CA 92692   \n",
       "1  413165.0   124 Vignolia Court, Roseville CA 95747   \n",
       "\n",
       "                         created_ts                  funded_ts    zip state  \\\n",
       "0  2016-12-20T07:16:04.778800+00:00                        NaN  92692    CA   \n",
       "1  2016-10-11T20:35:19.951835+00:00  2016-11-07T00:00:00+00:00  95747    CA   \n",
       "\n",
       "   created_dt   funded_dt  duration  convert create_year_mon  duration_mon  \\\n",
       "0  2016-12-20        None         0        0         2016-12             0   \n",
       "1  2016-10-11  2016-11-07        27        1         2016-10             0   \n",
       "\n",
       "                                   MatchAddr StateCode StateAbbr CountyCode  \\\n",
       "0  22226 BROOKPINE, MISSION VIEJO, CA, 92692         6        CA         59   \n",
       "1      124 VIGNOLIA CT, ROSEVILLE, CA, 95747         6        CA         61   \n",
       "\n",
       "                                          CountyName  \n",
       "0  ORANGE COUNTY                                 ...  \n",
       "1  PLACER COUNTY                                 ...  "
      ]
     },
     "execution_count": 53,
     "metadata": {},
     "output_type": "execute_result"
    }
   ],
   "source": [
    "county.head(2)"
   ]
  },
  {
   "cell_type": "code",
   "execution_count": 54,
   "metadata": {},
   "outputs": [],
   "source": [
    "all=pd.merge(county, limits, left_on=['StateCode','CountyCode'], right_on=['FIPS State Code','FIPS County Code'], how='left')"
   ]
  },
  {
   "cell_type": "code",
   "execution_count": 55,
   "metadata": {},
   "outputs": [
    {
     "data": {
      "text/html": [
       "<div>\n",
       "<style scoped>\n",
       "    .dataframe tbody tr th:only-of-type {\n",
       "        vertical-align: middle;\n",
       "    }\n",
       "\n",
       "    .dataframe tbody tr th {\n",
       "        vertical-align: top;\n",
       "    }\n",
       "\n",
       "    .dataframe thead th {\n",
       "        text-align: right;\n",
       "    }\n",
       "</style>\n",
       "<table border=\"1\" class=\"dataframe\">\n",
       "  <thead>\n",
       "    <tr style=\"text-align: right;\">\n",
       "      <th></th>\n",
       "      <th>loan</th>\n",
       "      <th>address</th>\n",
       "      <th>created_ts</th>\n",
       "      <th>funded_ts</th>\n",
       "      <th>zip</th>\n",
       "      <th>state</th>\n",
       "      <th>created_dt</th>\n",
       "      <th>funded_dt</th>\n",
       "      <th>duration</th>\n",
       "      <th>convert</th>\n",
       "      <th>...</th>\n",
       "      <th>CountyName</th>\n",
       "      <th>FIPS State Code</th>\n",
       "      <th>FIPS County Code</th>\n",
       "      <th>County Name</th>\n",
       "      <th>State</th>\n",
       "      <th>CBSA Number</th>\n",
       "      <th>One-Unit Limit</th>\n",
       "      <th>Two-Unit Limit</th>\n",
       "      <th>Three-Unit Limit</th>\n",
       "      <th>Four-Unit Limit</th>\n",
       "    </tr>\n",
       "  </thead>\n",
       "  <tbody>\n",
       "    <tr>\n",
       "      <th>0</th>\n",
       "      <td>568705.0</td>\n",
       "      <td>22226 Brookpine, Mission Viejo CA 92692</td>\n",
       "      <td>2016-12-20T07:16:04.778800+00:00</td>\n",
       "      <td>NaN</td>\n",
       "      <td>92692</td>\n",
       "      <td>CA</td>\n",
       "      <td>2016-12-20</td>\n",
       "      <td>None</td>\n",
       "      <td>0</td>\n",
       "      <td>0</td>\n",
       "      <td>...</td>\n",
       "      <td>ORANGE COUNTY                                 ...</td>\n",
       "      <td>6</td>\n",
       "      <td>59</td>\n",
       "      <td>ORANGE</td>\n",
       "      <td>CA</td>\n",
       "      <td>31080.0</td>\n",
       "      <td>636150.0</td>\n",
       "      <td>814500.0</td>\n",
       "      <td>984525.0</td>\n",
       "      <td>1223475.0</td>\n",
       "    </tr>\n",
       "    <tr>\n",
       "      <th>1</th>\n",
       "      <td>413165.0</td>\n",
       "      <td>124 Vignolia Court, Roseville CA 95747</td>\n",
       "      <td>2016-10-11T20:35:19.951835+00:00</td>\n",
       "      <td>2016-11-07T00:00:00+00:00</td>\n",
       "      <td>95747</td>\n",
       "      <td>CA</td>\n",
       "      <td>2016-10-11</td>\n",
       "      <td>2016-11-07</td>\n",
       "      <td>27</td>\n",
       "      <td>1</td>\n",
       "      <td>...</td>\n",
       "      <td>PLACER COUNTY                                 ...</td>\n",
       "      <td>6</td>\n",
       "      <td>61</td>\n",
       "      <td>PLACER</td>\n",
       "      <td>CA</td>\n",
       "      <td>40900.0</td>\n",
       "      <td>488750.0</td>\n",
       "      <td>625700.0</td>\n",
       "      <td>756300.0</td>\n",
       "      <td>939900.0</td>\n",
       "    </tr>\n",
       "  </tbody>\n",
       "</table>\n",
       "<p>2 rows × 26 columns</p>\n",
       "</div>"
      ],
      "text/plain": [
       "       loan                                  address  \\\n",
       "0  568705.0  22226 Brookpine, Mission Viejo CA 92692   \n",
       "1  413165.0   124 Vignolia Court, Roseville CA 95747   \n",
       "\n",
       "                         created_ts                  funded_ts    zip state  \\\n",
       "0  2016-12-20T07:16:04.778800+00:00                        NaN  92692    CA   \n",
       "1  2016-10-11T20:35:19.951835+00:00  2016-11-07T00:00:00+00:00  95747    CA   \n",
       "\n",
       "   created_dt   funded_dt  duration  convert  ...  \\\n",
       "0  2016-12-20        None         0        0  ...   \n",
       "1  2016-10-11  2016-11-07        27        1  ...   \n",
       "\n",
       "                                          CountyName  FIPS State Code  \\\n",
       "0  ORANGE COUNTY                                 ...                6   \n",
       "1  PLACER COUNTY                                 ...                6   \n",
       "\n",
       "  FIPS County Code County Name State CBSA Number One-Unit Limit  \\\n",
       "0               59      ORANGE    CA     31080.0       636150.0   \n",
       "1               61      PLACER    CA     40900.0       488750.0   \n",
       "\n",
       "  Two-Unit Limit Three-Unit Limit Four-Unit Limit  \n",
       "0       814500.0         984525.0       1223475.0  \n",
       "1       625700.0         756300.0        939900.0  \n",
       "\n",
       "[2 rows x 26 columns]"
      ]
     },
     "execution_count": 55,
     "metadata": {},
     "output_type": "execute_result"
    }
   ],
   "source": [
    "all.head(2)"
   ]
  },
  {
   "cell_type": "code",
   "execution_count": 56,
   "metadata": {},
   "outputs": [
    {
     "data": {
      "text/html": [
       "<div>\n",
       "<style scoped>\n",
       "    .dataframe tbody tr th:only-of-type {\n",
       "        vertical-align: middle;\n",
       "    }\n",
       "\n",
       "    .dataframe tbody tr th {\n",
       "        vertical-align: top;\n",
       "    }\n",
       "\n",
       "    .dataframe thead th {\n",
       "        text-align: right;\n",
       "    }\n",
       "</style>\n",
       "<table border=\"1\" class=\"dataframe\">\n",
       "  <thead>\n",
       "    <tr style=\"text-align: right;\">\n",
       "      <th></th>\n",
       "      <th>loan</th>\n",
       "      <th>duration</th>\n",
       "      <th>convert</th>\n",
       "      <th>duration_mon</th>\n",
       "      <th>CBSA Number</th>\n",
       "      <th>One-Unit Limit</th>\n",
       "      <th>Two-Unit Limit</th>\n",
       "      <th>Three-Unit Limit</th>\n",
       "      <th>Four-Unit Limit</th>\n",
       "    </tr>\n",
       "  </thead>\n",
       "  <tbody>\n",
       "    <tr>\n",
       "      <th>count</th>\n",
       "      <td>4885.000000</td>\n",
       "      <td>4885.000000</td>\n",
       "      <td>4885.000000</td>\n",
       "      <td>4885.000000</td>\n",
       "      <td>4508.000000</td>\n",
       "      <td>4534.000000</td>\n",
       "      <td>4534.000000</td>\n",
       "      <td>4534.000000</td>\n",
       "      <td>4.534000e+03</td>\n",
       "    </tr>\n",
       "    <tr>\n",
       "      <th>mean</th>\n",
       "      <td>337882.609007</td>\n",
       "      <td>10.601842</td>\n",
       "      <td>0.214739</td>\n",
       "      <td>0.252201</td>\n",
       "      <td>34837.491127</td>\n",
       "      <td>536459.395677</td>\n",
       "      <td>686838.029334</td>\n",
       "      <td>830212.902514</td>\n",
       "      <td>1.031724e+06</td>\n",
       "    </tr>\n",
       "    <tr>\n",
       "      <th>std</th>\n",
       "      <td>154681.855697</td>\n",
       "      <td>22.921235</td>\n",
       "      <td>0.410683</td>\n",
       "      <td>0.610663</td>\n",
       "      <td>9770.082867</td>\n",
       "      <td>97682.575475</td>\n",
       "      <td>125061.138205</td>\n",
       "      <td>151165.286668</td>\n",
       "      <td>1.878599e+05</td>\n",
       "    </tr>\n",
       "    <tr>\n",
       "      <th>min</th>\n",
       "      <td>82127.000000</td>\n",
       "      <td>0.000000</td>\n",
       "      <td>0.000000</td>\n",
       "      <td>0.000000</td>\n",
       "      <td>10140.000000</td>\n",
       "      <td>424100.000000</td>\n",
       "      <td>543000.000000</td>\n",
       "      <td>656350.000000</td>\n",
       "      <td>8.156500e+05</td>\n",
       "    </tr>\n",
       "    <tr>\n",
       "      <th>25%</th>\n",
       "      <td>222139.000000</td>\n",
       "      <td>0.000000</td>\n",
       "      <td>0.000000</td>\n",
       "      <td>0.000000</td>\n",
       "      <td>31080.000000</td>\n",
       "      <td>424100.000000</td>\n",
       "      <td>543000.000000</td>\n",
       "      <td>656350.000000</td>\n",
       "      <td>8.156500e+05</td>\n",
       "    </tr>\n",
       "    <tr>\n",
       "      <th>50%</th>\n",
       "      <td>317937.000000</td>\n",
       "      <td>0.000000</td>\n",
       "      <td>0.000000</td>\n",
       "      <td>0.000000</td>\n",
       "      <td>38900.000000</td>\n",
       "      <td>592250.000000</td>\n",
       "      <td>758200.000000</td>\n",
       "      <td>916450.000000</td>\n",
       "      <td>1.138950e+06</td>\n",
       "    </tr>\n",
       "    <tr>\n",
       "      <th>75%</th>\n",
       "      <td>417000.000000</td>\n",
       "      <td>0.000000</td>\n",
       "      <td>0.000000</td>\n",
       "      <td>0.000000</td>\n",
       "      <td>41860.000000</td>\n",
       "      <td>636150.000000</td>\n",
       "      <td>814500.000000</td>\n",
       "      <td>984525.000000</td>\n",
       "      <td>1.223475e+06</td>\n",
       "    </tr>\n",
       "    <tr>\n",
       "      <th>max</th>\n",
       "      <td>883099.000000</td>\n",
       "      <td>430.000000</td>\n",
       "      <td>1.000000</td>\n",
       "      <td>14.000000</td>\n",
       "      <td>49740.000000</td>\n",
       "      <td>636150.000000</td>\n",
       "      <td>814500.000000</td>\n",
       "      <td>984525.000000</td>\n",
       "      <td>1.223475e+06</td>\n",
       "    </tr>\n",
       "  </tbody>\n",
       "</table>\n",
       "</div>"
      ],
      "text/plain": [
       "                loan     duration      convert  duration_mon   CBSA Number  \\\n",
       "count    4885.000000  4885.000000  4885.000000   4885.000000   4508.000000   \n",
       "mean   337882.609007    10.601842     0.214739      0.252201  34837.491127   \n",
       "std    154681.855697    22.921235     0.410683      0.610663   9770.082867   \n",
       "min     82127.000000     0.000000     0.000000      0.000000  10140.000000   \n",
       "25%    222139.000000     0.000000     0.000000      0.000000  31080.000000   \n",
       "50%    317937.000000     0.000000     0.000000      0.000000  38900.000000   \n",
       "75%    417000.000000     0.000000     0.000000      0.000000  41860.000000   \n",
       "max    883099.000000   430.000000     1.000000     14.000000  49740.000000   \n",
       "\n",
       "       One-Unit Limit  Two-Unit Limit  Three-Unit Limit  Four-Unit Limit  \n",
       "count     4534.000000     4534.000000       4534.000000     4.534000e+03  \n",
       "mean    536459.395677   686838.029334     830212.902514     1.031724e+06  \n",
       "std      97682.575475   125061.138205     151165.286668     1.878599e+05  \n",
       "min     424100.000000   543000.000000     656350.000000     8.156500e+05  \n",
       "25%     424100.000000   543000.000000     656350.000000     8.156500e+05  \n",
       "50%     592250.000000   758200.000000     916450.000000     1.138950e+06  \n",
       "75%     636150.000000   814500.000000     984525.000000     1.223475e+06  \n",
       "max     636150.000000   814500.000000     984525.000000     1.223475e+06  "
      ]
     },
     "execution_count": 56,
     "metadata": {},
     "output_type": "execute_result"
    }
   ],
   "source": [
    "all.describe()"
   ]
  },
  {
   "cell_type": "code",
   "execution_count": 57,
   "metadata": {},
   "outputs": [
    {
     "name": "stdout",
     "output_type": "stream",
     "text": [
      "<class 'pandas.core.frame.DataFrame'>\n",
      "Int64Index: 4885 entries, 0 to 4884\n",
      "Data columns (total 26 columns):\n",
      "loan                4885 non-null float64\n",
      "address             4885 non-null object\n",
      "created_ts          4885 non-null object\n",
      "funded_ts           1049 non-null object\n",
      "zip                 4885 non-null object\n",
      "state               4885 non-null object\n",
      "created_dt          4885 non-null object\n",
      "funded_dt           1049 non-null object\n",
      "duration            4885 non-null int64\n",
      "convert             4885 non-null int64\n",
      "create_year_mon     4885 non-null object\n",
      "duration_mon        4885 non-null int64\n",
      "MatchAddr           4534 non-null object\n",
      "StateCode           4885 non-null object\n",
      "StateAbbr           4534 non-null object\n",
      "CountyCode          4885 non-null object\n",
      "CountyName          4534 non-null object\n",
      "FIPS State Code     4534 non-null object\n",
      "FIPS County Code    4534 non-null object\n",
      "County Name         4534 non-null object\n",
      "State               4534 non-null object\n",
      "CBSA Number         4508 non-null float64\n",
      "One-Unit Limit      4534 non-null float64\n",
      "Two-Unit Limit      4534 non-null float64\n",
      "Three-Unit Limit    4534 non-null float64\n",
      "Four-Unit Limit     4534 non-null float64\n",
      "dtypes: float64(6), int64(3), object(17)\n",
      "memory usage: 1.0+ MB\n"
     ]
    }
   ],
   "source": [
    "all.info()"
   ]
  },
  {
   "cell_type": "code",
   "execution_count": 58,
   "metadata": {},
   "outputs": [],
   "source": [
    "all['jumbo'] = all['loan']>=all['One-Unit Limit']"
   ]
  },
  {
   "cell_type": "code",
   "execution_count": 59,
   "metadata": {},
   "outputs": [
    {
     "data": {
      "text/html": [
       "<div>\n",
       "<style scoped>\n",
       "    .dataframe tbody tr th:only-of-type {\n",
       "        vertical-align: middle;\n",
       "    }\n",
       "\n",
       "    .dataframe tbody tr th {\n",
       "        vertical-align: top;\n",
       "    }\n",
       "\n",
       "    .dataframe thead th {\n",
       "        text-align: right;\n",
       "    }\n",
       "</style>\n",
       "<table border=\"1\" class=\"dataframe\">\n",
       "  <thead>\n",
       "    <tr style=\"text-align: right;\">\n",
       "      <th></th>\n",
       "      <th>jumbo</th>\n",
       "      <th>jumbo</th>\n",
       "    </tr>\n",
       "  </thead>\n",
       "  <tbody>\n",
       "    <tr>\n",
       "      <th>False</th>\n",
       "      <td>4606</td>\n",
       "      <td>0.942886</td>\n",
       "    </tr>\n",
       "    <tr>\n",
       "      <th>True</th>\n",
       "      <td>279</td>\n",
       "      <td>0.057114</td>\n",
       "    </tr>\n",
       "  </tbody>\n",
       "</table>\n",
       "</div>"
      ],
      "text/plain": [
       "       jumbo     jumbo\n",
       "False   4606  0.942886\n",
       "True     279  0.057114"
      ]
     },
     "execution_count": 59,
     "metadata": {},
     "output_type": "execute_result"
    }
   ],
   "source": [
    "pd.concat([all['jumbo'].value_counts(), all['jumbo'].value_counts()/len(all)], axis=1)"
   ]
  },
  {
   "cell_type": "code",
   "execution_count": 60,
   "metadata": {},
   "outputs": [
    {
     "data": {
      "text/plain": [
       "False    4606\n",
       "True      279\n",
       "Name: jumbo, dtype: int64"
      ]
     },
     "execution_count": 60,
     "metadata": {},
     "output_type": "execute_result"
    }
   ],
   "source": [
    "all['jumbo'].value_counts()"
   ]
  },
  {
   "cell_type": "code",
   "execution_count": 61,
   "metadata": {},
   "outputs": [
    {
     "data": {
      "text/plain": [
       "False    0.942886\n",
       "True     0.057114\n",
       "Name: jumbo, dtype: float64"
      ]
     },
     "execution_count": 61,
     "metadata": {},
     "output_type": "execute_result"
    }
   ],
   "source": [
    "all['jumbo'].value_counts()/len(all)"
   ]
  },
  {
   "cell_type": "code",
   "execution_count": 62,
   "metadata": {},
   "outputs": [
    {
     "data": {
      "text/html": [
       "<div>\n",
       "<style scoped>\n",
       "    .dataframe tbody tr th:only-of-type {\n",
       "        vertical-align: middle;\n",
       "    }\n",
       "\n",
       "    .dataframe tbody tr th {\n",
       "        vertical-align: top;\n",
       "    }\n",
       "\n",
       "    .dataframe thead th {\n",
       "        text-align: right;\n",
       "    }\n",
       "</style>\n",
       "<table border=\"1\" class=\"dataframe\">\n",
       "  <thead>\n",
       "    <tr style=\"text-align: right;\">\n",
       "      <th></th>\n",
       "      <th>count</th>\n",
       "      <th>mean</th>\n",
       "      <th>std</th>\n",
       "      <th>min</th>\n",
       "      <th>25%</th>\n",
       "      <th>50%</th>\n",
       "      <th>75%</th>\n",
       "      <th>max</th>\n",
       "    </tr>\n",
       "    <tr>\n",
       "      <th>jumbo</th>\n",
       "      <th></th>\n",
       "      <th></th>\n",
       "      <th></th>\n",
       "      <th></th>\n",
       "      <th></th>\n",
       "      <th></th>\n",
       "      <th></th>\n",
       "      <th></th>\n",
       "    </tr>\n",
       "  </thead>\n",
       "  <tbody>\n",
       "    <tr>\n",
       "      <th>False</th>\n",
       "      <td>4606.0</td>\n",
       "      <td>0.224490</td>\n",
       "      <td>0.417291</td>\n",
       "      <td>0.0</td>\n",
       "      <td>0.0</td>\n",
       "      <td>0.0</td>\n",
       "      <td>0.0</td>\n",
       "      <td>1.0</td>\n",
       "    </tr>\n",
       "    <tr>\n",
       "      <th>True</th>\n",
       "      <td>279.0</td>\n",
       "      <td>0.053763</td>\n",
       "      <td>0.225956</td>\n",
       "      <td>0.0</td>\n",
       "      <td>0.0</td>\n",
       "      <td>0.0</td>\n",
       "      <td>0.0</td>\n",
       "      <td>1.0</td>\n",
       "    </tr>\n",
       "  </tbody>\n",
       "</table>\n",
       "</div>"
      ],
      "text/plain": [
       "        count      mean       std  min  25%  50%  75%  max\n",
       "jumbo                                                     \n",
       "False  4606.0  0.224490  0.417291  0.0  0.0  0.0  0.0  1.0\n",
       "True    279.0  0.053763  0.225956  0.0  0.0  0.0  0.0  1.0"
      ]
     },
     "execution_count": 62,
     "metadata": {},
     "output_type": "execute_result"
    }
   ],
   "source": [
    "all.groupby(['jumbo'])['convert'].describe()"
   ]
  },
  {
   "cell_type": "code",
   "execution_count": 63,
   "metadata": {},
   "outputs": [
    {
     "data": {
      "text/plain": [
       "jumbo\n",
       "False    1034\n",
       "True       15\n",
       "Name: convert, dtype: int64"
      ]
     },
     "execution_count": 63,
     "metadata": {},
     "output_type": "execute_result"
    }
   ],
   "source": [
    "all.groupby(['jumbo'])['convert'].sum()"
   ]
  },
  {
   "cell_type": "code",
   "execution_count": 64,
   "metadata": {},
   "outputs": [],
   "source": [
    "driver = pd.DataFrame([all['jumbo'].value_counts()]*7)"
   ]
  },
  {
   "cell_type": "code",
   "execution_count": 65,
   "metadata": {},
   "outputs": [],
   "source": [
    "driver['duration_mon']=range(7)"
   ]
  },
  {
   "cell_type": "code",
   "execution_count": 66,
   "metadata": {},
   "outputs": [
    {
     "data": {
      "text/html": [
       "<div>\n",
       "<style scoped>\n",
       "    .dataframe tbody tr th:only-of-type {\n",
       "        vertical-align: middle;\n",
       "    }\n",
       "\n",
       "    .dataframe tbody tr th {\n",
       "        vertical-align: top;\n",
       "    }\n",
       "\n",
       "    .dataframe thead th {\n",
       "        text-align: right;\n",
       "    }\n",
       "</style>\n",
       "<table border=\"1\" class=\"dataframe\">\n",
       "  <thead>\n",
       "    <tr style=\"text-align: right;\">\n",
       "      <th></th>\n",
       "      <th>False</th>\n",
       "      <th>True</th>\n",
       "      <th>duration_mon</th>\n",
       "    </tr>\n",
       "  </thead>\n",
       "  <tbody>\n",
       "    <tr>\n",
       "      <th>jumbo</th>\n",
       "      <td>4606</td>\n",
       "      <td>279</td>\n",
       "      <td>0</td>\n",
       "    </tr>\n",
       "    <tr>\n",
       "      <th>jumbo</th>\n",
       "      <td>4606</td>\n",
       "      <td>279</td>\n",
       "      <td>1</td>\n",
       "    </tr>\n",
       "    <tr>\n",
       "      <th>jumbo</th>\n",
       "      <td>4606</td>\n",
       "      <td>279</td>\n",
       "      <td>2</td>\n",
       "    </tr>\n",
       "    <tr>\n",
       "      <th>jumbo</th>\n",
       "      <td>4606</td>\n",
       "      <td>279</td>\n",
       "      <td>3</td>\n",
       "    </tr>\n",
       "    <tr>\n",
       "      <th>jumbo</th>\n",
       "      <td>4606</td>\n",
       "      <td>279</td>\n",
       "      <td>4</td>\n",
       "    </tr>\n",
       "    <tr>\n",
       "      <th>jumbo</th>\n",
       "      <td>4606</td>\n",
       "      <td>279</td>\n",
       "      <td>5</td>\n",
       "    </tr>\n",
       "    <tr>\n",
       "      <th>jumbo</th>\n",
       "      <td>4606</td>\n",
       "      <td>279</td>\n",
       "      <td>6</td>\n",
       "    </tr>\n",
       "  </tbody>\n",
       "</table>\n",
       "</div>"
      ],
      "text/plain": [
       "       False  True  duration_mon\n",
       "jumbo   4606   279             0\n",
       "jumbo   4606   279             1\n",
       "jumbo   4606   279             2\n",
       "jumbo   4606   279             3\n",
       "jumbo   4606   279             4\n",
       "jumbo   4606   279             5\n",
       "jumbo   4606   279             6"
      ]
     },
     "execution_count": 66,
     "metadata": {},
     "output_type": "execute_result"
    }
   ],
   "source": [
    "driver"
   ]
  },
  {
   "cell_type": "code",
   "execution_count": 67,
   "metadata": {},
   "outputs": [],
   "source": [
    "plot_df= all.groupby(['duration_mon', 'jumbo'])['convert'].sum().reset_index(name='convert')\n",
    "plot_df2 = plot_df.pivot(index='duration_mon', columns='jumbo', values='convert')"
   ]
  },
  {
   "cell_type": "code",
   "execution_count": 68,
   "metadata": {},
   "outputs": [],
   "source": [
    "plot_df3=pd.merge(driver, plot_df2, on=['duration_mon'], how='left')\n",
    "plot_df3['False_conversion_rate']=plot_df3['False_y']/plot_df3['False_x']\n",
    "plot_df3['True_conversion_rate']=plot_df3['True_y']/plot_df3['True_x']"
   ]
  },
  {
   "cell_type": "code",
   "execution_count": 69,
   "metadata": {},
   "outputs": [],
   "source": [
    "plot_df3.columns=['conforming', 'jumbo', 'duration_mon', 'conforming_convert', 'jumbo_convert', 'conforming_conversion_rate','jumbo_conversion_rate']"
   ]
  },
  {
   "cell_type": "code",
   "execution_count": 70,
   "metadata": {},
   "outputs": [
    {
     "data": {
      "text/html": [
       "<div>\n",
       "<style scoped>\n",
       "    .dataframe tbody tr th:only-of-type {\n",
       "        vertical-align: middle;\n",
       "    }\n",
       "\n",
       "    .dataframe tbody tr th {\n",
       "        vertical-align: top;\n",
       "    }\n",
       "\n",
       "    .dataframe thead th {\n",
       "        text-align: right;\n",
       "    }\n",
       "</style>\n",
       "<table border=\"1\" class=\"dataframe\">\n",
       "  <thead>\n",
       "    <tr style=\"text-align: right;\">\n",
       "      <th></th>\n",
       "      <th>conforming</th>\n",
       "      <th>jumbo</th>\n",
       "      <th>duration_mon</th>\n",
       "      <th>conforming_convert</th>\n",
       "      <th>jumbo_convert</th>\n",
       "      <th>conforming_conversion_rate</th>\n",
       "      <th>jumbo_conversion_rate</th>\n",
       "    </tr>\n",
       "  </thead>\n",
       "  <tbody>\n",
       "    <tr>\n",
       "      <th>0</th>\n",
       "      <td>4606</td>\n",
       "      <td>279</td>\n",
       "      <td>0</td>\n",
       "      <td>118.0</td>\n",
       "      <td>0.0</td>\n",
       "      <td>0.025619</td>\n",
       "      <td>0.000000</td>\n",
       "    </tr>\n",
       "    <tr>\n",
       "      <th>1</th>\n",
       "      <td>4606</td>\n",
       "      <td>279</td>\n",
       "      <td>1</td>\n",
       "      <td>683.0</td>\n",
       "      <td>9.0</td>\n",
       "      <td>0.148285</td>\n",
       "      <td>0.032258</td>\n",
       "    </tr>\n",
       "    <tr>\n",
       "      <th>2</th>\n",
       "      <td>4606</td>\n",
       "      <td>279</td>\n",
       "      <td>2</td>\n",
       "      <td>195.0</td>\n",
       "      <td>5.0</td>\n",
       "      <td>0.042336</td>\n",
       "      <td>0.017921</td>\n",
       "    </tr>\n",
       "    <tr>\n",
       "      <th>3</th>\n",
       "      <td>4606</td>\n",
       "      <td>279</td>\n",
       "      <td>3</td>\n",
       "      <td>31.0</td>\n",
       "      <td>1.0</td>\n",
       "      <td>0.006730</td>\n",
       "      <td>0.003584</td>\n",
       "    </tr>\n",
       "    <tr>\n",
       "      <th>4</th>\n",
       "      <td>4606</td>\n",
       "      <td>279</td>\n",
       "      <td>4</td>\n",
       "      <td>3.0</td>\n",
       "      <td>NaN</td>\n",
       "      <td>0.000651</td>\n",
       "      <td>NaN</td>\n",
       "    </tr>\n",
       "    <tr>\n",
       "      <th>5</th>\n",
       "      <td>4606</td>\n",
       "      <td>279</td>\n",
       "      <td>5</td>\n",
       "      <td>NaN</td>\n",
       "      <td>NaN</td>\n",
       "      <td>NaN</td>\n",
       "      <td>NaN</td>\n",
       "    </tr>\n",
       "    <tr>\n",
       "      <th>6</th>\n",
       "      <td>4606</td>\n",
       "      <td>279</td>\n",
       "      <td>6</td>\n",
       "      <td>3.0</td>\n",
       "      <td>NaN</td>\n",
       "      <td>0.000651</td>\n",
       "      <td>NaN</td>\n",
       "    </tr>\n",
       "  </tbody>\n",
       "</table>\n",
       "</div>"
      ],
      "text/plain": [
       "   conforming  jumbo  duration_mon  conforming_convert  jumbo_convert  \\\n",
       "0        4606    279             0               118.0            0.0   \n",
       "1        4606    279             1               683.0            9.0   \n",
       "2        4606    279             2               195.0            5.0   \n",
       "3        4606    279             3                31.0            1.0   \n",
       "4        4606    279             4                 3.0            NaN   \n",
       "5        4606    279             5                 NaN            NaN   \n",
       "6        4606    279             6                 3.0            NaN   \n",
       "\n",
       "   conforming_conversion_rate  jumbo_conversion_rate  \n",
       "0                    0.025619               0.000000  \n",
       "1                    0.148285               0.032258  \n",
       "2                    0.042336               0.017921  \n",
       "3                    0.006730               0.003584  \n",
       "4                    0.000651                    NaN  \n",
       "5                         NaN                    NaN  \n",
       "6                    0.000651                    NaN  "
      ]
     },
     "execution_count": 70,
     "metadata": {},
     "output_type": "execute_result"
    }
   ],
   "source": [
    "plot_df3"
   ]
  },
  {
   "cell_type": "code",
   "execution_count": 71,
   "metadata": {},
   "outputs": [],
   "source": [
    "all['loan_range']=pd.cut(all['loan'], 10)"
   ]
  },
  {
   "cell_type": "code",
   "execution_count": 72,
   "metadata": {},
   "outputs": [
    {
     "data": {
      "text/html": [
       "<div>\n",
       "<style scoped>\n",
       "    .dataframe tbody tr th:only-of-type {\n",
       "        vertical-align: middle;\n",
       "    }\n",
       "\n",
       "    .dataframe tbody tr th {\n",
       "        vertical-align: top;\n",
       "    }\n",
       "\n",
       "    .dataframe thead th {\n",
       "        text-align: right;\n",
       "    }\n",
       "</style>\n",
       "<table border=\"1\" class=\"dataframe\">\n",
       "  <thead>\n",
       "    <tr style=\"text-align: right;\">\n",
       "      <th></th>\n",
       "      <th>loan_range</th>\n",
       "      <th>cnt</th>\n",
       "    </tr>\n",
       "  </thead>\n",
       "  <tbody>\n",
       "    <tr>\n",
       "      <th>0</th>\n",
       "      <td>(81326.028, 162224.2]</td>\n",
       "      <td>569</td>\n",
       "    </tr>\n",
       "    <tr>\n",
       "      <th>1</th>\n",
       "      <td>(162224.2, 242321.4]</td>\n",
       "      <td>901</td>\n",
       "    </tr>\n",
       "    <tr>\n",
       "      <th>2</th>\n",
       "      <td>(242321.4, 322418.6]</td>\n",
       "      <td>1037</td>\n",
       "    </tr>\n",
       "    <tr>\n",
       "      <th>3</th>\n",
       "      <td>(322418.6, 402515.8]</td>\n",
       "      <td>951</td>\n",
       "    </tr>\n",
       "    <tr>\n",
       "      <th>4</th>\n",
       "      <td>(402515.8, 482613.0]</td>\n",
       "      <td>610</td>\n",
       "    </tr>\n",
       "    <tr>\n",
       "      <th>5</th>\n",
       "      <td>(482613.0, 562710.2]</td>\n",
       "      <td>327</td>\n",
       "    </tr>\n",
       "    <tr>\n",
       "      <th>6</th>\n",
       "      <td>(562710.2, 642807.4]</td>\n",
       "      <td>302</td>\n",
       "    </tr>\n",
       "    <tr>\n",
       "      <th>7</th>\n",
       "      <td>(642807.4, 722904.6]</td>\n",
       "      <td>87</td>\n",
       "    </tr>\n",
       "    <tr>\n",
       "      <th>8</th>\n",
       "      <td>(722904.6, 803001.8]</td>\n",
       "      <td>55</td>\n",
       "    </tr>\n",
       "    <tr>\n",
       "      <th>9</th>\n",
       "      <td>(803001.8, 883099.0]</td>\n",
       "      <td>46</td>\n",
       "    </tr>\n",
       "  </tbody>\n",
       "</table>\n",
       "</div>"
      ],
      "text/plain": [
       "              loan_range   cnt\n",
       "0  (81326.028, 162224.2]   569\n",
       "1   (162224.2, 242321.4]   901\n",
       "2   (242321.4, 322418.6]  1037\n",
       "3   (322418.6, 402515.8]   951\n",
       "4   (402515.8, 482613.0]   610\n",
       "5   (482613.0, 562710.2]   327\n",
       "6   (562710.2, 642807.4]   302\n",
       "7   (642807.4, 722904.6]    87\n",
       "8   (722904.6, 803001.8]    55\n",
       "9   (803001.8, 883099.0]    46"
      ]
     },
     "execution_count": 72,
     "metadata": {},
     "output_type": "execute_result"
    }
   ],
   "source": [
    "all.groupby('loan_range')['loan_range'].size().reset_index(name='cnt').sort_values('loan_range',ascending=True)"
   ]
  },
  {
   "cell_type": "code",
   "execution_count": 73,
   "metadata": {},
   "outputs": [
    {
     "data": {
      "text/html": [
       "<div>\n",
       "<style scoped>\n",
       "    .dataframe tbody tr th:only-of-type {\n",
       "        vertical-align: middle;\n",
       "    }\n",
       "\n",
       "    .dataframe tbody tr th {\n",
       "        vertical-align: top;\n",
       "    }\n",
       "\n",
       "    .dataframe thead th {\n",
       "        text-align: right;\n",
       "    }\n",
       "</style>\n",
       "<table border=\"1\" class=\"dataframe\">\n",
       "  <thead>\n",
       "    <tr style=\"text-align: right;\">\n",
       "      <th></th>\n",
       "      <th>conforming loans</th>\n",
       "      <th>jumbo loans</th>\n",
       "      <th>conforming convert</th>\n",
       "      <th>jumbo convert</th>\n",
       "      <th>conforming conversion rate</th>\n",
       "      <th>jumbo conversion rate</th>\n",
       "    </tr>\n",
       "    <tr>\n",
       "      <th>loan_range</th>\n",
       "      <th></th>\n",
       "      <th></th>\n",
       "      <th></th>\n",
       "      <th></th>\n",
       "      <th></th>\n",
       "      <th></th>\n",
       "    </tr>\n",
       "  </thead>\n",
       "  <tbody>\n",
       "    <tr>\n",
       "      <th>(81326.028, 162224.2]</th>\n",
       "      <td>569.0</td>\n",
       "      <td>NaN</td>\n",
       "      <td>61.0</td>\n",
       "      <td>NaN</td>\n",
       "      <td>0.107206</td>\n",
       "      <td>NaN</td>\n",
       "    </tr>\n",
       "    <tr>\n",
       "      <th>(162224.2, 242321.4]</th>\n",
       "      <td>901.0</td>\n",
       "      <td>NaN</td>\n",
       "      <td>147.0</td>\n",
       "      <td>NaN</td>\n",
       "      <td>0.163152</td>\n",
       "      <td>NaN</td>\n",
       "    </tr>\n",
       "    <tr>\n",
       "      <th>(242321.4, 322418.6]</th>\n",
       "      <td>1037.0</td>\n",
       "      <td>NaN</td>\n",
       "      <td>267.0</td>\n",
       "      <td>NaN</td>\n",
       "      <td>0.257473</td>\n",
       "      <td>NaN</td>\n",
       "    </tr>\n",
       "    <tr>\n",
       "      <th>(322418.6, 402515.8]</th>\n",
       "      <td>951.0</td>\n",
       "      <td>NaN</td>\n",
       "      <td>291.0</td>\n",
       "      <td>NaN</td>\n",
       "      <td>0.305994</td>\n",
       "      <td>NaN</td>\n",
       "    </tr>\n",
       "    <tr>\n",
       "      <th>(402515.8, 482613.0]</th>\n",
       "      <td>580.0</td>\n",
       "      <td>30.0</td>\n",
       "      <td>152.0</td>\n",
       "      <td>2.0</td>\n",
       "      <td>0.262069</td>\n",
       "      <td>0.066667</td>\n",
       "    </tr>\n",
       "    <tr>\n",
       "      <th>(482613.0, 562710.2]</th>\n",
       "      <td>294.0</td>\n",
       "      <td>33.0</td>\n",
       "      <td>59.0</td>\n",
       "      <td>2.0</td>\n",
       "      <td>0.200680</td>\n",
       "      <td>0.060606</td>\n",
       "    </tr>\n",
       "    <tr>\n",
       "      <th>(562710.2, 642807.4]</th>\n",
       "      <td>256.0</td>\n",
       "      <td>46.0</td>\n",
       "      <td>57.0</td>\n",
       "      <td>3.0</td>\n",
       "      <td>0.222656</td>\n",
       "      <td>0.065217</td>\n",
       "    </tr>\n",
       "    <tr>\n",
       "      <th>(642807.4, 722904.6]</th>\n",
       "      <td>8.0</td>\n",
       "      <td>79.0</td>\n",
       "      <td>0.0</td>\n",
       "      <td>5.0</td>\n",
       "      <td>0.000000</td>\n",
       "      <td>0.063291</td>\n",
       "    </tr>\n",
       "    <tr>\n",
       "      <th>(722904.6, 803001.8]</th>\n",
       "      <td>6.0</td>\n",
       "      <td>49.0</td>\n",
       "      <td>0.0</td>\n",
       "      <td>1.0</td>\n",
       "      <td>0.000000</td>\n",
       "      <td>0.020408</td>\n",
       "    </tr>\n",
       "    <tr>\n",
       "      <th>(803001.8, 883099.0]</th>\n",
       "      <td>4.0</td>\n",
       "      <td>42.0</td>\n",
       "      <td>0.0</td>\n",
       "      <td>2.0</td>\n",
       "      <td>0.000000</td>\n",
       "      <td>0.047619</td>\n",
       "    </tr>\n",
       "  </tbody>\n",
       "</table>\n",
       "</div>"
      ],
      "text/plain": [
       "                       conforming loans  jumbo loans  conforming convert  \\\n",
       "loan_range                                                                 \n",
       "(81326.028, 162224.2]             569.0          NaN                61.0   \n",
       "(162224.2, 242321.4]              901.0          NaN               147.0   \n",
       "(242321.4, 322418.6]             1037.0          NaN               267.0   \n",
       "(322418.6, 402515.8]              951.0          NaN               291.0   \n",
       "(402515.8, 482613.0]              580.0         30.0               152.0   \n",
       "(482613.0, 562710.2]              294.0         33.0                59.0   \n",
       "(562710.2, 642807.4]              256.0         46.0                57.0   \n",
       "(642807.4, 722904.6]                8.0         79.0                 0.0   \n",
       "(722904.6, 803001.8]                6.0         49.0                 0.0   \n",
       "(803001.8, 883099.0]                4.0         42.0                 0.0   \n",
       "\n",
       "                       jumbo convert  conforming conversion rate  \\\n",
       "loan_range                                                         \n",
       "(81326.028, 162224.2]            NaN                    0.107206   \n",
       "(162224.2, 242321.4]             NaN                    0.163152   \n",
       "(242321.4, 322418.6]             NaN                    0.257473   \n",
       "(322418.6, 402515.8]             NaN                    0.305994   \n",
       "(402515.8, 482613.0]             2.0                    0.262069   \n",
       "(482613.0, 562710.2]             2.0                    0.200680   \n",
       "(562710.2, 642807.4]             3.0                    0.222656   \n",
       "(642807.4, 722904.6]             5.0                    0.000000   \n",
       "(722904.6, 803001.8]             1.0                    0.000000   \n",
       "(803001.8, 883099.0]             2.0                    0.000000   \n",
       "\n",
       "                       jumbo conversion rate  \n",
       "loan_range                                    \n",
       "(81326.028, 162224.2]                    NaN  \n",
       "(162224.2, 242321.4]                     NaN  \n",
       "(242321.4, 322418.6]                     NaN  \n",
       "(322418.6, 402515.8]                     NaN  \n",
       "(402515.8, 482613.0]                0.066667  \n",
       "(482613.0, 562710.2]                0.060606  \n",
       "(562710.2, 642807.4]                0.065217  \n",
       "(642807.4, 722904.6]                0.063291  \n",
       "(722904.6, 803001.8]                0.020408  \n",
       "(803001.8, 883099.0]                0.047619  "
      ]
     },
     "execution_count": 73,
     "metadata": {},
     "output_type": "execute_result"
    }
   ],
   "source": [
    "grp_mean = all.groupby(['loan_range', 'jumbo']).agg({'convert': [len, np.sum, np.mean]}).reset_index()\n",
    "grp_mean_pivot = grp_mean.pivot(index='loan_range', columns='jumbo')\n",
    "grp_mean_pivot.columns = grp_mean_pivot.columns.get_level_values(0)\n",
    "grp_mean_pivot.columns=['conforming loans', 'jumbo loans', 'conforming convert', 'jumbo convert','conforming conversion rate', 'jumbo conversion rate']\n",
    "grp_mean_pivot"
   ]
  },
  {
   "cell_type": "code",
   "execution_count": 74,
   "metadata": {},
   "outputs": [],
   "source": [
    "grp_mean2 = all.groupby(['state','FIPS County Code', 'jumbo']).agg({'convert': [len, np.sum, np.mean]}).reset_index()\n",
    "grp_mean2.columns = grp_mean2.columns.get_level_values(0)\n",
    "grp_mean2.columns=['state', 'FIPS County Code', 'jumbo', 'loans', 'convert', 'conversion rate']"
   ]
  },
  {
   "cell_type": "code",
   "execution_count": 75,
   "metadata": {},
   "outputs": [
    {
     "data": {
      "image/png": "[encoded data removed]",
      "text/plain": [
       "<Figure size 1280x800 with 1 Axes>"
      ]
     },
     "metadata": {
      "needs_background": "light"
     },
     "output_type": "display_data"
    }
   ],
   "source": [
    "plt.figure(figsize=(16,10), dpi= 80)\n",
    "sns.boxplot(x='state', y='conversion rate', hue='jumbo', data=grp_mean2, notch=False)\n",
    "\n",
    "# Decorations\n",
    "plt.gca().set(xlabel='County Coversion Rate', ylabel='Conversion Rate')\n",
    "plt.title('County Coversion Rates by Conforming vs Jumbo', fontsize=22)\n",
    "plt.grid(linestyle='--', alpha=0.5)\n",
    "plt.show()"
   ]
  },
  {
   "cell_type": "code",
   "execution_count": 76,
   "metadata": {},
   "outputs": [
    {
     "data": {
      "text/html": [
       "<div>\n",
       "<style scoped>\n",
       "    .dataframe tbody tr th:only-of-type {\n",
       "        vertical-align: middle;\n",
       "    }\n",
       "\n",
       "    .dataframe tbody tr th {\n",
       "        vertical-align: top;\n",
       "    }\n",
       "\n",
       "    .dataframe thead th {\n",
       "        text-align: right;\n",
       "    }\n",
       "</style>\n",
       "<table border=\"1\" class=\"dataframe\">\n",
       "  <thead>\n",
       "    <tr style=\"text-align: right;\">\n",
       "      <th></th>\n",
       "      <th>conforming loans</th>\n",
       "      <th>jumbo loans</th>\n",
       "      <th>conforming convert</th>\n",
       "      <th>jumbo convert</th>\n",
       "      <th>conforming conversion rate</th>\n",
       "      <th>jumbo conversion rate</th>\n",
       "    </tr>\n",
       "    <tr>\n",
       "      <th>state</th>\n",
       "      <th></th>\n",
       "      <th></th>\n",
       "      <th></th>\n",
       "      <th></th>\n",
       "      <th></th>\n",
       "      <th></th>\n",
       "    </tr>\n",
       "  </thead>\n",
       "  <tbody>\n",
       "    <tr>\n",
       "      <th>CA</th>\n",
       "      <td>2153.0</td>\n",
       "      <td>160.0</td>\n",
       "      <td>595.0</td>\n",
       "      <td>5.0</td>\n",
       "      <td>0.276359</td>\n",
       "      <td>0.031250</td>\n",
       "    </tr>\n",
       "    <tr>\n",
       "      <th>WA</th>\n",
       "      <td>623.0</td>\n",
       "      <td>35.0</td>\n",
       "      <td>177.0</td>\n",
       "      <td>3.0</td>\n",
       "      <td>0.284109</td>\n",
       "      <td>0.085714</td>\n",
       "    </tr>\n",
       "    <tr>\n",
       "      <th>NJ</th>\n",
       "      <td>300.0</td>\n",
       "      <td>7.0</td>\n",
       "      <td>64.0</td>\n",
       "      <td>0.0</td>\n",
       "      <td>0.213333</td>\n",
       "      <td>0.000000</td>\n",
       "    </tr>\n",
       "    <tr>\n",
       "      <th>PA</th>\n",
       "      <td>273.0</td>\n",
       "      <td>6.0</td>\n",
       "      <td>30.0</td>\n",
       "      <td>1.0</td>\n",
       "      <td>0.109890</td>\n",
       "      <td>0.166667</td>\n",
       "    </tr>\n",
       "    <tr>\n",
       "      <th>NC</th>\n",
       "      <td>232.0</td>\n",
       "      <td>13.0</td>\n",
       "      <td>43.0</td>\n",
       "      <td>1.0</td>\n",
       "      <td>0.185345</td>\n",
       "      <td>0.076923</td>\n",
       "    </tr>\n",
       "    <tr>\n",
       "      <th>GA</th>\n",
       "      <td>207.0</td>\n",
       "      <td>13.0</td>\n",
       "      <td>31.0</td>\n",
       "      <td>2.0</td>\n",
       "      <td>0.149758</td>\n",
       "      <td>0.153846</td>\n",
       "    </tr>\n",
       "    <tr>\n",
       "      <th>IL</th>\n",
       "      <td>205.0</td>\n",
       "      <td>8.0</td>\n",
       "      <td>19.0</td>\n",
       "      <td>0.0</td>\n",
       "      <td>0.092683</td>\n",
       "      <td>0.000000</td>\n",
       "    </tr>\n",
       "    <tr>\n",
       "      <th>OR</th>\n",
       "      <td>139.0</td>\n",
       "      <td>10.0</td>\n",
       "      <td>21.0</td>\n",
       "      <td>1.0</td>\n",
       "      <td>0.151079</td>\n",
       "      <td>0.100000</td>\n",
       "    </tr>\n",
       "    <tr>\n",
       "      <th>FL</th>\n",
       "      <td>136.0</td>\n",
       "      <td>9.0</td>\n",
       "      <td>13.0</td>\n",
       "      <td>0.0</td>\n",
       "      <td>0.095588</td>\n",
       "      <td>0.000000</td>\n",
       "    </tr>\n",
       "    <tr>\n",
       "      <th>AZ</th>\n",
       "      <td>117.0</td>\n",
       "      <td>5.0</td>\n",
       "      <td>14.0</td>\n",
       "      <td>0.0</td>\n",
       "      <td>0.119658</td>\n",
       "      <td>0.000000</td>\n",
       "    </tr>\n",
       "    <tr>\n",
       "      <th>CO</th>\n",
       "      <td>114.0</td>\n",
       "      <td>5.0</td>\n",
       "      <td>16.0</td>\n",
       "      <td>0.0</td>\n",
       "      <td>0.140351</td>\n",
       "      <td>0.000000</td>\n",
       "    </tr>\n",
       "    <tr>\n",
       "      <th>CT</th>\n",
       "      <td>68.0</td>\n",
       "      <td>4.0</td>\n",
       "      <td>5.0</td>\n",
       "      <td>1.0</td>\n",
       "      <td>0.073529</td>\n",
       "      <td>0.250000</td>\n",
       "    </tr>\n",
       "    <tr>\n",
       "      <th>DC</th>\n",
       "      <td>37.0</td>\n",
       "      <td>3.0</td>\n",
       "      <td>6.0</td>\n",
       "      <td>1.0</td>\n",
       "      <td>0.162162</td>\n",
       "      <td>0.333333</td>\n",
       "    </tr>\n",
       "    <tr>\n",
       "      <th>NY</th>\n",
       "      <td>1.0</td>\n",
       "      <td>NaN</td>\n",
       "      <td>0.0</td>\n",
       "      <td>NaN</td>\n",
       "      <td>0.000000</td>\n",
       "      <td>NaN</td>\n",
       "    </tr>\n",
       "    <tr>\n",
       "      <th>TX</th>\n",
       "      <td>1.0</td>\n",
       "      <td>NaN</td>\n",
       "      <td>0.0</td>\n",
       "      <td>NaN</td>\n",
       "      <td>0.000000</td>\n",
       "      <td>NaN</td>\n",
       "    </tr>\n",
       "    <tr>\n",
       "      <th>MD</th>\n",
       "      <td>NaN</td>\n",
       "      <td>1.0</td>\n",
       "      <td>NaN</td>\n",
       "      <td>0.0</td>\n",
       "      <td>NaN</td>\n",
       "      <td>0.000000</td>\n",
       "    </tr>\n",
       "  </tbody>\n",
       "</table>\n",
       "</div>"
      ],
      "text/plain": [
       "       conforming loans  jumbo loans  conforming convert  jumbo convert  \\\n",
       "state                                                                     \n",
       "CA               2153.0        160.0               595.0            5.0   \n",
       "WA                623.0         35.0               177.0            3.0   \n",
       "NJ                300.0          7.0                64.0            0.0   \n",
       "PA                273.0          6.0                30.0            1.0   \n",
       "NC                232.0         13.0                43.0            1.0   \n",
       "GA                207.0         13.0                31.0            2.0   \n",
       "IL                205.0          8.0                19.0            0.0   \n",
       "OR                139.0         10.0                21.0            1.0   \n",
       "FL                136.0          9.0                13.0            0.0   \n",
       "AZ                117.0          5.0                14.0            0.0   \n",
       "CO                114.0          5.0                16.0            0.0   \n",
       "CT                 68.0          4.0                 5.0            1.0   \n",
       "DC                 37.0          3.0                 6.0            1.0   \n",
       "NY                  1.0          NaN                 0.0            NaN   \n",
       "TX                  1.0          NaN                 0.0            NaN   \n",
       "MD                  NaN          1.0                 NaN            0.0   \n",
       "\n",
       "       conforming conversion rate  jumbo conversion rate  \n",
       "state                                                     \n",
       "CA                       0.276359               0.031250  \n",
       "WA                       0.284109               0.085714  \n",
       "NJ                       0.213333               0.000000  \n",
       "PA                       0.109890               0.166667  \n",
       "NC                       0.185345               0.076923  \n",
       "GA                       0.149758               0.153846  \n",
       "IL                       0.092683               0.000000  \n",
       "OR                       0.151079               0.100000  \n",
       "FL                       0.095588               0.000000  \n",
       "AZ                       0.119658               0.000000  \n",
       "CO                       0.140351               0.000000  \n",
       "CT                       0.073529               0.250000  \n",
       "DC                       0.162162               0.333333  \n",
       "NY                       0.000000                    NaN  \n",
       "TX                       0.000000                    NaN  \n",
       "MD                            NaN               0.000000  "
      ]
     },
     "execution_count": 76,
     "metadata": {},
     "output_type": "execute_result"
    }
   ],
   "source": [
    "grp_mean3 = all.groupby(['state', 'jumbo']).agg({'convert': [len, np.sum, np.mean]}).reset_index()\n",
    "grp_mean_pivot3 = grp_mean3.pivot(index='state', columns='jumbo')\n",
    "grp_mean_pivot3.columns = grp_mean_pivot3.columns.get_level_values(0)\n",
    "grp_mean_pivot3.columns=['conforming loans', 'jumbo loans', 'conforming convert', 'jumbo convert','conforming conversion rate', 'jumbo conversion rate']\n",
    "grp_mean_pivot3.sort_values('conforming loans', ascending=False)"
   ]
  },
  {
   "cell_type": "code",
   "execution_count": null,
   "metadata": {},
   "outputs": [],
   "source": []
  }
 ],
 "metadata": {
  "kernelspec": {
   "display_name": "Python 3",
   "language": "python",
   "name": "python3"
  },
  "language_info": {
   "codemirror_mode": {
    "name": "ipython",
    "version": 3
   },
   "file_extension": ".py",
   "mimetype": "text/x-python",
   "name": "python",
   "nbconvert_exporter": "python",
   "pygments_lexer": "ipython3",
   "version": "3.7.2"
  }
 },
 "nbformat": 4,
 "nbformat_minor": 2
}
