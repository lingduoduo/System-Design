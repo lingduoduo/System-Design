{
 "cells": [
  {
   "cell_type": "code",
   "execution_count": 1,
   "metadata": {},
   "outputs": [],
   "source": [
    "# !pip install brewer2mpl\n",
    "import numpy as np\n",
    "import pandas as pd\n",
    "import math\n",
    "import random\n",
    "\n",
    "import matplotlib as mpl\n",
    "import matplotlib.pyplot as plt\n",
    "import seaborn as sns\n",
    "from datetime import datetime, timedelta\n",
    "import warnings; warnings.filterwarnings(action='once')\n",
    "\n",
    "large = 22; med = 16; small = 12\n",
    "params = {'axes.titlesize': large,\n",
    "          'legend.fontsize': med,\n",
    "          'figure.figsize': (16, 10),\n",
    "          'axes.labelsize': med,\n",
    "          'axes.titlesize': med,\n",
    "          'xtick.labelsize': med,\n",
    "          'ytick.labelsize': med,\n",
    "          'figure.titlesize': large}\n",
    "\n",
    "plt.rcParams.update(params)\n",
    "plt.style.use('seaborn-whitegrid')\n",
    "sns.set_style(\"white\")\n",
    "%matplotlib inline"
   ]
  },
  {
   "cell_type": "markdown",
   "metadata": {},
   "source": [
    "### Readin Assigments "
   ]
  },
  {
   "cell_type": "code",
   "execution_count": 2,
   "metadata": {},
   "outputs": [
    {
     "data": {
      "text/html": [
       "<div>\n",
       "<style scoped>\n",
       "    .dataframe tbody tr th:only-of-type {\n",
       "        vertical-align: middle;\n",
       "    }\n",
       "\n",
       "    .dataframe tbody tr th {\n",
       "        vertical-align: top;\n",
       "    }\n",
       "\n",
       "    .dataframe thead th {\n",
       "        text-align: right;\n",
       "    }\n",
       "</style>\n",
       "<table border=\"1\" class=\"dataframe\">\n",
       "  <thead>\n",
       "    <tr style=\"text-align: right;\">\n",
       "      <th></th>\n",
       "      <th>guest_id</th>\n",
       "      <th>assignment</th>\n",
       "      <th>guest_country</th>\n",
       "    </tr>\n",
       "  </thead>\n",
       "  <tbody>\n",
       "    <tr>\n",
       "      <th>0</th>\n",
       "      <td>V4R1E83L3</td>\n",
       "      <td>treatment</td>\n",
       "      <td>A</td>\n",
       "    </tr>\n",
       "    <tr>\n",
       "      <th>1</th>\n",
       "      <td>2MYGU7CPV</td>\n",
       "      <td>treatment</td>\n",
       "      <td>I</td>\n",
       "    </tr>\n",
       "    <tr>\n",
       "      <th>2</th>\n",
       "      <td>05XRLU41S</td>\n",
       "      <td>treatment</td>\n",
       "      <td>A</td>\n",
       "    </tr>\n",
       "    <tr>\n",
       "      <th>3</th>\n",
       "      <td>4Y8XIMNNI</td>\n",
       "      <td>treatment</td>\n",
       "      <td>G</td>\n",
       "    </tr>\n",
       "    <tr>\n",
       "      <th>4</th>\n",
       "      <td>26H4M8NRC</td>\n",
       "      <td>control</td>\n",
       "      <td>A</td>\n",
       "    </tr>\n",
       "  </tbody>\n",
       "</table>\n",
       "</div>"
      ],
      "text/plain": [
       "    guest_id assignment guest_country\n",
       "0  V4R1E83L3  treatment             A\n",
       "1  2MYGU7CPV  treatment             I\n",
       "2  05XRLU41S  treatment             A\n",
       "3  4Y8XIMNNI  treatment             G\n",
       "4  26H4M8NRC    control             A"
      ]
     },
     "execution_count": 2,
     "metadata": {},
     "output_type": "execute_result"
    }
   ],
   "source": [
    "assignment = pd.read_csv(\"/Users/ling/Desktop/Interview/AirBnB/3_8_2019/guest_assignments.csv\")\n",
    "assignment.head()"
   ]
  },
  {
   "cell_type": "code",
   "execution_count": 3,
   "metadata": {},
   "outputs": [
    {
     "name": "stdout",
     "output_type": "stream",
     "text": [
      "<class 'pandas.core.frame.DataFrame'>\n",
      "RangeIndex: 410035 entries, 0 to 410034\n",
      "Data columns (total 3 columns):\n",
      "guest_id         410035 non-null object\n",
      "assignment       410035 non-null object\n",
      "guest_country    410035 non-null object\n",
      "dtypes: object(3)\n",
      "memory usage: 9.4+ MB\n"
     ]
    }
   ],
   "source": [
    "assignment.info()"
   ]
  },
  {
   "cell_type": "code",
   "execution_count": 4,
   "metadata": {},
   "outputs": [
    {
     "data": {
      "text/html": [
       "<div>\n",
       "<style scoped>\n",
       "    .dataframe tbody tr th:only-of-type {\n",
       "        vertical-align: middle;\n",
       "    }\n",
       "\n",
       "    .dataframe tbody tr th {\n",
       "        vertical-align: top;\n",
       "    }\n",
       "\n",
       "    .dataframe thead th {\n",
       "        text-align: right;\n",
       "    }\n",
       "</style>\n",
       "<table border=\"1\" class=\"dataframe\">\n",
       "  <thead>\n",
       "    <tr style=\"text-align: right;\">\n",
       "      <th></th>\n",
       "      <th>guest_id</th>\n",
       "      <th>assignment</th>\n",
       "      <th>guest_country</th>\n",
       "    </tr>\n",
       "  </thead>\n",
       "  <tbody>\n",
       "    <tr>\n",
       "      <th>count</th>\n",
       "      <td>410035</td>\n",
       "      <td>410035</td>\n",
       "      <td>410035</td>\n",
       "    </tr>\n",
       "    <tr>\n",
       "      <th>unique</th>\n",
       "      <td>410035</td>\n",
       "      <td>2</td>\n",
       "      <td>9</td>\n",
       "    </tr>\n",
       "    <tr>\n",
       "      <th>top</th>\n",
       "      <td>XFIDXE6ZP</td>\n",
       "      <td>control</td>\n",
       "      <td>A</td>\n",
       "    </tr>\n",
       "    <tr>\n",
       "      <th>freq</th>\n",
       "      <td>1</td>\n",
       "      <td>205651</td>\n",
       "      <td>174181</td>\n",
       "    </tr>\n",
       "  </tbody>\n",
       "</table>\n",
       "</div>"
      ],
      "text/plain": [
       "         guest_id assignment guest_country\n",
       "count      410035     410035        410035\n",
       "unique     410035          2             9\n",
       "top     XFIDXE6ZP    control             A\n",
       "freq            1     205651        174181"
      ]
     },
     "execution_count": 4,
     "metadata": {},
     "output_type": "execute_result"
    }
   ],
   "source": [
    "assignment.describe()"
   ]
  },
  {
   "cell_type": "code",
   "execution_count": 4,
   "metadata": {},
   "outputs": [
    {
     "data": {
      "text/plain": [
       "control      205651\n",
       "treatment    204384\n",
       "Name: assignment, dtype: int64"
      ]
     },
     "execution_count": 4,
     "metadata": {},
     "output_type": "execute_result"
    }
   ],
   "source": [
    "assignment['assignment'].value_counts()"
   ]
  },
  {
   "cell_type": "code",
   "execution_count": 5,
   "metadata": {},
   "outputs": [
    {
     "data": {
      "text/plain": [
       "A    174181\n",
       "B     63925\n",
       "C     42749\n",
       "D     29717\n",
       "E     26834\n",
       "F     23323\n",
       "I     21470\n",
       "H     15690\n",
       "G     12146\n",
       "Name: guest_country, dtype: int64"
      ]
     },
     "execution_count": 5,
     "metadata": {},
     "output_type": "execute_result"
    }
   ],
   "source": [
    "assignment['guest_country'].value_counts()"
   ]
  },
  {
   "cell_type": "markdown",
   "metadata": {},
   "source": [
    "### Readin Pagments"
   ]
  },
  {
   "cell_type": "code",
   "execution_count": 6,
   "metadata": {},
   "outputs": [
    {
     "data": {
      "text/html": [
       "<div>\n",
       "<style scoped>\n",
       "    .dataframe tbody tr th:only-of-type {\n",
       "        vertical-align: middle;\n",
       "    }\n",
       "\n",
       "    .dataframe tbody tr th {\n",
       "        vertical-align: top;\n",
       "    }\n",
       "\n",
       "    .dataframe thead th {\n",
       "        text-align: right;\n",
       "    }\n",
       "</style>\n",
       "<table border=\"1\" class=\"dataframe\">\n",
       "  <thead>\n",
       "    <tr style=\"text-align: right;\">\n",
       "      <th></th>\n",
       "      <th>payments_page_impression_id</th>\n",
       "      <th>guest_id</th>\n",
       "      <th>impression_time</th>\n",
       "      <th>booking_value_usd</th>\n",
       "      <th>nights</th>\n",
       "      <th>date_of_checkin</th>\n",
       "      <th>booking_successful</th>\n",
       "      <th>payment_option</th>\n",
       "    </tr>\n",
       "  </thead>\n",
       "  <tbody>\n",
       "    <tr>\n",
       "      <th>0</th>\n",
       "      <td>B8ICEPZSYLVS</td>\n",
       "      <td>V4R1E83L3</td>\n",
       "      <td>8/26/18 20:37</td>\n",
       "      <td>173.02</td>\n",
       "      <td>3</td>\n",
       "      <td>8/29/18 0:00</td>\n",
       "      <td>0</td>\n",
       "      <td>NaN</td>\n",
       "    </tr>\n",
       "    <tr>\n",
       "      <th>1</th>\n",
       "      <td>HGFG2EJO9M05</td>\n",
       "      <td>2MYGU7CPV</td>\n",
       "      <td>8/22/18 16:10</td>\n",
       "      <td>37.78</td>\n",
       "      <td>1</td>\n",
       "      <td>8/23/18 0:00</td>\n",
       "      <td>0</td>\n",
       "      <td>NaN</td>\n",
       "    </tr>\n",
       "    <tr>\n",
       "      <th>2</th>\n",
       "      <td>LBFT5OYTB5DX</td>\n",
       "      <td>05XRLU41S</td>\n",
       "      <td>8/29/18 6:21</td>\n",
       "      <td>705.17</td>\n",
       "      <td>4</td>\n",
       "      <td>10/1/18 0:00</td>\n",
       "      <td>1</td>\n",
       "      <td>pluf</td>\n",
       "    </tr>\n",
       "    <tr>\n",
       "      <th>3</th>\n",
       "      <td>0TEZ2Y6ZQYK3</td>\n",
       "      <td>4Y8XIMNNI</td>\n",
       "      <td>8/15/18 23:12</td>\n",
       "      <td>40.29</td>\n",
       "      <td>1</td>\n",
       "      <td>8/16/18 0:00</td>\n",
       "      <td>1</td>\n",
       "      <td>pay_in_full</td>\n",
       "    </tr>\n",
       "    <tr>\n",
       "      <th>4</th>\n",
       "      <td>O74E8Z9B6K13</td>\n",
       "      <td>26H4M8NRC</td>\n",
       "      <td>8/19/18 1:54</td>\n",
       "      <td>224.56</td>\n",
       "      <td>3</td>\n",
       "      <td>8/19/18 0:00</td>\n",
       "      <td>1</td>\n",
       "      <td>pay_in_full</td>\n",
       "    </tr>\n",
       "  </tbody>\n",
       "</table>\n",
       "</div>"
      ],
      "text/plain": [
       "  payments_page_impression_id   guest_id impression_time  booking_value_usd  \\\n",
       "0                B8ICEPZSYLVS  V4R1E83L3   8/26/18 20:37             173.02   \n",
       "1                HGFG2EJO9M05  2MYGU7CPV   8/22/18 16:10              37.78   \n",
       "2                LBFT5OYTB5DX  05XRLU41S    8/29/18 6:21             705.17   \n",
       "3                0TEZ2Y6ZQYK3  4Y8XIMNNI   8/15/18 23:12              40.29   \n",
       "4                O74E8Z9B6K13  26H4M8NRC    8/19/18 1:54             224.56   \n",
       "\n",
       "   nights date_of_checkin  booking_successful payment_option  \n",
       "0       3    8/29/18 0:00                   0            NaN  \n",
       "1       1    8/23/18 0:00                   0            NaN  \n",
       "2       4    10/1/18 0:00                   1           pluf  \n",
       "3       1    8/16/18 0:00                   1    pay_in_full  \n",
       "4       3    8/19/18 0:00                   1    pay_in_full  "
      ]
     },
     "execution_count": 6,
     "metadata": {},
     "output_type": "execute_result"
    }
   ],
   "source": [
    "payments = pd.read_csv(\"/Users/ling/Desktop/Interview/AirBnB/3_8_2019/payments_page_impressions.csv\")\n",
    "payments.head()"
   ]
  },
  {
   "cell_type": "code",
   "execution_count": 7,
   "metadata": {},
   "outputs": [
    {
     "data": {
      "text/html": [
       "<div>\n",
       "<style scoped>\n",
       "    .dataframe tbody tr th:only-of-type {\n",
       "        vertical-align: middle;\n",
       "    }\n",
       "\n",
       "    .dataframe tbody tr th {\n",
       "        vertical-align: top;\n",
       "    }\n",
       "\n",
       "    .dataframe thead th {\n",
       "        text-align: right;\n",
       "    }\n",
       "</style>\n",
       "<table border=\"1\" class=\"dataframe\">\n",
       "  <thead>\n",
       "    <tr style=\"text-align: right;\">\n",
       "      <th></th>\n",
       "      <th>booking_value_usd</th>\n",
       "      <th>nights</th>\n",
       "      <th>booking_successful</th>\n",
       "    </tr>\n",
       "  </thead>\n",
       "  <tbody>\n",
       "    <tr>\n",
       "      <th>count</th>\n",
       "      <td>5.961340e+05</td>\n",
       "      <td>596134.000000</td>\n",
       "      <td>596134.000000</td>\n",
       "    </tr>\n",
       "    <tr>\n",
       "      <th>mean</th>\n",
       "      <td>6.331671e+02</td>\n",
       "      <td>4.722044</td>\n",
       "      <td>0.391207</td>\n",
       "    </tr>\n",
       "    <tr>\n",
       "      <th>std</th>\n",
       "      <td>1.220486e+04</td>\n",
       "      <td>4.881205</td>\n",
       "      <td>0.488021</td>\n",
       "    </tr>\n",
       "    <tr>\n",
       "      <th>min</th>\n",
       "      <td>1.001000e+01</td>\n",
       "      <td>1.000000</td>\n",
       "      <td>0.000000</td>\n",
       "    </tr>\n",
       "    <tr>\n",
       "      <th>25%</th>\n",
       "      <td>1.366500e+02</td>\n",
       "      <td>2.000000</td>\n",
       "      <td>0.000000</td>\n",
       "    </tr>\n",
       "    <tr>\n",
       "      <th>50%</th>\n",
       "      <td>3.450400e+02</td>\n",
       "      <td>4.000000</td>\n",
       "      <td>0.000000</td>\n",
       "    </tr>\n",
       "    <tr>\n",
       "      <th>75%</th>\n",
       "      <td>7.016600e+02</td>\n",
       "      <td>6.000000</td>\n",
       "      <td>1.000000</td>\n",
       "    </tr>\n",
       "    <tr>\n",
       "      <th>max</th>\n",
       "      <td>9.289329e+06</td>\n",
       "      <td>856.000000</td>\n",
       "      <td>1.000000</td>\n",
       "    </tr>\n",
       "  </tbody>\n",
       "</table>\n",
       "</div>"
      ],
      "text/plain": [
       "       booking_value_usd         nights  booking_successful\n",
       "count       5.961340e+05  596134.000000       596134.000000\n",
       "mean        6.331671e+02       4.722044            0.391207\n",
       "std         1.220486e+04       4.881205            0.488021\n",
       "min         1.001000e+01       1.000000            0.000000\n",
       "25%         1.366500e+02       2.000000            0.000000\n",
       "50%         3.450400e+02       4.000000            0.000000\n",
       "75%         7.016600e+02       6.000000            1.000000\n",
       "max         9.289329e+06     856.000000            1.000000"
      ]
     },
     "execution_count": 7,
     "metadata": {},
     "output_type": "execute_result"
    }
   ],
   "source": [
    "payments.describe()"
   ]
  },
  {
   "cell_type": "code",
   "execution_count": 8,
   "metadata": {},
   "outputs": [
    {
     "data": {
      "text/plain": [
       "410035"
      ]
     },
     "execution_count": 8,
     "metadata": {},
     "output_type": "execute_result"
    }
   ],
   "source": [
    "payments['guest_id'].nunique()"
   ]
  },
  {
   "cell_type": "code",
   "execution_count": 9,
   "metadata": {},
   "outputs": [
    {
     "data": {
      "text/plain": [
       "pay_in_full    211171\n",
       "pluf            22041\n",
       "Name: payment_option, dtype: int64"
      ]
     },
     "execution_count": 9,
     "metadata": {},
     "output_type": "execute_result"
    }
   ],
   "source": [
    "payments['payment_option'].value_counts()"
   ]
  },
  {
   "cell_type": "code",
   "execution_count": 10,
   "metadata": {},
   "outputs": [],
   "source": [
    "payments['payment_option_fillna']=payments['payment_option'].fillna('missing')"
   ]
  },
  {
   "cell_type": "code",
   "execution_count": 11,
   "metadata": {},
   "outputs": [
    {
     "data": {
      "text/plain": [
       "missing        362922\n",
       "pay_in_full    211171\n",
       "pluf            22041\n",
       "Name: payment_option_fillna, dtype: int64"
      ]
     },
     "execution_count": 11,
     "metadata": {},
     "output_type": "execute_result"
    }
   ],
   "source": [
    "payments['payment_option_fillna'].value_counts()"
   ]
  },
  {
   "cell_type": "code",
   "execution_count": 12,
   "metadata": {},
   "outputs": [
    {
     "data": {
      "text/plain": [
       "payment_option_fillna\n",
       "missing        231081\n",
       "pay_in_full    199580\n",
       "pluf            21520\n",
       "Name: guest_id, dtype: int64"
      ]
     },
     "execution_count": 12,
     "metadata": {},
     "output_type": "execute_result"
    }
   ],
   "source": [
    "payments.groupby(['payment_option_fillna'])['guest_id'].nunique()"
   ]
  },
  {
   "cell_type": "code",
   "execution_count": 13,
   "metadata": {},
   "outputs": [
    {
     "data": {
      "text/plain": [
       "0    362922\n",
       "1    233212\n",
       "Name: booking_successful, dtype: int64"
      ]
     },
     "execution_count": 13,
     "metadata": {},
     "output_type": "execute_result"
    }
   ],
   "source": [
    "payments['booking_successful'].value_counts()"
   ]
  },
  {
   "cell_type": "code",
   "execution_count": 14,
   "metadata": {},
   "outputs": [
    {
     "data": {
      "text/plain": [
       "booking_successful\n",
       "0    231081\n",
       "1    220406\n",
       "Name: guest_id, dtype: int64"
      ]
     },
     "execution_count": 14,
     "metadata": {},
     "output_type": "execute_result"
    }
   ],
   "source": [
    "payments.groupby(['booking_successful'])['guest_id'].nunique()"
   ]
  },
  {
   "cell_type": "code",
   "execution_count": 15,
   "metadata": {},
   "outputs": [
    {
     "data": {
      "text/plain": [
       "payment_option_fillna  booking_successful\n",
       "missing                0                     231081\n",
       "pay_in_full            1                     199580\n",
       "pluf                   1                      21520\n",
       "Name: guest_id, dtype: int64"
      ]
     },
     "execution_count": 15,
     "metadata": {},
     "output_type": "execute_result"
    }
   ],
   "source": [
    "payments.groupby(['payment_option_fillna','booking_successful'])['guest_id'].nunique()"
   ]
  },
  {
   "cell_type": "code",
   "execution_count": 16,
   "metadata": {},
   "outputs": [
    {
     "data": {
      "text/plain": [
       "payment_option_fillna  booking_successful\n",
       "missing                0                     782.114304\n",
       "pay_in_full            1                     342.152349\n",
       "pluf                   1                     968.798476\n",
       "Name: booking_value_usd, dtype: float64"
      ]
     },
     "execution_count": 16,
     "metadata": {},
     "output_type": "execute_result"
    }
   ],
   "source": [
    "payments.groupby(['payment_option_fillna','booking_successful'])['booking_value_usd'].mean()"
   ]
  },
  {
   "cell_type": "markdown",
   "metadata": {},
   "source": [
    "### Join tables"
   ]
  },
  {
   "cell_type": "code",
   "execution_count": 17,
   "metadata": {},
   "outputs": [],
   "source": [
    "all = pd.merge(assignment, payments, left_on=['guest_id'], right_on=['guest_id'], how='left')"
   ]
  },
  {
   "cell_type": "code",
   "execution_count": 18,
   "metadata": {},
   "outputs": [
    {
     "data": {
      "text/html": [
       "<div>\n",
       "<style scoped>\n",
       "    .dataframe tbody tr th:only-of-type {\n",
       "        vertical-align: middle;\n",
       "    }\n",
       "\n",
       "    .dataframe tbody tr th {\n",
       "        vertical-align: top;\n",
       "    }\n",
       "\n",
       "    .dataframe thead th {\n",
       "        text-align: right;\n",
       "    }\n",
       "</style>\n",
       "<table border=\"1\" class=\"dataframe\">\n",
       "  <thead>\n",
       "    <tr style=\"text-align: right;\">\n",
       "      <th></th>\n",
       "      <th>guest_id</th>\n",
       "      <th>assignment</th>\n",
       "      <th>guest_country</th>\n",
       "      <th>payments_page_impression_id</th>\n",
       "      <th>impression_time</th>\n",
       "      <th>booking_value_usd</th>\n",
       "      <th>nights</th>\n",
       "      <th>date_of_checkin</th>\n",
       "      <th>booking_successful</th>\n",
       "      <th>payment_option</th>\n",
       "      <th>payment_option_fillna</th>\n",
       "    </tr>\n",
       "  </thead>\n",
       "  <tbody>\n",
       "    <tr>\n",
       "      <th>0</th>\n",
       "      <td>V4R1E83L3</td>\n",
       "      <td>treatment</td>\n",
       "      <td>A</td>\n",
       "      <td>B8ICEPZSYLVS</td>\n",
       "      <td>8/26/18 20:37</td>\n",
       "      <td>173.02</td>\n",
       "      <td>3.0</td>\n",
       "      <td>8/29/18 0:00</td>\n",
       "      <td>0.0</td>\n",
       "      <td>NaN</td>\n",
       "      <td>missing</td>\n",
       "    </tr>\n",
       "    <tr>\n",
       "      <th>1</th>\n",
       "      <td>2MYGU7CPV</td>\n",
       "      <td>treatment</td>\n",
       "      <td>I</td>\n",
       "      <td>HGFG2EJO9M05</td>\n",
       "      <td>8/22/18 16:10</td>\n",
       "      <td>37.78</td>\n",
       "      <td>1.0</td>\n",
       "      <td>8/23/18 0:00</td>\n",
       "      <td>0.0</td>\n",
       "      <td>NaN</td>\n",
       "      <td>missing</td>\n",
       "    </tr>\n",
       "    <tr>\n",
       "      <th>2</th>\n",
       "      <td>05XRLU41S</td>\n",
       "      <td>treatment</td>\n",
       "      <td>A</td>\n",
       "      <td>LBFT5OYTB5DX</td>\n",
       "      <td>8/29/18 6:21</td>\n",
       "      <td>705.17</td>\n",
       "      <td>4.0</td>\n",
       "      <td>10/1/18 0:00</td>\n",
       "      <td>1.0</td>\n",
       "      <td>pluf</td>\n",
       "      <td>pluf</td>\n",
       "    </tr>\n",
       "    <tr>\n",
       "      <th>3</th>\n",
       "      <td>05XRLU41S</td>\n",
       "      <td>treatment</td>\n",
       "      <td>A</td>\n",
       "      <td>NU5B9C3SLHK2</td>\n",
       "      <td>8/29/18 5:41</td>\n",
       "      <td>681.72</td>\n",
       "      <td>4.0</td>\n",
       "      <td>10/1/18 0:00</td>\n",
       "      <td>0.0</td>\n",
       "      <td>NaN</td>\n",
       "      <td>missing</td>\n",
       "    </tr>\n",
       "    <tr>\n",
       "      <th>4</th>\n",
       "      <td>4Y8XIMNNI</td>\n",
       "      <td>treatment</td>\n",
       "      <td>G</td>\n",
       "      <td>0TEZ2Y6ZQYK3</td>\n",
       "      <td>8/15/18 23:12</td>\n",
       "      <td>40.29</td>\n",
       "      <td>1.0</td>\n",
       "      <td>8/16/18 0:00</td>\n",
       "      <td>1.0</td>\n",
       "      <td>pay_in_full</td>\n",
       "      <td>pay_in_full</td>\n",
       "    </tr>\n",
       "  </tbody>\n",
       "</table>\n",
       "</div>"
      ],
      "text/plain": [
       "    guest_id assignment guest_country payments_page_impression_id  \\\n",
       "0  V4R1E83L3  treatment             A                B8ICEPZSYLVS   \n",
       "1  2MYGU7CPV  treatment             I                HGFG2EJO9M05   \n",
       "2  05XRLU41S  treatment             A                LBFT5OYTB5DX   \n",
       "3  05XRLU41S  treatment             A                NU5B9C3SLHK2   \n",
       "4  4Y8XIMNNI  treatment             G                0TEZ2Y6ZQYK3   \n",
       "\n",
       "  impression_time  booking_value_usd  nights date_of_checkin  \\\n",
       "0   8/26/18 20:37             173.02     3.0    8/29/18 0:00   \n",
       "1   8/22/18 16:10              37.78     1.0    8/23/18 0:00   \n",
       "2    8/29/18 6:21             705.17     4.0    10/1/18 0:00   \n",
       "3    8/29/18 5:41             681.72     4.0    10/1/18 0:00   \n",
       "4   8/15/18 23:12              40.29     1.0    8/16/18 0:00   \n",
       "\n",
       "   booking_successful payment_option payment_option_fillna  \n",
       "0                 0.0            NaN               missing  \n",
       "1                 0.0            NaN               missing  \n",
       "2                 1.0           pluf                  pluf  \n",
       "3                 0.0            NaN               missing  \n",
       "4                 1.0    pay_in_full           pay_in_full  "
      ]
     },
     "execution_count": 18,
     "metadata": {},
     "output_type": "execute_result"
    }
   ],
   "source": [
    "all.head()"
   ]
  },
  {
   "cell_type": "code",
   "execution_count": 19,
   "metadata": {},
   "outputs": [
    {
     "data": {
      "text/plain": [
       "control      299016\n",
       "treatment    297117\n",
       "Name: assignment, dtype: int64"
      ]
     },
     "execution_count": 19,
     "metadata": {},
     "output_type": "execute_result"
    }
   ],
   "source": [
    "all['assignment'].value_counts()"
   ]
  },
  {
   "cell_type": "code",
   "execution_count": 20,
   "metadata": {},
   "outputs": [
    {
     "data": {
      "text/plain": [
       "assignment\n",
       "control      205651\n",
       "treatment    204384\n",
       "Name: guest_id, dtype: int64"
      ]
     },
     "execution_count": 20,
     "metadata": {},
     "output_type": "execute_result"
    }
   ],
   "source": [
    "all.groupby(['assignment'])['guest_id'].nunique()"
   ]
  },
  {
   "cell_type": "code",
   "execution_count": 21,
   "metadata": {},
   "outputs": [
    {
     "data": {
      "text/plain": [
       "assignment  payment_option_fillna\n",
       "control     missing                  116301\n",
       "            pay_in_full              109944\n",
       "treatment   missing                  114779\n",
       "            pay_in_full               89634\n",
       "            pluf                      21520\n",
       "Name: guest_id, dtype: int64"
      ]
     },
     "execution_count": 21,
     "metadata": {},
     "output_type": "execute_result"
    }
   ],
   "source": [
    "all.groupby(['assignment', 'payment_option_fillna'])['guest_id'].nunique()"
   ]
  },
  {
   "cell_type": "code",
   "execution_count": 22,
   "metadata": {},
   "outputs": [
    {
     "data": {
      "text/plain": [
       "assignment  payment_option_fillna  booking_successful\n",
       "control     missing                0.0                   116301\n",
       "            pay_in_full            1.0                   109944\n",
       "treatment   missing                0.0                   114779\n",
       "            pay_in_full            1.0                    89634\n",
       "            pluf                   1.0                    21520\n",
       "Name: guest_id, dtype: int64"
      ]
     },
     "execution_count": 22,
     "metadata": {},
     "output_type": "execute_result"
    }
   ],
   "source": [
    "all.groupby(['assignment','payment_option_fillna','booking_successful'])['guest_id'].nunique()"
   ]
  },
  {
   "cell_type": "code",
   "execution_count": 23,
   "metadata": {},
   "outputs": [
    {
     "data": {
      "text/plain": [
       "assignment  payment_option_fillna  booking_successful\n",
       "control     missing                0.0                   808.028586\n",
       "            pay_in_full            1.0                   393.675677\n",
       "treatment   missing                0.0                   755.850400\n",
       "            pay_in_full            1.0                   278.952966\n",
       "            pluf                   1.0                   968.798476\n",
       "Name: booking_value_usd, dtype: float64"
      ]
     },
     "execution_count": 23,
     "metadata": {},
     "output_type": "execute_result"
    }
   ],
   "source": [
    "all.groupby(['assignment', 'payment_option_fillna','booking_successful'])['booking_value_usd'].mean()"
   ]
  },
  {
   "cell_type": "code",
   "execution_count": 24,
   "metadata": {},
   "outputs": [
    {
     "data": {
      "text/plain": [
       "guest_country  payment_option_fillna  booking_successful\n",
       "A              missing                0.0                    932.508746\n",
       "               pay_in_full            1.0                    420.343394\n",
       "               pluf                   1.0                   1086.764086\n",
       "B              missing                0.0                    693.400162\n",
       "               pay_in_full            1.0                    276.865763\n",
       "               pluf                   1.0                    779.673116\n",
       "C              missing                0.0                    769.225269\n",
       "               pay_in_full            1.0                    327.606164\n",
       "               pluf                   1.0                    876.077480\n",
       "D              missing                0.0                    740.143052\n",
       "               pay_in_full            1.0                    327.422108\n",
       "               pluf                   1.0                   1163.963392\n",
       "E              missing                0.0                    748.729332\n",
       "               pay_in_full            1.0                    357.438908\n",
       "               pluf                   1.0                    835.037291\n",
       "F              missing                0.0                    527.717131\n",
       "               pay_in_full            1.0                    233.863312\n",
       "               pluf                   1.0                    669.535946\n",
       "G              missing                0.0                    661.871561\n",
       "               pay_in_full            1.0                    205.034355\n",
       "               pluf                   1.0                    846.691715\n",
       "H              missing                0.0                    375.003703\n",
       "               pay_in_full            1.0                    167.284641\n",
       "               pluf                   1.0                    733.034242\n",
       "I              missing                0.0                    639.433730\n",
       "               pay_in_full            1.0                    236.071399\n",
       "               pluf                   1.0                    663.547618\n",
       "Name: booking_value_usd, dtype: float64"
      ]
     },
     "execution_count": 24,
     "metadata": {},
     "output_type": "execute_result"
    }
   ],
   "source": [
    "all.groupby(['guest_country', 'payment_option_fillna','booking_successful'])['booking_value_usd'].mean()"
   ]
  },
  {
   "cell_type": "markdown",
   "metadata": {},
   "source": [
    "### Question 1 a)"
   ]
  },
  {
   "cell_type": "code",
   "execution_count": 24,
   "metadata": {},
   "outputs": [],
   "source": [
    "tot_success = all.groupby(['assignment', 'guest_id'])['booking_successful'].sum().reset_index()"
   ]
  },
  {
   "cell_type": "code",
   "execution_count": 25,
   "metadata": {},
   "outputs": [
    {
     "data": {
      "text/plain": [
       "assignment\n",
       "control      205651\n",
       "treatment    204384\n",
       "Name: guest_id, dtype: int64"
      ]
     },
     "execution_count": 25,
     "metadata": {},
     "output_type": "execute_result"
    }
   ],
   "source": [
    "tot_success.groupby('assignment')['guest_id'].size()"
   ]
  },
  {
   "cell_type": "code",
   "execution_count": 26,
   "metadata": {},
   "outputs": [
    {
     "data": {
      "text/html": [
       "<div>\n",
       "<style scoped>\n",
       "    .dataframe tbody tr th:only-of-type {\n",
       "        vertical-align: middle;\n",
       "    }\n",
       "\n",
       "    .dataframe tbody tr th {\n",
       "        vertical-align: top;\n",
       "    }\n",
       "\n",
       "    .dataframe thead th {\n",
       "        text-align: right;\n",
       "    }\n",
       "</style>\n",
       "<table border=\"1\" class=\"dataframe\">\n",
       "  <thead>\n",
       "    <tr style=\"text-align: right;\">\n",
       "      <th>booking_successful</th>\n",
       "      <th>0.0</th>\n",
       "      <th>1.0</th>\n",
       "      <th>2.0</th>\n",
       "      <th>3.0</th>\n",
       "      <th>4.0</th>\n",
       "      <th>5.0</th>\n",
       "      <th>6.0</th>\n",
       "      <th>7.0</th>\n",
       "      <th>8.0</th>\n",
       "    </tr>\n",
       "    <tr>\n",
       "      <th>assignment</th>\n",
       "      <th></th>\n",
       "      <th></th>\n",
       "      <th></th>\n",
       "      <th></th>\n",
       "      <th></th>\n",
       "      <th></th>\n",
       "      <th></th>\n",
       "      <th></th>\n",
       "      <th></th>\n",
       "    </tr>\n",
       "  </thead>\n",
       "  <tbody>\n",
       "    <tr>\n",
       "      <th>control</th>\n",
       "      <td>95707</td>\n",
       "      <td>104392</td>\n",
       "      <td>4886</td>\n",
       "      <td>549</td>\n",
       "      <td>81</td>\n",
       "      <td>28</td>\n",
       "      <td>5</td>\n",
       "      <td>2</td>\n",
       "      <td>1</td>\n",
       "    </tr>\n",
       "    <tr>\n",
       "      <th>treatment</th>\n",
       "      <td>93924</td>\n",
       "      <td>104916</td>\n",
       "      <td>4855</td>\n",
       "      <td>556</td>\n",
       "      <td>92</td>\n",
       "      <td>30</td>\n",
       "      <td>7</td>\n",
       "      <td>3</td>\n",
       "      <td>1</td>\n",
       "    </tr>\n",
       "  </tbody>\n",
       "</table>\n",
       "</div>"
      ],
      "text/plain": [
       "booking_successful    0.0     1.0   2.0  3.0  4.0  5.0  6.0  7.0  8.0\n",
       "assignment                                                           \n",
       "control             95707  104392  4886  549   81   28    5    2    1\n",
       "treatment           93924  104916  4855  556   92   30    7    3    1"
      ]
     },
     "execution_count": 26,
     "metadata": {},
     "output_type": "execute_result"
    }
   ],
   "source": [
    "tot_success_dist = pd.crosstab(tot_success['assignment'],tot_success['booking_successful'])\n",
    "tot_success_dist"
   ]
  },
  {
   "cell_type": "code",
   "execution_count": 27,
   "metadata": {},
   "outputs": [
    {
     "data": {
      "text/plain": [
       "assignment\n",
       "control      0.565652\n",
       "treatment    0.571879\n",
       "Name: booking_successful, dtype: float64"
      ]
     },
     "execution_count": 27,
     "metadata": {},
     "output_type": "execute_result"
    }
   ],
   "source": [
    "tot_success.groupby(['assignment'])['booking_successful'].mean()"
   ]
  },
  {
   "cell_type": "code",
   "execution_count": 28,
   "metadata": {},
   "outputs": [
    {
     "name": "stderr",
     "output_type": "stream",
     "text": [
      "/Users/ling/miniconda3/lib/python3.7/site-packages/jinja2/utils.py:485: DeprecationWarning: Using or importing the ABCs from 'collections' instead of from 'collections.abc' is deprecated, and in 3.8 it will stop working\n",
      "  from collections import MutableMapping\n",
      "/Users/ling/miniconda3/lib/python3.7/site-packages/jinja2/runtime.py:318: DeprecationWarning: Using or importing the ABCs from 'collections' instead of from 'collections.abc' is deprecated, and in 3.8 it will stop working\n",
      "  from collections import Mapping\n"
     ]
    }
   ],
   "source": [
    "%load_ext rpy2.ipython"
   ]
  },
  {
   "cell_type": "code",
   "execution_count": 29,
   "metadata": {},
   "outputs": [
    {
     "name": "stderr",
     "output_type": "stream",
     "text": [
      "/Users/ling/miniconda3/lib/python3.7/site-packages/rpy2/robjects/pandas2ri.py:191: FutureWarning: from_items is deprecated. Please use DataFrame.from_dict(dict(items), ...) instead. DataFrame.from_dict(OrderedDict(items)) may be used to preserve the key order.\n",
      "  res = PandasDataFrame.from_items(items)\n"
     ]
    }
   ],
   "source": [
    "%Rpush tot_success"
   ]
  },
  {
   "cell_type": "code",
   "execution_count": 30,
   "metadata": {},
   "outputs": [
    {
     "data": {
      "text/plain": [
       "'data.frame':\t410035 obs. of  3 variables:\n",
       " $ assignment        : chr  \"control\" \"control\" \"control\" \"control\" ...\n",
       " $ guest_id          : chr  \"0007JRX8Q\" \"000AFV1ZT\" \"000MF6Y2E\" \"000S4WNYW\" ...\n",
       " $ booking_successful: num  0 1 1 1 0 0 1 1 1 0 ...\n"
      ]
     },
     "metadata": {},
     "output_type": "display_data"
    }
   ],
   "source": [
    "%%R\n",
    "str(tot_success)"
   ]
  },
  {
   "cell_type": "code",
   "execution_count": 31,
   "metadata": {},
   "outputs": [
    {
     "data": {
      "text/plain": [
       "           \n",
       "                 0      1      2      3      4      5      6      7      8\n",
       "  control    95707 104392   4886    549     81     28      5      2      1\n",
       "  treatment  93924 104916   4855    556     92     30      7      3      1\n"
      ]
     },
     "metadata": {},
     "output_type": "display_data"
    }
   ],
   "source": [
    "%%R\n",
    "tab=table(tot_success$assignment, tot_success$booking_successful)\n",
    "tab"
   ]
  },
  {
   "cell_type": "code",
   "execution_count": 45,
   "metadata": {},
   "outputs": [
    {
     "data": {
      "text/plain": [
       "\n",
       "\tPearson's Chi-squared test\n",
       "\n",
       "data:  tab\n",
       "X-squared = 15.606, df = 8, p-value = 0.04837\n",
       "\n"
      ]
     },
     "metadata": {},
     "output_type": "display_data"
    }
   ],
   "source": [
    "%%R\n",
    "chisq.test(tab)"
   ]
  },
  {
   "cell_type": "code",
   "execution_count": 37,
   "metadata": {},
   "outputs": [
    {
     "data": {
      "text/plain": [
       "\n",
       "\tWelch Two Sample t-test\n",
       "\n",
       "data:  booking_successful by assignment\n",
       "t = -3.5326, df = 410010, p-value = 0.0004116\n",
       "alternative hypothesis: true difference in means is not equal to 0\n",
       "95 percent confidence interval:\n",
       " -0.009681762 -0.002772067\n",
       "sample estimates:\n",
       "  mean in group control mean in group treatment \n",
       "              0.5656525               0.5718794 \n",
       "\n"
      ]
     },
     "metadata": {},
     "output_type": "display_data"
    }
   ],
   "source": [
    "%%R\n",
    "t.test(booking_successful~assignment, data=tot_success)"
   ]
  },
  {
   "cell_type": "code",
   "execution_count": 35,
   "metadata": {},
   "outputs": [
    {
     "data": {
      "text/plain": [
       "\n",
       "Call:\n",
       "glm(formula = booking_successful ~ assignment, family = poisson, \n",
       "    data = tot_success)\n",
       "\n",
       "Deviance Residuals: \n",
       "    Min       1Q   Median       3Q      Max  \n",
       "-1.0695  -1.0636   0.5113   0.5204   5.2458  \n",
       "\n",
       "Coefficients:\n",
       "                     Estimate Std. Error  z value Pr(>|z|)    \n",
       "(Intercept)         -0.569775   0.002932 -194.332   <2e-16 ***\n",
       "assignmenttreatment  0.010948   0.004141    2.644   0.0082 ** \n",
       "---\n",
       "Signif. codes:  0 ‘***’ 0.001 ‘**’ 0.01 ‘*’ 0.05 ‘.’ 0.1 ‘ ’ 1\n",
       "\n",
       "(Dispersion parameter for poisson family taken to be 1)\n",
       "\n",
       "    Null deviance: 300807  on 410034  degrees of freedom\n",
       "Residual deviance: 300800  on 410033  degrees of freedom\n",
       "AIC: 749024\n",
       "\n",
       "Number of Fisher Scoring iterations: 5\n",
       "\n"
      ]
     },
     "metadata": {},
     "output_type": "display_data"
    }
   ],
   "source": [
    "%%R\n",
    "model = glm(booking_successful ~ assignment, data=tot_success, family=possion)\n",
    "summary(model)"
   ]
  },
  {
   "cell_type": "code",
   "execution_count": 85,
   "metadata": {},
   "outputs": [],
   "source": [
    "from sklearn.utils import resample\n",
    "# configure bootstrap\n",
    "n_iterations = 1000\n",
    "n_size = int(len(tot_success) * 0.50)\n",
    "\n",
    "# run bootstrap\n",
    "stats = list()\n",
    "for i in range(n_iterations):\n",
    "    sample = resample(tot_success, n_samples=n_size)\n",
    "\n",
    "    # fit model\n",
    "    grpmean = list(sample.groupby(['assignment'])['booking_successful'].mean())\n",
    "    diff = grpmean[1]-grpmean[0]\n",
    "    stats.append(diff)"
   ]
  },
  {
   "cell_type": "code",
   "execution_count": 86,
   "metadata": {},
   "outputs": [
    {
     "name": "stdout",
     "output_type": "stream",
     "text": [
      "group mean 0.00619\n",
      "95.0 confidence interval 0.00141 and 0.01115\n"
     ]
    }
   ],
   "source": [
    "# confidence intervals\n",
    "alpha = 0.95\n",
    "p = ((1.0-alpha)/2.0) * 100\n",
    "est = sum(stats)/len(stats)\n",
    "lower = np.percentile(stats, p)\n",
    "p = (alpha+((1.0-alpha)/2.0)) * 100\n",
    "upper = np.percentile(stats, p)\n",
    "print('group mean %.5f' % (est))\n",
    "print('%.1f confidence interval %.5f and %.5f' % (alpha*100, lower, upper))"
   ]
  },
  {
   "cell_type": "markdown",
   "metadata": {},
   "source": [
    "### Question 1 b)"
   ]
  },
  {
   "cell_type": "code",
   "execution_count": 26,
   "metadata": {},
   "outputs": [],
   "source": [
    "all['booking_value_realized'] = all['booking_value_usd']*all['booking_successful']\n",
    "tot_val = all.groupby(['assignment', 'guest_country', 'guest_id'])['booking_value_realized'].sum().reset_index()"
   ]
  },
  {
   "cell_type": "code",
   "execution_count": 27,
   "metadata": {},
   "outputs": [
    {
     "data": {
      "text/plain": [
       "control      205651\n",
       "treatment    204384\n",
       "Name: assignment, dtype: int64"
      ]
     },
     "execution_count": 27,
     "metadata": {},
     "output_type": "execute_result"
    }
   ],
   "source": [
    "tot_val['assignment'].value_counts()"
   ]
  },
  {
   "cell_type": "code",
   "execution_count": 28,
   "metadata": {},
   "outputs": [
    {
     "data": {
      "text/plain": [
       "A    174181\n",
       "B     63925\n",
       "C     42749\n",
       "D     29717\n",
       "E     26834\n",
       "F     23323\n",
       "I     21470\n",
       "H     15690\n",
       "G     12146\n",
       "Name: guest_country, dtype: int64"
      ]
     },
     "execution_count": 28,
     "metadata": {},
     "output_type": "execute_result"
    }
   ],
   "source": [
    "tot_val['guest_country'].value_counts()"
   ]
  },
  {
   "cell_type": "code",
   "execution_count": 29,
   "metadata": {},
   "outputs": [
    {
     "data": {
      "text/plain": [
       "count    410035.000000\n",
       "mean        228.285036\n",
       "std         544.789141\n",
       "min           0.000000\n",
       "25%           0.000000\n",
       "50%          39.390000\n",
       "75%         225.820000\n",
       "max       35842.150000\n",
       "Name: booking_value_realized, dtype: float64"
      ]
     },
     "execution_count": 29,
     "metadata": {},
     "output_type": "execute_result"
    }
   ],
   "source": [
    "tot_val['booking_value_realized'].describe()"
   ]
  },
  {
   "cell_type": "code",
   "execution_count": 30,
   "metadata": {},
   "outputs": [
    {
     "name": "stdout",
     "output_type": "stream",
     "text": [
      "Country == A\n",
      "count    174181.000000\n",
      "mean        288.881112\n",
      "std         662.403765\n",
      "min           0.000000\n",
      "25%           0.000000\n",
      "50%          54.610000\n",
      "75%         314.510000\n",
      "max       35842.150000\n",
      "Name: booking_value_realized, dtype: float64\n",
      "Country == B\n",
      "count    63925.000000\n",
      "mean       179.866765\n",
      "std        409.569418\n",
      "min          0.000000\n",
      "25%          0.000000\n",
      "50%         34.470000\n",
      "75%        191.280000\n",
      "max      20064.740000\n",
      "Name: booking_value_realized, dtype: float64\n",
      "Country == C\n",
      "count    42749.000000\n",
      "mean       222.220344\n",
      "std        499.728075\n",
      "min          0.000000\n",
      "25%          0.000000\n",
      "50%         46.540000\n",
      "75%        238.950000\n",
      "max      13994.870000\n",
      "Name: booking_value_realized, dtype: float64\n",
      "Country == D\n",
      "count    29717.000000\n",
      "mean       229.659781\n",
      "std        541.122282\n",
      "min          0.000000\n",
      "25%          0.000000\n",
      "50%         35.580000\n",
      "75%        236.140000\n",
      "max      16262.640000\n",
      "Name: booking_value_realized, dtype: float64\n",
      "Country == E\n",
      "count    26834.000000\n",
      "mean       237.717490\n",
      "std        520.556139\n",
      "min          0.000000\n",
      "25%          0.000000\n",
      "50%         41.400000\n",
      "75%        262.785000\n",
      "max      14428.330000\n",
      "Name: booking_value_realized, dtype: float64\n",
      "Country == F\n",
      "count    23323.000000\n",
      "mean       138.741747\n",
      "std        317.918920\n",
      "min          0.000000\n",
      "25%          0.000000\n",
      "50%         13.410000\n",
      "75%        164.305000\n",
      "max      14433.350000\n",
      "Name: booking_value_realized, dtype: float64\n",
      "Country == I\n",
      "count    21470.000000\n",
      "mean       120.326468\n",
      "std        282.492393\n",
      "min          0.000000\n",
      "25%          0.000000\n",
      "50%          0.000000\n",
      "75%        134.577500\n",
      "max       9334.010000\n",
      "Name: booking_value_realized, dtype: float64\n",
      "Country == H\n",
      "count    15690.000000\n",
      "mean       108.107328\n",
      "std        219.858973\n",
      "min          0.000000\n",
      "25%          0.000000\n",
      "50%         43.765000\n",
      "75%        131.422500\n",
      "max       5047.780000\n",
      "Name: booking_value_realized, dtype: float64\n",
      "Country == G\n",
      "count    12146.000000\n",
      "mean       129.291579\n",
      "std        350.687479\n",
      "min          0.000000\n",
      "25%          0.000000\n",
      "50%         12.010000\n",
      "75%        110.050000\n",
      "max       8900.750000\n",
      "Name: booking_value_realized, dtype: float64\n"
     ]
    }
   ],
   "source": [
    "countries = list(tot_val['guest_country'].value_counts().reset_index()['index'])\n",
    "for country in countries:\n",
    "    print('Country == ' + country)\n",
    "    print(tot_val[tot_val['guest_country']==country]['booking_value_realized'].describe())"
   ]
  },
  {
   "cell_type": "code",
   "execution_count": 34,
   "metadata": {},
   "outputs": [
    {
     "data": {
      "text/html": [
       "<div>\n",
       "<style scoped>\n",
       "    .dataframe tbody tr th:only-of-type {\n",
       "        vertical-align: middle;\n",
       "    }\n",
       "\n",
       "    .dataframe tbody tr th {\n",
       "        vertical-align: top;\n",
       "    }\n",
       "\n",
       "    .dataframe thead th {\n",
       "        text-align: right;\n",
       "    }\n",
       "</style>\n",
       "<table border=\"1\" class=\"dataframe\">\n",
       "  <thead>\n",
       "    <tr style=\"text-align: right;\">\n",
       "      <th></th>\n",
       "      <th>assignment</th>\n",
       "      <th>guest_country</th>\n",
       "      <th>guest_id</th>\n",
       "      <th>booking_value_realized</th>\n",
       "    </tr>\n",
       "  </thead>\n",
       "  <tbody>\n",
       "    <tr>\n",
       "      <th>28141</th>\n",
       "      <td>control</td>\n",
       "      <td>A</td>\n",
       "      <td>BMRUCJOFD</td>\n",
       "      <td>35842.15</td>\n",
       "    </tr>\n",
       "  </tbody>\n",
       "</table>\n",
       "</div>"
      ],
      "text/plain": [
       "      assignment guest_country   guest_id  booking_value_realized\n",
       "28141    control             A  BMRUCJOFD                35842.15"
      ]
     },
     "execution_count": 34,
     "metadata": {},
     "output_type": "execute_result"
    }
   ],
   "source": [
    "tot_val.loc[tot_val['booking_value_realized']==35842.15]"
   ]
  },
  {
   "cell_type": "code",
   "execution_count": 36,
   "metadata": {},
   "outputs": [
    {
     "data": {
      "text/html": [
       "<div>\n",
       "<style scoped>\n",
       "    .dataframe tbody tr th:only-of-type {\n",
       "        vertical-align: middle;\n",
       "    }\n",
       "\n",
       "    .dataframe tbody tr th {\n",
       "        vertical-align: top;\n",
       "    }\n",
       "\n",
       "    .dataframe thead th {\n",
       "        text-align: right;\n",
       "    }\n",
       "</style>\n",
       "<table border=\"1\" class=\"dataframe\">\n",
       "  <thead>\n",
       "    <tr style=\"text-align: right;\">\n",
       "      <th></th>\n",
       "      <th>guest_id</th>\n",
       "      <th>assignment</th>\n",
       "      <th>guest_country</th>\n",
       "      <th>payments_page_impression_id</th>\n",
       "      <th>impression_time</th>\n",
       "      <th>booking_value_usd</th>\n",
       "      <th>nights</th>\n",
       "      <th>date_of_checkin</th>\n",
       "      <th>booking_successful</th>\n",
       "      <th>payment_option</th>\n",
       "      <th>payment_option_fillna</th>\n",
       "      <th>booking_value_realized</th>\n",
       "    </tr>\n",
       "  </thead>\n",
       "  <tbody>\n",
       "    <tr>\n",
       "      <th>53198</th>\n",
       "      <td>BMRUCJOFD</td>\n",
       "      <td>control</td>\n",
       "      <td>A</td>\n",
       "      <td>0ZLBUB2B3O8H</td>\n",
       "      <td>8/19/18 16:54</td>\n",
       "      <td>34100.59</td>\n",
       "      <td>209.0</td>\n",
       "      <td>8/30/18 0:00</td>\n",
       "      <td>1.0</td>\n",
       "      <td>pay_in_full</td>\n",
       "      <td>pay_in_full</td>\n",
       "      <td>34100.59</td>\n",
       "    </tr>\n",
       "    <tr>\n",
       "      <th>53199</th>\n",
       "      <td>BMRUCJOFD</td>\n",
       "      <td>control</td>\n",
       "      <td>A</td>\n",
       "      <td>FW7LZWS4OSKA</td>\n",
       "      <td>8/17/18 3:31</td>\n",
       "      <td>1089.69</td>\n",
       "      <td>6.0</td>\n",
       "      <td>9/6/18 0:00</td>\n",
       "      <td>1.0</td>\n",
       "      <td>pay_in_full</td>\n",
       "      <td>pay_in_full</td>\n",
       "      <td>1089.69</td>\n",
       "    </tr>\n",
       "    <tr>\n",
       "      <th>53200</th>\n",
       "      <td>BMRUCJOFD</td>\n",
       "      <td>control</td>\n",
       "      <td>A</td>\n",
       "      <td>11L5YQEJ6DLK</td>\n",
       "      <td>8/17/18 3:54</td>\n",
       "      <td>651.87</td>\n",
       "      <td>3.0</td>\n",
       "      <td>9/10/18 0:00</td>\n",
       "      <td>1.0</td>\n",
       "      <td>pay_in_full</td>\n",
       "      <td>pay_in_full</td>\n",
       "      <td>651.87</td>\n",
       "    </tr>\n",
       "  </tbody>\n",
       "</table>\n",
       "</div>"
      ],
      "text/plain": [
       "        guest_id assignment guest_country payments_page_impression_id  \\\n",
       "53198  BMRUCJOFD    control             A                0ZLBUB2B3O8H   \n",
       "53199  BMRUCJOFD    control             A                FW7LZWS4OSKA   \n",
       "53200  BMRUCJOFD    control             A                11L5YQEJ6DLK   \n",
       "\n",
       "      impression_time  booking_value_usd  nights date_of_checkin  \\\n",
       "53198   8/19/18 16:54           34100.59   209.0    8/30/18 0:00   \n",
       "53199    8/17/18 3:31            1089.69     6.0     9/6/18 0:00   \n",
       "53200    8/17/18 3:54             651.87     3.0    9/10/18 0:00   \n",
       "\n",
       "       booking_successful payment_option payment_option_fillna  \\\n",
       "53198                 1.0    pay_in_full           pay_in_full   \n",
       "53199                 1.0    pay_in_full           pay_in_full   \n",
       "53200                 1.0    pay_in_full           pay_in_full   \n",
       "\n",
       "       booking_value_realized  \n",
       "53198                34100.59  \n",
       "53199                 1089.69  \n",
       "53200                  651.87  "
      ]
     },
     "execution_count": 36,
     "metadata": {},
     "output_type": "execute_result"
    }
   ],
   "source": [
    "all.loc[all['guest_id']=='BMRUCJOFD']"
   ]
  },
  {
   "cell_type": "code",
   "execution_count": 31,
   "metadata": {},
   "outputs": [],
   "source": [
    "grp_mean = tot_val.groupby(['guest_country', 'assignment'])['booking_value_realized'].mean().reset_index()\n",
    "grp_mean_pivot = grp_mean.pivot(index='guest_country', columns='assignment',values='booking_value_realized').reset_index()"
   ]
  },
  {
   "cell_type": "code",
   "execution_count": 32,
   "metadata": {},
   "outputs": [
    {
     "data": {
      "image/png": "[encoded data removed]",
      "text/plain": [
       "<Figure size 1120x800 with 1 Axes>"
      ]
     },
     "metadata": {
      "needs_background": "light"
     },
     "output_type": "display_data"
    }
   ],
   "source": [
    "plt.figure(figsize=(14,10), dpi= 80)\n",
    "sns.boxplot(x='guest_country', y='booking_value_realized', hue='assignment', data=tot_val, notch=False, showfliers=False)\n",
    "\n",
    "# Decorations\n",
    "plt.gca().set(xlabel='Guest Country', ylabel='Realized Booking Value Per Guest')\n",
    "plt.title('Box Plot of Booking Value by Guest Country', fontsize=22)\n",
    "plt.grid(linestyle='--', alpha=0.5)\n",
    "plt.show()"
   ]
  },
  {
   "cell_type": "code",
   "execution_count": 181,
   "metadata": {},
   "outputs": [],
   "source": [
    "# define bootstrap_func\n",
    "def bootstrap_func(df, group_col, y):\n",
    "    n_iterations = 1000\n",
    "    n_size = int(len(df) * 0.50)\n",
    "    stats = list()\n",
    "    for i in range(n_iterations):\n",
    "        sample = resample(df, n_samples=n_size)\n",
    "        mean_dict = {grp[0]:grp[1][y].mean() for grp in sample.groupby(group_col)}\n",
    "        stats.append(mean_dict['treatment']-mean_dict['control'])\n",
    "    est_diff = sum(stats)/len(stats)\n",
    "    lower = np.percentile(stats, 0.025)\n",
    "    upper = np.percentile(stats, 97.5)\n",
    "    return({'est':est, 'lower':lower, 'upper':upper})\n",
    "    \n",
    "countries = list(tot_val['guest_country'].value_counts().reset_index()['index'])\n",
    "final=[]\n",
    "for country in countries:\n",
    "    df = tot_val.loc[tot_val['guest_country']==country]\n",
    "    result = bootstrap_func(df, 'assignment', 'booking_value_realized')\n",
    "    base_header = {'country': country}\n",
    "    final.append(dict(base_header, **result))"
   ]
  },
  {
   "cell_type": "code",
   "execution_count": 194,
   "metadata": {},
   "outputs": [],
   "source": [
    "grp_mean_boostrap = pd.DataFrame(final)"
   ]
  },
  {
   "cell_type": "code",
   "execution_count": 203,
   "metadata": {},
   "outputs": [
    {
     "data": {
      "text/html": [
       "<div>\n",
       "<style scoped>\n",
       "    .dataframe tbody tr th:only-of-type {\n",
       "        vertical-align: middle;\n",
       "    }\n",
       "\n",
       "    .dataframe tbody tr th {\n",
       "        vertical-align: top;\n",
       "    }\n",
       "\n",
       "    .dataframe thead th {\n",
       "        text-align: right;\n",
       "    }\n",
       "</style>\n",
       "<table border=\"1\" class=\"dataframe\">\n",
       "  <thead>\n",
       "    <tr style=\"text-align: right;\">\n",
       "      <th></th>\n",
       "      <th>guest_country</th>\n",
       "      <th>control</th>\n",
       "      <th>treatment</th>\n",
       "      <th>country</th>\n",
       "      <th>est</th>\n",
       "      <th>lower</th>\n",
       "      <th>upper</th>\n",
       "    </tr>\n",
       "  </thead>\n",
       "  <tbody>\n",
       "    <tr>\n",
       "      <th>0</th>\n",
       "      <td>A</td>\n",
       "      <td>282.632385</td>\n",
       "      <td>295.172388</td>\n",
       "      <td>A</td>\n",
       "      <td>12.610841</td>\n",
       "      <td>-0.168811</td>\n",
       "      <td>20.674967</td>\n",
       "    </tr>\n",
       "    <tr>\n",
       "      <th>1</th>\n",
       "      <td>B</td>\n",
       "      <td>177.725565</td>\n",
       "      <td>182.019182</td>\n",
       "      <td>B</td>\n",
       "      <td>4.152694</td>\n",
       "      <td>-10.293503</td>\n",
       "      <td>12.800744</td>\n",
       "    </tr>\n",
       "    <tr>\n",
       "      <th>2</th>\n",
       "      <td>C</td>\n",
       "      <td>216.148288</td>\n",
       "      <td>228.287573</td>\n",
       "      <td>C</td>\n",
       "      <td>12.139746</td>\n",
       "      <td>-8.229067</td>\n",
       "      <td>25.807844</td>\n",
       "    </tr>\n",
       "    <tr>\n",
       "      <th>3</th>\n",
       "      <td>D</td>\n",
       "      <td>212.431303</td>\n",
       "      <td>247.003434</td>\n",
       "      <td>D</td>\n",
       "      <td>34.866991</td>\n",
       "      <td>4.409607</td>\n",
       "      <td>51.625253</td>\n",
       "    </tr>\n",
       "    <tr>\n",
       "      <th>4</th>\n",
       "      <td>E</td>\n",
       "      <td>237.670564</td>\n",
       "      <td>237.764717</td>\n",
       "      <td>E</td>\n",
       "      <td>0.016715</td>\n",
       "      <td>-29.690834</td>\n",
       "      <td>17.933609</td>\n",
       "    </tr>\n",
       "    <tr>\n",
       "      <th>5</th>\n",
       "      <td>F</td>\n",
       "      <td>133.588552</td>\n",
       "      <td>143.972858</td>\n",
       "      <td>F</td>\n",
       "      <td>10.203793</td>\n",
       "      <td>-9.481463</td>\n",
       "      <td>21.453711</td>\n",
       "    </tr>\n",
       "    <tr>\n",
       "      <th>6</th>\n",
       "      <td>G</td>\n",
       "      <td>121.145898</td>\n",
       "      <td>137.743355</td>\n",
       "      <td>G</td>\n",
       "      <td>17.019852</td>\n",
       "      <td>-8.166770</td>\n",
       "      <td>33.995592</td>\n",
       "    </tr>\n",
       "    <tr>\n",
       "      <th>7</th>\n",
       "      <td>H</td>\n",
       "      <td>102.867701</td>\n",
       "      <td>113.308359</td>\n",
       "      <td>H</td>\n",
       "      <td>10.446789</td>\n",
       "      <td>-7.037804</td>\n",
       "      <td>20.353120</td>\n",
       "    </tr>\n",
       "    <tr>\n",
       "      <th>8</th>\n",
       "      <td>I</td>\n",
       "      <td>120.593776</td>\n",
       "      <td>120.059159</td>\n",
       "      <td>I</td>\n",
       "      <td>-0.502539</td>\n",
       "      <td>-19.658415</td>\n",
       "      <td>10.261280</td>\n",
       "    </tr>\n",
       "  </tbody>\n",
       "</table>\n",
       "</div>"
      ],
      "text/plain": [
       "  guest_country     control   treatment country        est      lower  \\\n",
       "0             A  282.632385  295.172388       A  12.610841  -0.168811   \n",
       "1             B  177.725565  182.019182       B   4.152694 -10.293503   \n",
       "2             C  216.148288  228.287573       C  12.139746  -8.229067   \n",
       "3             D  212.431303  247.003434       D  34.866991   4.409607   \n",
       "4             E  237.670564  237.764717       E   0.016715 -29.690834   \n",
       "5             F  133.588552  143.972858       F  10.203793  -9.481463   \n",
       "6             G  121.145898  137.743355       G  17.019852  -8.166770   \n",
       "7             H  102.867701  113.308359       H  10.446789  -7.037804   \n",
       "8             I  120.593776  120.059159       I  -0.502539 -19.658415   \n",
       "\n",
       "       upper  \n",
       "0  20.674967  \n",
       "1  12.800744  \n",
       "2  25.807844  \n",
       "3  51.625253  \n",
       "4  17.933609  \n",
       "5  21.453711  \n",
       "6  33.995592  \n",
       "7  20.353120  \n",
       "8  10.261280  "
      ]
     },
     "execution_count": 203,
     "metadata": {},
     "output_type": "execute_result"
    }
   ],
   "source": [
    "pd.merge(grp_mean_pivot, grp_mean_boostrap, left_on='guest_country', right_on='country')"
   ]
  },
  {
   "cell_type": "markdown",
   "metadata": {},
   "source": [
    "### Question 1 c)"
   ]
  },
  {
   "cell_type": "code",
   "execution_count": 25,
   "metadata": {},
   "outputs": [],
   "source": [
    "missing = all[all['impression_time'].isnull()==True]\n",
    "all_gap = all.drop(missing.index, axis=0)\n",
    "all_gap['booking_value_realized'] = all_gap['booking_value_usd']*all_gap['booking_successful']\n",
    "all_gap['imp_dt'] = all_gap['impression_time'].apply(lambda x: datetime.strptime(str(x), '%m/%d/%y %H:%M'))\n",
    "all_gap['checkin_dt'] = all_gap['date_of_checkin'].apply(lambda x: datetime.strptime(str(x), '%m/%d/%y %H:%M'))\n",
    "all_gap['delta'] = all_gap['checkin_dt'] - all_gap['imp_dt']\n",
    "all_gap['gap'] = all_gap['delta'].apply(lambda x: max(0, x.days))"
   ]
  },
  {
   "cell_type": "code",
   "execution_count": 26,
   "metadata": {},
   "outputs": [],
   "source": []
  },
  {
   "cell_type": "code",
   "execution_count": 27,
   "metadata": {},
   "outputs": [
    {
     "data": {
      "text/html": [
       "<div>\n",
       "<style scoped>\n",
       "    .dataframe tbody tr th:only-of-type {\n",
       "        vertical-align: middle;\n",
       "    }\n",
       "\n",
       "    .dataframe tbody tr th {\n",
       "        vertical-align: top;\n",
       "    }\n",
       "\n",
       "    .dataframe thead th {\n",
       "        text-align: right;\n",
       "    }\n",
       "</style>\n",
       "<table border=\"1\" class=\"dataframe\">\n",
       "  <thead>\n",
       "    <tr style=\"text-align: right;\">\n",
       "      <th></th>\n",
       "      <th>guest_id</th>\n",
       "      <th>assignment</th>\n",
       "      <th>guest_country</th>\n",
       "      <th>payments_page_impression_id</th>\n",
       "      <th>impression_time</th>\n",
       "      <th>booking_value_usd</th>\n",
       "      <th>nights</th>\n",
       "      <th>date_of_checkin</th>\n",
       "      <th>booking_successful</th>\n",
       "      <th>payment_option</th>\n",
       "      <th>payment_option_fillna</th>\n",
       "      <th>booking_value_realized</th>\n",
       "      <th>imp_dt</th>\n",
       "      <th>checkin_dt</th>\n",
       "      <th>delta</th>\n",
       "      <th>gap</th>\n",
       "    </tr>\n",
       "  </thead>\n",
       "  <tbody>\n",
       "    <tr>\n",
       "      <th>0</th>\n",
       "      <td>V4R1E83L3</td>\n",
       "      <td>treatment</td>\n",
       "      <td>A</td>\n",
       "      <td>B8ICEPZSYLVS</td>\n",
       "      <td>8/26/18 20:37</td>\n",
       "      <td>173.02</td>\n",
       "      <td>3.0</td>\n",
       "      <td>8/29/18 0:00</td>\n",
       "      <td>0.0</td>\n",
       "      <td>NaN</td>\n",
       "      <td>missing</td>\n",
       "      <td>0.00</td>\n",
       "      <td>2018-08-26 20:37:00</td>\n",
       "      <td>2018-08-29</td>\n",
       "      <td>2 days 03:23:00</td>\n",
       "      <td>2</td>\n",
       "    </tr>\n",
       "    <tr>\n",
       "      <th>1</th>\n",
       "      <td>2MYGU7CPV</td>\n",
       "      <td>treatment</td>\n",
       "      <td>I</td>\n",
       "      <td>HGFG2EJO9M05</td>\n",
       "      <td>8/22/18 16:10</td>\n",
       "      <td>37.78</td>\n",
       "      <td>1.0</td>\n",
       "      <td>8/23/18 0:00</td>\n",
       "      <td>0.0</td>\n",
       "      <td>NaN</td>\n",
       "      <td>missing</td>\n",
       "      <td>0.00</td>\n",
       "      <td>2018-08-22 16:10:00</td>\n",
       "      <td>2018-08-23</td>\n",
       "      <td>0 days 07:50:00</td>\n",
       "      <td>0</td>\n",
       "    </tr>\n",
       "    <tr>\n",
       "      <th>2</th>\n",
       "      <td>05XRLU41S</td>\n",
       "      <td>treatment</td>\n",
       "      <td>A</td>\n",
       "      <td>LBFT5OYTB5DX</td>\n",
       "      <td>8/29/18 6:21</td>\n",
       "      <td>705.17</td>\n",
       "      <td>4.0</td>\n",
       "      <td>10/1/18 0:00</td>\n",
       "      <td>1.0</td>\n",
       "      <td>pluf</td>\n",
       "      <td>pluf</td>\n",
       "      <td>705.17</td>\n",
       "      <td>2018-08-29 06:21:00</td>\n",
       "      <td>2018-10-01</td>\n",
       "      <td>32 days 17:39:00</td>\n",
       "      <td>32</td>\n",
       "    </tr>\n",
       "    <tr>\n",
       "      <th>3</th>\n",
       "      <td>05XRLU41S</td>\n",
       "      <td>treatment</td>\n",
       "      <td>A</td>\n",
       "      <td>NU5B9C3SLHK2</td>\n",
       "      <td>8/29/18 5:41</td>\n",
       "      <td>681.72</td>\n",
       "      <td>4.0</td>\n",
       "      <td>10/1/18 0:00</td>\n",
       "      <td>0.0</td>\n",
       "      <td>NaN</td>\n",
       "      <td>missing</td>\n",
       "      <td>0.00</td>\n",
       "      <td>2018-08-29 05:41:00</td>\n",
       "      <td>2018-10-01</td>\n",
       "      <td>32 days 18:19:00</td>\n",
       "      <td>32</td>\n",
       "    </tr>\n",
       "    <tr>\n",
       "      <th>4</th>\n",
       "      <td>4Y8XIMNNI</td>\n",
       "      <td>treatment</td>\n",
       "      <td>G</td>\n",
       "      <td>0TEZ2Y6ZQYK3</td>\n",
       "      <td>8/15/18 23:12</td>\n",
       "      <td>40.29</td>\n",
       "      <td>1.0</td>\n",
       "      <td>8/16/18 0:00</td>\n",
       "      <td>1.0</td>\n",
       "      <td>pay_in_full</td>\n",
       "      <td>pay_in_full</td>\n",
       "      <td>40.29</td>\n",
       "      <td>2018-08-15 23:12:00</td>\n",
       "      <td>2018-08-16</td>\n",
       "      <td>0 days 00:48:00</td>\n",
       "      <td>0</td>\n",
       "    </tr>\n",
       "  </tbody>\n",
       "</table>\n",
       "</div>"
      ],
      "text/plain": [
       "    guest_id assignment guest_country payments_page_impression_id  \\\n",
       "0  V4R1E83L3  treatment             A                B8ICEPZSYLVS   \n",
       "1  2MYGU7CPV  treatment             I                HGFG2EJO9M05   \n",
       "2  05XRLU41S  treatment             A                LBFT5OYTB5DX   \n",
       "3  05XRLU41S  treatment             A                NU5B9C3SLHK2   \n",
       "4  4Y8XIMNNI  treatment             G                0TEZ2Y6ZQYK3   \n",
       "\n",
       "  impression_time  booking_value_usd  nights date_of_checkin  \\\n",
       "0   8/26/18 20:37             173.02     3.0    8/29/18 0:00   \n",
       "1   8/22/18 16:10              37.78     1.0    8/23/18 0:00   \n",
       "2    8/29/18 6:21             705.17     4.0    10/1/18 0:00   \n",
       "3    8/29/18 5:41             681.72     4.0    10/1/18 0:00   \n",
       "4   8/15/18 23:12              40.29     1.0    8/16/18 0:00   \n",
       "\n",
       "   booking_successful payment_option payment_option_fillna  \\\n",
       "0                 0.0            NaN               missing   \n",
       "1                 0.0            NaN               missing   \n",
       "2                 1.0           pluf                  pluf   \n",
       "3                 0.0            NaN               missing   \n",
       "4                 1.0    pay_in_full           pay_in_full   \n",
       "\n",
       "   booking_value_realized              imp_dt checkin_dt            delta  gap  \n",
       "0                    0.00 2018-08-26 20:37:00 2018-08-29  2 days 03:23:00    2  \n",
       "1                    0.00 2018-08-22 16:10:00 2018-08-23  0 days 07:50:00    0  \n",
       "2                  705.17 2018-08-29 06:21:00 2018-10-01 32 days 17:39:00   32  \n",
       "3                    0.00 2018-08-29 05:41:00 2018-10-01 32 days 18:19:00   32  \n",
       "4                   40.29 2018-08-15 23:12:00 2018-08-16  0 days 00:48:00    0  "
      ]
     },
     "execution_count": 27,
     "metadata": {},
     "output_type": "execute_result"
    }
   ],
   "source": [
    "all_gap.head()"
   ]
  },
  {
   "cell_type": "markdown",
   "metadata": {},
   "source": [
    "#### First Metrics"
   ]
  },
  {
   "cell_type": "code",
   "execution_count": 32,
   "metadata": {},
   "outputs": [],
   "source": [
    "missing = all[all['impression_time'].isnull()==True]\n",
    "\n",
    "all_imp = all.drop(missing.index, axis=0)\n",
    "all_imp['booking_value_realized'] = all_gap['booking_value_usd']*all_gap['booking_successful']\n",
    "all_imp['imp_dt'] = all_gap['impression_time'].apply(lambda x: datetime.strptime(str(x), '%m/%d/%y %H:%M').date())\n",
    "all_imp['checkin_dt'] = all_gap['date_of_checkin'].apply(lambda x: datetime.strptime(str(x), '%m/%d/%y %H:%M').date())"
   ]
  },
  {
   "cell_type": "code",
   "execution_count": 139,
   "metadata": {},
   "outputs": [],
   "source": [
    "df1 = all_imp.groupby(['imp_dt', 'assignment']).size().reset_index(name='imps')\n",
    "df2 = all_imp.groupby(['imp_dt', 'assignment'])['booking_successful'].sum().reset_index(name='booking_successful')\n",
    "df3 = all_imp.groupby(['imp_dt', 'assignment'])['booking_value_realized'].mean().reset_index(name='booking_value_realized_imp')\n",
    "df4 = all_imp.groupby(['imp_dt', 'assignment'])['guest_id'].nunique().reset_index(name='users')\n",
    "\n",
    "from functools import reduce\n",
    "df_all = [df1, df2, df3, df4]\n",
    "df = reduce(lambda  left,right: pd.merge(left,right,on=['imp_dt', 'assignment'],how='outer'), df_all)"
   ]
  },
  {
   "cell_type": "code",
   "execution_count": 154,
   "metadata": {},
   "outputs": [],
   "source": [
    "df['booking_ratio'] = df['booking_successful']/df['imps']"
   ]
  },
  {
   "cell_type": "code",
   "execution_count": 166,
   "metadata": {},
   "outputs": [
    {
     "data": {
      "text/html": [
       "<div>\n",
       "<style scoped>\n",
       "    .dataframe tbody tr th:only-of-type {\n",
       "        vertical-align: middle;\n",
       "    }\n",
       "\n",
       "    .dataframe tbody tr th {\n",
       "        vertical-align: top;\n",
       "    }\n",
       "\n",
       "    .dataframe thead th {\n",
       "        text-align: right;\n",
       "    }\n",
       "</style>\n",
       "<table border=\"1\" class=\"dataframe\">\n",
       "  <thead>\n",
       "    <tr style=\"text-align: right;\">\n",
       "      <th></th>\n",
       "      <th>imps</th>\n",
       "      <th>booking_successful</th>\n",
       "      <th>booking_value_realized_imp</th>\n",
       "      <th>users</th>\n",
       "      <th>booking_ratio</th>\n",
       "    </tr>\n",
       "  </thead>\n",
       "  <tbody>\n",
       "    <tr>\n",
       "      <th>count</th>\n",
       "      <td>34.000000</td>\n",
       "      <td>34.000000</td>\n",
       "      <td>34.000000</td>\n",
       "      <td>34.000000</td>\n",
       "      <td>34.000000</td>\n",
       "    </tr>\n",
       "    <tr>\n",
       "      <th>mean</th>\n",
       "      <td>17533.264706</td>\n",
       "      <td>6859.117647</td>\n",
       "      <td>157.052855</td>\n",
       "      <td>13946.029412</td>\n",
       "      <td>0.391899</td>\n",
       "    </tr>\n",
       "    <tr>\n",
       "      <th>std</th>\n",
       "      <td>1986.442035</td>\n",
       "      <td>701.307859</td>\n",
       "      <td>11.301684</td>\n",
       "      <td>1522.629494</td>\n",
       "      <td>0.012568</td>\n",
       "    </tr>\n",
       "    <tr>\n",
       "      <th>min</th>\n",
       "      <td>14107.000000</td>\n",
       "      <td>5784.000000</td>\n",
       "      <td>124.828319</td>\n",
       "      <td>11497.000000</td>\n",
       "      <td>0.371302</td>\n",
       "    </tr>\n",
       "    <tr>\n",
       "      <th>25%</th>\n",
       "      <td>16022.250000</td>\n",
       "      <td>6081.000000</td>\n",
       "      <td>151.157675</td>\n",
       "      <td>12442.250000</td>\n",
       "      <td>0.380498</td>\n",
       "    </tr>\n",
       "    <tr>\n",
       "      <th>50%</th>\n",
       "      <td>17897.500000</td>\n",
       "      <td>7002.000000</td>\n",
       "      <td>157.256463</td>\n",
       "      <td>14177.500000</td>\n",
       "      <td>0.392143</td>\n",
       "    </tr>\n",
       "    <tr>\n",
       "      <th>75%</th>\n",
       "      <td>19406.500000</td>\n",
       "      <td>7389.500000</td>\n",
       "      <td>165.482131</td>\n",
       "      <td>15302.500000</td>\n",
       "      <td>0.401173</td>\n",
       "    </tr>\n",
       "    <tr>\n",
       "      <th>max</th>\n",
       "      <td>20537.000000</td>\n",
       "      <td>7826.000000</td>\n",
       "      <td>172.353935</td>\n",
       "      <td>16095.000000</td>\n",
       "      <td>0.421222</td>\n",
       "    </tr>\n",
       "  </tbody>\n",
       "</table>\n",
       "</div>"
      ],
      "text/plain": [
       "               imps  booking_successful  booking_value_realized_imp  \\\n",
       "count     34.000000           34.000000                   34.000000   \n",
       "mean   17533.264706         6859.117647                  157.052855   \n",
       "std     1986.442035          701.307859                   11.301684   \n",
       "min    14107.000000         5784.000000                  124.828319   \n",
       "25%    16022.250000         6081.000000                  151.157675   \n",
       "50%    17897.500000         7002.000000                  157.256463   \n",
       "75%    19406.500000         7389.500000                  165.482131   \n",
       "max    20537.000000         7826.000000                  172.353935   \n",
       "\n",
       "              users  booking_ratio  \n",
       "count     34.000000      34.000000  \n",
       "mean   13946.029412       0.391899  \n",
       "std     1522.629494       0.012568  \n",
       "min    11497.000000       0.371302  \n",
       "25%    12442.250000       0.380498  \n",
       "50%    14177.500000       0.392143  \n",
       "75%    15302.500000       0.401173  \n",
       "max    16095.000000       0.421222  "
      ]
     },
     "execution_count": 166,
     "metadata": {},
     "output_type": "execute_result"
    }
   ],
   "source": [
    "df.describe()"
   ]
  },
  {
   "cell_type": "code",
   "execution_count": 155,
   "metadata": {},
   "outputs": [],
   "source": [
    "df_ctl=df[df['assignment']=='control']\n",
    "df_trt=df[df['assignment']=='treatment']"
   ]
  },
  {
   "cell_type": "code",
   "execution_count": 156,
   "metadata": {},
   "outputs": [
    {
     "data": {
      "text/html": [
       "<div>\n",
       "<style scoped>\n",
       "    .dataframe tbody tr th:only-of-type {\n",
       "        vertical-align: middle;\n",
       "    }\n",
       "\n",
       "    .dataframe tbody tr th {\n",
       "        vertical-align: top;\n",
       "    }\n",
       "\n",
       "    .dataframe thead th {\n",
       "        text-align: right;\n",
       "    }\n",
       "</style>\n",
       "<table border=\"1\" class=\"dataframe\">\n",
       "  <thead>\n",
       "    <tr style=\"text-align: right;\">\n",
       "      <th></th>\n",
       "      <th>imps</th>\n",
       "      <th>booking_successful</th>\n",
       "      <th>booking_value_realized_imp</th>\n",
       "      <th>users</th>\n",
       "      <th>booking_ratio</th>\n",
       "    </tr>\n",
       "  </thead>\n",
       "  <tbody>\n",
       "    <tr>\n",
       "      <th>count</th>\n",
       "      <td>17.000000</td>\n",
       "      <td>17.000000</td>\n",
       "      <td>17.000000</td>\n",
       "      <td>17.000000</td>\n",
       "      <td>17.000000</td>\n",
       "    </tr>\n",
       "    <tr>\n",
       "      <th>mean</th>\n",
       "      <td>17589.058824</td>\n",
       "      <td>6842.764706</td>\n",
       "      <td>153.193598</td>\n",
       "      <td>13983.411765</td>\n",
       "      <td>0.389668</td>\n",
       "    </tr>\n",
       "    <tr>\n",
       "      <th>std</th>\n",
       "      <td>2036.110093</td>\n",
       "      <td>722.262637</td>\n",
       "      <td>10.474731</td>\n",
       "      <td>1561.647290</td>\n",
       "      <td>0.011861</td>\n",
       "    </tr>\n",
       "    <tr>\n",
       "      <th>min</th>\n",
       "      <td>14555.000000</td>\n",
       "      <td>5784.000000</td>\n",
       "      <td>124.828319</td>\n",
       "      <td>11705.000000</td>\n",
       "      <td>0.371302</td>\n",
       "    </tr>\n",
       "    <tr>\n",
       "      <th>25%</th>\n",
       "      <td>16098.000000</td>\n",
       "      <td>6053.000000</td>\n",
       "      <td>148.828942</td>\n",
       "      <td>12473.000000</td>\n",
       "      <td>0.379563</td>\n",
       "    </tr>\n",
       "    <tr>\n",
       "      <th>50%</th>\n",
       "      <td>18005.000000</td>\n",
       "      <td>6953.000000</td>\n",
       "      <td>152.329234</td>\n",
       "      <td>14181.000000</td>\n",
       "      <td>0.389808</td>\n",
       "    </tr>\n",
       "    <tr>\n",
       "      <th>75%</th>\n",
       "      <td>19503.000000</td>\n",
       "      <td>7292.000000</td>\n",
       "      <td>158.611525</td>\n",
       "      <td>15312.000000</td>\n",
       "      <td>0.400505</td>\n",
       "    </tr>\n",
       "    <tr>\n",
       "      <th>max</th>\n",
       "      <td>20537.000000</td>\n",
       "      <td>7826.000000</td>\n",
       "      <td>172.353935</td>\n",
       "      <td>16095.000000</td>\n",
       "      <td>0.412310</td>\n",
       "    </tr>\n",
       "  </tbody>\n",
       "</table>\n",
       "</div>"
      ],
      "text/plain": [
       "               imps  booking_successful  booking_value_realized_imp  \\\n",
       "count     17.000000           17.000000                   17.000000   \n",
       "mean   17589.058824         6842.764706                  153.193598   \n",
       "std     2036.110093          722.262637                   10.474731   \n",
       "min    14555.000000         5784.000000                  124.828319   \n",
       "25%    16098.000000         6053.000000                  148.828942   \n",
       "50%    18005.000000         6953.000000                  152.329234   \n",
       "75%    19503.000000         7292.000000                  158.611525   \n",
       "max    20537.000000         7826.000000                  172.353935   \n",
       "\n",
       "              users  booking_ratio  \n",
       "count     17.000000      17.000000  \n",
       "mean   13983.411765       0.389668  \n",
       "std     1561.647290       0.011861  \n",
       "min    11705.000000       0.371302  \n",
       "25%    12473.000000       0.379563  \n",
       "50%    14181.000000       0.389808  \n",
       "75%    15312.000000       0.400505  \n",
       "max    16095.000000       0.412310  "
      ]
     },
     "execution_count": 156,
     "metadata": {},
     "output_type": "execute_result"
    }
   ],
   "source": [
    "df_ctl.describe()"
   ]
  },
  {
   "cell_type": "code",
   "execution_count": 157,
   "metadata": {},
   "outputs": [
    {
     "data": {
      "text/html": [
       "<div>\n",
       "<style scoped>\n",
       "    .dataframe tbody tr th:only-of-type {\n",
       "        vertical-align: middle;\n",
       "    }\n",
       "\n",
       "    .dataframe tbody tr th {\n",
       "        vertical-align: top;\n",
       "    }\n",
       "\n",
       "    .dataframe thead th {\n",
       "        text-align: right;\n",
       "    }\n",
       "</style>\n",
       "<table border=\"1\" class=\"dataframe\">\n",
       "  <thead>\n",
       "    <tr style=\"text-align: right;\">\n",
       "      <th></th>\n",
       "      <th>imps</th>\n",
       "      <th>booking_successful</th>\n",
       "      <th>booking_value_realized_imp</th>\n",
       "      <th>users</th>\n",
       "      <th>booking_ratio</th>\n",
       "    </tr>\n",
       "  </thead>\n",
       "  <tbody>\n",
       "    <tr>\n",
       "      <th>count</th>\n",
       "      <td>17.000000</td>\n",
       "      <td>17.000000</td>\n",
       "      <td>17.000000</td>\n",
       "      <td>17.000000</td>\n",
       "      <td>17.000000</td>\n",
       "    </tr>\n",
       "    <tr>\n",
       "      <th>mean</th>\n",
       "      <td>17477.470588</td>\n",
       "      <td>6875.470588</td>\n",
       "      <td>160.912112</td>\n",
       "      <td>13908.647059</td>\n",
       "      <td>0.394130</td>\n",
       "    </tr>\n",
       "    <tr>\n",
       "      <th>std</th>\n",
       "      <td>1996.538633</td>\n",
       "      <td>701.550704</td>\n",
       "      <td>11.048515</td>\n",
       "      <td>1529.702379</td>\n",
       "      <td>0.013211</td>\n",
       "    </tr>\n",
       "    <tr>\n",
       "      <th>min</th>\n",
       "      <td>14107.000000</td>\n",
       "      <td>5784.000000</td>\n",
       "      <td>125.639193</td>\n",
       "      <td>11497.000000</td>\n",
       "      <td>0.372590</td>\n",
       "    </tr>\n",
       "    <tr>\n",
       "      <th>25%</th>\n",
       "      <td>15997.000000</td>\n",
       "      <td>6165.000000</td>\n",
       "      <td>157.107594</td>\n",
       "      <td>12432.000000</td>\n",
       "      <td>0.383310</td>\n",
       "    </tr>\n",
       "    <tr>\n",
       "      <th>50%</th>\n",
       "      <td>17823.000000</td>\n",
       "      <td>7051.000000</td>\n",
       "      <td>161.212605</td>\n",
       "      <td>14174.000000</td>\n",
       "      <td>0.394462</td>\n",
       "    </tr>\n",
       "    <tr>\n",
       "      <th>75%</th>\n",
       "      <td>19339.000000</td>\n",
       "      <td>7422.000000</td>\n",
       "      <td>168.878775</td>\n",
       "      <td>15274.000000</td>\n",
       "      <td>0.402544</td>\n",
       "    </tr>\n",
       "    <tr>\n",
       "      <th>max</th>\n",
       "      <td>20236.000000</td>\n",
       "      <td>7793.000000</td>\n",
       "      <td>171.907572</td>\n",
       "      <td>15984.000000</td>\n",
       "      <td>0.421222</td>\n",
       "    </tr>\n",
       "  </tbody>\n",
       "</table>\n",
       "</div>"
      ],
      "text/plain": [
       "               imps  booking_successful  booking_value_realized_imp  \\\n",
       "count     17.000000           17.000000                   17.000000   \n",
       "mean   17477.470588         6875.470588                  160.912112   \n",
       "std     1996.538633          701.550704                   11.048515   \n",
       "min    14107.000000         5784.000000                  125.639193   \n",
       "25%    15997.000000         6165.000000                  157.107594   \n",
       "50%    17823.000000         7051.000000                  161.212605   \n",
       "75%    19339.000000         7422.000000                  168.878775   \n",
       "max    20236.000000         7793.000000                  171.907572   \n",
       "\n",
       "              users  booking_ratio  \n",
       "count     17.000000      17.000000  \n",
       "mean   13908.647059       0.394130  \n",
       "std     1529.702379       0.013211  \n",
       "min    11497.000000       0.372590  \n",
       "25%    12432.000000       0.383310  \n",
       "50%    14174.000000       0.394462  \n",
       "75%    15274.000000       0.402544  \n",
       "max    15984.000000       0.421222  "
      ]
     },
     "execution_count": 157,
     "metadata": {},
     "output_type": "execute_result"
    }
   ],
   "source": [
    "df_trt.describe()"
   ]
  },
  {
   "cell_type": "code",
   "execution_count": 165,
   "metadata": {},
   "outputs": [
    {
     "data": {
      "image/png": "[encoded data removed]",
      "text/plain": [
       "<Figure size 1080x864 with 2 Axes>"
      ]
     },
     "metadata": {},
     "output_type": "display_data"
    }
   ],
   "source": [
    "f, (ax1, ax2) = plt.subplots(2, 1, figsize=(15, 12), sharex=True)\n",
    "\n",
    "sns.barplot(x=df_ctl['imp_dt'], y=df_ctl['imps'], palette=\"deep\", ax=ax1)\n",
    "ax1.axhline(0, color=\"k\", clip_on=False)\n",
    "ax1.set_ylabel(\"Control\")\n",
    "ax1.set_xlabel(\"Impression Date\")\n",
    "\n",
    "sns.barplot(x=df_trt['imp_dt'], y=df_trt['imps'], palette=\"deep\", ax=ax2)\n",
    "ax2.set_ylabel(\"Treatment\")\n",
    "ax2.set_xlabel(\"Impression Date\")\n",
    "\n",
    "ax2.set_xticklabels(ax2.get_xticklabels(), fontsize=11)\n",
    "plt.tight_layout()\n",
    "plt.show()"
   ]
  },
  {
   "cell_type": "code",
   "execution_count": 159,
   "metadata": {},
   "outputs": [
    {
     "data": {
      "image/png": "[encoded data removed]",
      "text/plain": [
       "<Figure size 1200x800 with 1 Axes>"
      ]
     },
     "metadata": {},
     "output_type": "display_data"
    }
   ],
   "source": [
    "df['colors'] = ['red' if v=='control' else 'green' for u,v in zip(df['booking_ratio'], df['assignment'])]\n",
    "\n",
    "plt.figure(figsize=(15,10), dpi= 80)\n",
    "plt.hlines(y=df.index, xmin=0, xmax=df.booking_ratio, color=df.colors, alpha=0.4, linewidth=5)\n",
    "\n",
    "# Decorations\n",
    "plt.gca().set(ylabel='Impression Date', xlabel='Daily Booking Ratio')\n",
    "#plt.xticks(df.index, df.cars, fontsize=12)\n",
    "plt.yticks(df.index, df.imp_dt, fontsize=12)\n",
    "plt.title('Daily Booking Ratio by Assignment', fontdict={'size':20})\n",
    "plt.grid(linestyle='--', alpha=0.5)\n",
    "plt.legend({'treatment': 'green'},loc='lower right')\n",
    "plt.legend({'control': 'red'},loc='lower right')\n",
    "plt.show()"
   ]
  },
  {
   "cell_type": "markdown",
   "metadata": {},
   "source": [
    "#### Second Metrics"
   ]
  },
  {
   "cell_type": "code",
   "execution_count": 28,
   "metadata": {},
   "outputs": [],
   "source": [
    "missing = all[all['impression_time'].isnull()==True]\n",
    "all_gap = all.drop(missing.index, axis=0)\n",
    "all_gap['booking_value_realized'] = all_gap['booking_value_usd']*all_gap['booking_successful']\n",
    "all_gap['imp_dt'] = all_gap['impression_time'].apply(lambda x: datetime.strptime(str(x), '%m/%d/%y %H:%M'))\n",
    "all_gap['checkin_dt'] = all_gap['date_of_checkin'].apply(lambda x: datetime.strptime(str(x), '%m/%d/%y %H:%M'))\n",
    "all_gap['delta'] = all_gap['checkin_dt'] - all_gap['imp_dt']\n",
    "all_gap['gap'] = all_gap['delta'].apply(lambda x: max(0, x.days))"
   ]
  },
  {
   "cell_type": "code",
   "execution_count": 29,
   "metadata": {},
   "outputs": [
    {
     "data": {
      "image/png": "[encoded data removed]",
      "text/plain": [
       "<Figure size 1200x800 with 1 Axes>"
      ]
     },
     "metadata": {
      "needs_background": "light"
     },
     "output_type": "display_data"
    }
   ],
   "source": [
    "# Draw Plot\n",
    "plt.figure(figsize=(15,10), dpi= 80)\n",
    "sns.distplot(all_gap.loc[(all_gap['assignment'] == 'control') , 'gap'], color=\"dodgerblue\", label=\"Control\", hist_kws={'alpha':.7}, kde_kws={'linewidth':3})\n",
    "sns.distplot(all_gap.loc[(all_gap['assignment'] == 'treatment'), 'gap'], color=\"orange\", label=\"Treatment\", hist_kws={'alpha':.7}, kde_kws={'linewidth':3})\n",
    "\n",
    "# Decoration\n",
    "plt.title('Density Plot of Gaps between Booking Date and Checkin Date', fontsize=22)\n",
    "plt.legend()\n",
    "plt.show()"
   ]
  },
  {
   "cell_type": "code",
   "execution_count": 30,
   "metadata": {},
   "outputs": [
    {
     "data": {
      "text/plain": [
       "count    5.961310e+05\n",
       "mean     6.331681e+02\n",
       "std      1.220489e+04\n",
       "min      1.001000e+01\n",
       "25%      1.366500e+02\n",
       "50%      3.450400e+02\n",
       "75%      7.016600e+02\n",
       "max      9.289329e+06\n",
       "Name: booking_value_usd, dtype: float64"
      ]
     },
     "execution_count": 30,
     "metadata": {},
     "output_type": "execute_result"
    }
   ],
   "source": [
    "all_gap['booking_value_usd'].describe()"
   ]
  },
  {
   "cell_type": "code",
   "execution_count": 31,
   "metadata": {},
   "outputs": [
    {
     "data": {
      "image/png": "[encoded data removed]",
      "text/plain": [
       "<Figure size 1200x800 with 1 Axes>"
      ]
     },
     "metadata": {
      "needs_background": "light"
     },
     "output_type": "display_data"
    }
   ],
   "source": [
    "plt.figure(figsize=(15,10), dpi= 80)\n",
    "sns.boxplot(x='guest_country', y='gap', data=all_gap, notch=False, showfliers=False)\n",
    "\n",
    "# Add N Obs inside boxplot (optional)\n",
    "def add_n_obs(df,group_col,y):\n",
    "    medians_dict = {grp[0]:grp[1][y].median() for grp in df.groupby(group_col)}\n",
    "    xticklabels = [x.get_text() for x in plt.gca().get_xticklabels()]\n",
    "    n_obs = df.groupby(group_col)[y].size().values\n",
    "    for (x, xticklabel), n_ob in zip(enumerate(xticklabels), n_obs):\n",
    "        plt.text(x, medians_dict[xticklabel]*1.10, str(n_ob), horizontalalignment='center', fontdict={'size':14}, color='white')\n",
    "\n",
    "add_n_obs(all_gap,group_col='guest_country',y='gap')    \n",
    "\n",
    "# Decoration\n",
    "plt.title('Box Plot of Gaps between Booking Date and Checkin Date by Guess Country', fontsize=22)\n",
    "plt.ylim(10, 300)\n",
    "plt.show()"
   ]
  },
  {
   "cell_type": "code",
   "execution_count": 84,
   "metadata": {},
   "outputs": [
    {
     "name": "stderr",
     "output_type": "stream",
     "text": [
      "/Users/ling/miniconda3/lib/python3.7/site-packages/seaborn/axisgrid.py:2065: UserWarning: The `size` parameter has been renamed to `height`; pleaes update your code.\n",
      "  warnings.warn(msg, UserWarning)\n"
     ]
    },
    {
     "data": {
      "text/plain": [
       "<Figure size 1200x800 with 0 Axes>"
      ]
     },
     "metadata": {},
     "output_type": "display_data"
    },
    {
     "data": {
      "image/png": "[encoded data removed]",
      "text/plain": [
       "<Figure size 989.35x864 with 12 Axes>"
      ]
     },
     "metadata": {
      "needs_background": "light"
     },
     "output_type": "display_data"
    }
   ],
   "source": [
    "# Density Plot\n",
    "df = all_gap[['assignment','gap', 'booking_value_usd', 'nights']]\n",
    "plt.figure(figsize=(15,10), dpi= 80)\n",
    "sns.pairplot(df, kind=\"scatter\", hue='assignment', plot_kws = {'alpha': 0.6, 's': 60, 'edgecolor': 'k'}, size = 4)\n",
    "plt.show()"
   ]
  },
  {
   "cell_type": "markdown",
   "metadata": {},
   "source": [
    "### Question 2 a)"
   ]
  },
  {
   "cell_type": "code",
   "execution_count": 59,
   "metadata": {},
   "outputs": [
    {
     "data": {
      "text/html": [
       "<div>\n",
       "<style scoped>\n",
       "    .dataframe tbody tr th:only-of-type {\n",
       "        vertical-align: middle;\n",
       "    }\n",
       "\n",
       "    .dataframe tbody tr th {\n",
       "        vertical-align: top;\n",
       "    }\n",
       "\n",
       "    .dataframe thead th {\n",
       "        text-align: right;\n",
       "    }\n",
       "</style>\n",
       "<table border=\"1\" class=\"dataframe\">\n",
       "  <thead>\n",
       "    <tr style=\"text-align: right;\">\n",
       "      <th></th>\n",
       "      <th>assignment</th>\n",
       "      <th>payment_option_fillna</th>\n",
       "      <th>booking_successful</th>\n",
       "      <th>imps</th>\n",
       "    </tr>\n",
       "  </thead>\n",
       "  <tbody>\n",
       "    <tr>\n",
       "      <th>0</th>\n",
       "      <td>control</td>\n",
       "      <td>missing</td>\n",
       "      <td>0.0</td>\n",
       "      <td>182687</td>\n",
       "    </tr>\n",
       "    <tr>\n",
       "      <th>1</th>\n",
       "      <td>control</td>\n",
       "      <td>pay_in_full</td>\n",
       "      <td>1.0</td>\n",
       "      <td>116327</td>\n",
       "    </tr>\n",
       "    <tr>\n",
       "      <th>2</th>\n",
       "      <td>treatment</td>\n",
       "      <td>missing</td>\n",
       "      <td>0.0</td>\n",
       "      <td>180234</td>\n",
       "    </tr>\n",
       "    <tr>\n",
       "      <th>3</th>\n",
       "      <td>treatment</td>\n",
       "      <td>pay_in_full</td>\n",
       "      <td>1.0</td>\n",
       "      <td>94842</td>\n",
       "    </tr>\n",
       "    <tr>\n",
       "      <th>4</th>\n",
       "      <td>treatment</td>\n",
       "      <td>pluf</td>\n",
       "      <td>1.0</td>\n",
       "      <td>22041</td>\n",
       "    </tr>\n",
       "  </tbody>\n",
       "</table>\n",
       "</div>"
      ],
      "text/plain": [
       "  assignment payment_option_fillna  booking_successful    imps\n",
       "0    control               missing                 0.0  182687\n",
       "1    control           pay_in_full                 1.0  116327\n",
       "2  treatment               missing                 0.0  180234\n",
       "3  treatment           pay_in_full                 1.0   94842\n",
       "4  treatment                  pluf                 1.0   22041"
      ]
     },
     "execution_count": 59,
     "metadata": {},
     "output_type": "execute_result"
    }
   ],
   "source": [
    "df1 = all.groupby(['assignment', 'payment_option_fillna', 'booking_successful']).size().reset_index(name='imps')\n",
    "df1"
   ]
  },
  {
   "cell_type": "code",
   "execution_count": 60,
   "metadata": {},
   "outputs": [
    {
     "data": {
      "text/html": [
       "<div>\n",
       "<style scoped>\n",
       "    .dataframe tbody tr th:only-of-type {\n",
       "        vertical-align: middle;\n",
       "    }\n",
       "\n",
       "    .dataframe tbody tr th {\n",
       "        vertical-align: top;\n",
       "    }\n",
       "\n",
       "    .dataframe thead th {\n",
       "        text-align: right;\n",
       "    }\n",
       "</style>\n",
       "<table border=\"1\" class=\"dataframe\">\n",
       "  <thead>\n",
       "    <tr style=\"text-align: right;\">\n",
       "      <th></th>\n",
       "      <th>assignment</th>\n",
       "      <th>payment_option_fillna</th>\n",
       "      <th>booking_successful</th>\n",
       "      <th>booking_value_realized_imp</th>\n",
       "    </tr>\n",
       "  </thead>\n",
       "  <tbody>\n",
       "    <tr>\n",
       "      <th>0</th>\n",
       "      <td>control</td>\n",
       "      <td>missing</td>\n",
       "      <td>0.0</td>\n",
       "      <td>0.000000</td>\n",
       "    </tr>\n",
       "    <tr>\n",
       "      <th>1</th>\n",
       "      <td>control</td>\n",
       "      <td>pay_in_full</td>\n",
       "      <td>1.0</td>\n",
       "      <td>393.675677</td>\n",
       "    </tr>\n",
       "    <tr>\n",
       "      <th>2</th>\n",
       "      <td>treatment</td>\n",
       "      <td>missing</td>\n",
       "      <td>0.0</td>\n",
       "      <td>0.000000</td>\n",
       "    </tr>\n",
       "    <tr>\n",
       "      <th>3</th>\n",
       "      <td>treatment</td>\n",
       "      <td>pay_in_full</td>\n",
       "      <td>1.0</td>\n",
       "      <td>278.952966</td>\n",
       "    </tr>\n",
       "    <tr>\n",
       "      <th>4</th>\n",
       "      <td>treatment</td>\n",
       "      <td>pluf</td>\n",
       "      <td>1.0</td>\n",
       "      <td>968.798476</td>\n",
       "    </tr>\n",
       "  </tbody>\n",
       "</table>\n",
       "</div>"
      ],
      "text/plain": [
       "  assignment payment_option_fillna  booking_successful  \\\n",
       "0    control               missing                 0.0   \n",
       "1    control           pay_in_full                 1.0   \n",
       "2  treatment               missing                 0.0   \n",
       "3  treatment           pay_in_full                 1.0   \n",
       "4  treatment                  pluf                 1.0   \n",
       "\n",
       "   booking_value_realized_imp  \n",
       "0                    0.000000  \n",
       "1                  393.675677  \n",
       "2                    0.000000  \n",
       "3                  278.952966  \n",
       "4                  968.798476  "
      ]
     },
     "execution_count": 60,
     "metadata": {},
     "output_type": "execute_result"
    }
   ],
   "source": [
    "df2 = all.groupby(['assignment', 'payment_option_fillna', 'booking_successful'])['booking_value_realized'].mean().reset_index(name='booking_value_realized_imp')\n",
    "df2"
   ]
  },
  {
   "cell_type": "code",
   "execution_count": 61,
   "metadata": {},
   "outputs": [
    {
     "data": {
      "text/html": [
       "<div>\n",
       "<style scoped>\n",
       "    .dataframe tbody tr th:only-of-type {\n",
       "        vertical-align: middle;\n",
       "    }\n",
       "\n",
       "    .dataframe tbody tr th {\n",
       "        vertical-align: top;\n",
       "    }\n",
       "\n",
       "    .dataframe thead th {\n",
       "        text-align: right;\n",
       "    }\n",
       "</style>\n",
       "<table border=\"1\" class=\"dataframe\">\n",
       "  <thead>\n",
       "    <tr style=\"text-align: right;\">\n",
       "      <th></th>\n",
       "      <th>assignment</th>\n",
       "      <th>payment_option_fillna</th>\n",
       "      <th>booking_successful</th>\n",
       "      <th>booking_value_realized_tot</th>\n",
       "    </tr>\n",
       "  </thead>\n",
       "  <tbody>\n",
       "    <tr>\n",
       "      <th>0</th>\n",
       "      <td>control</td>\n",
       "      <td>missing</td>\n",
       "      <td>0.0</td>\n",
       "      <td>0.000000e+00</td>\n",
       "    </tr>\n",
       "    <tr>\n",
       "      <th>1</th>\n",
       "      <td>control</td>\n",
       "      <td>pay_in_full</td>\n",
       "      <td>1.0</td>\n",
       "      <td>4.579511e+07</td>\n",
       "    </tr>\n",
       "    <tr>\n",
       "      <th>2</th>\n",
       "      <td>treatment</td>\n",
       "      <td>missing</td>\n",
       "      <td>0.0</td>\n",
       "      <td>0.000000e+00</td>\n",
       "    </tr>\n",
       "    <tr>\n",
       "      <th>3</th>\n",
       "      <td>treatment</td>\n",
       "      <td>pay_in_full</td>\n",
       "      <td>1.0</td>\n",
       "      <td>2.645646e+07</td>\n",
       "    </tr>\n",
       "    <tr>\n",
       "      <th>4</th>\n",
       "      <td>treatment</td>\n",
       "      <td>pluf</td>\n",
       "      <td>1.0</td>\n",
       "      <td>2.135329e+07</td>\n",
       "    </tr>\n",
       "  </tbody>\n",
       "</table>\n",
       "</div>"
      ],
      "text/plain": [
       "  assignment payment_option_fillna  booking_successful  \\\n",
       "0    control               missing                 0.0   \n",
       "1    control           pay_in_full                 1.0   \n",
       "2  treatment               missing                 0.0   \n",
       "3  treatment           pay_in_full                 1.0   \n",
       "4  treatment                  pluf                 1.0   \n",
       "\n",
       "   booking_value_realized_tot  \n",
       "0                0.000000e+00  \n",
       "1                4.579511e+07  \n",
       "2                0.000000e+00  \n",
       "3                2.645646e+07  \n",
       "4                2.135329e+07  "
      ]
     },
     "execution_count": 61,
     "metadata": {},
     "output_type": "execute_result"
    }
   ],
   "source": [
    "df3 = all.groupby(['assignment', 'payment_option_fillna', 'booking_successful'])['booking_value_realized'].sum().reset_index(name='booking_value_realized_tot')\n",
    "df3"
   ]
  },
  {
   "cell_type": "code",
   "execution_count": 63,
   "metadata": {},
   "outputs": [
    {
     "data": {
      "text/html": [
       "<div>\n",
       "<style scoped>\n",
       "    .dataframe tbody tr th:only-of-type {\n",
       "        vertical-align: middle;\n",
       "    }\n",
       "\n",
       "    .dataframe tbody tr th {\n",
       "        vertical-align: top;\n",
       "    }\n",
       "\n",
       "    .dataframe thead th {\n",
       "        text-align: right;\n",
       "    }\n",
       "</style>\n",
       "<table border=\"1\" class=\"dataframe\">\n",
       "  <thead>\n",
       "    <tr style=\"text-align: right;\">\n",
       "      <th></th>\n",
       "      <th>assignment</th>\n",
       "      <th>payment_option_fillna</th>\n",
       "      <th>booking_successful</th>\n",
       "      <th>users</th>\n",
       "    </tr>\n",
       "  </thead>\n",
       "  <tbody>\n",
       "    <tr>\n",
       "      <th>0</th>\n",
       "      <td>control</td>\n",
       "      <td>missing</td>\n",
       "      <td>0.0</td>\n",
       "      <td>116301</td>\n",
       "    </tr>\n",
       "    <tr>\n",
       "      <th>1</th>\n",
       "      <td>control</td>\n",
       "      <td>pay_in_full</td>\n",
       "      <td>1.0</td>\n",
       "      <td>109944</td>\n",
       "    </tr>\n",
       "    <tr>\n",
       "      <th>2</th>\n",
       "      <td>treatment</td>\n",
       "      <td>missing</td>\n",
       "      <td>0.0</td>\n",
       "      <td>114779</td>\n",
       "    </tr>\n",
       "    <tr>\n",
       "      <th>3</th>\n",
       "      <td>treatment</td>\n",
       "      <td>pay_in_full</td>\n",
       "      <td>1.0</td>\n",
       "      <td>89634</td>\n",
       "    </tr>\n",
       "    <tr>\n",
       "      <th>4</th>\n",
       "      <td>treatment</td>\n",
       "      <td>pluf</td>\n",
       "      <td>1.0</td>\n",
       "      <td>21520</td>\n",
       "    </tr>\n",
       "  </tbody>\n",
       "</table>\n",
       "</div>"
      ],
      "text/plain": [
       "  assignment payment_option_fillna  booking_successful   users\n",
       "0    control               missing                 0.0  116301\n",
       "1    control           pay_in_full                 1.0  109944\n",
       "2  treatment               missing                 0.0  114779\n",
       "3  treatment           pay_in_full                 1.0   89634\n",
       "4  treatment                  pluf                 1.0   21520"
      ]
     },
     "execution_count": 63,
     "metadata": {},
     "output_type": "execute_result"
    }
   ],
   "source": [
    "df4 = all.groupby(['assignment', 'payment_option_fillna', 'booking_successful'])['guest_id'].nunique().reset_index(name='users')\n",
    "df4"
   ]
  },
  {
   "cell_type": "code",
   "execution_count": 68,
   "metadata": {},
   "outputs": [],
   "source": [
    "result=pd.concat([df1,df2,df3,df4], axis=1)\n",
    "result.to_csv(\"result.csv\")"
   ]
  },
  {
   "cell_type": "markdown",
   "metadata": {},
   "source": [
    "### Question 2 d)"
   ]
  },
  {
   "cell_type": "code",
   "execution_count": 180,
   "metadata": {},
   "outputs": [],
   "source": [
    "# perform power analysis for t-tests\n",
    "from statsmodels.stats.power import TTestIndPower\n",
    "\n",
    "# parameters for power analysis\n",
    "effects = [0.01]\n",
    "alpha = 0.05\n",
    "power = 0.8\n",
    "\n",
    "# perform power analysis\n",
    "def cal_size(effect, alpha, power):\n",
    "    analysis = TTestIndPower()\n",
    "    result = analysis.solve_power(effect, power=power, nobs1=None, ratio=1.0, alpha=alpha)\n",
    "    return result\n",
    "\n",
    "results = [cal_size(effect, alpha, power) for effect in effects] "
   ]
  },
  {
   "cell_type": "code",
   "execution_count": 181,
   "metadata": {},
   "outputs": [
    {
     "name": "stdout",
     "output_type": "stream",
     "text": [
      "[156978.1728602031]\n"
     ]
    }
   ],
   "source": [
    "print(results)"
   ]
  },
  {
   "cell_type": "code",
   "execution_count": 182,
   "metadata": {},
   "outputs": [
    {
     "data": {
      "text/plain": [
       "count       34.000000\n",
       "mean     17533.264706\n",
       "std       1986.442035\n",
       "min      14107.000000\n",
       "25%      16022.250000\n",
       "50%      17897.500000\n",
       "75%      19406.500000\n",
       "max      20537.000000\n",
       "Name: imps, dtype: float64"
      ]
     },
     "execution_count": 182,
     "metadata": {},
     "output_type": "execute_result"
    }
   ],
   "source": [
    "df['imps'].describe()"
   ]
  },
  {
   "cell_type": "code",
   "execution_count": 183,
   "metadata": {},
   "outputs": [
    {
     "data": {
      "text/plain": [
       "[26.859488319904983]"
      ]
     },
     "execution_count": 183,
     "metadata": {},
     "output_type": "execute_result"
    }
   ],
   "source": [
    "[num*3/17533.264706 for num in results]"
   ]
  },
  {
   "cell_type": "code",
   "execution_count": null,
   "metadata": {},
   "outputs": [],
   "source": []
  }
 ],
 "metadata": {
  "kernelspec": {
   "display_name": "Python 3",
   "language": "python",
   "name": "python3"
  },
  "language_info": {
   "codemirror_mode": {
    "name": "ipython",
    "version": 3
   },
   "file_extension": ".py",
   "mimetype": "text/x-python",
   "name": "python",
   "nbconvert_exporter": "python",
   "pygments_lexer": "ipython3",
   "version": "3.7.6"
  }
 },
 "nbformat": 4,
 "nbformat_minor": 2
}
